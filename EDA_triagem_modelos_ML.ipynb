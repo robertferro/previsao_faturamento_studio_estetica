{
 "cells": [
  {
   "cell_type": "markdown",
   "metadata": {},
   "source": [
    "## Objetivo\n",
    "\n",
    " - Fazer a previsão do crescimento do faturamento."
   ]
  },
  {
   "cell_type": "code",
   "execution_count": 1,
   "metadata": {},
   "outputs": [],
   "source": [
    "import pandas as pd\n",
    "import numpy as np\n",
    "import matplotlib.pyplot as plt\n",
    "import seaborn as sns"
   ]
  },
  {
   "cell_type": "markdown",
   "metadata": {},
   "source": [
    "## 2. Importando e fazeendo um tratamento na base de dados"
   ]
  },
  {
   "cell_type": "markdown",
   "metadata": {},
   "source": [
    " - Importandos os daddos do Studio Biena Guedes"
   ]
  },
  {
   "cell_type": "code",
   "execution_count": 2,
   "metadata": {},
   "outputs": [],
   "source": [
    "url='https://raw.githubusercontent.com/robertferro/studio-estetica/main/studio_estetica.csv'"
   ]
  },
  {
   "cell_type": "code",
   "execution_count": 3,
   "metadata": {},
   "outputs": [],
   "source": [
    "dados=pd.read_csv(url, sep=';',decimal=',')"
   ]
  },
  {
   "cell_type": "code",
   "execution_count": 4,
   "metadata": {},
   "outputs": [
    {
     "data": {
      "text/html": [
       "<div>\n",
       "<style scoped>\n",
       "    .dataframe tbody tr th:only-of-type {\n",
       "        vertical-align: middle;\n",
       "    }\n",
       "\n",
       "    .dataframe tbody tr th {\n",
       "        vertical-align: top;\n",
       "    }\n",
       "\n",
       "    .dataframe thead th {\n",
       "        text-align: right;\n",
       "    }\n",
       "</style>\n",
       "<table border=\"1\" class=\"dataframe\">\n",
       "  <thead>\n",
       "    <tr style=\"text-align: right;\">\n",
       "      <th></th>\n",
       "      <th>data_atendimento</th>\n",
       "      <th>design_de_sobrancelhas</th>\n",
       "      <th>design_coloracao</th>\n",
       "      <th>design_coloracao_buco</th>\n",
       "      <th>buco</th>\n",
       "      <th>brown_lamination</th>\n",
       "      <th>micropigmentacao</th>\n",
       "      <th>extensao_de_cilios</th>\n",
       "      <th>lash_lifting</th>\n",
       "      <th>limpeza_de_pele</th>\n",
       "      <th>microagulhamento</th>\n",
       "      <th>peeling_quimico</th>\n",
       "      <th>massagem_relaxante</th>\n",
       "      <th>pacote_massagem_5</th>\n",
       "      <th>drenagem_linfatica</th>\n",
       "      <th>striort</th>\n",
       "      <th>qtde_clientes</th>\n",
       "      <th>faturamento</th>\n",
       "    </tr>\n",
       "  </thead>\n",
       "  <tbody>\n",
       "    <tr>\n",
       "      <th>0</th>\n",
       "      <td>NaN</td>\n",
       "      <td>20.0</td>\n",
       "      <td>30.0</td>\n",
       "      <td>30.0</td>\n",
       "      <td>10.0</td>\n",
       "      <td>100.0</td>\n",
       "      <td>400.0</td>\n",
       "      <td>100.0</td>\n",
       "      <td>80.0</td>\n",
       "      <td>60.0</td>\n",
       "      <td>250.0</td>\n",
       "      <td>150.0</td>\n",
       "      <td>80.0</td>\n",
       "      <td>250.0</td>\n",
       "      <td>80.0</td>\n",
       "      <td>150.0</td>\n",
       "      <td>0.0</td>\n",
       "      <td>0.0</td>\n",
       "    </tr>\n",
       "    <tr>\n",
       "      <th>1</th>\n",
       "      <td>23/12/2018</td>\n",
       "      <td>0.0</td>\n",
       "      <td>0.0</td>\n",
       "      <td>7.0</td>\n",
       "      <td>0.0</td>\n",
       "      <td>0.0</td>\n",
       "      <td>0.0</td>\n",
       "      <td>0.0</td>\n",
       "      <td>0.0</td>\n",
       "      <td>1.0</td>\n",
       "      <td>0.0</td>\n",
       "      <td>0.0</td>\n",
       "      <td>0.0</td>\n",
       "      <td>0.0</td>\n",
       "      <td>0.0</td>\n",
       "      <td>0.0</td>\n",
       "      <td>7.0</td>\n",
       "      <td>270.0</td>\n",
       "    </tr>\n",
       "    <tr>\n",
       "      <th>2</th>\n",
       "      <td>24/12/2018</td>\n",
       "      <td>0.0</td>\n",
       "      <td>0.0</td>\n",
       "      <td>0.0</td>\n",
       "      <td>0.0</td>\n",
       "      <td>0.0</td>\n",
       "      <td>0.0</td>\n",
       "      <td>0.0</td>\n",
       "      <td>0.0</td>\n",
       "      <td>0.0</td>\n",
       "      <td>0.0</td>\n",
       "      <td>0.0</td>\n",
       "      <td>0.0</td>\n",
       "      <td>0.0</td>\n",
       "      <td>0.0</td>\n",
       "      <td>0.0</td>\n",
       "      <td>0.0</td>\n",
       "      <td>0.0</td>\n",
       "    </tr>\n",
       "    <tr>\n",
       "      <th>3</th>\n",
       "      <td>25/12/2018</td>\n",
       "      <td>0.0</td>\n",
       "      <td>0.0</td>\n",
       "      <td>0.0</td>\n",
       "      <td>0.0</td>\n",
       "      <td>0.0</td>\n",
       "      <td>0.0</td>\n",
       "      <td>0.0</td>\n",
       "      <td>0.0</td>\n",
       "      <td>0.0</td>\n",
       "      <td>0.0</td>\n",
       "      <td>0.0</td>\n",
       "      <td>0.0</td>\n",
       "      <td>0.0</td>\n",
       "      <td>0.0</td>\n",
       "      <td>0.0</td>\n",
       "      <td>0.0</td>\n",
       "      <td>0.0</td>\n",
       "    </tr>\n",
       "    <tr>\n",
       "      <th>4</th>\n",
       "      <td>26/12/2018</td>\n",
       "      <td>1.0</td>\n",
       "      <td>0.0</td>\n",
       "      <td>1.0</td>\n",
       "      <td>1.0</td>\n",
       "      <td>0.0</td>\n",
       "      <td>1.0</td>\n",
       "      <td>1.0</td>\n",
       "      <td>0.0</td>\n",
       "      <td>0.0</td>\n",
       "      <td>0.0</td>\n",
       "      <td>0.0</td>\n",
       "      <td>0.0</td>\n",
       "      <td>0.0</td>\n",
       "      <td>0.0</td>\n",
       "      <td>0.0</td>\n",
       "      <td>4.0</td>\n",
       "      <td>560.0</td>\n",
       "    </tr>\n",
       "  </tbody>\n",
       "</table>\n",
       "</div>"
      ],
      "text/plain": [
       "  data_atendimento  design_de_sobrancelhas  design_coloracao  \\\n",
       "0              NaN                    20.0              30.0   \n",
       "1       23/12/2018                     0.0               0.0   \n",
       "2       24/12/2018                     0.0               0.0   \n",
       "3       25/12/2018                     0.0               0.0   \n",
       "4       26/12/2018                     1.0               0.0   \n",
       "\n",
       "   design_coloracao_buco  buco  brown_lamination  micropigmentacao  \\\n",
       "0                   30.0  10.0             100.0             400.0   \n",
       "1                    7.0   0.0               0.0               0.0   \n",
       "2                    0.0   0.0               0.0               0.0   \n",
       "3                    0.0   0.0               0.0               0.0   \n",
       "4                    1.0   1.0               0.0               1.0   \n",
       "\n",
       "   extensao_de_cilios  lash_lifting  limpeza_de_pele  microagulhamento  \\\n",
       "0               100.0          80.0             60.0             250.0   \n",
       "1                 0.0           0.0              1.0               0.0   \n",
       "2                 0.0           0.0              0.0               0.0   \n",
       "3                 0.0           0.0              0.0               0.0   \n",
       "4                 1.0           0.0              0.0               0.0   \n",
       "\n",
       "   peeling_quimico  massagem_relaxante  pacote_massagem_5  drenagem_linfatica  \\\n",
       "0            150.0                80.0              250.0                80.0   \n",
       "1              0.0                 0.0                0.0                 0.0   \n",
       "2              0.0                 0.0                0.0                 0.0   \n",
       "3              0.0                 0.0                0.0                 0.0   \n",
       "4              0.0                 0.0                0.0                 0.0   \n",
       "\n",
       "   striort  qtde_clientes  faturamento  \n",
       "0    150.0            0.0          0.0  \n",
       "1      0.0            7.0        270.0  \n",
       "2      0.0            0.0          0.0  \n",
       "3      0.0            0.0          0.0  \n",
       "4      0.0            4.0        560.0  "
      ]
     },
     "execution_count": 4,
     "metadata": {},
     "output_type": "execute_result"
    }
   ],
   "source": [
    "dados.head()"
   ]
  },
  {
   "cell_type": "markdown",
   "metadata": {},
   "source": [
    " - Excluindo os valores nulos"
   ]
  },
  {
   "cell_type": "code",
   "execution_count": 5,
   "metadata": {},
   "outputs": [
    {
     "data": {
      "text/plain": [
       "data_atendimento          2\n",
       "design_de_sobrancelhas    0\n",
       "design_coloracao          0\n",
       "design_coloracao_buco     0\n",
       "buco                      0\n",
       "brown_lamination          0\n",
       "micropigmentacao          0\n",
       "extensao_de_cilios        0\n",
       "lash_lifting              0\n",
       "limpeza_de_pele           0\n",
       "microagulhamento          0\n",
       "peeling_quimico           0\n",
       "massagem_relaxante        0\n",
       "pacote_massagem_5         0\n",
       "drenagem_linfatica        0\n",
       "striort                   0\n",
       "qtde_clientes             0\n",
       "faturamento               0\n",
       "dtype: int64"
      ]
     },
     "execution_count": 5,
     "metadata": {},
     "output_type": "execute_result"
    }
   ],
   "source": [
    "dados.isna().sum()"
   ]
  },
  {
   "cell_type": "code",
   "execution_count": 6,
   "metadata": {},
   "outputs": [],
   "source": [
    "dados=dados.dropna()"
   ]
  },
  {
   "cell_type": "code",
   "execution_count": 7,
   "metadata": {},
   "outputs": [
    {
     "name": "stdout",
     "output_type": "stream",
     "text": [
      "<class 'pandas.core.frame.DataFrame'>\n",
      "Int64Index: 740 entries, 1 to 741\n",
      "Data columns (total 18 columns):\n",
      " #   Column                  Non-Null Count  Dtype  \n",
      "---  ------                  --------------  -----  \n",
      " 0   data_atendimento        740 non-null    object \n",
      " 1   design_de_sobrancelhas  740 non-null    float64\n",
      " 2   design_coloracao        740 non-null    float64\n",
      " 3   design_coloracao_buco   740 non-null    float64\n",
      " 4   buco                    740 non-null    float64\n",
      " 5   brown_lamination        740 non-null    float64\n",
      " 6   micropigmentacao        740 non-null    float64\n",
      " 7   extensao_de_cilios      740 non-null    float64\n",
      " 8   lash_lifting            740 non-null    float64\n",
      " 9   limpeza_de_pele         740 non-null    float64\n",
      " 10  microagulhamento        740 non-null    float64\n",
      " 11  peeling_quimico         740 non-null    float64\n",
      " 12  massagem_relaxante      740 non-null    float64\n",
      " 13  pacote_massagem_5       740 non-null    float64\n",
      " 14  drenagem_linfatica      740 non-null    float64\n",
      " 15  striort                 740 non-null    float64\n",
      " 16  qtde_clientes           740 non-null    float64\n",
      " 17  faturamento             740 non-null    float64\n",
      "dtypes: float64(17), object(1)\n",
      "memory usage: 109.8+ KB\n"
     ]
    }
   ],
   "source": [
    "dados.info()"
   ]
  },
  {
   "cell_type": "code",
   "execution_count": 8,
   "metadata": {},
   "outputs": [],
   "source": [
    "lista_cols=['design_de_sobrancelhas', 'design_coloracao',\n",
    "       'design_coloracao_buco', 'buco', 'brown_lamination', 'micropigmentacao',\n",
    "       'extensao_de_cilios', 'lash_lifting', 'limpeza_de_pele',\n",
    "       'microagulhamento', 'peeling_quimico', 'massagem_relaxante',\n",
    "       'pacote_massagem_5', 'drenagem_linfatica', 'striort', 'qtde_clientes',\n",
    "       'faturamento']\n",
    "\n",
    "for i in lista_cols:\n",
    "    dados[i]=dados[i].astype(float)"
   ]
  },
  {
   "cell_type": "markdown",
   "metadata": {},
   "source": [
    " - Convertendo a coluna \"data_atendimento\" para o formato datetime"
   ]
  },
  {
   "cell_type": "code",
   "execution_count": 9,
   "metadata": {},
   "outputs": [],
   "source": [
    "dados['data_atendimento'] = pd.to_datetime(dados['data_atendimento'],format=r\"%d/%m/%Y\")"
   ]
  },
  {
   "cell_type": "code",
   "execution_count": 10,
   "metadata": {},
   "outputs": [
    {
     "name": "stdout",
     "output_type": "stream",
     "text": [
      "<class 'pandas.core.frame.DataFrame'>\n",
      "Int64Index: 740 entries, 1 to 741\n",
      "Data columns (total 18 columns):\n",
      " #   Column                  Non-Null Count  Dtype         \n",
      "---  ------                  --------------  -----         \n",
      " 0   data_atendimento        740 non-null    datetime64[ns]\n",
      " 1   design_de_sobrancelhas  740 non-null    float64       \n",
      " 2   design_coloracao        740 non-null    float64       \n",
      " 3   design_coloracao_buco   740 non-null    float64       \n",
      " 4   buco                    740 non-null    float64       \n",
      " 5   brown_lamination        740 non-null    float64       \n",
      " 6   micropigmentacao        740 non-null    float64       \n",
      " 7   extensao_de_cilios      740 non-null    float64       \n",
      " 8   lash_lifting            740 non-null    float64       \n",
      " 9   limpeza_de_pele         740 non-null    float64       \n",
      " 10  microagulhamento        740 non-null    float64       \n",
      " 11  peeling_quimico         740 non-null    float64       \n",
      " 12  massagem_relaxante      740 non-null    float64       \n",
      " 13  pacote_massagem_5       740 non-null    float64       \n",
      " 14  drenagem_linfatica      740 non-null    float64       \n",
      " 15  striort                 740 non-null    float64       \n",
      " 16  qtde_clientes           740 non-null    float64       \n",
      " 17  faturamento             740 non-null    float64       \n",
      "dtypes: datetime64[ns](1), float64(17)\n",
      "memory usage: 109.8 KB\n"
     ]
    }
   ],
   "source": [
    "dados.info()"
   ]
  },
  {
   "cell_type": "code",
   "execution_count": null,
   "metadata": {},
   "outputs": [],
   "source": []
  },
  {
   "cell_type": "markdown",
   "metadata": {},
   "source": [
    "## 3. EDA"
   ]
  },
  {
   "cell_type": "code",
   "execution_count": 11,
   "metadata": {},
   "outputs": [
    {
     "data": {
      "text/plain": [
       "<matplotlib.axes._subplots.AxesSubplot at 0x263fb0ddb50>"
      ]
     },
     "execution_count": 11,
     "metadata": {},
     "output_type": "execute_result"
    },
    {
     "data": {
      "image/png": "[encoded data removed]",
      "text/plain": [
       "<Figure size 864x432 with 2 Axes>"
      ]
     },
     "metadata": {
      "needs_background": "light"
     },
     "output_type": "display_data"
    }
   ],
   "source": [
    "plt.figure(figsize=(12,6))\n",
    "sns.heatmap(dados.corr(), annot=True, center=0, cmap=\"YlGnBu\")"
   ]
  },
  {
   "cell_type": "code",
   "execution_count": 12,
   "metadata": {},
   "outputs": [
    {
     "data": {
      "text/html": [
       "<div>\n",
       "<style scoped>\n",
       "    .dataframe tbody tr th:only-of-type {\n",
       "        vertical-align: middle;\n",
       "    }\n",
       "\n",
       "    .dataframe tbody tr th {\n",
       "        vertical-align: top;\n",
       "    }\n",
       "\n",
       "    .dataframe thead th {\n",
       "        text-align: right;\n",
       "    }\n",
       "</style>\n",
       "<table border=\"1\" class=\"dataframe\">\n",
       "  <thead>\n",
       "    <tr style=\"text-align: right;\">\n",
       "      <th></th>\n",
       "      <th>count</th>\n",
       "      <th>mean</th>\n",
       "      <th>std</th>\n",
       "      <th>min</th>\n",
       "      <th>25%</th>\n",
       "      <th>50%</th>\n",
       "      <th>75%</th>\n",
       "      <th>max</th>\n",
       "    </tr>\n",
       "  </thead>\n",
       "  <tbody>\n",
       "    <tr>\n",
       "      <th>design_de_sobrancelhas</th>\n",
       "      <td>740.0</td>\n",
       "      <td>0.408108</td>\n",
       "      <td>0.861719</td>\n",
       "      <td>0.0</td>\n",
       "      <td>0.0</td>\n",
       "      <td>0.0</td>\n",
       "      <td>0.0</td>\n",
       "      <td>5.0</td>\n",
       "    </tr>\n",
       "    <tr>\n",
       "      <th>design_coloracao</th>\n",
       "      <td>740.0</td>\n",
       "      <td>0.245946</td>\n",
       "      <td>0.616900</td>\n",
       "      <td>0.0</td>\n",
       "      <td>0.0</td>\n",
       "      <td>0.0</td>\n",
       "      <td>0.0</td>\n",
       "      <td>4.0</td>\n",
       "    </tr>\n",
       "    <tr>\n",
       "      <th>design_coloracao_buco</th>\n",
       "      <td>740.0</td>\n",
       "      <td>0.708108</td>\n",
       "      <td>1.936387</td>\n",
       "      <td>0.0</td>\n",
       "      <td>0.0</td>\n",
       "      <td>0.0</td>\n",
       "      <td>1.0</td>\n",
       "      <td>19.0</td>\n",
       "    </tr>\n",
       "    <tr>\n",
       "      <th>buco</th>\n",
       "      <td>740.0</td>\n",
       "      <td>0.217568</td>\n",
       "      <td>0.581598</td>\n",
       "      <td>0.0</td>\n",
       "      <td>0.0</td>\n",
       "      <td>0.0</td>\n",
       "      <td>0.0</td>\n",
       "      <td>4.0</td>\n",
       "    </tr>\n",
       "    <tr>\n",
       "      <th>brown_lamination</th>\n",
       "      <td>740.0</td>\n",
       "      <td>0.001351</td>\n",
       "      <td>0.036761</td>\n",
       "      <td>0.0</td>\n",
       "      <td>0.0</td>\n",
       "      <td>0.0</td>\n",
       "      <td>0.0</td>\n",
       "      <td>1.0</td>\n",
       "    </tr>\n",
       "    <tr>\n",
       "      <th>micropigmentacao</th>\n",
       "      <td>740.0</td>\n",
       "      <td>0.031014</td>\n",
       "      <td>0.179613</td>\n",
       "      <td>0.0</td>\n",
       "      <td>0.0</td>\n",
       "      <td>0.0</td>\n",
       "      <td>0.0</td>\n",
       "      <td>2.0</td>\n",
       "    </tr>\n",
       "    <tr>\n",
       "      <th>extensao_de_cilios</th>\n",
       "      <td>740.0</td>\n",
       "      <td>0.039189</td>\n",
       "      <td>0.199334</td>\n",
       "      <td>0.0</td>\n",
       "      <td>0.0</td>\n",
       "      <td>0.0</td>\n",
       "      <td>0.0</td>\n",
       "      <td>2.0</td>\n",
       "    </tr>\n",
       "    <tr>\n",
       "      <th>lash_lifting</th>\n",
       "      <td>740.0</td>\n",
       "      <td>0.031757</td>\n",
       "      <td>0.189379</td>\n",
       "      <td>0.0</td>\n",
       "      <td>0.0</td>\n",
       "      <td>0.0</td>\n",
       "      <td>0.0</td>\n",
       "      <td>2.0</td>\n",
       "    </tr>\n",
       "    <tr>\n",
       "      <th>limpeza_de_pele</th>\n",
       "      <td>740.0</td>\n",
       "      <td>0.408108</td>\n",
       "      <td>0.796857</td>\n",
       "      <td>0.0</td>\n",
       "      <td>0.0</td>\n",
       "      <td>0.0</td>\n",
       "      <td>1.0</td>\n",
       "      <td>5.0</td>\n",
       "    </tr>\n",
       "    <tr>\n",
       "      <th>microagulhamento</th>\n",
       "      <td>740.0</td>\n",
       "      <td>0.024324</td>\n",
       "      <td>0.154158</td>\n",
       "      <td>0.0</td>\n",
       "      <td>0.0</td>\n",
       "      <td>0.0</td>\n",
       "      <td>0.0</td>\n",
       "      <td>1.0</td>\n",
       "    </tr>\n",
       "    <tr>\n",
       "      <th>peeling_quimico</th>\n",
       "      <td>740.0</td>\n",
       "      <td>0.033784</td>\n",
       "      <td>0.202004</td>\n",
       "      <td>0.0</td>\n",
       "      <td>0.0</td>\n",
       "      <td>0.0</td>\n",
       "      <td>0.0</td>\n",
       "      <td>2.0</td>\n",
       "    </tr>\n",
       "    <tr>\n",
       "      <th>massagem_relaxante</th>\n",
       "      <td>740.0</td>\n",
       "      <td>0.113514</td>\n",
       "      <td>0.383991</td>\n",
       "      <td>0.0</td>\n",
       "      <td>0.0</td>\n",
       "      <td>0.0</td>\n",
       "      <td>0.0</td>\n",
       "      <td>4.0</td>\n",
       "    </tr>\n",
       "    <tr>\n",
       "      <th>pacote_massagem_5</th>\n",
       "      <td>740.0</td>\n",
       "      <td>0.089730</td>\n",
       "      <td>0.350183</td>\n",
       "      <td>0.0</td>\n",
       "      <td>0.0</td>\n",
       "      <td>0.0</td>\n",
       "      <td>0.0</td>\n",
       "      <td>3.0</td>\n",
       "    </tr>\n",
       "    <tr>\n",
       "      <th>drenagem_linfatica</th>\n",
       "      <td>740.0</td>\n",
       "      <td>0.011892</td>\n",
       "      <td>0.105565</td>\n",
       "      <td>0.0</td>\n",
       "      <td>0.0</td>\n",
       "      <td>0.0</td>\n",
       "      <td>0.0</td>\n",
       "      <td>1.0</td>\n",
       "    </tr>\n",
       "    <tr>\n",
       "      <th>striort</th>\n",
       "      <td>740.0</td>\n",
       "      <td>0.008108</td>\n",
       "      <td>0.089740</td>\n",
       "      <td>0.0</td>\n",
       "      <td>0.0</td>\n",
       "      <td>0.0</td>\n",
       "      <td>0.0</td>\n",
       "      <td>1.0</td>\n",
       "    </tr>\n",
       "    <tr>\n",
       "      <th>qtde_clientes</th>\n",
       "      <td>740.0</td>\n",
       "      <td>1.918919</td>\n",
       "      <td>2.664134</td>\n",
       "      <td>0.0</td>\n",
       "      <td>0.0</td>\n",
       "      <td>1.0</td>\n",
       "      <td>3.0</td>\n",
       "      <td>19.0</td>\n",
       "    </tr>\n",
       "    <tr>\n",
       "      <th>faturamento</th>\n",
       "      <td>740.0</td>\n",
       "      <td>133.204730</td>\n",
       "      <td>183.720228</td>\n",
       "      <td>0.0</td>\n",
       "      <td>0.0</td>\n",
       "      <td>30.0</td>\n",
       "      <td>220.0</td>\n",
       "      <td>1030.0</td>\n",
       "    </tr>\n",
       "  </tbody>\n",
       "</table>\n",
       "</div>"
      ],
      "text/plain": [
       "                        count        mean         std  min  25%   50%    75%  \\\n",
       "design_de_sobrancelhas  740.0    0.408108    0.861719  0.0  0.0   0.0    0.0   \n",
       "design_coloracao        740.0    0.245946    0.616900  0.0  0.0   0.0    0.0   \n",
       "design_coloracao_buco   740.0    0.708108    1.936387  0.0  0.0   0.0    1.0   \n",
       "buco                    740.0    0.217568    0.581598  0.0  0.0   0.0    0.0   \n",
       "brown_lamination        740.0    0.001351    0.036761  0.0  0.0   0.0    0.0   \n",
       "micropigmentacao        740.0    0.031014    0.179613  0.0  0.0   0.0    0.0   \n",
       "extensao_de_cilios      740.0    0.039189    0.199334  0.0  0.0   0.0    0.0   \n",
       "lash_lifting            740.0    0.031757    0.189379  0.0  0.0   0.0    0.0   \n",
       "limpeza_de_pele         740.0    0.408108    0.796857  0.0  0.0   0.0    1.0   \n",
       "microagulhamento        740.0    0.024324    0.154158  0.0  0.0   0.0    0.0   \n",
       "peeling_quimico         740.0    0.033784    0.202004  0.0  0.0   0.0    0.0   \n",
       "massagem_relaxante      740.0    0.113514    0.383991  0.0  0.0   0.0    0.0   \n",
       "pacote_massagem_5       740.0    0.089730    0.350183  0.0  0.0   0.0    0.0   \n",
       "drenagem_linfatica      740.0    0.011892    0.105565  0.0  0.0   0.0    0.0   \n",
       "striort                 740.0    0.008108    0.089740  0.0  0.0   0.0    0.0   \n",
       "qtde_clientes           740.0    1.918919    2.664134  0.0  0.0   1.0    3.0   \n",
       "faturamento             740.0  133.204730  183.720228  0.0  0.0  30.0  220.0   \n",
       "\n",
       "                           max  \n",
       "design_de_sobrancelhas     5.0  \n",
       "design_coloracao           4.0  \n",
       "design_coloracao_buco     19.0  \n",
       "buco                       4.0  \n",
       "brown_lamination           1.0  \n",
       "micropigmentacao           2.0  \n",
       "extensao_de_cilios         2.0  \n",
       "lash_lifting               2.0  \n",
       "limpeza_de_pele            5.0  \n",
       "microagulhamento           1.0  \n",
       "peeling_quimico            2.0  \n",
       "massagem_relaxante         4.0  \n",
       "pacote_massagem_5          3.0  \n",
       "drenagem_linfatica         1.0  \n",
       "striort                    1.0  \n",
       "qtde_clientes             19.0  \n",
       "faturamento             1030.0  "
      ]
     },
     "execution_count": 12,
     "metadata": {},
     "output_type": "execute_result"
    }
   ],
   "source": [
    "dados.describe().T"
   ]
  },
  {
   "cell_type": "markdown",
   "metadata": {},
   "source": [
    " - Visualizando a distribuição do faturamento e da quantidade de clientes"
   ]
  },
  {
   "cell_type": "code",
   "execution_count": 13,
   "metadata": {},
   "outputs": [
    {
     "data": {
      "text/plain": [
       "<matplotlib.axes._subplots.AxesSubplot at 0x263fb620520>"
      ]
     },
     "execution_count": 13,
     "metadata": {},
     "output_type": "execute_result"
    },
    {
     "data": {
      "image/png": "[encoded data removed]",
      "text/plain": [
       "<Figure size 1152x576 with 2 Axes>"
      ]
     },
     "metadata": {
      "needs_background": "light"
     },
     "output_type": "display_data"
    }
   ],
   "source": [
    "fig, ax = plt.subplots(1,2,figsize=(16,8))\n",
    "dados.faturamento.plot(kind=\"hist\",ax=ax[0])\n",
    "dados.qtde_clientes.plot(kind=\"hist\",ax=ax[1])"
   ]
  },
  {
   "cell_type": "code",
   "execution_count": 14,
   "metadata": {},
   "outputs": [
    {
     "data": {
      "text/plain": [
       "Text(0, 0.5, 'faturamento')"
      ]
     },
     "execution_count": 14,
     "metadata": {},
     "output_type": "execute_result"
    },
    {
     "data": {
      "image/png": "[encoded data removed]",
      "text/plain": [
       "<Figure size 720x432 with 1 Axes>"
      ]
     },
     "metadata": {
      "needs_background": "light"
     },
     "output_type": "display_data"
    }
   ],
   "source": [
    "plt.figure(figsize=(10, 6))\n",
    "plt.scatter(dados['qtde_clientes'], dados['faturamento'],alpha=0.5)\n",
    "#x = [0, 400, 1000]\n",
    "#y = [0, 10000, 20000]\n",
    "#plt.plot(x, y, c='r')\n",
    "plt.xlabel('qtde_clientes')\n",
    "plt.ylabel('faturamento')"
   ]
  },
  {
   "cell_type": "code",
   "execution_count": 15,
   "metadata": {},
   "outputs": [
    {
     "data": {
      "text/plain": [
       "<matplotlib.axes._subplots.AxesSubplot at 0x263fb88a400>"
      ]
     },
     "execution_count": 15,
     "metadata": {},
     "output_type": "execute_result"
    },
    {
     "data": {
      "image/png": "[encoded data removed]",
      "text/plain": [
       "<Figure size 432x288 with 1 Axes>"
      ]
     },
     "metadata": {
      "needs_background": "light"
     },
     "output_type": "display_data"
    }
   ],
   "source": [
    "sns.regplot('qtde_clientes','faturamento', data=dados)"
   ]
  },
  {
   "cell_type": "code",
   "execution_count": 16,
   "metadata": {},
   "outputs": [
    {
     "data": {
      "text/plain": [
       "<matplotlib.axes._subplots.AxesSubplot at 0x263fba702b0>"
      ]
     },
     "execution_count": 16,
     "metadata": {},
     "output_type": "execute_result"
    },
    {
     "data": {
      "image/png": "[encoded data removed]",
      "text/plain": [
       "<Figure size 432x288 with 1 Axes>"
      ]
     },
     "metadata": {
      "needs_background": "light"
     },
     "output_type": "display_data"
    }
   ],
   "source": [
    "sns.boxplot(x=dados['faturamento'])"
   ]
  },
  {
   "cell_type": "code",
   "execution_count": 17,
   "metadata": {},
   "outputs": [
    {
     "data": {
      "text/plain": [
       "<matplotlib.axes._subplots.AxesSubplot at 0x263fbab7b20>"
      ]
     },
     "execution_count": 17,
     "metadata": {},
     "output_type": "execute_result"
    },
    {
     "data": {
      "image/png": "[encoded data removed]",
      "text/plain": [
       "<Figure size 432x288 with 1 Axes>"
      ]
     },
     "metadata": {
      "needs_background": "light"
     },
     "output_type": "display_data"
    }
   ],
   "source": [
    "sns.boxplot(x=dados['qtde_clientes'])"
   ]
  },
  {
   "cell_type": "markdown",
   "metadata": {},
   "source": [
    " - Agrupando os dados por mês"
   ]
  },
  {
   "cell_type": "code",
   "execution_count": 18,
   "metadata": {},
   "outputs": [],
   "source": [
    "# dados = dados.set_index('data_atendimento')\n",
    "# dados_por_mes=dados.resample('M').sum()\n",
    "dados_por_mes=dados.resample('M', on='data_atendimento').sum()"
   ]
  },
  {
   "cell_type": "code",
   "execution_count": 19,
   "metadata": {},
   "outputs": [
    {
     "data": {
      "text/html": [
       "<div>\n",
       "<style scoped>\n",
       "    .dataframe tbody tr th:only-of-type {\n",
       "        vertical-align: middle;\n",
       "    }\n",
       "\n",
       "    .dataframe tbody tr th {\n",
       "        vertical-align: top;\n",
       "    }\n",
       "\n",
       "    .dataframe thead th {\n",
       "        text-align: right;\n",
       "    }\n",
       "</style>\n",
       "<table border=\"1\" class=\"dataframe\">\n",
       "  <thead>\n",
       "    <tr style=\"text-align: right;\">\n",
       "      <th></th>\n",
       "      <th>count</th>\n",
       "      <th>mean</th>\n",
       "      <th>std</th>\n",
       "      <th>min</th>\n",
       "      <th>25%</th>\n",
       "      <th>50%</th>\n",
       "      <th>75%</th>\n",
       "      <th>max</th>\n",
       "    </tr>\n",
       "  </thead>\n",
       "  <tbody>\n",
       "    <tr>\n",
       "      <th>design_de_sobrancelhas</th>\n",
       "      <td>25.0</td>\n",
       "      <td>12.080</td>\n",
       "      <td>9.349332</td>\n",
       "      <td>0.0</td>\n",
       "      <td>4.0</td>\n",
       "      <td>11.0</td>\n",
       "      <td>18.0</td>\n",
       "      <td>36.0</td>\n",
       "    </tr>\n",
       "    <tr>\n",
       "      <th>design_coloracao</th>\n",
       "      <td>25.0</td>\n",
       "      <td>7.280</td>\n",
       "      <td>5.975784</td>\n",
       "      <td>0.0</td>\n",
       "      <td>2.0</td>\n",
       "      <td>7.0</td>\n",
       "      <td>10.0</td>\n",
       "      <td>24.0</td>\n",
       "    </tr>\n",
       "    <tr>\n",
       "      <th>design_coloracao_buco</th>\n",
       "      <td>25.0</td>\n",
       "      <td>20.960</td>\n",
       "      <td>16.699501</td>\n",
       "      <td>0.0</td>\n",
       "      <td>10.0</td>\n",
       "      <td>18.0</td>\n",
       "      <td>24.0</td>\n",
       "      <td>57.0</td>\n",
       "    </tr>\n",
       "    <tr>\n",
       "      <th>buco</th>\n",
       "      <td>25.0</td>\n",
       "      <td>6.440</td>\n",
       "      <td>5.000667</td>\n",
       "      <td>0.0</td>\n",
       "      <td>3.0</td>\n",
       "      <td>4.0</td>\n",
       "      <td>10.0</td>\n",
       "      <td>18.0</td>\n",
       "    </tr>\n",
       "    <tr>\n",
       "      <th>brown_lamination</th>\n",
       "      <td>25.0</td>\n",
       "      <td>0.040</td>\n",
       "      <td>0.200000</td>\n",
       "      <td>0.0</td>\n",
       "      <td>0.0</td>\n",
       "      <td>0.0</td>\n",
       "      <td>0.0</td>\n",
       "      <td>1.0</td>\n",
       "    </tr>\n",
       "    <tr>\n",
       "      <th>micropigmentacao</th>\n",
       "      <td>25.0</td>\n",
       "      <td>0.918</td>\n",
       "      <td>1.650561</td>\n",
       "      <td>0.0</td>\n",
       "      <td>0.0</td>\n",
       "      <td>0.0</td>\n",
       "      <td>1.0</td>\n",
       "      <td>7.0</td>\n",
       "    </tr>\n",
       "    <tr>\n",
       "      <th>extensao_de_cilios</th>\n",
       "      <td>25.0</td>\n",
       "      <td>1.160</td>\n",
       "      <td>1.469977</td>\n",
       "      <td>0.0</td>\n",
       "      <td>0.0</td>\n",
       "      <td>1.0</td>\n",
       "      <td>2.0</td>\n",
       "      <td>5.0</td>\n",
       "    </tr>\n",
       "    <tr>\n",
       "      <th>lash_lifting</th>\n",
       "      <td>25.0</td>\n",
       "      <td>0.940</td>\n",
       "      <td>2.274496</td>\n",
       "      <td>0.0</td>\n",
       "      <td>0.0</td>\n",
       "      <td>0.0</td>\n",
       "      <td>0.0</td>\n",
       "      <td>9.0</td>\n",
       "    </tr>\n",
       "    <tr>\n",
       "      <th>limpeza_de_pele</th>\n",
       "      <td>25.0</td>\n",
       "      <td>12.080</td>\n",
       "      <td>7.329563</td>\n",
       "      <td>0.0</td>\n",
       "      <td>9.0</td>\n",
       "      <td>12.0</td>\n",
       "      <td>15.0</td>\n",
       "      <td>27.5</td>\n",
       "    </tr>\n",
       "    <tr>\n",
       "      <th>microagulhamento</th>\n",
       "      <td>25.0</td>\n",
       "      <td>0.720</td>\n",
       "      <td>0.890693</td>\n",
       "      <td>0.0</td>\n",
       "      <td>0.0</td>\n",
       "      <td>0.0</td>\n",
       "      <td>2.0</td>\n",
       "      <td>2.0</td>\n",
       "    </tr>\n",
       "    <tr>\n",
       "      <th>peeling_quimico</th>\n",
       "      <td>25.0</td>\n",
       "      <td>1.000</td>\n",
       "      <td>1.554563</td>\n",
       "      <td>0.0</td>\n",
       "      <td>0.0</td>\n",
       "      <td>0.0</td>\n",
       "      <td>1.0</td>\n",
       "      <td>6.0</td>\n",
       "    </tr>\n",
       "    <tr>\n",
       "      <th>massagem_relaxante</th>\n",
       "      <td>25.0</td>\n",
       "      <td>3.360</td>\n",
       "      <td>3.296210</td>\n",
       "      <td>0.0</td>\n",
       "      <td>0.0</td>\n",
       "      <td>3.5</td>\n",
       "      <td>4.5</td>\n",
       "      <td>11.0</td>\n",
       "    </tr>\n",
       "    <tr>\n",
       "      <th>pacote_massagem_5</th>\n",
       "      <td>25.0</td>\n",
       "      <td>2.656</td>\n",
       "      <td>2.340954</td>\n",
       "      <td>0.0</td>\n",
       "      <td>1.0</td>\n",
       "      <td>2.0</td>\n",
       "      <td>4.0</td>\n",
       "      <td>7.5</td>\n",
       "    </tr>\n",
       "    <tr>\n",
       "      <th>drenagem_linfatica</th>\n",
       "      <td>25.0</td>\n",
       "      <td>0.352</td>\n",
       "      <td>0.759452</td>\n",
       "      <td>0.0</td>\n",
       "      <td>0.0</td>\n",
       "      <td>0.0</td>\n",
       "      <td>0.0</td>\n",
       "      <td>3.0</td>\n",
       "    </tr>\n",
       "    <tr>\n",
       "      <th>striort</th>\n",
       "      <td>25.0</td>\n",
       "      <td>0.240</td>\n",
       "      <td>0.723418</td>\n",
       "      <td>0.0</td>\n",
       "      <td>0.0</td>\n",
       "      <td>0.0</td>\n",
       "      <td>0.0</td>\n",
       "      <td>3.0</td>\n",
       "    </tr>\n",
       "    <tr>\n",
       "      <th>qtde_clientes</th>\n",
       "      <td>25.0</td>\n",
       "      <td>56.800</td>\n",
       "      <td>32.122163</td>\n",
       "      <td>0.0</td>\n",
       "      <td>40.0</td>\n",
       "      <td>63.0</td>\n",
       "      <td>81.0</td>\n",
       "      <td>125.0</td>\n",
       "    </tr>\n",
       "    <tr>\n",
       "      <th>faturamento</th>\n",
       "      <td>25.0</td>\n",
       "      <td>3942.860</td>\n",
       "      <td>2231.581864</td>\n",
       "      <td>0.0</td>\n",
       "      <td>2870.0</td>\n",
       "      <td>3980.0</td>\n",
       "      <td>5425.0</td>\n",
       "      <td>7499.0</td>\n",
       "    </tr>\n",
       "  </tbody>\n",
       "</table>\n",
       "</div>"
      ],
      "text/plain": [
       "                        count      mean          std  min     25%     50%  \\\n",
       "design_de_sobrancelhas   25.0    12.080     9.349332  0.0     4.0    11.0   \n",
       "design_coloracao         25.0     7.280     5.975784  0.0     2.0     7.0   \n",
       "design_coloracao_buco    25.0    20.960    16.699501  0.0    10.0    18.0   \n",
       "buco                     25.0     6.440     5.000667  0.0     3.0     4.0   \n",
       "brown_lamination         25.0     0.040     0.200000  0.0     0.0     0.0   \n",
       "micropigmentacao         25.0     0.918     1.650561  0.0     0.0     0.0   \n",
       "extensao_de_cilios       25.0     1.160     1.469977  0.0     0.0     1.0   \n",
       "lash_lifting             25.0     0.940     2.274496  0.0     0.0     0.0   \n",
       "limpeza_de_pele          25.0    12.080     7.329563  0.0     9.0    12.0   \n",
       "microagulhamento         25.0     0.720     0.890693  0.0     0.0     0.0   \n",
       "peeling_quimico          25.0     1.000     1.554563  0.0     0.0     0.0   \n",
       "massagem_relaxante       25.0     3.360     3.296210  0.0     0.0     3.5   \n",
       "pacote_massagem_5        25.0     2.656     2.340954  0.0     1.0     2.0   \n",
       "drenagem_linfatica       25.0     0.352     0.759452  0.0     0.0     0.0   \n",
       "striort                  25.0     0.240     0.723418  0.0     0.0     0.0   \n",
       "qtde_clientes            25.0    56.800    32.122163  0.0    40.0    63.0   \n",
       "faturamento              25.0  3942.860  2231.581864  0.0  2870.0  3980.0   \n",
       "\n",
       "                           75%     max  \n",
       "design_de_sobrancelhas    18.0    36.0  \n",
       "design_coloracao          10.0    24.0  \n",
       "design_coloracao_buco     24.0    57.0  \n",
       "buco                      10.0    18.0  \n",
       "brown_lamination           0.0     1.0  \n",
       "micropigmentacao           1.0     7.0  \n",
       "extensao_de_cilios         2.0     5.0  \n",
       "lash_lifting               0.0     9.0  \n",
       "limpeza_de_pele           15.0    27.5  \n",
       "microagulhamento           2.0     2.0  \n",
       "peeling_quimico            1.0     6.0  \n",
       "massagem_relaxante         4.5    11.0  \n",
       "pacote_massagem_5          4.0     7.5  \n",
       "drenagem_linfatica         0.0     3.0  \n",
       "striort                    0.0     3.0  \n",
       "qtde_clientes             81.0   125.0  \n",
       "faturamento             5425.0  7499.0  "
      ]
     },
     "execution_count": 19,
     "metadata": {},
     "output_type": "execute_result"
    }
   ],
   "source": [
    "dados_por_mes.describe().T"
   ]
  },
  {
   "cell_type": "code",
   "execution_count": 20,
   "metadata": {},
   "outputs": [],
   "source": [
    "mes_ano=['dez_2018','jan_2019','fev_2019','mar_2019','abr_2019','maio_2019','jun_2019','jul_2019','ago_2019',\n",
    "                      'set_2019','out_2019','nov_2019','dez_2019','jan_2020','fev_2020','mar_2020','abr_2020','maio_2020',\n",
    "                       'jun_2020','jul_2020','ago_2020','set_2020','out_2020','nov_2020','dez_2020']\n",
    "dados_por_mes['mes_ano']=mes_ano"
   ]
  },
  {
   "cell_type": "code",
   "execution_count": 21,
   "metadata": {},
   "outputs": [
    {
     "data": {
      "text/html": [
       "<div>\n",
       "<style scoped>\n",
       "    .dataframe tbody tr th:only-of-type {\n",
       "        vertical-align: middle;\n",
       "    }\n",
       "\n",
       "    .dataframe tbody tr th {\n",
       "        vertical-align: top;\n",
       "    }\n",
       "\n",
       "    .dataframe thead th {\n",
       "        text-align: right;\n",
       "    }\n",
       "</style>\n",
       "<table border=\"1\" class=\"dataframe\">\n",
       "  <thead>\n",
       "    <tr style=\"text-align: right;\">\n",
       "      <th></th>\n",
       "      <th>design_de_sobrancelhas</th>\n",
       "      <th>design_coloracao</th>\n",
       "      <th>design_coloracao_buco</th>\n",
       "      <th>buco</th>\n",
       "      <th>brown_lamination</th>\n",
       "      <th>micropigmentacao</th>\n",
       "      <th>extensao_de_cilios</th>\n",
       "      <th>lash_lifting</th>\n",
       "      <th>limpeza_de_pele</th>\n",
       "      <th>microagulhamento</th>\n",
       "      <th>peeling_quimico</th>\n",
       "      <th>massagem_relaxante</th>\n",
       "      <th>pacote_massagem_5</th>\n",
       "      <th>drenagem_linfatica</th>\n",
       "      <th>striort</th>\n",
       "      <th>qtde_clientes</th>\n",
       "      <th>faturamento</th>\n",
       "      <th>mes_ano</th>\n",
       "    </tr>\n",
       "    <tr>\n",
       "      <th>data_atendimento</th>\n",
       "      <th></th>\n",
       "      <th></th>\n",
       "      <th></th>\n",
       "      <th></th>\n",
       "      <th></th>\n",
       "      <th></th>\n",
       "      <th></th>\n",
       "      <th></th>\n",
       "      <th></th>\n",
       "      <th></th>\n",
       "      <th></th>\n",
       "      <th></th>\n",
       "      <th></th>\n",
       "      <th></th>\n",
       "      <th></th>\n",
       "      <th></th>\n",
       "      <th></th>\n",
       "      <th></th>\n",
       "    </tr>\n",
       "  </thead>\n",
       "  <tbody>\n",
       "    <tr>\n",
       "      <th>2018-12-31</th>\n",
       "      <td>4.0</td>\n",
       "      <td>0.0</td>\n",
       "      <td>9.0</td>\n",
       "      <td>3.0</td>\n",
       "      <td>0.0</td>\n",
       "      <td>1.0</td>\n",
       "      <td>1.5</td>\n",
       "      <td>0.0</td>\n",
       "      <td>3.0</td>\n",
       "      <td>0.0</td>\n",
       "      <td>0.0</td>\n",
       "      <td>0.0</td>\n",
       "      <td>0.0</td>\n",
       "      <td>0.0</td>\n",
       "      <td>0.0</td>\n",
       "      <td>18.0</td>\n",
       "      <td>1110.0</td>\n",
       "      <td>dez_2018</td>\n",
       "    </tr>\n",
       "    <tr>\n",
       "      <th>2019-01-31</th>\n",
       "      <td>5.0</td>\n",
       "      <td>5.0</td>\n",
       "      <td>10.0</td>\n",
       "      <td>4.0</td>\n",
       "      <td>0.0</td>\n",
       "      <td>0.0</td>\n",
       "      <td>2.5</td>\n",
       "      <td>0.0</td>\n",
       "      <td>14.0</td>\n",
       "      <td>0.0</td>\n",
       "      <td>2.0</td>\n",
       "      <td>4.0</td>\n",
       "      <td>0.0</td>\n",
       "      <td>3.0</td>\n",
       "      <td>0.0</td>\n",
       "      <td>47.0</td>\n",
       "      <td>2540.0</td>\n",
       "      <td>jan_2019</td>\n",
       "    </tr>\n",
       "    <tr>\n",
       "      <th>2019-02-28</th>\n",
       "      <td>3.0</td>\n",
       "      <td>7.0</td>\n",
       "      <td>14.0</td>\n",
       "      <td>1.0</td>\n",
       "      <td>0.0</td>\n",
       "      <td>0.0</td>\n",
       "      <td>3.0</td>\n",
       "      <td>0.0</td>\n",
       "      <td>9.0</td>\n",
       "      <td>0.0</td>\n",
       "      <td>2.0</td>\n",
       "      <td>3.5</td>\n",
       "      <td>3.0</td>\n",
       "      <td>0.0</td>\n",
       "      <td>0.0</td>\n",
       "      <td>40.0</td>\n",
       "      <td>2870.0</td>\n",
       "      <td>fev_2019</td>\n",
       "    </tr>\n",
       "    <tr>\n",
       "      <th>2019-03-31</th>\n",
       "      <td>4.0</td>\n",
       "      <td>10.0</td>\n",
       "      <td>13.0</td>\n",
       "      <td>4.0</td>\n",
       "      <td>0.0</td>\n",
       "      <td>0.0</td>\n",
       "      <td>3.0</td>\n",
       "      <td>0.0</td>\n",
       "      <td>12.0</td>\n",
       "      <td>0.0</td>\n",
       "      <td>6.0</td>\n",
       "      <td>0.0</td>\n",
       "      <td>5.0</td>\n",
       "      <td>0.0</td>\n",
       "      <td>0.0</td>\n",
       "      <td>45.0</td>\n",
       "      <td>3980.0</td>\n",
       "      <td>mar_2019</td>\n",
       "    </tr>\n",
       "    <tr>\n",
       "      <th>2019-04-30</th>\n",
       "      <td>4.0</td>\n",
       "      <td>8.0</td>\n",
       "      <td>18.0</td>\n",
       "      <td>0.0</td>\n",
       "      <td>0.0</td>\n",
       "      <td>1.0</td>\n",
       "      <td>2.0</td>\n",
       "      <td>0.0</td>\n",
       "      <td>19.0</td>\n",
       "      <td>0.0</td>\n",
       "      <td>1.0</td>\n",
       "      <td>2.5</td>\n",
       "      <td>1.5</td>\n",
       "      <td>0.0</td>\n",
       "      <td>0.0</td>\n",
       "      <td>50.0</td>\n",
       "      <td>3325.0</td>\n",
       "      <td>abr_2019</td>\n",
       "    </tr>\n",
       "  </tbody>\n",
       "</table>\n",
       "</div>"
      ],
      "text/plain": [
       "                  design_de_sobrancelhas  design_coloracao  \\\n",
       "data_atendimento                                             \n",
       "2018-12-31                           4.0               0.0   \n",
       "2019-01-31                           5.0               5.0   \n",
       "2019-02-28                           3.0               7.0   \n",
       "2019-03-31                           4.0              10.0   \n",
       "2019-04-30                           4.0               8.0   \n",
       "\n",
       "                  design_coloracao_buco  buco  brown_lamination  \\\n",
       "data_atendimento                                                  \n",
       "2018-12-31                          9.0   3.0               0.0   \n",
       "2019-01-31                         10.0   4.0               0.0   \n",
       "2019-02-28                         14.0   1.0               0.0   \n",
       "2019-03-31                         13.0   4.0               0.0   \n",
       "2019-04-30                         18.0   0.0               0.0   \n",
       "\n",
       "                  micropigmentacao  extensao_de_cilios  lash_lifting  \\\n",
       "data_atendimento                                                       \n",
       "2018-12-31                     1.0                 1.5           0.0   \n",
       "2019-01-31                     0.0                 2.5           0.0   \n",
       "2019-02-28                     0.0                 3.0           0.0   \n",
       "2019-03-31                     0.0                 3.0           0.0   \n",
       "2019-04-30                     1.0                 2.0           0.0   \n",
       "\n",
       "                  limpeza_de_pele  microagulhamento  peeling_quimico  \\\n",
       "data_atendimento                                                       \n",
       "2018-12-31                    3.0               0.0              0.0   \n",
       "2019-01-31                   14.0               0.0              2.0   \n",
       "2019-02-28                    9.0               0.0              2.0   \n",
       "2019-03-31                   12.0               0.0              6.0   \n",
       "2019-04-30                   19.0               0.0              1.0   \n",
       "\n",
       "                  massagem_relaxante  pacote_massagem_5  drenagem_linfatica  \\\n",
       "data_atendimento                                                              \n",
       "2018-12-31                       0.0                0.0                 0.0   \n",
       "2019-01-31                       4.0                0.0                 3.0   \n",
       "2019-02-28                       3.5                3.0                 0.0   \n",
       "2019-03-31                       0.0                5.0                 0.0   \n",
       "2019-04-30                       2.5                1.5                 0.0   \n",
       "\n",
       "                  striort  qtde_clientes  faturamento   mes_ano  \n",
       "data_atendimento                                                 \n",
       "2018-12-31            0.0           18.0       1110.0  dez_2018  \n",
       "2019-01-31            0.0           47.0       2540.0  jan_2019  \n",
       "2019-02-28            0.0           40.0       2870.0  fev_2019  \n",
       "2019-03-31            0.0           45.0       3980.0  mar_2019  \n",
       "2019-04-30            0.0           50.0       3325.0  abr_2019  "
      ]
     },
     "execution_count": 21,
     "metadata": {},
     "output_type": "execute_result"
    }
   ],
   "source": [
    "dados_por_mes.head()"
   ]
  },
  {
   "cell_type": "code",
   "execution_count": 22,
   "metadata": {},
   "outputs": [],
   "source": [
    "cols = dados_por_mes.columns.tolist()\n",
    "cols = cols[-1:] + cols[:-1]\n",
    "dados_por_mes = dados_por_mes[cols] "
   ]
  },
  {
   "cell_type": "code",
   "execution_count": 23,
   "metadata": {},
   "outputs": [
    {
     "data": {
      "text/html": [
       "<div>\n",
       "<style scoped>\n",
       "    .dataframe tbody tr th:only-of-type {\n",
       "        vertical-align: middle;\n",
       "    }\n",
       "\n",
       "    .dataframe tbody tr th {\n",
       "        vertical-align: top;\n",
       "    }\n",
       "\n",
       "    .dataframe thead th {\n",
       "        text-align: right;\n",
       "    }\n",
       "</style>\n",
       "<table border=\"1\" class=\"dataframe\">\n",
       "  <thead>\n",
       "    <tr style=\"text-align: right;\">\n",
       "      <th></th>\n",
       "      <th>mes_ano</th>\n",
       "      <th>design_de_sobrancelhas</th>\n",
       "      <th>design_coloracao</th>\n",
       "      <th>design_coloracao_buco</th>\n",
       "      <th>buco</th>\n",
       "      <th>brown_lamination</th>\n",
       "      <th>micropigmentacao</th>\n",
       "      <th>extensao_de_cilios</th>\n",
       "      <th>lash_lifting</th>\n",
       "      <th>limpeza_de_pele</th>\n",
       "      <th>microagulhamento</th>\n",
       "      <th>peeling_quimico</th>\n",
       "      <th>massagem_relaxante</th>\n",
       "      <th>pacote_massagem_5</th>\n",
       "      <th>drenagem_linfatica</th>\n",
       "      <th>striort</th>\n",
       "      <th>qtde_clientes</th>\n",
       "      <th>faturamento</th>\n",
       "    </tr>\n",
       "    <tr>\n",
       "      <th>data_atendimento</th>\n",
       "      <th></th>\n",
       "      <th></th>\n",
       "      <th></th>\n",
       "      <th></th>\n",
       "      <th></th>\n",
       "      <th></th>\n",
       "      <th></th>\n",
       "      <th></th>\n",
       "      <th></th>\n",
       "      <th></th>\n",
       "      <th></th>\n",
       "      <th></th>\n",
       "      <th></th>\n",
       "      <th></th>\n",
       "      <th></th>\n",
       "      <th></th>\n",
       "      <th></th>\n",
       "      <th></th>\n",
       "    </tr>\n",
       "  </thead>\n",
       "  <tbody>\n",
       "    <tr>\n",
       "      <th>2018-12-31</th>\n",
       "      <td>dez_2018</td>\n",
       "      <td>4.0</td>\n",
       "      <td>0.0</td>\n",
       "      <td>9.0</td>\n",
       "      <td>3.0</td>\n",
       "      <td>0.0</td>\n",
       "      <td>1.0</td>\n",
       "      <td>1.5</td>\n",
       "      <td>0.0</td>\n",
       "      <td>3.0</td>\n",
       "      <td>0.0</td>\n",
       "      <td>0.0</td>\n",
       "      <td>0.0</td>\n",
       "      <td>0.0</td>\n",
       "      <td>0.0</td>\n",
       "      <td>0.0</td>\n",
       "      <td>18.0</td>\n",
       "      <td>1110.0</td>\n",
       "    </tr>\n",
       "    <tr>\n",
       "      <th>2019-01-31</th>\n",
       "      <td>jan_2019</td>\n",
       "      <td>5.0</td>\n",
       "      <td>5.0</td>\n",
       "      <td>10.0</td>\n",
       "      <td>4.0</td>\n",
       "      <td>0.0</td>\n",
       "      <td>0.0</td>\n",
       "      <td>2.5</td>\n",
       "      <td>0.0</td>\n",
       "      <td>14.0</td>\n",
       "      <td>0.0</td>\n",
       "      <td>2.0</td>\n",
       "      <td>4.0</td>\n",
       "      <td>0.0</td>\n",
       "      <td>3.0</td>\n",
       "      <td>0.0</td>\n",
       "      <td>47.0</td>\n",
       "      <td>2540.0</td>\n",
       "    </tr>\n",
       "    <tr>\n",
       "      <th>2019-02-28</th>\n",
       "      <td>fev_2019</td>\n",
       "      <td>3.0</td>\n",
       "      <td>7.0</td>\n",
       "      <td>14.0</td>\n",
       "      <td>1.0</td>\n",
       "      <td>0.0</td>\n",
       "      <td>0.0</td>\n",
       "      <td>3.0</td>\n",
       "      <td>0.0</td>\n",
       "      <td>9.0</td>\n",
       "      <td>0.0</td>\n",
       "      <td>2.0</td>\n",
       "      <td>3.5</td>\n",
       "      <td>3.0</td>\n",
       "      <td>0.0</td>\n",
       "      <td>0.0</td>\n",
       "      <td>40.0</td>\n",
       "      <td>2870.0</td>\n",
       "    </tr>\n",
       "    <tr>\n",
       "      <th>2019-03-31</th>\n",
       "      <td>mar_2019</td>\n",
       "      <td>4.0</td>\n",
       "      <td>10.0</td>\n",
       "      <td>13.0</td>\n",
       "      <td>4.0</td>\n",
       "      <td>0.0</td>\n",
       "      <td>0.0</td>\n",
       "      <td>3.0</td>\n",
       "      <td>0.0</td>\n",
       "      <td>12.0</td>\n",
       "      <td>0.0</td>\n",
       "      <td>6.0</td>\n",
       "      <td>0.0</td>\n",
       "      <td>5.0</td>\n",
       "      <td>0.0</td>\n",
       "      <td>0.0</td>\n",
       "      <td>45.0</td>\n",
       "      <td>3980.0</td>\n",
       "    </tr>\n",
       "    <tr>\n",
       "      <th>2019-04-30</th>\n",
       "      <td>abr_2019</td>\n",
       "      <td>4.0</td>\n",
       "      <td>8.0</td>\n",
       "      <td>18.0</td>\n",
       "      <td>0.0</td>\n",
       "      <td>0.0</td>\n",
       "      <td>1.0</td>\n",
       "      <td>2.0</td>\n",
       "      <td>0.0</td>\n",
       "      <td>19.0</td>\n",
       "      <td>0.0</td>\n",
       "      <td>1.0</td>\n",
       "      <td>2.5</td>\n",
       "      <td>1.5</td>\n",
       "      <td>0.0</td>\n",
       "      <td>0.0</td>\n",
       "      <td>50.0</td>\n",
       "      <td>3325.0</td>\n",
       "    </tr>\n",
       "  </tbody>\n",
       "</table>\n",
       "</div>"
      ],
      "text/plain": [
       "                   mes_ano  design_de_sobrancelhas  design_coloracao  \\\n",
       "data_atendimento                                                       \n",
       "2018-12-31        dez_2018                     4.0               0.0   \n",
       "2019-01-31        jan_2019                     5.0               5.0   \n",
       "2019-02-28        fev_2019                     3.0               7.0   \n",
       "2019-03-31        mar_2019                     4.0              10.0   \n",
       "2019-04-30        abr_2019                     4.0               8.0   \n",
       "\n",
       "                  design_coloracao_buco  buco  brown_lamination  \\\n",
       "data_atendimento                                                  \n",
       "2018-12-31                          9.0   3.0               0.0   \n",
       "2019-01-31                         10.0   4.0               0.0   \n",
       "2019-02-28                         14.0   1.0               0.0   \n",
       "2019-03-31                         13.0   4.0               0.0   \n",
       "2019-04-30                         18.0   0.0               0.0   \n",
       "\n",
       "                  micropigmentacao  extensao_de_cilios  lash_lifting  \\\n",
       "data_atendimento                                                       \n",
       "2018-12-31                     1.0                 1.5           0.0   \n",
       "2019-01-31                     0.0                 2.5           0.0   \n",
       "2019-02-28                     0.0                 3.0           0.0   \n",
       "2019-03-31                     0.0                 3.0           0.0   \n",
       "2019-04-30                     1.0                 2.0           0.0   \n",
       "\n",
       "                  limpeza_de_pele  microagulhamento  peeling_quimico  \\\n",
       "data_atendimento                                                       \n",
       "2018-12-31                    3.0               0.0              0.0   \n",
       "2019-01-31                   14.0               0.0              2.0   \n",
       "2019-02-28                    9.0               0.0              2.0   \n",
       "2019-03-31                   12.0               0.0              6.0   \n",
       "2019-04-30                   19.0               0.0              1.0   \n",
       "\n",
       "                  massagem_relaxante  pacote_massagem_5  drenagem_linfatica  \\\n",
       "data_atendimento                                                              \n",
       "2018-12-31                       0.0                0.0                 0.0   \n",
       "2019-01-31                       4.0                0.0                 3.0   \n",
       "2019-02-28                       3.5                3.0                 0.0   \n",
       "2019-03-31                       0.0                5.0                 0.0   \n",
       "2019-04-30                       2.5                1.5                 0.0   \n",
       "\n",
       "                  striort  qtde_clientes  faturamento  \n",
       "data_atendimento                                       \n",
       "2018-12-31            0.0           18.0       1110.0  \n",
       "2019-01-31            0.0           47.0       2540.0  \n",
       "2019-02-28            0.0           40.0       2870.0  \n",
       "2019-03-31            0.0           45.0       3980.0  \n",
       "2019-04-30            0.0           50.0       3325.0  "
      ]
     },
     "execution_count": 23,
     "metadata": {},
     "output_type": "execute_result"
    }
   ],
   "source": [
    "dados_por_mes.head()"
   ]
  },
  {
   "cell_type": "code",
   "execution_count": null,
   "metadata": {},
   "outputs": [],
   "source": []
  },
  {
   "cell_type": "markdown",
   "metadata": {},
   "source": [
    " - Criando o DataFrame apenas com faturamento e quantidade de clientes por mês"
   ]
  },
  {
   "cell_type": "code",
   "execution_count": 24,
   "metadata": {},
   "outputs": [],
   "source": [
    "fat_mensal=dados_por_mes.loc[:,['mes_ano','faturamento','qtde_clientes']]\n",
    "fat_mensal=fat_mensal.set_index('mes_ano')"
   ]
  },
  {
   "cell_type": "code",
   "execution_count": 25,
   "metadata": {},
   "outputs": [
    {
     "data": {
      "image/png": "[encoded data removed]",
      "text/plain": [
       "<Figure size 1296x432 with 2 Axes>"
      ]
     },
     "metadata": {
      "needs_background": "light"
     },
     "output_type": "display_data"
    }
   ],
   "source": [
    "fig, ax = plt.subplots(1,2,figsize=(18,6))\n",
    "fat_mensal.faturamento.plot.bar(ax=ax[0])\n",
    "ax[0].set_title('Faturamento Mensal')\n",
    "fat_mensal.qtde_clientes.plot.bar(ax=ax[1],color='g')\n",
    "ax[1].set_title('Quantidade de clientes por mês')\n",
    "plt.xticks();"
   ]
  },
  {
   "cell_type": "markdown",
   "metadata": {},
   "source": [
    " - Filtrando outliers"
   ]
  },
  {
   "cell_type": "code",
   "execution_count": 26,
   "metadata": {},
   "outputs": [],
   "source": [
    "dados_filtrado =dados.query('qtde_clientes <=7  and faturamento <= 600 and data_atendimento <=\"2020-03-20\"')"
   ]
  },
  {
   "cell_type": "code",
   "execution_count": 27,
   "metadata": {},
   "outputs": [
    {
     "data": {
      "text/plain": [
       "(420, 18)"
      ]
     },
     "execution_count": 27,
     "metadata": {},
     "output_type": "execute_result"
    }
   ],
   "source": [
    "dados_filtrado.shape"
   ]
  },
  {
   "cell_type": "markdown",
   "metadata": {},
   "source": [
    "\n",
    " - Previsão do faturamento sem outliers:\n",
    "    - Calcular a média da quantidade de clientes por dia\n",
    "    - Calcular a média do valor gasto por cliente"
   ]
  },
  {
   "cell_type": "code",
   "execution_count": 28,
   "metadata": {},
   "outputs": [
    {
     "data": {
      "text/plain": [
       "67.09416445623341"
      ]
     },
     "execution_count": 28,
     "metadata": {},
     "output_type": "execute_result"
    }
   ],
   "source": [
    "# soma do faturamento dividido pela quantidade de clientes , retorna o valor médio  gasto por cliente\n",
    "valor_medio_de_consumo =dados_filtrado.faturamento.sum()/dados_filtrado.qtde_clientes.sum()\n",
    "valor_medio_de_consumo"
   ]
  },
  {
   "cell_type": "code",
   "execution_count": 29,
   "metadata": {},
   "outputs": [
    {
     "data": {
      "text/plain": [
       "1.7952380952380953"
      ]
     },
     "execution_count": 29,
     "metadata": {},
     "output_type": "execute_result"
    }
   ],
   "source": [
    "# quantidade de clientes dividido pela quantidade de dias , retorna a quantidade média de clientes que frequentam o espaço por dia\n",
    "media_clientes_por=dados_filtrado.qtde_clientes.sum()/len(dados_filtrado.data_atendimento)\n",
    "media_clientes_por"
   ]
  },
  {
   "cell_type": "code",
   "execution_count": 30,
   "metadata": {},
   "outputs": [
    {
     "data": {
      "text/plain": [
       "120.44999999999999"
      ]
     },
     "execution_count": 30,
     "metadata": {},
     "output_type": "execute_result"
    }
   ],
   "source": [
    "# Calculando a previsão média de faturamento \n",
    "previsao_faturamento=media_clientes_por*valor_medio_de_consumo\n",
    "previsao_faturamento"
   ]
  },
  {
   "cell_type": "code",
   "execution_count": 31,
   "metadata": {},
   "outputs": [],
   "source": [
    "# dados.loc[dados['data_atendimento'] ==\"2020-04-01\"]"
   ]
  },
  {
   "cell_type": "markdown",
   "metadata": {},
   "source": [
    " ## 4. Machine learning\n",
    " \n",
    " \n",
    "  \n",
    "   -  Definir X_train e X_test : \n",
    "       - X_train são os dados antes da pandemia \n",
    "       - X_test são os dados após a pandemia\n",
    "       - x prede sao os dados durante a pandemia "
   ]
  },
  {
   "cell_type": "markdown",
   "metadata": {},
   "source": [
    " - Definindo as amostras de treino e teste"
   ]
  },
  {
   "cell_type": "code",
   "execution_count": 45,
   "metadata": {},
   "outputs": [],
   "source": [
    "dados_filtrado = dados_filtrado.set_index('data_atendimento')"
   ]
  },
  {
   "cell_type": "code",
   "execution_count": 47,
   "metadata": {},
   "outputs": [],
   "source": [
    "X = dados_filtrado.drop(columns = ['faturamento','qtde_clientes'],axis=1)\n",
    "Y = dados_filtrado['faturamento']"
   ]
  },
  {
   "cell_type": "code",
   "execution_count": 48,
   "metadata": {},
   "outputs": [],
   "source": [
    "from sklearn.model_selection import train_test_split"
   ]
  },
  {
   "cell_type": "code",
   "execution_count": 49,
   "metadata": {},
   "outputs": [],
   "source": [
    "X_treino,X_teste,Y_treino,Y_teste = train_test_split(X,Y,test_size=0.25,random_state=0 )"
   ]
  },
  {
   "cell_type": "code",
   "execution_count": 50,
   "metadata": {},
   "outputs": [],
   "source": [
    "# train['design_coloracao_buco']=train['design_coloracao_buco'].apply(np.log1p)\n",
    "# train['faturamento']=train['faturamento'].apply(np.log1p)"
   ]
  },
  {
   "cell_type": "code",
   "execution_count": 51,
   "metadata": {},
   "outputs": [],
   "source": [
    "# test['design_coloracao_buco']=test['design_coloracao_buco'].apply(np.log1p)\n",
    "# test['faturamento']=test['faturamento'].apply(np.log1p)"
   ]
  },
  {
   "cell_type": "code",
   "execution_count": null,
   "metadata": {},
   "outputs": [],
   "source": []
  },
  {
   "cell_type": "markdown",
   "metadata": {},
   "source": [
    " - Machine learning"
   ]
  },
  {
   "cell_type": "code",
   "execution_count": 54,
   "metadata": {},
   "outputs": [
    {
     "data": {
      "text/plain": [
       "KNeighborsRegressor()"
      ]
     },
     "execution_count": 54,
     "metadata": {},
     "output_type": "execute_result"
    }
   ],
   "source": [
    "from sklearn.neighbors import KNeighborsRegressor\n",
    "neigh = KNeighborsRegressor(n_neighbors=5)\n",
    "neigh.fit(X_treino,Y_treino)"
   ]
  },
  {
   "cell_type": "code",
   "execution_count": 55,
   "metadata": {},
   "outputs": [],
   "source": [
    "y_pred = neigh.predict(X_teste)"
   ]
  },
  {
   "cell_type": "code",
   "execution_count": 57,
   "metadata": {},
   "outputs": [
    {
     "data": {
      "text/plain": [
       "79.47210591803655"
      ]
     },
     "execution_count": 57,
     "metadata": {},
     "output_type": "execute_result"
    }
   ],
   "source": [
    "# Root Mean Squared Error\n",
    "np.sqrt(np.mean((y_pred-Y_teste.values)**2))"
   ]
  },
  {
   "cell_type": "code",
   "execution_count": 59,
   "metadata": {},
   "outputs": [
    {
     "data": {
      "text/plain": [
       "6315.815619047619"
      ]
     },
     "execution_count": 59,
     "metadata": {},
     "output_type": "execute_result"
    }
   ],
   "source": [
    "# Mean Squared Error\n",
    "np.mean((y_pred-Y_teste.values)**2)"
   ]
  },
  {
   "cell_type": "code",
   "execution_count": 60,
   "metadata": {},
   "outputs": [
    {
     "data": {
      "text/plain": [
       "36.50666666666667"
      ]
     },
     "execution_count": 60,
     "metadata": {},
     "output_type": "execute_result"
    }
   ],
   "source": [
    "# Mean Absolute Error\n",
    "np.mean(np.abs(y_pred-Y_teste.values))"
   ]
  },
  {
   "cell_type": "code",
   "execution_count": 61,
   "metadata": {},
   "outputs": [
    {
     "data": {
      "text/plain": [
       "0.6467704960070613"
      ]
     },
     "execution_count": 61,
     "metadata": {},
     "output_type": "execute_result"
    }
   ],
   "source": [
    "# R2 Score\n",
    "from sklearn.metrics import r2_score\n",
    "r2_score(Y_teste, y_pred)"
   ]
  },
  {
   "cell_type": "markdown",
   "metadata": {},
   "source": [
    " - Triagem com outros modelos"
   ]
  },
  {
   "cell_type": "code",
   "execution_count": 62,
   "metadata": {},
   "outputs": [
    {
     "data": {
      "text/plain": [
       "1.0"
      ]
     },
     "execution_count": 62,
     "metadata": {},
     "output_type": "execute_result"
    }
   ],
   "source": [
    "from sklearn.linear_model import LinearRegression\n",
    "reg = LinearRegression()\n",
    "reg.fit(X_treino, Y_treino)\n",
    "\n",
    "reg.score(X_teste, Y_teste)"
   ]
  },
  {
   "cell_type": "code",
   "execution_count": 66,
   "metadata": {},
   "outputs": [
    {
     "name": "stdout",
     "output_type": "stream",
     "text": [
      "Treinando DecisionTreeRegressor\n",
      "Train score 1.0\n",
      "Test score 0.8771634346501089\n",
      "================================================================================\n",
      "Treinando RandomForestRegressor\n",
      "Train score 0.9869037108878462\n",
      "Test score 0.8710236005006867\n",
      "================================================================================\n",
      "Treinando MLPRegressor\n"
     ]
    },
    {
     "name": "stderr",
     "output_type": "stream",
     "text": [
      "C:\\Users\\Biena\\anaconda3\\lib\\site-packages\\sklearn\\neural_network\\_multilayer_perceptron.py:582: ConvergenceWarning: Stochastic Optimizer: Maximum iterations (200) reached and the optimization hasn't converged yet.\n",
      "  warnings.warn(\n"
     ]
    },
    {
     "name": "stdout",
     "output_type": "stream",
     "text": [
      "Train score 0.3486965015142368\n",
      "Test score 0.32420936758672325\n",
      "================================================================================\n",
      "Treinando XGBRegressor\n",
      "Train score 0.9998826403433133\n",
      "Test score 0.912950498696722\n",
      "================================================================================\n"
     ]
    }
   ],
   "source": [
    "from sklearn.tree import DecisionTreeRegressor\n",
    "from sklearn.ensemble import RandomForestRegressor\n",
    "from sklearn.neural_network import MLPRegressor\n",
    "from xgboost import XGBRegressor\n",
    "\n",
    "regressor_list = [DecisionTreeRegressor(),\n",
    "                  RandomForestRegressor(),\n",
    "                  MLPRegressor(),\n",
    "                  XGBRegressor()\n",
    "                  ]\n",
    "\n",
    "for reg in regressor_list:\n",
    "  print('Treinando', reg.__class__.__name__)\n",
    "  reg.fit(X_treino, Y_treino)\n",
    "  train_score = reg.score(X_treino, Y_treino)\n",
    "  test_score = reg.score(X_teste, Y_teste)\n",
    "  print('Train score', train_score)\n",
    "  print('Test score', test_score)\n",
    "  print('='*80)"
   ]
  },
  {
   "cell_type": "markdown",
   "metadata": {},
   "source": [
    "- Repetindo com validação cruzada."
   ]
  },
  {
   "cell_type": "code",
   "execution_count": 67,
   "metadata": {},
   "outputs": [
    {
     "name": "stdout",
     "output_type": "stream",
     "text": [
      "Treinando DecisionTreeRegressor\n",
      "Train score 1.0\n",
      "Validation score [0.89899276 0.80073474 0.87959849 0.86342488 0.55790598]\n",
      "Test score 0.8723696255121957\n",
      "================================================================================\n",
      "Treinando RandomForestRegressor\n",
      "Train score 0.9871605107392692\n",
      "Validation score [0.95998876 0.90067082 0.88844483 0.86281252 0.9150585 ]\n",
      "Test score 0.8783229666373712\n",
      "================================================================================\n",
      "Treinando MLPRegressor\n",
      "Train score 0.3201749284005455\n",
      "Validation score [0.23723683 0.30971687 0.20521704 0.34678619 0.26142981]\n",
      "Test score 0.3007334068529526\n",
      "================================================================================\n",
      "Treinando XGBRegressor\n",
      "Train score 0.9998826403433133\n",
      "Validation score [0.97350781 0.92755686 0.91732548 0.9476034  0.91432471]\n",
      "Test score 0.912950498696722\n",
      "================================================================================\n"
     ]
    }
   ],
   "source": [
    "# repetindo processo com validação cruzada\n",
    "import warnings\n",
    "warnings.filterwarnings(\"ignore\")\n",
    "from sklearn.tree import DecisionTreeRegressor\n",
    "from sklearn.ensemble import RandomForestRegressor\n",
    "from sklearn.neural_network import MLPRegressor\n",
    "from xgboost import XGBRegressor\n",
    "from sklearn.model_selection import cross_val_score\n",
    "\n",
    "\n",
    "regressor_list = [DecisionTreeRegressor(),\n",
    "                  RandomForestRegressor(),\n",
    "                  MLPRegressor(),\n",
    "                  XGBRegressor()\n",
    "                  ]\n",
    "\n",
    "for reg in regressor_list:\n",
    "  print('Treinando', reg.__class__.__name__)\n",
    "  reg.fit(X_treino, Y_treino)\n",
    "  train_score = reg.score(X_treino, Y_treino)\n",
    "  val_score = cross_val_score(reg, X_treino, Y_treino, cv=5)\n",
    "  test_score = reg.score(X_teste, Y_teste)\n",
    "  print('Train score', train_score)\n",
    "  print('Validation score', val_score)\n",
    "  print('Test score', test_score)\n",
    "  print('='*80)"
   ]
  },
  {
   "cell_type": "code",
   "execution_count": 69,
   "metadata": {},
   "outputs": [
    {
     "data": {
      "text/plain": [
       "GridSearchCV(cv=5,\n",
       "             estimator=XGBRegressor(base_score=None, booster=None,\n",
       "                                    colsample_bylevel=None,\n",
       "                                    colsample_bynode=None,\n",
       "                                    colsample_bytree=None, gamma=None,\n",
       "                                    gpu_id=None, importance_type='gain',\n",
       "                                    interaction_constraints=None,\n",
       "                                    learning_rate=None, max_delta_step=None,\n",
       "                                    max_depth=1, min_child_weight=None,\n",
       "                                    missing=nan, monotone_constraints=None,\n",
       "                                    n_estimators=100, n_jobs=None,\n",
       "                                    num_parallel_tree=None, random_state=None,\n",
       "                                    reg_alpha=None, reg_lambda=None,\n",
       "                                    scale_pos_weight=None, subsample=None,\n",
       "                                    tree_method=None, validate_parameters=None,\n",
       "                                    verbosity=None),\n",
       "             n_jobs=-1,\n",
       "             param_grid=[{'learning_rate': [0.1, 0.2, 0.3, 0.4, 0.5],\n",
       "                          'max_depth': [3, 4, 5, 6, 7, 8],\n",
       "                          'n_estimators': [50, 100, 150, 200, 250]}],\n",
       "             scoring='r2')"
      ]
     },
     "execution_count": 69,
     "metadata": {},
     "output_type": "execute_result"
    }
   ],
   "source": [
    "#  Todo: calibração do modelo\n",
    "from sklearn.model_selection import GridSearchCV\n",
    "parameters=[{'learning_rate':[0.1,0.2,0.3,0.4,0.5],\n",
    "             'max_depth':[3,4,5,6,7,8],\n",
    "             'n_estimators':[50, 100,150,200,250]}]\n",
    "            \n",
    "xgb = XGBRegressor(n_estimators=100, max_depth=1)\n",
    "gs = GridSearchCV(xgb,parameters,scoring='r2',n_jobs=-1,cv=5)\n",
    "gs.fit(X_treino, Y_treino)"
   ]
  },
  {
   "cell_type": "code",
   "execution_count": 70,
   "metadata": {},
   "outputs": [
    {
     "data": {
      "text/plain": [
       "{'learning_rate': 0.4, 'max_depth': 3, 'n_estimators': 250}"
      ]
     },
     "execution_count": 70,
     "metadata": {},
     "output_type": "execute_result"
    }
   ],
   "source": [
    "gs.best_params_"
   ]
  },
  {
   "cell_type": "code",
   "execution_count": 71,
   "metadata": {},
   "outputs": [
    {
     "name": "stdout",
     "output_type": "stream",
     "text": [
      "Train score 0.9998826403433133\n",
      "Validation score [0.93521211 0.92880912 0.90394184]\n",
      "Test score 0.912950498696722\n"
     ]
    }
   ],
   "source": [
    "train_score = reg.score(X_treino, Y_treino)\n",
    "val_score = cross_val_score(reg, X_treino, Y_treino, cv=3)\n",
    "test_score = reg.score(X_teste, Y_teste)\n",
    "print('Train score', train_score)\n",
    "print('Validation score', val_score)\n",
    "print('Test score', test_score)"
   ]
  },
  {
   "cell_type": "code",
   "execution_count": 72,
   "metadata": {},
   "outputs": [],
   "source": [
    "from sklearn.metrics import mean_absolute_error,mean_squared_error"
   ]
  },
  {
   "cell_type": "code",
   "execution_count": 75,
   "metadata": {},
   "outputs": [],
   "source": [
    "MAE  = mean_absolute_error(Y_teste,y_pred)\n",
    "RMSE = np.sqrt(mean_squared_error(Y_teste,y_pred))"
   ]
  },
  {
   "cell_type": "code",
   "execution_count": 78,
   "metadata": {},
   "outputs": [
    {
     "name": "stdout",
     "output_type": "stream",
     "text": [
      "MAE = 36.5067\n",
      "RMSE = 79.4721\n"
     ]
    }
   ],
   "source": [
    "print('MAE = {:0.4f}'.format(MAE))\n",
    "print('RMSE = {:0.4f}'.format(RMSE))"
   ]
  },
  {
   "cell_type": "code",
   "execution_count": null,
   "metadata": {},
   "outputs": [],
   "source": [
    "# import pickle\n",
    "# # now you can save it to a file\n",
    "# with open('xgboost_regression.pkl', 'wb') as f:\n",
    "#     pickle.dump(reg, f)\n"
   ]
  },
  {
   "cell_type": "code",
   "execution_count": null,
   "metadata": {},
   "outputs": [],
   "source": []
  }
 ],
 "metadata": {
  "kernelspec": {
   "display_name": "Python 3",
   "language": "python",
   "name": "python3"
  },
  "language_info": {
   "codemirror_mode": {
    "name": "ipython",
    "version": 3
   },
   "file_extension": ".py",
   "mimetype": "text/x-python",
   "name": "python",
   "nbconvert_exporter": "python",
   "pygments_lexer": "ipython3",
   "version": "3.8.3"
  }
 },
 "nbformat": 4,
 "nbformat_minor": 4
}
