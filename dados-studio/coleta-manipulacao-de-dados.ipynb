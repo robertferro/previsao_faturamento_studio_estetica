{
  "nbformat": 4,
  "nbformat_minor": 0,
  "metadata": {
    "kernelspec": {
      "display_name": "Python 3",
      "language": "python",
      "name": "python3"
    },
    "language_info": {
      "codemirror_mode": {
        "name": "ipython",
        "version": 3
      },
      "file_extension": ".py",
      "mimetype": "text/x-python",
      "name": "python",
      "nbconvert_exporter": "python",
      "pygments_lexer": "ipython3",
      "version": "3.8.3"
    },
    "colab": {
      "name": "coleta-manipulacao-de-dados.ipynb",
      "provenance": []
    }
  },
  "cells": [
    {
      "cell_type": "markdown",
      "metadata": {
        "id": "0qMuNdmA_mHd"
      },
      "source": [
        "## 1.Planejamento \n",
        "\n",
        " - Fazer a previsão da quantidade de procedimentos realizados e do faturamento, nos meses que duraram o isolamento social."
      ]
    },
    {
      "cell_type": "code",
      "metadata": {
        "id": "88U3OSTr_mHy"
      },
      "source": [
        "import pandas as pd\n",
        "import numpy as np\n",
        "import matplotlib.pyplot as plt\n",
        "import seaborn as sns"
      ],
      "execution_count": 4,
      "outputs": []
    },
    {
      "cell_type": "markdown",
      "metadata": {
        "id": "XOfVZK4q_mHz"
      },
      "source": [
        "## 2. Importando e tratando a base de dados"
      ]
    },
    {
      "cell_type": "markdown",
      "metadata": {
        "id": "q_Q7kp7V_mH1"
      },
      "source": [
        " - Importandos os dados do Studio de estética.\r\n",
        "\r\n"
      ]
    },
    {
      "cell_type": "code",
      "metadata": {
        "id": "6_l4YQnFuy5o"
      },
      "source": [
        "url='https://raw.githubusercontent.com/robertferro/studio-estetica/main/dados-studio/studio_biena_guedes_01.csv'"
      ],
      "execution_count": 5,
      "outputs": []
    },
    {
      "cell_type": "code",
      "metadata": {
        "id": "XYcrOPld_mH1"
      },
      "source": [
        "dados = pd.read_csv(url, sep=';', decimal=\",\")"
      ],
      "execution_count": 6,
      "outputs": []
    },
    {
      "cell_type": "code",
      "metadata": {
        "colab": {
          "base_uri": "https://localhost:8080/",
          "height": 224
        },
        "id": "EGCPWrMWADEa",
        "outputId": "c6ca6de6-757a-453a-e47e-b359ef0202ec"
      },
      "source": [
        "dados.head()"
      ],
      "execution_count": 7,
      "outputs": [
        {
          "output_type": "execute_result",
          "data": {
            "text/html": [
              "<div>\n",
              "<style scoped>\n",
              "    .dataframe tbody tr th:only-of-type {\n",
              "        vertical-align: middle;\n",
              "    }\n",
              "\n",
              "    .dataframe tbody tr th {\n",
              "        vertical-align: top;\n",
              "    }\n",
              "\n",
              "    .dataframe thead th {\n",
              "        text-align: right;\n",
              "    }\n",
              "</style>\n",
              "<table border=\"1\" class=\"dataframe\">\n",
              "  <thead>\n",
              "    <tr style=\"text-align: right;\">\n",
              "      <th></th>\n",
              "      <th>data_atendimento</th>\n",
              "      <th>design_de_sobrancelhas</th>\n",
              "      <th>design_coloracao</th>\n",
              "      <th>design_coloracao_buco</th>\n",
              "      <th>buco</th>\n",
              "      <th>brown_lamination</th>\n",
              "      <th>micropigmentacao</th>\n",
              "      <th>extensao_de_cilios</th>\n",
              "      <th>lash_lifting</th>\n",
              "      <th>limpeza_de_pele</th>\n",
              "      <th>microagulhamento</th>\n",
              "      <th>peeling_quimico</th>\n",
              "      <th>massagem_relaxante</th>\n",
              "      <th>pacote_massagem_5</th>\n",
              "      <th>drenagem_linfatica</th>\n",
              "      <th>striort</th>\n",
              "      <th>qtde_clientes</th>\n",
              "      <th>faturamento</th>\n",
              "    </tr>\n",
              "  </thead>\n",
              "  <tbody>\n",
              "    <tr>\n",
              "      <th>0</th>\n",
              "      <td>NaN</td>\n",
              "      <td>30.0</td>\n",
              "      <td>40.0</td>\n",
              "      <td>50.0</td>\n",
              "      <td>10.0</td>\n",
              "      <td>80.0</td>\n",
              "      <td>450.0</td>\n",
              "      <td>100.0</td>\n",
              "      <td>80.0</td>\n",
              "      <td>80.0</td>\n",
              "      <td>250.0</td>\n",
              "      <td>150.0</td>\n",
              "      <td>80.0</td>\n",
              "      <td>250.0</td>\n",
              "      <td>80.0</td>\n",
              "      <td>150.0</td>\n",
              "      <td>0.0</td>\n",
              "      <td>NaN</td>\n",
              "    </tr>\n",
              "    <tr>\n",
              "      <th>1</th>\n",
              "      <td>23/12/2018</td>\n",
              "      <td>0.0</td>\n",
              "      <td>0.0</td>\n",
              "      <td>7.0</td>\n",
              "      <td>0.0</td>\n",
              "      <td>0.0</td>\n",
              "      <td>0.0</td>\n",
              "      <td>0.0</td>\n",
              "      <td>0.0</td>\n",
              "      <td>1.0</td>\n",
              "      <td>0.0</td>\n",
              "      <td>0.0</td>\n",
              "      <td>0.0</td>\n",
              "      <td>0.0</td>\n",
              "      <td>0.0</td>\n",
              "      <td>0.0</td>\n",
              "      <td>7.0</td>\n",
              "      <td>430.0</td>\n",
              "    </tr>\n",
              "    <tr>\n",
              "      <th>2</th>\n",
              "      <td>24/12/2018</td>\n",
              "      <td>0.0</td>\n",
              "      <td>0.0</td>\n",
              "      <td>0.0</td>\n",
              "      <td>0.0</td>\n",
              "      <td>0.0</td>\n",
              "      <td>0.0</td>\n",
              "      <td>0.0</td>\n",
              "      <td>0.0</td>\n",
              "      <td>0.0</td>\n",
              "      <td>0.0</td>\n",
              "      <td>0.0</td>\n",
              "      <td>0.0</td>\n",
              "      <td>0.0</td>\n",
              "      <td>0.0</td>\n",
              "      <td>0.0</td>\n",
              "      <td>0.0</td>\n",
              "      <td>0.0</td>\n",
              "    </tr>\n",
              "    <tr>\n",
              "      <th>3</th>\n",
              "      <td>25/12/2018</td>\n",
              "      <td>0.0</td>\n",
              "      <td>0.0</td>\n",
              "      <td>0.0</td>\n",
              "      <td>0.0</td>\n",
              "      <td>0.0</td>\n",
              "      <td>0.0</td>\n",
              "      <td>0.0</td>\n",
              "      <td>0.0</td>\n",
              "      <td>0.0</td>\n",
              "      <td>0.0</td>\n",
              "      <td>0.0</td>\n",
              "      <td>0.0</td>\n",
              "      <td>0.0</td>\n",
              "      <td>0.0</td>\n",
              "      <td>0.0</td>\n",
              "      <td>0.0</td>\n",
              "      <td>0.0</td>\n",
              "    </tr>\n",
              "    <tr>\n",
              "      <th>4</th>\n",
              "      <td>26/12/2018</td>\n",
              "      <td>1.0</td>\n",
              "      <td>0.0</td>\n",
              "      <td>1.0</td>\n",
              "      <td>1.0</td>\n",
              "      <td>0.0</td>\n",
              "      <td>1.0</td>\n",
              "      <td>1.0</td>\n",
              "      <td>0.0</td>\n",
              "      <td>0.0</td>\n",
              "      <td>0.0</td>\n",
              "      <td>0.0</td>\n",
              "      <td>0.0</td>\n",
              "      <td>0.0</td>\n",
              "      <td>0.0</td>\n",
              "      <td>0.0</td>\n",
              "      <td>4.0</td>\n",
              "      <td>640.0</td>\n",
              "    </tr>\n",
              "  </tbody>\n",
              "</table>\n",
              "</div>"
            ],
            "text/plain": [
              "  data_atendimento  design_de_sobrancelhas  ...  qtde_clientes  faturamento\n",
              "0              NaN                    30.0  ...            0.0          NaN\n",
              "1       23/12/2018                     0.0  ...            7.0        430.0\n",
              "2       24/12/2018                     0.0  ...            0.0          0.0\n",
              "3       25/12/2018                     0.0  ...            0.0          0.0\n",
              "4       26/12/2018                     1.0  ...            4.0        640.0\n",
              "\n",
              "[5 rows x 18 columns]"
            ]
          },
          "metadata": {
            "tags": []
          },
          "execution_count": 7
        }
      ]
    },
    {
      "cell_type": "code",
      "metadata": {
        "id": "qr-lpJfp_mH2"
      },
      "source": [
        "# dados.loc[435:480,:]"
      ],
      "execution_count": 2,
      "outputs": []
    },
    {
      "cell_type": "markdown",
      "metadata": {
        "id": "Lphw7Pou_mH4"
      },
      "source": [
        " - Excluindo os valores nulos"
      ]
    },
    {
      "cell_type": "code",
      "metadata": {
        "id": "7pVURBif_mH5"
      },
      "source": [
        "dados=dados.dropna()"
      ],
      "execution_count": 8,
      "outputs": []
    },
    {
      "cell_type": "code",
      "metadata": {
        "id": "pVeUOUf04MfJ"
      },
      "source": [
        "# dados.loc[451:480,:]"
      ],
      "execution_count": 1,
      "outputs": []
    },
    {
      "cell_type": "markdown",
      "metadata": {
        "id": "FvuBgSvB_mH6"
      },
      "source": [
        " - Convertendo a coluna \"data_atendimento\" para o formato datetime"
      ]
    },
    {
      "cell_type": "code",
      "metadata": {
        "id": "zqFth8pL_mH6"
      },
      "source": [
        "# dados['data_atendimento'] = pd.to_datetime(dados['data_atendimento'], errors='coerce')"
      ],
      "execution_count": 8,
      "outputs": []
    },
    {
      "cell_type": "code",
      "metadata": {
        "id": "u3wFnfdu4YeG"
      },
      "source": [
        "# dados.loc[451:480,:]"
      ],
      "execution_count": 3,
      "outputs": []
    },
    {
      "cell_type": "markdown",
      "metadata": {
        "id": "fYJ8ENuj_mH7"
      },
      "source": [
        "## 3. EDA"
      ]
    },
    {
      "cell_type": "code",
      "metadata": {
        "id": "CvHX-C3v_mH8",
        "colab": {
          "base_uri": "https://localhost:8080/",
          "height": 507
        },
        "outputId": "e5a7cd08-d5f2-4664-f30b-c0e20b433d98"
      },
      "source": [
        "plt.figure(figsize=(12,6))\n",
        "sns.heatmap(dados.corr(), annot=True, center=0, cmap=\"YlGnBu\")"
      ],
      "execution_count": 9,
      "outputs": [
        {
          "output_type": "execute_result",
          "data": {
            "text/plain": [
              "<matplotlib.axes._subplots.AxesSubplot at 0x7f2203e520f0>"
            ]
          },
          "metadata": {
            "tags": []
          },
          "execution_count": 9
        },
        {
          "output_type": "display_data",
          "data": {
            "image/png": "[encoded data removed]",
            "text/plain": [
              "<Figure size 864x432 with 2 Axes>"
            ]
          },
          "metadata": {
            "tags": [],
            "needs_background": "light"
          }
        }
      ]
    },
    {
      "cell_type": "code",
      "metadata": {
        "id": "1GiSJBKJ_mH8",
        "colab": {
          "base_uri": "https://localhost:8080/",
          "height": 596
        },
        "outputId": "dba64afe-5ee8-414e-c6ba-dbc551e4ec79"
      },
      "source": [
        "dados.corr()"
      ],
      "execution_count": 10,
      "outputs": [
        {
          "output_type": "execute_result",
          "data": {
            "text/html": [
              "<div>\n",
              "<style scoped>\n",
              "    .dataframe tbody tr th:only-of-type {\n",
              "        vertical-align: middle;\n",
              "    }\n",
              "\n",
              "    .dataframe tbody tr th {\n",
              "        vertical-align: top;\n",
              "    }\n",
              "\n",
              "    .dataframe thead th {\n",
              "        text-align: right;\n",
              "    }\n",
              "</style>\n",
              "<table border=\"1\" class=\"dataframe\">\n",
              "  <thead>\n",
              "    <tr style=\"text-align: right;\">\n",
              "      <th></th>\n",
              "      <th>design_de_sobrancelhas</th>\n",
              "      <th>design_coloracao</th>\n",
              "      <th>design_coloracao_buco</th>\n",
              "      <th>buco</th>\n",
              "      <th>brown_lamination</th>\n",
              "      <th>micropigmentacao</th>\n",
              "      <th>extensao_de_cilios</th>\n",
              "      <th>lash_lifting</th>\n",
              "      <th>limpeza_de_pele</th>\n",
              "      <th>microagulhamento</th>\n",
              "      <th>peeling_quimico</th>\n",
              "      <th>massagem_relaxante</th>\n",
              "      <th>pacote_massagem_5</th>\n",
              "      <th>drenagem_linfatica</th>\n",
              "      <th>striort</th>\n",
              "      <th>qtde_clientes</th>\n",
              "      <th>faturamento</th>\n",
              "    </tr>\n",
              "  </thead>\n",
              "  <tbody>\n",
              "    <tr>\n",
              "      <th>design_de_sobrancelhas</th>\n",
              "      <td>1.000000</td>\n",
              "      <td>0.158269</td>\n",
              "      <td>0.079134</td>\n",
              "      <td>0.697231</td>\n",
              "      <td>-0.017426</td>\n",
              "      <td>0.093136</td>\n",
              "      <td>0.123467</td>\n",
              "      <td>0.226856</td>\n",
              "      <td>0.332340</td>\n",
              "      <td>0.039328</td>\n",
              "      <td>0.015729</td>\n",
              "      <td>0.110830</td>\n",
              "      <td>0.093231</td>\n",
              "      <td>0.060230</td>\n",
              "      <td>0.171040</td>\n",
              "      <td>0.484990</td>\n",
              "      <td>0.427942</td>\n",
              "    </tr>\n",
              "    <tr>\n",
              "      <th>design_coloracao</th>\n",
              "      <td>0.158269</td>\n",
              "      <td>1.000000</td>\n",
              "      <td>0.004931</td>\n",
              "      <td>0.116038</td>\n",
              "      <td>-0.014736</td>\n",
              "      <td>0.054388</td>\n",
              "      <td>0.026701</td>\n",
              "      <td>0.102628</td>\n",
              "      <td>0.167688</td>\n",
              "      <td>0.088345</td>\n",
              "      <td>0.048645</td>\n",
              "      <td>0.052100</td>\n",
              "      <td>0.060799</td>\n",
              "      <td>-0.016383</td>\n",
              "      <td>-0.010180</td>\n",
              "      <td>0.332448</td>\n",
              "      <td>0.266413</td>\n",
              "    </tr>\n",
              "    <tr>\n",
              "      <th>design_coloracao_buco</th>\n",
              "      <td>0.079134</td>\n",
              "      <td>0.004931</td>\n",
              "      <td>1.000000</td>\n",
              "      <td>0.051742</td>\n",
              "      <td>0.005650</td>\n",
              "      <td>-0.003513</td>\n",
              "      <td>-0.008468</td>\n",
              "      <td>-0.006259</td>\n",
              "      <td>0.157172</td>\n",
              "      <td>0.006064</td>\n",
              "      <td>-0.026352</td>\n",
              "      <td>0.074131</td>\n",
              "      <td>0.073648</td>\n",
              "      <td>-0.031162</td>\n",
              "      <td>0.006076</td>\n",
              "      <td>0.782882</td>\n",
              "      <td>0.545563</td>\n",
              "    </tr>\n",
              "    <tr>\n",
              "      <th>buco</th>\n",
              "      <td>0.697231</td>\n",
              "      <td>0.116038</td>\n",
              "      <td>0.051742</td>\n",
              "      <td>1.000000</td>\n",
              "      <td>-0.013763</td>\n",
              "      <td>0.062238</td>\n",
              "      <td>0.097311</td>\n",
              "      <td>0.075554</td>\n",
              "      <td>0.311104</td>\n",
              "      <td>-0.043844</td>\n",
              "      <td>0.053693</td>\n",
              "      <td>0.130947</td>\n",
              "      <td>0.024833</td>\n",
              "      <td>0.102485</td>\n",
              "      <td>0.123251</td>\n",
              "      <td>0.366107</td>\n",
              "      <td>0.315975</td>\n",
              "    </tr>\n",
              "    <tr>\n",
              "      <th>brown_lamination</th>\n",
              "      <td>-0.017426</td>\n",
              "      <td>-0.014736</td>\n",
              "      <td>0.005650</td>\n",
              "      <td>-0.013763</td>\n",
              "      <td>1.000000</td>\n",
              "      <td>-0.006453</td>\n",
              "      <td>-0.007348</td>\n",
              "      <td>-0.005948</td>\n",
              "      <td>-0.018998</td>\n",
              "      <td>-0.005897</td>\n",
              "      <td>-0.006251</td>\n",
              "      <td>-0.011091</td>\n",
              "      <td>-0.009579</td>\n",
              "      <td>-0.004210</td>\n",
              "      <td>-0.003376</td>\n",
              "      <td>0.001417</td>\n",
              "      <td>-0.004667</td>\n",
              "    </tr>\n",
              "    <tr>\n",
              "      <th>micropigmentacao</th>\n",
              "      <td>0.093136</td>\n",
              "      <td>0.054388</td>\n",
              "      <td>-0.003513</td>\n",
              "      <td>0.062238</td>\n",
              "      <td>-0.006453</td>\n",
              "      <td>1.000000</td>\n",
              "      <td>0.078921</td>\n",
              "      <td>0.013342</td>\n",
              "      <td>0.084960</td>\n",
              "      <td>-0.027705</td>\n",
              "      <td>-0.029366</td>\n",
              "      <td>0.115453</td>\n",
              "      <td>-0.001946</td>\n",
              "      <td>0.101586</td>\n",
              "      <td>0.068114</td>\n",
              "      <td>0.134255</td>\n",
              "      <td>0.444131</td>\n",
              "    </tr>\n",
              "    <tr>\n",
              "      <th>extensao_de_cilios</th>\n",
              "      <td>0.123467</td>\n",
              "      <td>0.026701</td>\n",
              "      <td>-0.008468</td>\n",
              "      <td>0.097311</td>\n",
              "      <td>-0.007348</td>\n",
              "      <td>0.078921</td>\n",
              "      <td>1.000000</td>\n",
              "      <td>-0.031822</td>\n",
              "      <td>0.117722</td>\n",
              "      <td>-0.031547</td>\n",
              "      <td>-0.033438</td>\n",
              "      <td>-0.040919</td>\n",
              "      <td>0.055459</td>\n",
              "      <td>0.009645</td>\n",
              "      <td>-0.018062</td>\n",
              "      <td>0.124751</td>\n",
              "      <td>0.178389</td>\n",
              "    </tr>\n",
              "    <tr>\n",
              "      <th>lash_lifting</th>\n",
              "      <td>0.226856</td>\n",
              "      <td>0.102628</td>\n",
              "      <td>-0.006259</td>\n",
              "      <td>0.075554</td>\n",
              "      <td>-0.005948</td>\n",
              "      <td>0.013342</td>\n",
              "      <td>-0.031822</td>\n",
              "      <td>1.000000</td>\n",
              "      <td>-0.011827</td>\n",
              "      <td>0.070672</td>\n",
              "      <td>0.009644</td>\n",
              "      <td>0.032392</td>\n",
              "      <td>0.053841</td>\n",
              "      <td>-0.018230</td>\n",
              "      <td>-0.014621</td>\n",
              "      <td>0.096112</td>\n",
              "      <td>0.143533</td>\n",
              "    </tr>\n",
              "    <tr>\n",
              "      <th>limpeza_de_pele</th>\n",
              "      <td>0.332340</td>\n",
              "      <td>0.167688</td>\n",
              "      <td>0.157172</td>\n",
              "      <td>0.311104</td>\n",
              "      <td>-0.018998</td>\n",
              "      <td>0.084960</td>\n",
              "      <td>0.117722</td>\n",
              "      <td>-0.011827</td>\n",
              "      <td>1.000000</td>\n",
              "      <td>0.029658</td>\n",
              "      <td>0.121501</td>\n",
              "      <td>0.147586</td>\n",
              "      <td>0.052150</td>\n",
              "      <td>-0.017623</td>\n",
              "      <td>0.067922</td>\n",
              "      <td>0.510410</td>\n",
              "      <td>0.544136</td>\n",
              "    </tr>\n",
              "    <tr>\n",
              "      <th>microagulhamento</th>\n",
              "      <td>0.039328</td>\n",
              "      <td>0.088345</td>\n",
              "      <td>0.006064</td>\n",
              "      <td>-0.043844</td>\n",
              "      <td>-0.005897</td>\n",
              "      <td>-0.027705</td>\n",
              "      <td>-0.031547</td>\n",
              "      <td>0.070672</td>\n",
              "      <td>0.029658</td>\n",
              "      <td>1.000000</td>\n",
              "      <td>0.016637</td>\n",
              "      <td>0.011904</td>\n",
              "      <td>-0.003499</td>\n",
              "      <td>0.006880</td>\n",
              "      <td>-0.014495</td>\n",
              "      <td>0.099309</td>\n",
              "      <td>0.198750</td>\n",
              "    </tr>\n",
              "    <tr>\n",
              "      <th>peeling_quimico</th>\n",
              "      <td>0.015729</td>\n",
              "      <td>0.048645</td>\n",
              "      <td>-0.026352</td>\n",
              "      <td>0.053693</td>\n",
              "      <td>-0.006251</td>\n",
              "      <td>-0.029366</td>\n",
              "      <td>-0.033438</td>\n",
              "      <td>0.009644</td>\n",
              "      <td>0.121501</td>\n",
              "      <td>0.016637</td>\n",
              "      <td>1.000000</td>\n",
              "      <td>0.058544</td>\n",
              "      <td>-0.014876</td>\n",
              "      <td>-0.019156</td>\n",
              "      <td>-0.015364</td>\n",
              "      <td>0.082676</td>\n",
              "      <td>0.164476</td>\n",
              "    </tr>\n",
              "    <tr>\n",
              "      <th>massagem_relaxante</th>\n",
              "      <td>0.110830</td>\n",
              "      <td>0.052100</td>\n",
              "      <td>0.074131</td>\n",
              "      <td>0.130947</td>\n",
              "      <td>-0.011091</td>\n",
              "      <td>0.115453</td>\n",
              "      <td>-0.040919</td>\n",
              "      <td>0.032392</td>\n",
              "      <td>0.147586</td>\n",
              "      <td>0.011904</td>\n",
              "      <td>0.058544</td>\n",
              "      <td>1.000000</td>\n",
              "      <td>0.013862</td>\n",
              "      <td>0.035536</td>\n",
              "      <td>-0.027261</td>\n",
              "      <td>0.243135</td>\n",
              "      <td>0.296115</td>\n",
              "    </tr>\n",
              "    <tr>\n",
              "      <th>pacote_massagem_5</th>\n",
              "      <td>0.093231</td>\n",
              "      <td>0.060799</td>\n",
              "      <td>0.073648</td>\n",
              "      <td>0.024833</td>\n",
              "      <td>-0.009579</td>\n",
              "      <td>-0.001946</td>\n",
              "      <td>0.055459</td>\n",
              "      <td>0.053841</td>\n",
              "      <td>0.052150</td>\n",
              "      <td>-0.003499</td>\n",
              "      <td>-0.014876</td>\n",
              "      <td>0.013862</td>\n",
              "      <td>1.000000</td>\n",
              "      <td>-0.023864</td>\n",
              "      <td>-0.023546</td>\n",
              "      <td>0.212945</td>\n",
              "      <td>0.482692</td>\n",
              "    </tr>\n",
              "    <tr>\n",
              "      <th>drenagem_linfatica</th>\n",
              "      <td>0.060230</td>\n",
              "      <td>-0.016383</td>\n",
              "      <td>-0.031162</td>\n",
              "      <td>0.102485</td>\n",
              "      <td>-0.004210</td>\n",
              "      <td>0.101586</td>\n",
              "      <td>0.009645</td>\n",
              "      <td>-0.018230</td>\n",
              "      <td>-0.017623</td>\n",
              "      <td>0.006880</td>\n",
              "      <td>-0.019156</td>\n",
              "      <td>0.035536</td>\n",
              "      <td>-0.023864</td>\n",
              "      <td>1.000000</td>\n",
              "      <td>-0.010347</td>\n",
              "      <td>0.033999</td>\n",
              "      <td>0.059573</td>\n",
              "    </tr>\n",
              "    <tr>\n",
              "      <th>striort</th>\n",
              "      <td>0.171040</td>\n",
              "      <td>-0.010180</td>\n",
              "      <td>0.006076</td>\n",
              "      <td>0.123251</td>\n",
              "      <td>-0.003376</td>\n",
              "      <td>0.068114</td>\n",
              "      <td>-0.018062</td>\n",
              "      <td>-0.014621</td>\n",
              "      <td>0.067922</td>\n",
              "      <td>-0.014495</td>\n",
              "      <td>-0.015364</td>\n",
              "      <td>-0.027261</td>\n",
              "      <td>-0.023546</td>\n",
              "      <td>-0.010347</td>\n",
              "      <td>1.000000</td>\n",
              "      <td>0.072108</td>\n",
              "      <td>0.113108</td>\n",
              "    </tr>\n",
              "    <tr>\n",
              "      <th>qtde_clientes</th>\n",
              "      <td>0.484990</td>\n",
              "      <td>0.332448</td>\n",
              "      <td>0.782882</td>\n",
              "      <td>0.366107</td>\n",
              "      <td>0.001417</td>\n",
              "      <td>0.134255</td>\n",
              "      <td>0.124751</td>\n",
              "      <td>0.096112</td>\n",
              "      <td>0.510410</td>\n",
              "      <td>0.099309</td>\n",
              "      <td>0.082676</td>\n",
              "      <td>0.243135</td>\n",
              "      <td>0.212945</td>\n",
              "      <td>0.033999</td>\n",
              "      <td>0.072108</td>\n",
              "      <td>1.000000</td>\n",
              "      <td>0.835785</td>\n",
              "    </tr>\n",
              "    <tr>\n",
              "      <th>faturamento</th>\n",
              "      <td>0.427942</td>\n",
              "      <td>0.266413</td>\n",
              "      <td>0.545563</td>\n",
              "      <td>0.315975</td>\n",
              "      <td>-0.004667</td>\n",
              "      <td>0.444131</td>\n",
              "      <td>0.178389</td>\n",
              "      <td>0.143533</td>\n",
              "      <td>0.544136</td>\n",
              "      <td>0.198750</td>\n",
              "      <td>0.164476</td>\n",
              "      <td>0.296115</td>\n",
              "      <td>0.482692</td>\n",
              "      <td>0.059573</td>\n",
              "      <td>0.113108</td>\n",
              "      <td>0.835785</td>\n",
              "      <td>1.000000</td>\n",
              "    </tr>\n",
              "  </tbody>\n",
              "</table>\n",
              "</div>"
            ],
            "text/plain": [
              "                        design_de_sobrancelhas  ...  faturamento\n",
              "design_de_sobrancelhas                1.000000  ...     0.427942\n",
              "design_coloracao                      0.158269  ...     0.266413\n",
              "design_coloracao_buco                 0.079134  ...     0.545563\n",
              "buco                                  0.697231  ...     0.315975\n",
              "brown_lamination                     -0.017426  ...    -0.004667\n",
              "micropigmentacao                      0.093136  ...     0.444131\n",
              "extensao_de_cilios                    0.123467  ...     0.178389\n",
              "lash_lifting                          0.226856  ...     0.143533\n",
              "limpeza_de_pele                       0.332340  ...     0.544136\n",
              "microagulhamento                      0.039328  ...     0.198750\n",
              "peeling_quimico                       0.015729  ...     0.164476\n",
              "massagem_relaxante                    0.110830  ...     0.296115\n",
              "pacote_massagem_5                     0.093231  ...     0.482692\n",
              "drenagem_linfatica                    0.060230  ...     0.059573\n",
              "striort                               0.171040  ...     0.113108\n",
              "qtde_clientes                         0.484990  ...     0.835785\n",
              "faturamento                           0.427942  ...     1.000000\n",
              "\n",
              "[17 rows x 17 columns]"
            ]
          },
          "metadata": {
            "tags": []
          },
          "execution_count": 10
        }
      ]
    },
    {
      "cell_type": "markdown",
      "metadata": {
        "id": "6EwmT4AQ_mH9"
      },
      "source": [
        " - Agrupando os dados por mês"
      ]
    },
    {
      "cell_type": "code",
      "metadata": {
        "id": "ExuuUfyf_mH9"
      },
      "source": [
        "# dados = dados.set_index('data_atendimento')\n",
        "# dados_por_mes=dados.resample('M').sum()\n",
        "# dados_por_mes=dados.resample('M', on='data_atendimento').sum()"
      ],
      "execution_count": 11,
      "outputs": []
    },
    {
      "cell_type": "code",
      "metadata": {
        "id": "hccR9ryh_mH-"
      },
      "source": [
        "# dados.loc[dados['data_atendimento'] ==\"01/04/2020\"]"
      ],
      "execution_count": 12,
      "outputs": []
    },
    {
      "cell_type": "code",
      "metadata": {
        "id": "fQ1ANlWs0_sd"
      },
      "source": [
        "# erro no arquivo do excel, quandoa coluna data_atendimento e converida para datetime\r\n",
        "# algumas datas se desorganizam o que afeta os valores  \r\n",
        "# \r\n"
      ],
      "execution_count": 13,
      "outputs": []
    },
    {
      "cell_type": "markdown",
      "metadata": {
        "id": "ELH5LCnb_mH-"
      },
      "source": [
        " ## 4. Machine learning\n",
        " \n",
        " \n",
        "  \n",
        "   -  Definir X_train e X_test : \n",
        "       - X_train são os dados antes da pandemia \n",
        "       - X_test são os dados após a pandemia\n",
        "       - x prede sao os dados durante a pandemia "
      ]
    },
    {
      "cell_type": "markdown",
      "metadata": {
        "id": "ZWBJiXD0_mH_"
      },
      "source": [
        " - Definindo as amostras de treino e teste"
      ]
    },
    {
      "cell_type": "code",
      "metadata": {
        "id": "ZpuPa2KV_mIA"
      },
      "source": [
        "from sklearn.model_selection import train_test_split"
      ],
      "execution_count": 14,
      "outputs": []
    },
    {
      "cell_type": "code",
      "metadata": {
        "id": "k8jpXxI__mIA"
      },
      "source": [
        "train, test= train_test_split(dados, test_size=0.25 , random_state=123)"
      ],
      "execution_count": 15,
      "outputs": []
    },
    {
      "cell_type": "code",
      "metadata": {
        "id": "M_ARkL-0_mIA",
        "colab": {
          "base_uri": "https://localhost:8080/"
        },
        "outputId": "3d5641e6-2574-4038-9c7d-5d05bb780a1c"
      },
      "source": [
        "train.info()"
      ],
      "execution_count": 16,
      "outputs": [
        {
          "output_type": "stream",
          "text": [
            "<class 'pandas.core.frame.DataFrame'>\n",
            "Int64Index: 546 entries, 715 to 511\n",
            "Data columns (total 18 columns):\n",
            " #   Column                  Non-Null Count  Dtype  \n",
            "---  ------                  --------------  -----  \n",
            " 0   data_atendimento        546 non-null    object \n",
            " 1   design_de_sobrancelhas  546 non-null    float64\n",
            " 2   design_coloracao        546 non-null    float64\n",
            " 3   design_coloracao_buco   546 non-null    float64\n",
            " 4   buco                    546 non-null    float64\n",
            " 5   brown_lamination        546 non-null    float64\n",
            " 6   micropigmentacao        546 non-null    float64\n",
            " 7   extensao_de_cilios      546 non-null    float64\n",
            " 8   lash_lifting            546 non-null    float64\n",
            " 9   limpeza_de_pele         546 non-null    float64\n",
            " 10  microagulhamento        546 non-null    float64\n",
            " 11  peeling_quimico         546 non-null    float64\n",
            " 12  massagem_relaxante      546 non-null    float64\n",
            " 13  pacote_massagem_5       546 non-null    float64\n",
            " 14  drenagem_linfatica      546 non-null    float64\n",
            " 15  striort                 546 non-null    float64\n",
            " 16  qtde_clientes           546 non-null    float64\n",
            " 17  faturamento             546 non-null    float64\n",
            "dtypes: float64(17), object(1)\n",
            "memory usage: 81.0+ KB\n"
          ],
          "name": "stdout"
        }
      ]
    },
    {
      "cell_type": "code",
      "metadata": {
        "id": "zB4UeoyG_mIB",
        "colab": {
          "base_uri": "https://localhost:8080/",
          "height": 439
        },
        "outputId": "fbdfa80d-ab55-4c1e-a075-db426d8e0f8e"
      },
      "source": [
        "train"
      ],
      "execution_count": 17,
      "outputs": [
        {
          "output_type": "execute_result",
          "data": {
            "text/html": [
              "<div>\n",
              "<style scoped>\n",
              "    .dataframe tbody tr th:only-of-type {\n",
              "        vertical-align: middle;\n",
              "    }\n",
              "\n",
              "    .dataframe tbody tr th {\n",
              "        vertical-align: top;\n",
              "    }\n",
              "\n",
              "    .dataframe thead th {\n",
              "        text-align: right;\n",
              "    }\n",
              "</style>\n",
              "<table border=\"1\" class=\"dataframe\">\n",
              "  <thead>\n",
              "    <tr style=\"text-align: right;\">\n",
              "      <th></th>\n",
              "      <th>data_atendimento</th>\n",
              "      <th>design_de_sobrancelhas</th>\n",
              "      <th>design_coloracao</th>\n",
              "      <th>design_coloracao_buco</th>\n",
              "      <th>buco</th>\n",
              "      <th>brown_lamination</th>\n",
              "      <th>micropigmentacao</th>\n",
              "      <th>extensao_de_cilios</th>\n",
              "      <th>lash_lifting</th>\n",
              "      <th>limpeza_de_pele</th>\n",
              "      <th>microagulhamento</th>\n",
              "      <th>peeling_quimico</th>\n",
              "      <th>massagem_relaxante</th>\n",
              "      <th>pacote_massagem_5</th>\n",
              "      <th>drenagem_linfatica</th>\n",
              "      <th>striort</th>\n",
              "      <th>qtde_clientes</th>\n",
              "      <th>faturamento</th>\n",
              "    </tr>\n",
              "  </thead>\n",
              "  <tbody>\n",
              "    <tr>\n",
              "      <th>715</th>\n",
              "      <td>06/12/2020</td>\n",
              "      <td>0.0</td>\n",
              "      <td>0.0</td>\n",
              "      <td>0.0</td>\n",
              "      <td>0.0</td>\n",
              "      <td>0.0</td>\n",
              "      <td>0.0</td>\n",
              "      <td>0.0</td>\n",
              "      <td>0.0</td>\n",
              "      <td>0.0</td>\n",
              "      <td>0.0</td>\n",
              "      <td>0.0</td>\n",
              "      <td>0.0</td>\n",
              "      <td>0.0</td>\n",
              "      <td>0.0</td>\n",
              "      <td>0.0</td>\n",
              "      <td>0.0</td>\n",
              "      <td>0.0</td>\n",
              "    </tr>\n",
              "    <tr>\n",
              "      <th>469</th>\n",
              "      <td>04/04/2020</td>\n",
              "      <td>0.0</td>\n",
              "      <td>0.0</td>\n",
              "      <td>0.0</td>\n",
              "      <td>0.0</td>\n",
              "      <td>0.0</td>\n",
              "      <td>0.0</td>\n",
              "      <td>0.0</td>\n",
              "      <td>0.0</td>\n",
              "      <td>0.0</td>\n",
              "      <td>0.0</td>\n",
              "      <td>0.0</td>\n",
              "      <td>0.0</td>\n",
              "      <td>0.0</td>\n",
              "      <td>0.0</td>\n",
              "      <td>0.0</td>\n",
              "      <td>0.0</td>\n",
              "      <td>0.0</td>\n",
              "    </tr>\n",
              "    <tr>\n",
              "      <th>727</th>\n",
              "      <td>18/12/2020</td>\n",
              "      <td>2.0</td>\n",
              "      <td>1.0</td>\n",
              "      <td>0.0</td>\n",
              "      <td>0.0</td>\n",
              "      <td>0.0</td>\n",
              "      <td>0.0</td>\n",
              "      <td>0.0</td>\n",
              "      <td>0.0</td>\n",
              "      <td>0.0</td>\n",
              "      <td>0.0</td>\n",
              "      <td>0.0</td>\n",
              "      <td>0.0</td>\n",
              "      <td>0.0</td>\n",
              "      <td>0.0</td>\n",
              "      <td>0.0</td>\n",
              "      <td>3.0</td>\n",
              "      <td>100.0</td>\n",
              "    </tr>\n",
              "    <tr>\n",
              "      <th>399</th>\n",
              "      <td>25/01/2020</td>\n",
              "      <td>0.0</td>\n",
              "      <td>0.0</td>\n",
              "      <td>0.0</td>\n",
              "      <td>0.0</td>\n",
              "      <td>0.0</td>\n",
              "      <td>0.0</td>\n",
              "      <td>0.0</td>\n",
              "      <td>0.0</td>\n",
              "      <td>0.0</td>\n",
              "      <td>0.0</td>\n",
              "      <td>0.0</td>\n",
              "      <td>0.0</td>\n",
              "      <td>0.0</td>\n",
              "      <td>0.0</td>\n",
              "      <td>0.0</td>\n",
              "      <td>0.0</td>\n",
              "      <td>0.0</td>\n",
              "    </tr>\n",
              "    <tr>\n",
              "      <th>67</th>\n",
              "      <td>27/02/2019</td>\n",
              "      <td>0.0</td>\n",
              "      <td>0.0</td>\n",
              "      <td>0.0</td>\n",
              "      <td>0.0</td>\n",
              "      <td>0.0</td>\n",
              "      <td>0.0</td>\n",
              "      <td>0.0</td>\n",
              "      <td>0.0</td>\n",
              "      <td>4.0</td>\n",
              "      <td>0.0</td>\n",
              "      <td>0.0</td>\n",
              "      <td>0.0</td>\n",
              "      <td>1.0</td>\n",
              "      <td>0.0</td>\n",
              "      <td>0.0</td>\n",
              "      <td>4.0</td>\n",
              "      <td>570.0</td>\n",
              "    </tr>\n",
              "    <tr>\n",
              "      <th>...</th>\n",
              "      <td>...</td>\n",
              "      <td>...</td>\n",
              "      <td>...</td>\n",
              "      <td>...</td>\n",
              "      <td>...</td>\n",
              "      <td>...</td>\n",
              "      <td>...</td>\n",
              "      <td>...</td>\n",
              "      <td>...</td>\n",
              "      <td>...</td>\n",
              "      <td>...</td>\n",
              "      <td>...</td>\n",
              "      <td>...</td>\n",
              "      <td>...</td>\n",
              "      <td>...</td>\n",
              "      <td>...</td>\n",
              "      <td>...</td>\n",
              "      <td>...</td>\n",
              "    </tr>\n",
              "    <tr>\n",
              "      <th>99</th>\n",
              "      <td>31/03/2019</td>\n",
              "      <td>0.0</td>\n",
              "      <td>0.0</td>\n",
              "      <td>0.0</td>\n",
              "      <td>0.0</td>\n",
              "      <td>0.0</td>\n",
              "      <td>0.0</td>\n",
              "      <td>0.0</td>\n",
              "      <td>0.0</td>\n",
              "      <td>0.0</td>\n",
              "      <td>0.0</td>\n",
              "      <td>0.0</td>\n",
              "      <td>0.0</td>\n",
              "      <td>0.0</td>\n",
              "      <td>0.0</td>\n",
              "      <td>0.0</td>\n",
              "      <td>0.0</td>\n",
              "      <td>0.0</td>\n",
              "    </tr>\n",
              "    <tr>\n",
              "      <th>323</th>\n",
              "      <td>10/11/2019</td>\n",
              "      <td>0.0</td>\n",
              "      <td>0.0</td>\n",
              "      <td>0.0</td>\n",
              "      <td>0.0</td>\n",
              "      <td>0.0</td>\n",
              "      <td>0.0</td>\n",
              "      <td>0.0</td>\n",
              "      <td>0.0</td>\n",
              "      <td>0.0</td>\n",
              "      <td>0.0</td>\n",
              "      <td>0.0</td>\n",
              "      <td>0.0</td>\n",
              "      <td>0.0</td>\n",
              "      <td>0.0</td>\n",
              "      <td>0.0</td>\n",
              "      <td>0.0</td>\n",
              "      <td>0.0</td>\n",
              "    </tr>\n",
              "    <tr>\n",
              "      <th>383</th>\n",
              "      <td>09/01/2020</td>\n",
              "      <td>0.0</td>\n",
              "      <td>0.0</td>\n",
              "      <td>1.0</td>\n",
              "      <td>0.0</td>\n",
              "      <td>0.0</td>\n",
              "      <td>0.0</td>\n",
              "      <td>0.0</td>\n",
              "      <td>0.0</td>\n",
              "      <td>0.0</td>\n",
              "      <td>0.0</td>\n",
              "      <td>0.0</td>\n",
              "      <td>0.0</td>\n",
              "      <td>2.0</td>\n",
              "      <td>0.0</td>\n",
              "      <td>0.0</td>\n",
              "      <td>3.0</td>\n",
              "      <td>550.0</td>\n",
              "    </tr>\n",
              "    <tr>\n",
              "      <th>366</th>\n",
              "      <td>23/12/2019</td>\n",
              "      <td>0.0</td>\n",
              "      <td>0.0</td>\n",
              "      <td>1.0</td>\n",
              "      <td>1.0</td>\n",
              "      <td>0.0</td>\n",
              "      <td>0.0</td>\n",
              "      <td>0.0</td>\n",
              "      <td>0.0</td>\n",
              "      <td>0.0</td>\n",
              "      <td>0.0</td>\n",
              "      <td>0.0</td>\n",
              "      <td>0.0</td>\n",
              "      <td>0.0</td>\n",
              "      <td>0.0</td>\n",
              "      <td>0.0</td>\n",
              "      <td>2.0</td>\n",
              "      <td>60.0</td>\n",
              "    </tr>\n",
              "    <tr>\n",
              "      <th>511</th>\n",
              "      <td>16/05/2020</td>\n",
              "      <td>0.0</td>\n",
              "      <td>0.0</td>\n",
              "      <td>0.0</td>\n",
              "      <td>0.0</td>\n",
              "      <td>0.0</td>\n",
              "      <td>0.0</td>\n",
              "      <td>0.0</td>\n",
              "      <td>0.0</td>\n",
              "      <td>0.0</td>\n",
              "      <td>0.0</td>\n",
              "      <td>0.0</td>\n",
              "      <td>0.0</td>\n",
              "      <td>0.0</td>\n",
              "      <td>0.0</td>\n",
              "      <td>0.0</td>\n",
              "      <td>0.0</td>\n",
              "      <td>0.0</td>\n",
              "    </tr>\n",
              "  </tbody>\n",
              "</table>\n",
              "<p>546 rows × 18 columns</p>\n",
              "</div>"
            ],
            "text/plain": [
              "    data_atendimento  design_de_sobrancelhas  ...  qtde_clientes  faturamento\n",
              "715       06/12/2020                     0.0  ...            0.0          0.0\n",
              "469       04/04/2020                     0.0  ...            0.0          0.0\n",
              "727       18/12/2020                     2.0  ...            3.0        100.0\n",
              "399       25/01/2020                     0.0  ...            0.0          0.0\n",
              "67        27/02/2019                     0.0  ...            4.0        570.0\n",
              "..               ...                     ...  ...            ...          ...\n",
              "99        31/03/2019                     0.0  ...            0.0          0.0\n",
              "323       10/11/2019                     0.0  ...            0.0          0.0\n",
              "383       09/01/2020                     0.0  ...            3.0        550.0\n",
              "366       23/12/2019                     0.0  ...            2.0         60.0\n",
              "511       16/05/2020                     0.0  ...            0.0          0.0\n",
              "\n",
              "[546 rows x 18 columns]"
            ]
          },
          "metadata": {
            "tags": []
          },
          "execution_count": 17
        }
      ]
    },
    {
      "cell_type": "code",
      "metadata": {
        "id": "dDlf1Yxg_mIB",
        "colab": {
          "base_uri": "https://localhost:8080/"
        },
        "outputId": "789a97ca-cded-437c-a639-56fba175e0b5"
      },
      "source": [
        "test.info()"
      ],
      "execution_count": 18,
      "outputs": [
        {
          "output_type": "stream",
          "text": [
            "<class 'pandas.core.frame.DataFrame'>\n",
            "Int64Index: 183 entries, 231 to 103\n",
            "Data columns (total 18 columns):\n",
            " #   Column                  Non-Null Count  Dtype  \n",
            "---  ------                  --------------  -----  \n",
            " 0   data_atendimento        183 non-null    object \n",
            " 1   design_de_sobrancelhas  183 non-null    float64\n",
            " 2   design_coloracao        183 non-null    float64\n",
            " 3   design_coloracao_buco   183 non-null    float64\n",
            " 4   buco                    183 non-null    float64\n",
            " 5   brown_lamination        183 non-null    float64\n",
            " 6   micropigmentacao        183 non-null    float64\n",
            " 7   extensao_de_cilios      183 non-null    float64\n",
            " 8   lash_lifting            183 non-null    float64\n",
            " 9   limpeza_de_pele         183 non-null    float64\n",
            " 10  microagulhamento        183 non-null    float64\n",
            " 11  peeling_quimico         183 non-null    float64\n",
            " 12  massagem_relaxante      183 non-null    float64\n",
            " 13  pacote_massagem_5       183 non-null    float64\n",
            " 14  drenagem_linfatica      183 non-null    float64\n",
            " 15  striort                 183 non-null    float64\n",
            " 16  qtde_clientes           183 non-null    float64\n",
            " 17  faturamento             183 non-null    float64\n",
            "dtypes: float64(17), object(1)\n",
            "memory usage: 27.2+ KB\n"
          ],
          "name": "stdout"
        }
      ]
    },
    {
      "cell_type": "code",
      "metadata": {
        "id": "LtdfOR3o_mIC",
        "colab": {
          "base_uri": "https://localhost:8080/",
          "height": 439
        },
        "outputId": "e7537a47-63b1-4dc2-d759-7af02633fbda"
      },
      "source": [
        "test"
      ],
      "execution_count": 19,
      "outputs": [
        {
          "output_type": "execute_result",
          "data": {
            "text/html": [
              "<div>\n",
              "<style scoped>\n",
              "    .dataframe tbody tr th:only-of-type {\n",
              "        vertical-align: middle;\n",
              "    }\n",
              "\n",
              "    .dataframe tbody tr th {\n",
              "        vertical-align: top;\n",
              "    }\n",
              "\n",
              "    .dataframe thead th {\n",
              "        text-align: right;\n",
              "    }\n",
              "</style>\n",
              "<table border=\"1\" class=\"dataframe\">\n",
              "  <thead>\n",
              "    <tr style=\"text-align: right;\">\n",
              "      <th></th>\n",
              "      <th>data_atendimento</th>\n",
              "      <th>design_de_sobrancelhas</th>\n",
              "      <th>design_coloracao</th>\n",
              "      <th>design_coloracao_buco</th>\n",
              "      <th>buco</th>\n",
              "      <th>brown_lamination</th>\n",
              "      <th>micropigmentacao</th>\n",
              "      <th>extensao_de_cilios</th>\n",
              "      <th>lash_lifting</th>\n",
              "      <th>limpeza_de_pele</th>\n",
              "      <th>microagulhamento</th>\n",
              "      <th>peeling_quimico</th>\n",
              "      <th>massagem_relaxante</th>\n",
              "      <th>pacote_massagem_5</th>\n",
              "      <th>drenagem_linfatica</th>\n",
              "      <th>striort</th>\n",
              "      <th>qtde_clientes</th>\n",
              "      <th>faturamento</th>\n",
              "    </tr>\n",
              "  </thead>\n",
              "  <tbody>\n",
              "    <tr>\n",
              "      <th>231</th>\n",
              "      <td>10/08/2019</td>\n",
              "      <td>0.0</td>\n",
              "      <td>0.0</td>\n",
              "      <td>0.0</td>\n",
              "      <td>0.0</td>\n",
              "      <td>0.0</td>\n",
              "      <td>0.0</td>\n",
              "      <td>0.0</td>\n",
              "      <td>0.0</td>\n",
              "      <td>0.0</td>\n",
              "      <td>0.0</td>\n",
              "      <td>0.0</td>\n",
              "      <td>0.0</td>\n",
              "      <td>0.0</td>\n",
              "      <td>0.0</td>\n",
              "      <td>0.0</td>\n",
              "      <td>0.0</td>\n",
              "      <td>0.0</td>\n",
              "    </tr>\n",
              "    <tr>\n",
              "      <th>346</th>\n",
              "      <td>03/12/2019</td>\n",
              "      <td>0.0</td>\n",
              "      <td>0.0</td>\n",
              "      <td>11.0</td>\n",
              "      <td>0.0</td>\n",
              "      <td>0.0</td>\n",
              "      <td>0.0</td>\n",
              "      <td>0.0</td>\n",
              "      <td>0.0</td>\n",
              "      <td>1.0</td>\n",
              "      <td>0.0</td>\n",
              "      <td>0.0</td>\n",
              "      <td>1.0</td>\n",
              "      <td>0.0</td>\n",
              "      <td>0.0</td>\n",
              "      <td>0.0</td>\n",
              "      <td>12.0</td>\n",
              "      <td>710.0</td>\n",
              "    </tr>\n",
              "    <tr>\n",
              "      <th>333</th>\n",
              "      <td>20/11/2019</td>\n",
              "      <td>0.0</td>\n",
              "      <td>0.0</td>\n",
              "      <td>0.0</td>\n",
              "      <td>0.0</td>\n",
              "      <td>0.0</td>\n",
              "      <td>0.0</td>\n",
              "      <td>0.0</td>\n",
              "      <td>0.0</td>\n",
              "      <td>0.0</td>\n",
              "      <td>0.0</td>\n",
              "      <td>0.0</td>\n",
              "      <td>0.0</td>\n",
              "      <td>0.0</td>\n",
              "      <td>0.0</td>\n",
              "      <td>0.0</td>\n",
              "      <td>0.0</td>\n",
              "      <td>0.0</td>\n",
              "    </tr>\n",
              "    <tr>\n",
              "      <th>193</th>\n",
              "      <td>03/07/2019</td>\n",
              "      <td>0.0</td>\n",
              "      <td>0.0</td>\n",
              "      <td>0.0</td>\n",
              "      <td>0.0</td>\n",
              "      <td>0.0</td>\n",
              "      <td>0.0</td>\n",
              "      <td>0.0</td>\n",
              "      <td>0.0</td>\n",
              "      <td>0.0</td>\n",
              "      <td>0.0</td>\n",
              "      <td>0.0</td>\n",
              "      <td>0.0</td>\n",
              "      <td>0.0</td>\n",
              "      <td>0.0</td>\n",
              "      <td>0.0</td>\n",
              "      <td>0.0</td>\n",
              "      <td>0.0</td>\n",
              "    </tr>\n",
              "    <tr>\n",
              "      <th>725</th>\n",
              "      <td>16/12/2020</td>\n",
              "      <td>3.0</td>\n",
              "      <td>1.0</td>\n",
              "      <td>1.0</td>\n",
              "      <td>2.0</td>\n",
              "      <td>0.0</td>\n",
              "      <td>0.0</td>\n",
              "      <td>0.0</td>\n",
              "      <td>0.0</td>\n",
              "      <td>0.0</td>\n",
              "      <td>0.0</td>\n",
              "      <td>0.0</td>\n",
              "      <td>0.0</td>\n",
              "      <td>0.0</td>\n",
              "      <td>0.0</td>\n",
              "      <td>0.0</td>\n",
              "      <td>4.0</td>\n",
              "      <td>200.0</td>\n",
              "    </tr>\n",
              "    <tr>\n",
              "      <th>...</th>\n",
              "      <td>...</td>\n",
              "      <td>...</td>\n",
              "      <td>...</td>\n",
              "      <td>...</td>\n",
              "      <td>...</td>\n",
              "      <td>...</td>\n",
              "      <td>...</td>\n",
              "      <td>...</td>\n",
              "      <td>...</td>\n",
              "      <td>...</td>\n",
              "      <td>...</td>\n",
              "      <td>...</td>\n",
              "      <td>...</td>\n",
              "      <td>...</td>\n",
              "      <td>...</td>\n",
              "      <td>...</td>\n",
              "      <td>...</td>\n",
              "      <td>...</td>\n",
              "    </tr>\n",
              "    <tr>\n",
              "      <th>328</th>\n",
              "      <td>15/11/2019</td>\n",
              "      <td>0.0</td>\n",
              "      <td>1.0</td>\n",
              "      <td>0.0</td>\n",
              "      <td>0.0</td>\n",
              "      <td>0.0</td>\n",
              "      <td>0.0</td>\n",
              "      <td>0.0</td>\n",
              "      <td>0.0</td>\n",
              "      <td>3.0</td>\n",
              "      <td>0.0</td>\n",
              "      <td>1.0</td>\n",
              "      <td>0.0</td>\n",
              "      <td>0.0</td>\n",
              "      <td>0.0</td>\n",
              "      <td>0.0</td>\n",
              "      <td>4.0</td>\n",
              "      <td>430.0</td>\n",
              "    </tr>\n",
              "    <tr>\n",
              "      <th>530</th>\n",
              "      <td>04/06/2020</td>\n",
              "      <td>0.0</td>\n",
              "      <td>0.0</td>\n",
              "      <td>0.0</td>\n",
              "      <td>0.0</td>\n",
              "      <td>0.0</td>\n",
              "      <td>0.0</td>\n",
              "      <td>0.0</td>\n",
              "      <td>0.0</td>\n",
              "      <td>0.0</td>\n",
              "      <td>0.0</td>\n",
              "      <td>0.0</td>\n",
              "      <td>0.0</td>\n",
              "      <td>0.0</td>\n",
              "      <td>0.0</td>\n",
              "      <td>0.0</td>\n",
              "      <td>0.0</td>\n",
              "      <td>0.0</td>\n",
              "    </tr>\n",
              "    <tr>\n",
              "      <th>123</th>\n",
              "      <td>24/04/2019</td>\n",
              "      <td>0.0</td>\n",
              "      <td>0.0</td>\n",
              "      <td>1.0</td>\n",
              "      <td>0.0</td>\n",
              "      <td>0.0</td>\n",
              "      <td>0.0</td>\n",
              "      <td>0.0</td>\n",
              "      <td>0.0</td>\n",
              "      <td>1.0</td>\n",
              "      <td>0.0</td>\n",
              "      <td>0.0</td>\n",
              "      <td>0.0</td>\n",
              "      <td>0.0</td>\n",
              "      <td>0.0</td>\n",
              "      <td>0.0</td>\n",
              "      <td>2.0</td>\n",
              "      <td>130.0</td>\n",
              "    </tr>\n",
              "    <tr>\n",
              "      <th>41</th>\n",
              "      <td>01/02/2019</td>\n",
              "      <td>0.0</td>\n",
              "      <td>1.0</td>\n",
              "      <td>0.0</td>\n",
              "      <td>0.0</td>\n",
              "      <td>0.0</td>\n",
              "      <td>0.0</td>\n",
              "      <td>0.0</td>\n",
              "      <td>0.0</td>\n",
              "      <td>0.0</td>\n",
              "      <td>0.0</td>\n",
              "      <td>0.0</td>\n",
              "      <td>0.0</td>\n",
              "      <td>0.0</td>\n",
              "      <td>0.0</td>\n",
              "      <td>0.0</td>\n",
              "      <td>1.0</td>\n",
              "      <td>40.0</td>\n",
              "    </tr>\n",
              "    <tr>\n",
              "      <th>103</th>\n",
              "      <td>04/04/2019</td>\n",
              "      <td>0.0</td>\n",
              "      <td>0.0</td>\n",
              "      <td>0.0</td>\n",
              "      <td>0.0</td>\n",
              "      <td>0.0</td>\n",
              "      <td>0.0</td>\n",
              "      <td>0.0</td>\n",
              "      <td>0.0</td>\n",
              "      <td>0.0</td>\n",
              "      <td>0.0</td>\n",
              "      <td>0.0</td>\n",
              "      <td>0.0</td>\n",
              "      <td>0.0</td>\n",
              "      <td>0.0</td>\n",
              "      <td>0.0</td>\n",
              "      <td>0.0</td>\n",
              "      <td>0.0</td>\n",
              "    </tr>\n",
              "  </tbody>\n",
              "</table>\n",
              "<p>183 rows × 18 columns</p>\n",
              "</div>"
            ],
            "text/plain": [
              "    data_atendimento  design_de_sobrancelhas  ...  qtde_clientes  faturamento\n",
              "231       10/08/2019                     0.0  ...            0.0          0.0\n",
              "346       03/12/2019                     0.0  ...           12.0        710.0\n",
              "333       20/11/2019                     0.0  ...            0.0          0.0\n",
              "193       03/07/2019                     0.0  ...            0.0          0.0\n",
              "725       16/12/2020                     3.0  ...            4.0        200.0\n",
              "..               ...                     ...  ...            ...          ...\n",
              "328       15/11/2019                     0.0  ...            4.0        430.0\n",
              "530       04/06/2020                     0.0  ...            0.0          0.0\n",
              "123       24/04/2019                     0.0  ...            2.0        130.0\n",
              "41        01/02/2019                     0.0  ...            1.0         40.0\n",
              "103       04/04/2019                     0.0  ...            0.0          0.0\n",
              "\n",
              "[183 rows x 18 columns]"
            ]
          },
          "metadata": {
            "tags": []
          },
          "execution_count": 19
        }
      ]
    },
    {
      "cell_type": "code",
      "metadata": {
        "colab": {
          "base_uri": "https://localhost:8080/",
          "height": 576
        },
        "id": "Jp9cCIjfEHzW",
        "outputId": "bf1967fb-4d11-42a8-b7fd-3d11575a55c5"
      },
      "source": [
        "dados.describe().T"
      ],
      "execution_count": 51,
      "outputs": [
        {
          "output_type": "execute_result",
          "data": {
            "text/html": [
              "<div>\n",
              "<style scoped>\n",
              "    .dataframe tbody tr th:only-of-type {\n",
              "        vertical-align: middle;\n",
              "    }\n",
              "\n",
              "    .dataframe tbody tr th {\n",
              "        vertical-align: top;\n",
              "    }\n",
              "\n",
              "    .dataframe thead th {\n",
              "        text-align: right;\n",
              "    }\n",
              "</style>\n",
              "<table border=\"1\" class=\"dataframe\">\n",
              "  <thead>\n",
              "    <tr style=\"text-align: right;\">\n",
              "      <th></th>\n",
              "      <th>count</th>\n",
              "      <th>mean</th>\n",
              "      <th>std</th>\n",
              "      <th>min</th>\n",
              "      <th>25%</th>\n",
              "      <th>50%</th>\n",
              "      <th>75%</th>\n",
              "      <th>max</th>\n",
              "    </tr>\n",
              "  </thead>\n",
              "  <tbody>\n",
              "    <tr>\n",
              "      <th>design_de_sobrancelhas</th>\n",
              "      <td>729.0</td>\n",
              "      <td>0.400549</td>\n",
              "      <td>0.852469</td>\n",
              "      <td>0.0</td>\n",
              "      <td>0.0</td>\n",
              "      <td>0.0</td>\n",
              "      <td>0.0</td>\n",
              "      <td>5.0</td>\n",
              "    </tr>\n",
              "    <tr>\n",
              "      <th>design_coloracao</th>\n",
              "      <td>729.0</td>\n",
              "      <td>0.231824</td>\n",
              "      <td>0.583450</td>\n",
              "      <td>0.0</td>\n",
              "      <td>0.0</td>\n",
              "      <td>0.0</td>\n",
              "      <td>0.0</td>\n",
              "      <td>4.0</td>\n",
              "    </tr>\n",
              "    <tr>\n",
              "      <th>design_coloracao_buco</th>\n",
              "      <td>729.0</td>\n",
              "      <td>0.703704</td>\n",
              "      <td>1.944985</td>\n",
              "      <td>0.0</td>\n",
              "      <td>0.0</td>\n",
              "      <td>0.0</td>\n",
              "      <td>1.0</td>\n",
              "      <td>19.0</td>\n",
              "    </tr>\n",
              "    <tr>\n",
              "      <th>buco</th>\n",
              "      <td>729.0</td>\n",
              "      <td>0.215364</td>\n",
              "      <td>0.580342</td>\n",
              "      <td>0.0</td>\n",
              "      <td>0.0</td>\n",
              "      <td>0.0</td>\n",
              "      <td>0.0</td>\n",
              "      <td>4.0</td>\n",
              "    </tr>\n",
              "    <tr>\n",
              "      <th>brown_lamination</th>\n",
              "      <td>729.0</td>\n",
              "      <td>0.001372</td>\n",
              "      <td>0.037037</td>\n",
              "      <td>0.0</td>\n",
              "      <td>0.0</td>\n",
              "      <td>0.0</td>\n",
              "      <td>0.0</td>\n",
              "      <td>1.0</td>\n",
              "    </tr>\n",
              "    <tr>\n",
              "      <th>micropigmentacao</th>\n",
              "      <td>729.0</td>\n",
              "      <td>0.031481</td>\n",
              "      <td>0.180924</td>\n",
              "      <td>0.0</td>\n",
              "      <td>0.0</td>\n",
              "      <td>0.0</td>\n",
              "      <td>0.0</td>\n",
              "      <td>2.0</td>\n",
              "    </tr>\n",
              "    <tr>\n",
              "      <th>extensao_de_cilios</th>\n",
              "      <td>729.0</td>\n",
              "      <td>0.039781</td>\n",
              "      <td>0.200776</td>\n",
              "      <td>0.0</td>\n",
              "      <td>0.0</td>\n",
              "      <td>0.0</td>\n",
              "      <td>0.0</td>\n",
              "      <td>2.0</td>\n",
              "    </tr>\n",
              "    <tr>\n",
              "      <th>lash_lifting</th>\n",
              "      <td>729.0</td>\n",
              "      <td>0.029492</td>\n",
              "      <td>0.183883</td>\n",
              "      <td>0.0</td>\n",
              "      <td>0.0</td>\n",
              "      <td>0.0</td>\n",
              "      <td>0.0</td>\n",
              "      <td>2.0</td>\n",
              "    </tr>\n",
              "    <tr>\n",
              "      <th>limpeza_de_pele</th>\n",
              "      <td>729.0</td>\n",
              "      <td>0.407407</td>\n",
              "      <td>0.795333</td>\n",
              "      <td>0.0</td>\n",
              "      <td>0.0</td>\n",
              "      <td>0.0</td>\n",
              "      <td>1.0</td>\n",
              "      <td>5.0</td>\n",
              "    </tr>\n",
              "    <tr>\n",
              "      <th>microagulhamento</th>\n",
              "      <td>729.0</td>\n",
              "      <td>0.024691</td>\n",
              "      <td>0.155289</td>\n",
              "      <td>0.0</td>\n",
              "      <td>0.0</td>\n",
              "      <td>0.0</td>\n",
              "      <td>0.0</td>\n",
              "      <td>1.0</td>\n",
              "    </tr>\n",
              "    <tr>\n",
              "      <th>peeling_quimico</th>\n",
              "      <td>729.0</td>\n",
              "      <td>0.034294</td>\n",
              "      <td>0.203482</td>\n",
              "      <td>0.0</td>\n",
              "      <td>0.0</td>\n",
              "      <td>0.0</td>\n",
              "      <td>0.0</td>\n",
              "      <td>2.0</td>\n",
              "    </tr>\n",
              "    <tr>\n",
              "      <th>massagem_relaxante</th>\n",
              "      <td>729.0</td>\n",
              "      <td>0.111111</td>\n",
              "      <td>0.371550</td>\n",
              "      <td>0.0</td>\n",
              "      <td>0.0</td>\n",
              "      <td>0.0</td>\n",
              "      <td>0.0</td>\n",
              "      <td>4.0</td>\n",
              "    </tr>\n",
              "    <tr>\n",
              "      <th>pacote_massagem_5</th>\n",
              "      <td>729.0</td>\n",
              "      <td>0.091084</td>\n",
              "      <td>0.352643</td>\n",
              "      <td>0.0</td>\n",
              "      <td>0.0</td>\n",
              "      <td>0.0</td>\n",
              "      <td>0.0</td>\n",
              "      <td>3.0</td>\n",
              "    </tr>\n",
              "    <tr>\n",
              "      <th>drenagem_linfatica</th>\n",
              "      <td>729.0</td>\n",
              "      <td>0.012071</td>\n",
              "      <td>0.106349</td>\n",
              "      <td>0.0</td>\n",
              "      <td>0.0</td>\n",
              "      <td>0.0</td>\n",
              "      <td>0.0</td>\n",
              "      <td>1.0</td>\n",
              "    </tr>\n",
              "    <tr>\n",
              "      <th>striort</th>\n",
              "      <td>729.0</td>\n",
              "      <td>0.008230</td>\n",
              "      <td>0.090410</td>\n",
              "      <td>0.0</td>\n",
              "      <td>0.0</td>\n",
              "      <td>0.0</td>\n",
              "      <td>0.0</td>\n",
              "      <td>1.0</td>\n",
              "    </tr>\n",
              "    <tr>\n",
              "      <th>qtde_clientes</th>\n",
              "      <td>729.0</td>\n",
              "      <td>1.898491</td>\n",
              "      <td>2.656758</td>\n",
              "      <td>0.0</td>\n",
              "      <td>0.0</td>\n",
              "      <td>1.0</td>\n",
              "      <td>3.0</td>\n",
              "      <td>19.0</td>\n",
              "    </tr>\n",
              "    <tr>\n",
              "      <th>faturamento</th>\n",
              "      <td>729.0</td>\n",
              "      <td>157.011660</td>\n",
              "      <td>214.644279</td>\n",
              "      <td>0.0</td>\n",
              "      <td>0.0</td>\n",
              "      <td>40.0</td>\n",
              "      <td>260.0</td>\n",
              "      <td>1250.0</td>\n",
              "    </tr>\n",
              "  </tbody>\n",
              "</table>\n",
              "</div>"
            ],
            "text/plain": [
              "                        count        mean         std  ...   50%    75%     max\n",
              "design_de_sobrancelhas  729.0    0.400549    0.852469  ...   0.0    0.0     5.0\n",
              "design_coloracao        729.0    0.231824    0.583450  ...   0.0    0.0     4.0\n",
              "design_coloracao_buco   729.0    0.703704    1.944985  ...   0.0    1.0    19.0\n",
              "buco                    729.0    0.215364    0.580342  ...   0.0    0.0     4.0\n",
              "brown_lamination        729.0    0.001372    0.037037  ...   0.0    0.0     1.0\n",
              "micropigmentacao        729.0    0.031481    0.180924  ...   0.0    0.0     2.0\n",
              "extensao_de_cilios      729.0    0.039781    0.200776  ...   0.0    0.0     2.0\n",
              "lash_lifting            729.0    0.029492    0.183883  ...   0.0    0.0     2.0\n",
              "limpeza_de_pele         729.0    0.407407    0.795333  ...   0.0    1.0     5.0\n",
              "microagulhamento        729.0    0.024691    0.155289  ...   0.0    0.0     1.0\n",
              "peeling_quimico         729.0    0.034294    0.203482  ...   0.0    0.0     2.0\n",
              "massagem_relaxante      729.0    0.111111    0.371550  ...   0.0    0.0     4.0\n",
              "pacote_massagem_5       729.0    0.091084    0.352643  ...   0.0    0.0     3.0\n",
              "drenagem_linfatica      729.0    0.012071    0.106349  ...   0.0    0.0     1.0\n",
              "striort                 729.0    0.008230    0.090410  ...   0.0    0.0     1.0\n",
              "qtde_clientes           729.0    1.898491    2.656758  ...   1.0    3.0    19.0\n",
              "faturamento             729.0  157.011660  214.644279  ...  40.0  260.0  1250.0\n",
              "\n",
              "[17 rows x 8 columns]"
            ]
          },
          "metadata": {
            "tags": []
          },
          "execution_count": 51
        }
      ]
    },
    {
      "cell_type": "code",
      "metadata": {
        "id": "1XShzbd3ER-O"
      },
      "source": [
        " "
      ],
      "execution_count": null,
      "outputs": []
    },
    {
      "cell_type": "markdown",
      "metadata": {
        "id": "7dSU_sI9EUlZ"
      },
      "source": [
        "- Previsão do faturamento :\r\n",
        " - Média da quantidade de clientes por dia * média do valor gasto por cliente"
      ]
    },
    {
      "cell_type": "code",
      "metadata": {
        "colab": {
          "base_uri": "https://localhost:8080/"
        },
        "id": "VArh0ByHKuuI",
        "outputId": "39a7b036-a33c-4b12-8d7f-589feaa5d076"
      },
      "source": [
        "# soma do faturamento dividido pela quantidade de clientes , retorna o valor médio  gasto por cliente\r\n",
        "valor_medio_de_consumo_cliente =dados.faturamento.sum()/dados.qtde_clientes.sum()\r\n",
        "valor_medio_de_consumo_cliente"
      ],
      "execution_count": 79,
      "outputs": [
        {
          "output_type": "execute_result",
          "data": {
            "text/plain": [
              "82.70339595375722"
            ]
          },
          "metadata": {
            "tags": []
          },
          "execution_count": 79
        }
      ]
    },
    {
      "cell_type": "code",
      "metadata": {
        "colab": {
          "base_uri": "https://localhost:8080/"
        },
        "id": "iF7dLkIDKuzc",
        "outputId": "5fafd06b-adcb-45ab-cb05-dd35131cf29e"
      },
      "source": [
        "# quantidade de clientes dividido pela quantidade de dias , retorna a quantidade média de clientes que frequentam o espaço por dia\r\n",
        "media_clientes_por_dia= dados.qtde_clientes.sum()/len(dados.data_atendimento)\r\n",
        "media_clientes_por_dia"
      ],
      "execution_count": 80,
      "outputs": [
        {
          "output_type": "execute_result",
          "data": {
            "text/plain": [
              "1.898491083676269"
            ]
          },
          "metadata": {
            "tags": []
          },
          "execution_count": 80
        }
      ]
    },
    {
      "cell_type": "code",
      "metadata": {
        "colab": {
          "base_uri": "https://localhost:8080/"
        },
        "id": "4ET35fV0LbJY",
        "outputId": "91451b44-ad1c-4e42-e7b9-5819e578394c"
      },
      "source": [
        "previsao_faturamento_medio=media_clientes_por_dia*valor_medio_de_consumo_cliente\r\n",
        "previsao_faturamento_medio"
      ],
      "execution_count": 78,
      "outputs": [
        {
          "output_type": "execute_result",
          "data": {
            "text/plain": [
              "157.0116598079561"
            ]
          },
          "metadata": {
            "tags": []
          },
          "execution_count": 78
        }
      ]
    },
    {
      "cell_type": "code",
      "metadata": {
        "id": "jJ-bGgXCLbNc"
      },
      "source": [
        ""
      ],
      "execution_count": 77,
      "outputs": []
    },
    {
      "cell_type": "code",
      "metadata": {
        "id": "IgrIzMq3LbTK"
      },
      "source": [
        ""
      ],
      "execution_count": null,
      "outputs": []
    },
    {
      "cell_type": "code",
      "metadata": {
        "colab": {
          "base_uri": "https://localhost:8080/",
          "height": 282
        },
        "id": "nbYKkoLsEH3k",
        "outputId": "e9662588-eecf-4711-9562-9784ed3009f9"
      },
      "source": [
        "\r\n",
        "dados.faturamento.plot(kind=\"hist\")"
      ],
      "execution_count": 66,
      "outputs": [
        {
          "output_type": "execute_result",
          "data": {
            "text/plain": [
              "<matplotlib.axes._subplots.AxesSubplot at 0x7f21e1d4b208>"
            ]
          },
          "metadata": {
            "tags": []
          },
          "execution_count": 66
        },
        {
          "output_type": "display_data",
          "data": {
            "image/png": "[encoded data removed]",
            "text/plain": [
              "<Figure size 432x288 with 1 Axes>"
            ]
          },
          "metadata": {
            "tags": [],
            "needs_background": "light"
          }
        }
      ]
    },
    {
      "cell_type": "code",
      "metadata": {
        "colab": {
          "base_uri": "https://localhost:8080/",
          "height": 406
        },
        "id": "d4W30dDEGnsy",
        "outputId": "5031cf2f-a511-4846-88b2-1b4b8c966352"
      },
      "source": [
        "plt.figure(figsize=(10, 6))\r\n",
        "plt.scatter(dados['qtde_clientes'], dados['faturamento'], alpha=0.2)\r\n",
        "#x = [0, 400, 1000]\r\n",
        "#y = [0, 10000, 20000]\r\n",
        "#plt.plot(x, y, c='r')\r\n",
        "plt.xlabel('qtde_clientes')\r\n",
        "plt.ylabel('faturamento')"
      ],
      "execution_count": 67,
      "outputs": [
        {
          "output_type": "execute_result",
          "data": {
            "text/plain": [
              "Text(0, 0.5, 'faturamento')"
            ]
          },
          "metadata": {
            "tags": []
          },
          "execution_count": 67
        },
        {
          "output_type": "display_data",
          "data": {
            "image/png": "[encoded data removed]",
            "text/plain": [
              "<Figure size 720x432 with 1 Axes>"
            ]
          },
          "metadata": {
            "tags": [],
            "needs_background": "light"
          }
        }
      ]
    },
    {
      "cell_type": "code",
      "metadata": {
        "colab": {
          "base_uri": "https://localhost:8080/",
          "height": 500
        },
        "id": "JFW7jb9QGn23",
        "outputId": "06d50d46-2351-467e-cb86-ef01b269bfe6"
      },
      "source": [
        "fig, ax = plt.subplots(1,2,figsize=(16,8))\r\n",
        "dados.faturamento.plot(kind=\"hist\",ax=ax[0])\r\n",
        "dados.qtde_clientes.plot(kind=\"hist\",ax=ax[1])"
      ],
      "execution_count": 87,
      "outputs": [
        {
          "output_type": "execute_result",
          "data": {
            "text/plain": [
              "<matplotlib.axes._subplots.AxesSubplot at 0x7f21e1b65470>"
            ]
          },
          "metadata": {
            "tags": []
          },
          "execution_count": 87
        },
        {
          "output_type": "display_data",
          "data": {
            "image/png": "[encoded data removed]",
            "text/plain": [
              "<Figure size 1152x576 with 2 Axes>"
            ]
          },
          "metadata": {
            "tags": [],
            "needs_background": "light"
          }
        }
      ]
    },
    {
      "cell_type": "code",
      "metadata": {
        "id": "jJka-3f1GoAk"
      },
      "source": [
        "### "
      ],
      "execution_count": null,
      "outputs": []
    },
    {
      "cell_type": "markdown",
      "metadata": {
        "id": "xLs5E8dqRkQi"
      },
      "source": [
        " ### Filtrando o DataFrame"
      ]
    },
    {
      "cell_type": "code",
      "metadata": {
        "id": "yqGlqJb3OqJR"
      },
      "source": [
        ""
      ],
      "execution_count": null,
      "outputs": []
    },
    {
      "cell_type": "code",
      "metadata": {
        "id": "JkVrwmdXOqPU"
      },
      "source": [
        ""
      ],
      "execution_count": null,
      "outputs": []
    },
    {
      "cell_type": "code",
      "metadata": {
        "id": "wOPaJkp6OqT5"
      },
      "source": [
        ""
      ],
      "execution_count": null,
      "outputs": []
    },
    {
      "cell_type": "code",
      "metadata": {
        "id": "dPcoqJlAOqXb"
      },
      "source": [
        ""
      ],
      "execution_count": null,
      "outputs": []
    },
    {
      "cell_type": "code",
      "metadata": {
        "id": "ntL64wd7Oqa_"
      },
      "source": [
        ""
      ],
      "execution_count": null,
      "outputs": []
    },
    {
      "cell_type": "code",
      "metadata": {
        "id": "4UBK3PgNOqe5"
      },
      "source": [
        ""
      ],
      "execution_count": null,
      "outputs": []
    },
    {
      "cell_type": "markdown",
      "metadata": {
        "id": "omHFuGeYCtkt"
      },
      "source": [
        " - Normalizando os valores de teste e de treino"
      ]
    },
    {
      "cell_type": "code",
      "metadata": {
        "id": "NnrXUo8NEGtx"
      },
      "source": [
        ""
      ],
      "execution_count": null,
      "outputs": []
    },
    {
      "cell_type": "code",
      "metadata": {
        "id": "ksxUG7TcEHCH"
      },
      "source": [
        ""
      ],
      "execution_count": null,
      "outputs": []
    },
    {
      "cell_type": "code",
      "metadata": {
        "id": "4hFO_Uzy_mID",
        "colab": {
          "base_uri": "https://localhost:8080/"
        },
        "outputId": "3e6e982a-1cb9-48c1-dc05-17544a0f6212"
      },
      "source": [
        "train['qtde_clientes']=train['qtde_clientes'].apply(np.log1p)\n",
        "train['faturamento']=train['faturamento'].apply(np.log1p)"
      ],
      "execution_count": 41,
      "outputs": [
        {
          "output_type": "stream",
          "text": [
            "/usr/local/lib/python3.6/dist-packages/ipykernel_launcher.py:1: SettingWithCopyWarning: \n",
            "A value is trying to be set on a copy of a slice from a DataFrame.\n",
            "Try using .loc[row_indexer,col_indexer] = value instead\n",
            "\n",
            "See the caveats in the documentation: https://pandas.pydata.org/pandas-docs/stable/user_guide/indexing.html#returning-a-view-versus-a-copy\n",
            "  \"\"\"Entry point for launching an IPython kernel.\n",
            "/usr/local/lib/python3.6/dist-packages/ipykernel_launcher.py:2: SettingWithCopyWarning: \n",
            "A value is trying to be set on a copy of a slice from a DataFrame.\n",
            "Try using .loc[row_indexer,col_indexer] = value instead\n",
            "\n",
            "See the caveats in the documentation: https://pandas.pydata.org/pandas-docs/stable/user_guide/indexing.html#returning-a-view-versus-a-copy\n",
            "  \n"
          ],
          "name": "stderr"
        }
      ]
    },
    {
      "cell_type": "code",
      "metadata": {
        "id": "2tvww9up_mIJ",
        "colab": {
          "base_uri": "https://localhost:8080/"
        },
        "outputId": "e229fe0f-fd60-40c4-d775-320d80d93896"
      },
      "source": [
        "test['qtde_clientes']=test['qtde_clientes'].apply(np.log1p)\n",
        "test['faturamento']=test['faturamento'].apply(np.log1p)"
      ],
      "execution_count": 42,
      "outputs": [
        {
          "output_type": "stream",
          "text": [
            "/usr/local/lib/python3.6/dist-packages/ipykernel_launcher.py:1: SettingWithCopyWarning: \n",
            "A value is trying to be set on a copy of a slice from a DataFrame.\n",
            "Try using .loc[row_indexer,col_indexer] = value instead\n",
            "\n",
            "See the caveats in the documentation: https://pandas.pydata.org/pandas-docs/stable/user_guide/indexing.html#returning-a-view-versus-a-copy\n",
            "  \"\"\"Entry point for launching an IPython kernel.\n",
            "/usr/local/lib/python3.6/dist-packages/ipykernel_launcher.py:2: SettingWithCopyWarning: \n",
            "A value is trying to be set on a copy of a slice from a DataFrame.\n",
            "Try using .loc[row_indexer,col_indexer] = value instead\n",
            "\n",
            "See the caveats in the documentation: https://pandas.pydata.org/pandas-docs/stable/user_guide/indexing.html#returning-a-view-versus-a-copy\n",
            "  \n"
          ],
          "name": "stderr"
        }
      ]
    },
    {
      "cell_type": "code",
      "metadata": {
        "id": "pWq61Udw_mIJ"
      },
      "source": [
        "X_cols = ['design_de_sobrancelhas', 'design_coloracao',\n",
        "       'design_coloracao_buco', 'buco', 'brown_lamination', 'micropigmentacao',\n",
        "       'extensao_de_cilios', 'lash_lifting', 'limpeza_de_pele',\n",
        "       'microagulhamento', 'peeling_quimico', 'massagem_relaxante',\n",
        "       'pacote_massagem_5', 'drenagem_linfatica', 'striort','qtde_clientes'\n",
        "         ]\n",
        "y_col = ['faturamento']"
      ],
      "execution_count": 20,
      "outputs": []
    },
    {
      "cell_type": "code",
      "metadata": {
        "id": "2pzopJ-3_mIK"
      },
      "source": [
        "X_train = train[X_cols]\n",
        "X_test = test[X_cols]\n",
        "y_train = train[y_col]\n",
        "y_test = test[y_col]"
      ],
      "execution_count": 21,
      "outputs": []
    },
    {
      "cell_type": "code",
      "metadata": {
        "id": "orQcOhl2_mIK",
        "colab": {
          "base_uri": "https://localhost:8080/",
          "height": 224
        },
        "outputId": "3fc6b1f1-19ee-4b4f-b953-8087fec8db93"
      },
      "source": [
        "X_train.head()"
      ],
      "execution_count": 23,
      "outputs": [
        {
          "output_type": "execute_result",
          "data": {
            "text/html": [
              "<div>\n",
              "<style scoped>\n",
              "    .dataframe tbody tr th:only-of-type {\n",
              "        vertical-align: middle;\n",
              "    }\n",
              "\n",
              "    .dataframe tbody tr th {\n",
              "        vertical-align: top;\n",
              "    }\n",
              "\n",
              "    .dataframe thead th {\n",
              "        text-align: right;\n",
              "    }\n",
              "</style>\n",
              "<table border=\"1\" class=\"dataframe\">\n",
              "  <thead>\n",
              "    <tr style=\"text-align: right;\">\n",
              "      <th></th>\n",
              "      <th>design_de_sobrancelhas</th>\n",
              "      <th>design_coloracao</th>\n",
              "      <th>design_coloracao_buco</th>\n",
              "      <th>buco</th>\n",
              "      <th>brown_lamination</th>\n",
              "      <th>micropigmentacao</th>\n",
              "      <th>extensao_de_cilios</th>\n",
              "      <th>lash_lifting</th>\n",
              "      <th>limpeza_de_pele</th>\n",
              "      <th>microagulhamento</th>\n",
              "      <th>peeling_quimico</th>\n",
              "      <th>massagem_relaxante</th>\n",
              "      <th>pacote_massagem_5</th>\n",
              "      <th>drenagem_linfatica</th>\n",
              "      <th>striort</th>\n",
              "      <th>qtde_clientes</th>\n",
              "    </tr>\n",
              "  </thead>\n",
              "  <tbody>\n",
              "    <tr>\n",
              "      <th>715</th>\n",
              "      <td>0.0</td>\n",
              "      <td>0.0</td>\n",
              "      <td>0.0</td>\n",
              "      <td>0.0</td>\n",
              "      <td>0.0</td>\n",
              "      <td>0.0</td>\n",
              "      <td>0.0</td>\n",
              "      <td>0.0</td>\n",
              "      <td>0.0</td>\n",
              "      <td>0.0</td>\n",
              "      <td>0.0</td>\n",
              "      <td>0.0</td>\n",
              "      <td>0.0</td>\n",
              "      <td>0.0</td>\n",
              "      <td>0.0</td>\n",
              "      <td>0.0</td>\n",
              "    </tr>\n",
              "    <tr>\n",
              "      <th>469</th>\n",
              "      <td>0.0</td>\n",
              "      <td>0.0</td>\n",
              "      <td>0.0</td>\n",
              "      <td>0.0</td>\n",
              "      <td>0.0</td>\n",
              "      <td>0.0</td>\n",
              "      <td>0.0</td>\n",
              "      <td>0.0</td>\n",
              "      <td>0.0</td>\n",
              "      <td>0.0</td>\n",
              "      <td>0.0</td>\n",
              "      <td>0.0</td>\n",
              "      <td>0.0</td>\n",
              "      <td>0.0</td>\n",
              "      <td>0.0</td>\n",
              "      <td>0.0</td>\n",
              "    </tr>\n",
              "    <tr>\n",
              "      <th>727</th>\n",
              "      <td>2.0</td>\n",
              "      <td>1.0</td>\n",
              "      <td>0.0</td>\n",
              "      <td>0.0</td>\n",
              "      <td>0.0</td>\n",
              "      <td>0.0</td>\n",
              "      <td>0.0</td>\n",
              "      <td>0.0</td>\n",
              "      <td>0.0</td>\n",
              "      <td>0.0</td>\n",
              "      <td>0.0</td>\n",
              "      <td>0.0</td>\n",
              "      <td>0.0</td>\n",
              "      <td>0.0</td>\n",
              "      <td>0.0</td>\n",
              "      <td>3.0</td>\n",
              "    </tr>\n",
              "    <tr>\n",
              "      <th>399</th>\n",
              "      <td>0.0</td>\n",
              "      <td>0.0</td>\n",
              "      <td>0.0</td>\n",
              "      <td>0.0</td>\n",
              "      <td>0.0</td>\n",
              "      <td>0.0</td>\n",
              "      <td>0.0</td>\n",
              "      <td>0.0</td>\n",
              "      <td>0.0</td>\n",
              "      <td>0.0</td>\n",
              "      <td>0.0</td>\n",
              "      <td>0.0</td>\n",
              "      <td>0.0</td>\n",
              "      <td>0.0</td>\n",
              "      <td>0.0</td>\n",
              "      <td>0.0</td>\n",
              "    </tr>\n",
              "    <tr>\n",
              "      <th>67</th>\n",
              "      <td>0.0</td>\n",
              "      <td>0.0</td>\n",
              "      <td>0.0</td>\n",
              "      <td>0.0</td>\n",
              "      <td>0.0</td>\n",
              "      <td>0.0</td>\n",
              "      <td>0.0</td>\n",
              "      <td>0.0</td>\n",
              "      <td>4.0</td>\n",
              "      <td>0.0</td>\n",
              "      <td>0.0</td>\n",
              "      <td>0.0</td>\n",
              "      <td>1.0</td>\n",
              "      <td>0.0</td>\n",
              "      <td>0.0</td>\n",
              "      <td>4.0</td>\n",
              "    </tr>\n",
              "  </tbody>\n",
              "</table>\n",
              "</div>"
            ],
            "text/plain": [
              "     design_de_sobrancelhas  design_coloracao  ...  striort  qtde_clientes\n",
              "715                     0.0               0.0  ...      0.0            0.0\n",
              "469                     0.0               0.0  ...      0.0            0.0\n",
              "727                     2.0               1.0  ...      0.0            3.0\n",
              "399                     0.0               0.0  ...      0.0            0.0\n",
              "67                      0.0               0.0  ...      0.0            4.0\n",
              "\n",
              "[5 rows x 16 columns]"
            ]
          },
          "metadata": {
            "tags": []
          },
          "execution_count": 23
        }
      ]
    },
    {
      "cell_type": "markdown",
      "metadata": {
        "id": "sfcyQAsZ_mIL"
      },
      "source": [
        " - Machine learning"
      ]
    },
    {
      "cell_type": "code",
      "metadata": {
        "id": "zOqACUin_mIL",
        "colab": {
          "base_uri": "https://localhost:8080/"
        },
        "outputId": "1fc17b1b-d817-454f-c61e-35e9a4a46da9"
      },
      "source": [
        "from sklearn.neighbors import KNeighborsRegressor\n",
        "neigh = KNeighborsRegressor()\n",
        "neigh.fit(X_train,y_train)"
      ],
      "execution_count": 43,
      "outputs": [
        {
          "output_type": "execute_result",
          "data": {
            "text/plain": [
              "KNeighborsRegressor(algorithm='auto', leaf_size=30, metric='minkowski',\n",
              "                    metric_params=None, n_jobs=None, n_neighbors=5, p=2,\n",
              "                    weights='uniform')"
            ]
          },
          "metadata": {
            "tags": []
          },
          "execution_count": 43
        }
      ]
    },
    {
      "cell_type": "code",
      "metadata": {
        "id": "vftn6C2G_mIM"
      },
      "source": [
        "y_pred = neigh.predict(X_test)"
      ],
      "execution_count": 44,
      "outputs": []
    },
    {
      "cell_type": "code",
      "metadata": {
        "id": "wXhKFVX6_mIM",
        "colab": {
          "base_uri": "https://localhost:8080/"
        },
        "outputId": "13bbd58f-0206-43ad-e729-b015d4943ef1"
      },
      "source": [
        "# Root Mean Squared Error - RMSE\n",
        "np.sqrt(np.mean((y_pred-y_test.values)**2))"
      ],
      "execution_count": 45,
      "outputs": [
        {
          "output_type": "execute_result",
          "data": {
            "text/plain": [
              "109.42345803985043"
            ]
          },
          "metadata": {
            "tags": []
          },
          "execution_count": 45
        }
      ]
    },
    {
      "cell_type": "code",
      "metadata": {
        "id": "D1Pfux86_mIM",
        "colab": {
          "base_uri": "https://localhost:8080/"
        },
        "outputId": "9e908f1f-85d4-4a17-d4f4-495fc6b5732d"
      },
      "source": [
        "# Mean Squared Error - MSE\n",
        "np.mean((y_pred-y_test.values)**2)"
      ],
      "execution_count": 46,
      "outputs": [
        {
          "output_type": "execute_result",
          "data": {
            "text/plain": [
              "11973.493169398907"
            ]
          },
          "metadata": {
            "tags": []
          },
          "execution_count": 46
        }
      ]
    },
    {
      "cell_type": "code",
      "metadata": {
        "id": "34ZpZxwj_mIN",
        "colab": {
          "base_uri": "https://localhost:8080/"
        },
        "outputId": "5e441730-376b-40ab-efcb-5a0e9990f52c"
      },
      "source": [
        "# Mean Absolute Error\n",
        "np.mean(np.abs(y_pred-y_test.values))"
      ],
      "execution_count": 47,
      "outputs": [
        {
          "output_type": "execute_result",
          "data": {
            "text/plain": [
              "51.91530054644809"
            ]
          },
          "metadata": {
            "tags": []
          },
          "execution_count": 47
        }
      ]
    },
    {
      "cell_type": "code",
      "metadata": {
        "id": "kRdH9wvF_mIO",
        "colab": {
          "base_uri": "https://localhost:8080/"
        },
        "outputId": "86ab8686-e74f-4ed8-ad4a-8c8b7744fbf1"
      },
      "source": [
        "# R2 Score\n",
        "from sklearn.metrics import r2_score\n",
        "r2_score(y_test, y_pred)"
      ],
      "execution_count": 48,
      "outputs": [
        {
          "output_type": "execute_result",
          "data": {
            "text/plain": [
              "0.7436590618637311"
            ]
          },
          "metadata": {
            "tags": []
          },
          "execution_count": 48
        }
      ]
    },
    {
      "cell_type": "markdown",
      "metadata": {
        "id": "D-AgdQV2_mIP"
      },
      "source": [
        "## 5. Triagem com outros modelos"
      ]
    },
    {
      "cell_type": "code",
      "metadata": {
        "id": "rlBKxohJ_mIQ",
        "colab": {
          "base_uri": "https://localhost:8080/"
        },
        "outputId": "a81d313a-7da7-4d84-c8ce-780573a5ffef"
      },
      "source": [
        "from sklearn.linear_model import LinearRegression\n",
        "reg = LinearRegression()\n",
        "reg.fit(X_train, y_train)\n",
        "\n",
        "reg.score(X_test, y_test)"
      ],
      "execution_count": 31,
      "outputs": [
        {
          "output_type": "execute_result",
          "data": {
            "text/plain": [
              "1.0"
            ]
          },
          "metadata": {
            "tags": []
          },
          "execution_count": 31
        }
      ]
    },
    {
      "cell_type": "code",
      "metadata": {
        "id": "BTCyQY4A_mIQ",
        "colab": {
          "base_uri": "https://localhost:8080/"
        },
        "outputId": "6a39b4ab-e57d-455c-874b-32d3b39c601c"
      },
      "source": [
        "from sklearn.tree import DecisionTreeRegressor\n",
        "from sklearn.ensemble import RandomForestRegressor\n",
        "from sklearn.neural_network import MLPRegressor\n",
        "from xgboost import XGBRegressor\n",
        "\n",
        "regressor_list = [DecisionTreeRegressor(),\n",
        "                  RandomForestRegressor(),\n",
        "                  MLPRegressor(),\n",
        "                  XGBRegressor()\n",
        "                  ]\n",
        "\n",
        "for reg in regressor_list:\n",
        "  print('Treinando', reg.__class__.__name__)\n",
        "  reg.fit(X_train, y_train)\n",
        "  train_score = reg.score(X_train, y_train)\n",
        "  test_score = reg.score(X_test, y_test)\n",
        "  print('Train score', train_score)\n",
        "  print('Test score', test_score)\n",
        "  print('='*80)"
      ],
      "execution_count": 32,
      "outputs": [
        {
          "output_type": "stream",
          "text": [
            "Treinando DecisionTreeRegressor\n",
            "Train score 1.0\n",
            "Test score 0.7569635781735368\n",
            "================================================================================\n",
            "Treinando RandomForestRegressor\n"
          ],
          "name": "stdout"
        },
        {
          "output_type": "stream",
          "text": [
            "/usr/local/lib/python3.6/dist-packages/ipykernel_launcher.py:14: DataConversionWarning: A column-vector y was passed when a 1d array was expected. Please change the shape of y to (n_samples,), for example using ravel().\n",
            "  \n"
          ],
          "name": "stderr"
        },
        {
          "output_type": "stream",
          "text": [
            "Train score 0.9889475701048006\n",
            "Test score 0.8225965381217188\n",
            "================================================================================\n",
            "Treinando MLPRegressor\n"
          ],
          "name": "stdout"
        },
        {
          "output_type": "stream",
          "text": [
            "/usr/local/lib/python3.6/dist-packages/sklearn/neural_network/_multilayer_perceptron.py:1342: DataConversionWarning: A column-vector y was passed when a 1d array was expected. Please change the shape of y to (n_samples, ), for example using ravel().\n",
            "  y = column_or_1d(y, warn=True)\n"
          ],
          "name": "stderr"
        },
        {
          "output_type": "stream",
          "text": [
            "Train score 0.7561977303059473\n",
            "Test score 0.7209113110260064\n",
            "================================================================================\n",
            "Treinando XGBRegressor\n",
            "[20:39:09] WARNING: /workspace/src/objective/regression_obj.cu:152: reg:linear is now deprecated in favor of reg:squarederror.\n",
            "Train score 0.9888823057945764\n",
            "Test score 0.9260914833917969\n",
            "================================================================================\n"
          ],
          "name": "stdout"
        },
        {
          "output_type": "stream",
          "text": [
            "/usr/local/lib/python3.6/dist-packages/sklearn/neural_network/_multilayer_perceptron.py:571: ConvergenceWarning: Stochastic Optimizer: Maximum iterations (200) reached and the optimization hasn't converged yet.\n",
            "  % self.max_iter, ConvergenceWarning)\n"
          ],
          "name": "stderr"
        }
      ]
    },
    {
      "cell_type": "code",
      "metadata": {
        "id": "w5_VGWgt_mIR"
      },
      "source": [
        ""
      ],
      "execution_count": null,
      "outputs": []
    },
    {
      "cell_type": "code",
      "metadata": {
        "id": "enXMaJ3w_mIS"
      },
      "source": [
        ""
      ],
      "execution_count": null,
      "outputs": []
    },
    {
      "cell_type": "code",
      "metadata": {
        "id": "I-eqc7At_mIS"
      },
      "source": [
        ""
      ],
      "execution_count": null,
      "outputs": []
    },
    {
      "cell_type": "code",
      "metadata": {
        "id": "1KvkYnL8_mIS"
      },
      "source": [
        ""
      ],
      "execution_count": null,
      "outputs": []
    },
    {
      "cell_type": "code",
      "metadata": {
        "id": "HiylOa9g_mIT"
      },
      "source": [
        ""
      ],
      "execution_count": null,
      "outputs": []
    },
    {
      "cell_type": "code",
      "metadata": {
        "id": "Fos8EamH_mIT"
      },
      "source": [
        ""
      ],
      "execution_count": null,
      "outputs": []
    },
    {
      "cell_type": "code",
      "metadata": {
        "id": "19zYqopj_mIT"
      },
      "source": [
        ""
      ],
      "execution_count": null,
      "outputs": []
    },
    {
      "cell_type": "markdown",
      "metadata": {
        "id": "j0xubSwQ_mIU"
      },
      "source": [
        ""
      ]
    },
    {
      "cell_type": "code",
      "metadata": {
        "id": "8LBTpT-6_mIW"
      },
      "source": [
        "from sklearn.model_selection import train_test_split"
      ],
      "execution_count": null,
      "outputs": []
    },
    {
      "cell_type": "code",
      "metadata": {
        "id": "YliSO3Qv_mIX"
      },
      "source": [
        "train, test= train_test_split(dados, test_size=0.25 , random_state=123)"
      ],
      "execution_count": null,
      "outputs": []
    },
    {
      "cell_type": "code",
      "metadata": {
        "id": "Ti7dv6JX_mIX"
      },
      "source": [
        "train.info()"
      ],
      "execution_count": null,
      "outputs": []
    },
    {
      "cell_type": "code",
      "metadata": {
        "id": "tOmzgkAG_mIX"
      },
      "source": [
        "test.info()"
      ],
      "execution_count": null,
      "outputs": []
    },
    {
      "cell_type": "code",
      "metadata": {
        "id": "rk1C27eq_mIY"
      },
      "source": [
        ""
      ],
      "execution_count": null,
      "outputs": []
    }
  ]
}