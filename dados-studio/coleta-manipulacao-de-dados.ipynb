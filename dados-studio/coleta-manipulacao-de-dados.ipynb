{
  "nbformat": 4,
  "nbformat_minor": 0,
  "metadata": {
    "kernelspec": {
      "display_name": "Python 3",
      "language": "python",
      "name": "python3"
    },
    "language_info": {
      "codemirror_mode": {
        "name": "ipython",
        "version": 3
      },
      "file_extension": ".py",
      "mimetype": "text/x-python",
      "name": "python",
      "nbconvert_exporter": "python",
      "pygments_lexer": "ipython3",
      "version": "3.8.3"
    },
    "colab": {
      "name": "coleta-manipulacao-de-dados.ipynb",
      "provenance": []
    }
  },
  "cells": [
    {
      "cell_type": "markdown",
      "metadata": {
        "id": "0qMuNdmA_mHd"
      },
      "source": [
        "## 1.Planejamento \n",
        "\n",
        " - Fazer a previsão do crescimento dos procedimentos e faturamento nosmeses que duraram a quarentena"
      ]
    },
    {
      "cell_type": "code",
      "metadata": {
        "id": "88U3OSTr_mHy"
      },
      "source": [
        "import pandas as pd\n",
        "import numpy as np\n",
        "import matplotlib.pyplot as plt\n",
        "import seaborn as sns"
      ],
      "execution_count": 4,
      "outputs": []
    },
    {
      "cell_type": "markdown",
      "metadata": {
        "id": "XOfVZK4q_mHz"
      },
      "source": [
        "## 2. Importando e fazeendo um tratamento na base de dados"
      ]
    },
    {
      "cell_type": "markdown",
      "metadata": {
        "id": "q_Q7kp7V_mH1"
      },
      "source": [
        " - Importandos os daddos do Studio Biena Guedes"
      ]
    },
    {
      "cell_type": "code",
      "metadata": {
        "id": "XYcrOPld_mH1"
      },
      "source": [
        "dados = pd.read_csv('https://raw.githubusercontent.com/robertferro/studio-estetica/main/dados-studio/dados_studio_biena_guedes.csv', sep=';')"
      ],
      "execution_count": 5,
      "outputs": []
    },
    {
      "cell_type": "code",
      "metadata": {
        "id": "qr-lpJfp_mH2",
        "outputId": "469bf323-0184-46f7-985c-b998ceb4c741",
        "colab": {
          "base_uri": "https://localhost:8080/",
          "height": 224
        }
      },
      "source": [
        "dados.head()"
      ],
      "execution_count": 6,
      "outputs": [
        {
          "output_type": "execute_result",
          "data": {
            "text/html": [
              "<div>\n",
              "<style scoped>\n",
              "    .dataframe tbody tr th:only-of-type {\n",
              "        vertical-align: middle;\n",
              "    }\n",
              "\n",
              "    .dataframe tbody tr th {\n",
              "        vertical-align: top;\n",
              "    }\n",
              "\n",
              "    .dataframe thead th {\n",
              "        text-align: right;\n",
              "    }\n",
              "</style>\n",
              "<table border=\"1\" class=\"dataframe\">\n",
              "  <thead>\n",
              "    <tr style=\"text-align: right;\">\n",
              "      <th></th>\n",
              "      <th>data_atendimento</th>\n",
              "      <th>design_de_sobrancelhas</th>\n",
              "      <th>design_coloracao</th>\n",
              "      <th>design_coloracao_buco</th>\n",
              "      <th>buco</th>\n",
              "      <th>brown_lamination</th>\n",
              "      <th>micropigmentacao</th>\n",
              "      <th>extensao_de_cilios</th>\n",
              "      <th>lash_lifting</th>\n",
              "      <th>limpeza_de_pele</th>\n",
              "      <th>microagulhamento</th>\n",
              "      <th>peeling_quimico</th>\n",
              "      <th>massagem_relaxante</th>\n",
              "      <th>pacote_massagem_5</th>\n",
              "      <th>drenagem_linfatica</th>\n",
              "      <th>striort</th>\n",
              "      <th>qtde_clientes</th>\n",
              "      <th>faturamento</th>\n",
              "    </tr>\n",
              "  </thead>\n",
              "  <tbody>\n",
              "    <tr>\n",
              "      <th>0</th>\n",
              "      <td>2018-12-23</td>\n",
              "      <td>0.0</td>\n",
              "      <td>0.0</td>\n",
              "      <td>7.0</td>\n",
              "      <td>0.0</td>\n",
              "      <td>0.0</td>\n",
              "      <td>0.0</td>\n",
              "      <td>0.0</td>\n",
              "      <td>0.0</td>\n",
              "      <td>1.0</td>\n",
              "      <td>0.0</td>\n",
              "      <td>0.0</td>\n",
              "      <td>0.0</td>\n",
              "      <td>0.0</td>\n",
              "      <td>0.0</td>\n",
              "      <td>0.0</td>\n",
              "      <td>7.0</td>\n",
              "      <td>430.0</td>\n",
              "    </tr>\n",
              "    <tr>\n",
              "      <th>1</th>\n",
              "      <td>2018-12-24</td>\n",
              "      <td>0.0</td>\n",
              "      <td>0.0</td>\n",
              "      <td>0.0</td>\n",
              "      <td>0.0</td>\n",
              "      <td>0.0</td>\n",
              "      <td>0.0</td>\n",
              "      <td>0.0</td>\n",
              "      <td>0.0</td>\n",
              "      <td>0.0</td>\n",
              "      <td>0.0</td>\n",
              "      <td>0.0</td>\n",
              "      <td>0.0</td>\n",
              "      <td>0.0</td>\n",
              "      <td>0.0</td>\n",
              "      <td>0.0</td>\n",
              "      <td>0.0</td>\n",
              "      <td>0.0</td>\n",
              "    </tr>\n",
              "    <tr>\n",
              "      <th>2</th>\n",
              "      <td>2018-12-25</td>\n",
              "      <td>0.0</td>\n",
              "      <td>0.0</td>\n",
              "      <td>0.0</td>\n",
              "      <td>0.0</td>\n",
              "      <td>0.0</td>\n",
              "      <td>0.0</td>\n",
              "      <td>0.0</td>\n",
              "      <td>0.0</td>\n",
              "      <td>0.0</td>\n",
              "      <td>0.0</td>\n",
              "      <td>0.0</td>\n",
              "      <td>0.0</td>\n",
              "      <td>0.0</td>\n",
              "      <td>0.0</td>\n",
              "      <td>0.0</td>\n",
              "      <td>0.0</td>\n",
              "      <td>0.0</td>\n",
              "    </tr>\n",
              "    <tr>\n",
              "      <th>3</th>\n",
              "      <td>2018-12-26</td>\n",
              "      <td>0.0</td>\n",
              "      <td>0.0</td>\n",
              "      <td>2.0</td>\n",
              "      <td>0.0</td>\n",
              "      <td>0.0</td>\n",
              "      <td>1.0</td>\n",
              "      <td>1.0</td>\n",
              "      <td>0.0</td>\n",
              "      <td>0.0</td>\n",
              "      <td>0.0</td>\n",
              "      <td>0.0</td>\n",
              "      <td>0.0</td>\n",
              "      <td>0.0</td>\n",
              "      <td>0.0</td>\n",
              "      <td>0.0</td>\n",
              "      <td>4.0</td>\n",
              "      <td>650.0</td>\n",
              "    </tr>\n",
              "    <tr>\n",
              "      <th>4</th>\n",
              "      <td>2018-12-27</td>\n",
              "      <td>0.0</td>\n",
              "      <td>0.0</td>\n",
              "      <td>1.0</td>\n",
              "      <td>0.0</td>\n",
              "      <td>0.0</td>\n",
              "      <td>0.0</td>\n",
              "      <td>0.0</td>\n",
              "      <td>0.0</td>\n",
              "      <td>1.0</td>\n",
              "      <td>0.0</td>\n",
              "      <td>0.0</td>\n",
              "      <td>0.0</td>\n",
              "      <td>0.0</td>\n",
              "      <td>0.0</td>\n",
              "      <td>0.0</td>\n",
              "      <td>2.0</td>\n",
              "      <td>130.0</td>\n",
              "    </tr>\n",
              "  </tbody>\n",
              "</table>\n",
              "</div>"
            ],
            "text/plain": [
              "  data_atendimento  design_de_sobrancelhas  ...  qtde_clientes  faturamento\n",
              "0       2018-12-23                     0.0  ...            7.0        430.0\n",
              "1       2018-12-24                     0.0  ...            0.0          0.0\n",
              "2       2018-12-25                     0.0  ...            0.0          0.0\n",
              "3       2018-12-26                     0.0  ...            4.0        650.0\n",
              "4       2018-12-27                     0.0  ...            2.0        130.0\n",
              "\n",
              "[5 rows x 18 columns]"
            ]
          },
          "metadata": {
            "tags": []
          },
          "execution_count": 6
        }
      ]
    },
    {
      "cell_type": "markdown",
      "metadata": {
        "id": "Lphw7Pou_mH4"
      },
      "source": [
        " - Excluindo os valores nulos"
      ]
    },
    {
      "cell_type": "code",
      "metadata": {
        "id": "7pVURBif_mH5"
      },
      "source": [
        "dados=dados.dropna()"
      ],
      "execution_count": 7,
      "outputs": []
    },
    {
      "cell_type": "code",
      "metadata": {
        "id": "UubRZn4D_mH5",
        "outputId": "ef360425-810f-4b65-e76d-00762c944506",
        "colab": {
          "base_uri": "https://localhost:8080/"
        }
      },
      "source": [
        "dados.info()"
      ],
      "execution_count": 8,
      "outputs": [
        {
          "output_type": "stream",
          "text": [
            "<class 'pandas.core.frame.DataFrame'>\n",
            "Int64Index: 729 entries, 0 to 728\n",
            "Data columns (total 18 columns):\n",
            " #   Column                  Non-Null Count  Dtype  \n",
            "---  ------                  --------------  -----  \n",
            " 0   data_atendimento        729 non-null    object \n",
            " 1   design_de_sobrancelhas  729 non-null    float64\n",
            " 2   design_coloracao        729 non-null    float64\n",
            " 3   design_coloracao_buco   729 non-null    float64\n",
            " 4   buco                    729 non-null    float64\n",
            " 5   brown_lamination        729 non-null    float64\n",
            " 6   micropigmentacao        729 non-null    float64\n",
            " 7   extensao_de_cilios      729 non-null    float64\n",
            " 8   lash_lifting            729 non-null    float64\n",
            " 9   limpeza_de_pele         729 non-null    float64\n",
            " 10  microagulhamento        729 non-null    float64\n",
            " 11  peeling_quimico         729 non-null    float64\n",
            " 12  massagem_relaxante      729 non-null    float64\n",
            " 13  pacote_massagem_5       729 non-null    float64\n",
            " 14  drenagem_linfatica      729 non-null    float64\n",
            " 15  striort                 729 non-null    float64\n",
            " 16  qtde_clientes           729 non-null    float64\n",
            " 17  faturamento             729 non-null    float64\n",
            "dtypes: float64(17), object(1)\n",
            "memory usage: 108.2+ KB\n"
          ],
          "name": "stdout"
        }
      ]
    },
    {
      "cell_type": "markdown",
      "metadata": {
        "id": "FvuBgSvB_mH6"
      },
      "source": [
        " - Convertendo a coluna \"data_atendimento\" para o formato datetime"
      ]
    },
    {
      "cell_type": "code",
      "metadata": {
        "id": "zqFth8pL_mH6"
      },
      "source": [
        "dados['data_atendimento'] = pd.to_datetime(dados['data_atendimento'])"
      ],
      "execution_count": 9,
      "outputs": []
    },
    {
      "cell_type": "code",
      "metadata": {
        "id": "viNVLCM9_mH7",
        "outputId": "d0292074-7882-4f20-a2cc-d0d2639e33f2",
        "colab": {
          "base_uri": "https://localhost:8080/",
          "height": 224
        }
      },
      "source": [
        "dados.head()"
      ],
      "execution_count": 10,
      "outputs": [
        {
          "output_type": "execute_result",
          "data": {
            "text/html": [
              "<div>\n",
              "<style scoped>\n",
              "    .dataframe tbody tr th:only-of-type {\n",
              "        vertical-align: middle;\n",
              "    }\n",
              "\n",
              "    .dataframe tbody tr th {\n",
              "        vertical-align: top;\n",
              "    }\n",
              "\n",
              "    .dataframe thead th {\n",
              "        text-align: right;\n",
              "    }\n",
              "</style>\n",
              "<table border=\"1\" class=\"dataframe\">\n",
              "  <thead>\n",
              "    <tr style=\"text-align: right;\">\n",
              "      <th></th>\n",
              "      <th>data_atendimento</th>\n",
              "      <th>design_de_sobrancelhas</th>\n",
              "      <th>design_coloracao</th>\n",
              "      <th>design_coloracao_buco</th>\n",
              "      <th>buco</th>\n",
              "      <th>brown_lamination</th>\n",
              "      <th>micropigmentacao</th>\n",
              "      <th>extensao_de_cilios</th>\n",
              "      <th>lash_lifting</th>\n",
              "      <th>limpeza_de_pele</th>\n",
              "      <th>microagulhamento</th>\n",
              "      <th>peeling_quimico</th>\n",
              "      <th>massagem_relaxante</th>\n",
              "      <th>pacote_massagem_5</th>\n",
              "      <th>drenagem_linfatica</th>\n",
              "      <th>striort</th>\n",
              "      <th>qtde_clientes</th>\n",
              "      <th>faturamento</th>\n",
              "    </tr>\n",
              "  </thead>\n",
              "  <tbody>\n",
              "    <tr>\n",
              "      <th>0</th>\n",
              "      <td>2018-12-23</td>\n",
              "      <td>0.0</td>\n",
              "      <td>0.0</td>\n",
              "      <td>7.0</td>\n",
              "      <td>0.0</td>\n",
              "      <td>0.0</td>\n",
              "      <td>0.0</td>\n",
              "      <td>0.0</td>\n",
              "      <td>0.0</td>\n",
              "      <td>1.0</td>\n",
              "      <td>0.0</td>\n",
              "      <td>0.0</td>\n",
              "      <td>0.0</td>\n",
              "      <td>0.0</td>\n",
              "      <td>0.0</td>\n",
              "      <td>0.0</td>\n",
              "      <td>7.0</td>\n",
              "      <td>430.0</td>\n",
              "    </tr>\n",
              "    <tr>\n",
              "      <th>1</th>\n",
              "      <td>2018-12-24</td>\n",
              "      <td>0.0</td>\n",
              "      <td>0.0</td>\n",
              "      <td>0.0</td>\n",
              "      <td>0.0</td>\n",
              "      <td>0.0</td>\n",
              "      <td>0.0</td>\n",
              "      <td>0.0</td>\n",
              "      <td>0.0</td>\n",
              "      <td>0.0</td>\n",
              "      <td>0.0</td>\n",
              "      <td>0.0</td>\n",
              "      <td>0.0</td>\n",
              "      <td>0.0</td>\n",
              "      <td>0.0</td>\n",
              "      <td>0.0</td>\n",
              "      <td>0.0</td>\n",
              "      <td>0.0</td>\n",
              "    </tr>\n",
              "    <tr>\n",
              "      <th>2</th>\n",
              "      <td>2018-12-25</td>\n",
              "      <td>0.0</td>\n",
              "      <td>0.0</td>\n",
              "      <td>0.0</td>\n",
              "      <td>0.0</td>\n",
              "      <td>0.0</td>\n",
              "      <td>0.0</td>\n",
              "      <td>0.0</td>\n",
              "      <td>0.0</td>\n",
              "      <td>0.0</td>\n",
              "      <td>0.0</td>\n",
              "      <td>0.0</td>\n",
              "      <td>0.0</td>\n",
              "      <td>0.0</td>\n",
              "      <td>0.0</td>\n",
              "      <td>0.0</td>\n",
              "      <td>0.0</td>\n",
              "      <td>0.0</td>\n",
              "    </tr>\n",
              "    <tr>\n",
              "      <th>3</th>\n",
              "      <td>2018-12-26</td>\n",
              "      <td>0.0</td>\n",
              "      <td>0.0</td>\n",
              "      <td>2.0</td>\n",
              "      <td>0.0</td>\n",
              "      <td>0.0</td>\n",
              "      <td>1.0</td>\n",
              "      <td>1.0</td>\n",
              "      <td>0.0</td>\n",
              "      <td>0.0</td>\n",
              "      <td>0.0</td>\n",
              "      <td>0.0</td>\n",
              "      <td>0.0</td>\n",
              "      <td>0.0</td>\n",
              "      <td>0.0</td>\n",
              "      <td>0.0</td>\n",
              "      <td>4.0</td>\n",
              "      <td>650.0</td>\n",
              "    </tr>\n",
              "    <tr>\n",
              "      <th>4</th>\n",
              "      <td>2018-12-27</td>\n",
              "      <td>0.0</td>\n",
              "      <td>0.0</td>\n",
              "      <td>1.0</td>\n",
              "      <td>0.0</td>\n",
              "      <td>0.0</td>\n",
              "      <td>0.0</td>\n",
              "      <td>0.0</td>\n",
              "      <td>0.0</td>\n",
              "      <td>1.0</td>\n",
              "      <td>0.0</td>\n",
              "      <td>0.0</td>\n",
              "      <td>0.0</td>\n",
              "      <td>0.0</td>\n",
              "      <td>0.0</td>\n",
              "      <td>0.0</td>\n",
              "      <td>2.0</td>\n",
              "      <td>130.0</td>\n",
              "    </tr>\n",
              "  </tbody>\n",
              "</table>\n",
              "</div>"
            ],
            "text/plain": [
              "  data_atendimento  design_de_sobrancelhas  ...  qtde_clientes  faturamento\n",
              "0       2018-12-23                     0.0  ...            7.0        430.0\n",
              "1       2018-12-24                     0.0  ...            0.0          0.0\n",
              "2       2018-12-25                     0.0  ...            0.0          0.0\n",
              "3       2018-12-26                     0.0  ...            4.0        650.0\n",
              "4       2018-12-27                     0.0  ...            2.0        130.0\n",
              "\n",
              "[5 rows x 18 columns]"
            ]
          },
          "metadata": {
            "tags": []
          },
          "execution_count": 10
        }
      ]
    },
    {
      "cell_type": "markdown",
      "metadata": {
        "id": "fYJ8ENuj_mH7"
      },
      "source": [
        "## 3. EDA"
      ]
    },
    {
      "cell_type": "code",
      "metadata": {
        "id": "CvHX-C3v_mH8",
        "outputId": "d67acc4a-5dda-426b-bfbf-dcaa3f7bca0e",
        "colab": {
          "base_uri": "https://localhost:8080/",
          "height": 507
        }
      },
      "source": [
        "plt.figure(figsize=(12,6))\n",
        "sns.heatmap(dados.corr(), annot=True, center=0, cmap=\"YlGnBu\")"
      ],
      "execution_count": 11,
      "outputs": [
        {
          "output_type": "execute_result",
          "data": {
            "text/plain": [
              "<matplotlib.axes._subplots.AxesSubplot at 0x7f8a480742e8>"
            ]
          },
          "metadata": {
            "tags": []
          },
          "execution_count": 11
        },
        {
          "output_type": "display_data",
          "data": {
            "image/png": "[encoded data removed]",
            "text/plain": [
              "<Figure size 864x432 with 2 Axes>"
            ]
          },
          "metadata": {
            "tags": [],
            "needs_background": "light"
          }
        }
      ]
    },
    {
      "cell_type": "code",
      "metadata": {
        "id": "1GiSJBKJ_mH8",
        "outputId": "aa596d4c-fc5d-4b30-f34a-b9791d9c48b3",
        "colab": {
          "base_uri": "https://localhost:8080/",
          "height": 596
        }
      },
      "source": [
        "dados.corr()"
      ],
      "execution_count": 12,
      "outputs": [
        {
          "output_type": "execute_result",
          "data": {
            "text/html": [
              "<div>\n",
              "<style scoped>\n",
              "    .dataframe tbody tr th:only-of-type {\n",
              "        vertical-align: middle;\n",
              "    }\n",
              "\n",
              "    .dataframe tbody tr th {\n",
              "        vertical-align: top;\n",
              "    }\n",
              "\n",
              "    .dataframe thead th {\n",
              "        text-align: right;\n",
              "    }\n",
              "</style>\n",
              "<table border=\"1\" class=\"dataframe\">\n",
              "  <thead>\n",
              "    <tr style=\"text-align: right;\">\n",
              "      <th></th>\n",
              "      <th>design_de_sobrancelhas</th>\n",
              "      <th>design_coloracao</th>\n",
              "      <th>design_coloracao_buco</th>\n",
              "      <th>buco</th>\n",
              "      <th>brown_lamination</th>\n",
              "      <th>micropigmentacao</th>\n",
              "      <th>extensao_de_cilios</th>\n",
              "      <th>lash_lifting</th>\n",
              "      <th>limpeza_de_pele</th>\n",
              "      <th>microagulhamento</th>\n",
              "      <th>peeling_quimico</th>\n",
              "      <th>massagem_relaxante</th>\n",
              "      <th>pacote_massagem_5</th>\n",
              "      <th>drenagem_linfatica</th>\n",
              "      <th>striort</th>\n",
              "      <th>qtde_clientes</th>\n",
              "      <th>faturamento</th>\n",
              "    </tr>\n",
              "  </thead>\n",
              "  <tbody>\n",
              "    <tr>\n",
              "      <th>design_de_sobrancelhas</th>\n",
              "      <td>1.000000</td>\n",
              "      <td>0.153314</td>\n",
              "      <td>0.065894</td>\n",
              "      <td>0.664596</td>\n",
              "      <td>-0.023677</td>\n",
              "      <td>0.128832</td>\n",
              "      <td>0.125900</td>\n",
              "      <td>0.216663</td>\n",
              "      <td>0.348605</td>\n",
              "      <td>-0.020484</td>\n",
              "      <td>0.013896</td>\n",
              "      <td>0.137909</td>\n",
              "      <td>0.098465</td>\n",
              "      <td>0.025757</td>\n",
              "      <td>0.151765</td>\n",
              "      <td>0.462153</td>\n",
              "      <td>0.429694</td>\n",
              "    </tr>\n",
              "    <tr>\n",
              "      <th>design_coloracao</th>\n",
              "      <td>0.153314</td>\n",
              "      <td>1.000000</td>\n",
              "      <td>0.018660</td>\n",
              "      <td>0.123656</td>\n",
              "      <td>-0.020944</td>\n",
              "      <td>0.060991</td>\n",
              "      <td>0.027767</td>\n",
              "      <td>0.125295</td>\n",
              "      <td>0.155786</td>\n",
              "      <td>0.103779</td>\n",
              "      <td>0.050740</td>\n",
              "      <td>0.041875</td>\n",
              "      <td>0.054604</td>\n",
              "      <td>-0.035641</td>\n",
              "      <td>0.017704</td>\n",
              "      <td>0.336452</td>\n",
              "      <td>0.270752</td>\n",
              "    </tr>\n",
              "    <tr>\n",
              "      <th>design_coloracao_buco</th>\n",
              "      <td>0.065894</td>\n",
              "      <td>0.018660</td>\n",
              "      <td>1.000000</td>\n",
              "      <td>0.073108</td>\n",
              "      <td>0.251066</td>\n",
              "      <td>0.001647</td>\n",
              "      <td>0.004034</td>\n",
              "      <td>-0.002891</td>\n",
              "      <td>0.149158</td>\n",
              "      <td>0.012263</td>\n",
              "      <td>-0.025061</td>\n",
              "      <td>0.098967</td>\n",
              "      <td>0.086554</td>\n",
              "      <td>-0.019741</td>\n",
              "      <td>-0.008448</td>\n",
              "      <td>0.787625</td>\n",
              "      <td>0.550596</td>\n",
              "    </tr>\n",
              "    <tr>\n",
              "      <th>buco</th>\n",
              "      <td>0.664596</td>\n",
              "      <td>0.123656</td>\n",
              "      <td>0.073108</td>\n",
              "      <td>1.000000</td>\n",
              "      <td>-0.018971</td>\n",
              "      <td>0.055385</td>\n",
              "      <td>0.077546</td>\n",
              "      <td>0.080698</td>\n",
              "      <td>0.286227</td>\n",
              "      <td>-0.052425</td>\n",
              "      <td>0.056857</td>\n",
              "      <td>0.187347</td>\n",
              "      <td>0.029426</td>\n",
              "      <td>0.076048</td>\n",
              "      <td>0.104681</td>\n",
              "      <td>0.375505</td>\n",
              "      <td>0.316441</td>\n",
              "    </tr>\n",
              "    <tr>\n",
              "      <th>brown_lamination</th>\n",
              "      <td>-0.023677</td>\n",
              "      <td>-0.020944</td>\n",
              "      <td>0.251066</td>\n",
              "      <td>-0.018971</td>\n",
              "      <td>1.000000</td>\n",
              "      <td>-0.009498</td>\n",
              "      <td>-0.010376</td>\n",
              "      <td>-0.008259</td>\n",
              "      <td>0.005330</td>\n",
              "      <td>-0.007602</td>\n",
              "      <td>-0.008938</td>\n",
              "      <td>0.023257</td>\n",
              "      <td>-0.013859</td>\n",
              "      <td>-0.004682</td>\n",
              "      <td>-0.005864</td>\n",
              "      <td>0.171423</td>\n",
              "      <td>0.116459</td>\n",
              "    </tr>\n",
              "    <tr>\n",
              "      <th>micropigmentacao</th>\n",
              "      <td>0.128832</td>\n",
              "      <td>0.060991</td>\n",
              "      <td>0.001647</td>\n",
              "      <td>0.055385</td>\n",
              "      <td>-0.009498</td>\n",
              "      <td>1.000000</td>\n",
              "      <td>0.065273</td>\n",
              "      <td>0.011081</td>\n",
              "      <td>0.089359</td>\n",
              "      <td>-0.026248</td>\n",
              "      <td>-0.030859</td>\n",
              "      <td>0.085631</td>\n",
              "      <td>-0.003903</td>\n",
              "      <td>0.069534</td>\n",
              "      <td>0.110952</td>\n",
              "      <td>0.145884</td>\n",
              "      <td>0.460619</td>\n",
              "    </tr>\n",
              "    <tr>\n",
              "      <th>extensao_de_cilios</th>\n",
              "      <td>0.125900</td>\n",
              "      <td>0.027767</td>\n",
              "      <td>0.004034</td>\n",
              "      <td>0.077546</td>\n",
              "      <td>-0.010376</td>\n",
              "      <td>0.065273</td>\n",
              "      <td>1.000000</td>\n",
              "      <td>-0.031153</td>\n",
              "      <td>0.102152</td>\n",
              "      <td>-0.028675</td>\n",
              "      <td>-0.033712</td>\n",
              "      <td>-0.048549</td>\n",
              "      <td>0.005802</td>\n",
              "      <td>0.057842</td>\n",
              "      <td>-0.022118</td>\n",
              "      <td>0.135191</td>\n",
              "      <td>0.161542</td>\n",
              "    </tr>\n",
              "    <tr>\n",
              "      <th>lash_lifting</th>\n",
              "      <td>0.216663</td>\n",
              "      <td>0.125295</td>\n",
              "      <td>-0.002891</td>\n",
              "      <td>0.080698</td>\n",
              "      <td>-0.008259</td>\n",
              "      <td>0.011081</td>\n",
              "      <td>-0.031153</td>\n",
              "      <td>1.000000</td>\n",
              "      <td>-0.016134</td>\n",
              "      <td>0.029998</td>\n",
              "      <td>0.011980</td>\n",
              "      <td>-0.001954</td>\n",
              "      <td>0.072128</td>\n",
              "      <td>-0.014056</td>\n",
              "      <td>-0.017606</td>\n",
              "      <td>0.101286</td>\n",
              "      <td>0.135536</td>\n",
              "    </tr>\n",
              "    <tr>\n",
              "      <th>limpeza_de_pele</th>\n",
              "      <td>0.348605</td>\n",
              "      <td>0.155786</td>\n",
              "      <td>0.149158</td>\n",
              "      <td>0.286227</td>\n",
              "      <td>0.005330</td>\n",
              "      <td>0.089359</td>\n",
              "      <td>0.102152</td>\n",
              "      <td>-0.016134</td>\n",
              "      <td>1.000000</td>\n",
              "      <td>0.115299</td>\n",
              "      <td>0.139031</td>\n",
              "      <td>0.217749</td>\n",
              "      <td>0.071435</td>\n",
              "      <td>-0.005833</td>\n",
              "      <td>0.034178</td>\n",
              "      <td>0.510927</td>\n",
              "      <td>0.570612</td>\n",
              "    </tr>\n",
              "    <tr>\n",
              "      <th>microagulhamento</th>\n",
              "      <td>-0.020484</td>\n",
              "      <td>0.103779</td>\n",
              "      <td>0.012263</td>\n",
              "      <td>-0.052425</td>\n",
              "      <td>-0.007602</td>\n",
              "      <td>-0.026248</td>\n",
              "      <td>-0.028675</td>\n",
              "      <td>0.029998</td>\n",
              "      <td>0.115299</td>\n",
              "      <td>1.000000</td>\n",
              "      <td>-0.024699</td>\n",
              "      <td>0.014464</td>\n",
              "      <td>0.020326</td>\n",
              "      <td>-0.012937</td>\n",
              "      <td>0.071302</td>\n",
              "      <td>0.087474</td>\n",
              "      <td>0.210489</td>\n",
              "    </tr>\n",
              "    <tr>\n",
              "      <th>peeling_quimico</th>\n",
              "      <td>0.013896</td>\n",
              "      <td>0.050740</td>\n",
              "      <td>-0.025061</td>\n",
              "      <td>0.056857</td>\n",
              "      <td>-0.008938</td>\n",
              "      <td>-0.030859</td>\n",
              "      <td>-0.033712</td>\n",
              "      <td>0.011980</td>\n",
              "      <td>0.139031</td>\n",
              "      <td>-0.024699</td>\n",
              "      <td>1.000000</td>\n",
              "      <td>0.054646</td>\n",
              "      <td>-0.001950</td>\n",
              "      <td>-0.015210</td>\n",
              "      <td>-0.019052</td>\n",
              "      <td>0.086162</td>\n",
              "      <td>0.157703</td>\n",
              "    </tr>\n",
              "    <tr>\n",
              "      <th>massagem_relaxante</th>\n",
              "      <td>0.137909</td>\n",
              "      <td>0.041875</td>\n",
              "      <td>0.098967</td>\n",
              "      <td>0.187347</td>\n",
              "      <td>0.023257</td>\n",
              "      <td>0.085631</td>\n",
              "      <td>-0.048549</td>\n",
              "      <td>-0.001954</td>\n",
              "      <td>0.217749</td>\n",
              "      <td>0.014464</td>\n",
              "      <td>0.054646</td>\n",
              "      <td>1.000000</td>\n",
              "      <td>0.051289</td>\n",
              "      <td>-0.002246</td>\n",
              "      <td>0.040427</td>\n",
              "      <td>0.265043</td>\n",
              "      <td>0.321261</td>\n",
              "    </tr>\n",
              "    <tr>\n",
              "      <th>pacote_massagem_5</th>\n",
              "      <td>0.098465</td>\n",
              "      <td>0.054604</td>\n",
              "      <td>0.086554</td>\n",
              "      <td>0.029426</td>\n",
              "      <td>-0.013859</td>\n",
              "      <td>-0.003903</td>\n",
              "      <td>0.005802</td>\n",
              "      <td>0.072128</td>\n",
              "      <td>0.071435</td>\n",
              "      <td>0.020326</td>\n",
              "      <td>-0.001950</td>\n",
              "      <td>0.051289</td>\n",
              "      <td>1.000000</td>\n",
              "      <td>-0.023585</td>\n",
              "      <td>0.008142</td>\n",
              "      <td>0.238877</td>\n",
              "      <td>0.469755</td>\n",
              "    </tr>\n",
              "    <tr>\n",
              "      <th>drenagem_linfatica</th>\n",
              "      <td>0.025757</td>\n",
              "      <td>-0.035641</td>\n",
              "      <td>-0.019741</td>\n",
              "      <td>0.076048</td>\n",
              "      <td>-0.004682</td>\n",
              "      <td>0.069534</td>\n",
              "      <td>0.057842</td>\n",
              "      <td>-0.014056</td>\n",
              "      <td>-0.005833</td>\n",
              "      <td>-0.012937</td>\n",
              "      <td>-0.015210</td>\n",
              "      <td>-0.002246</td>\n",
              "      <td>-0.023585</td>\n",
              "      <td>1.000000</td>\n",
              "      <td>-0.009979</td>\n",
              "      <td>0.019639</td>\n",
              "      <td>0.039503</td>\n",
              "    </tr>\n",
              "    <tr>\n",
              "      <th>striort</th>\n",
              "      <td>0.151765</td>\n",
              "      <td>0.017704</td>\n",
              "      <td>-0.008448</td>\n",
              "      <td>0.104681</td>\n",
              "      <td>-0.005864</td>\n",
              "      <td>0.110952</td>\n",
              "      <td>-0.022118</td>\n",
              "      <td>-0.017606</td>\n",
              "      <td>0.034178</td>\n",
              "      <td>0.071302</td>\n",
              "      <td>-0.019052</td>\n",
              "      <td>0.040427</td>\n",
              "      <td>0.008142</td>\n",
              "      <td>-0.009979</td>\n",
              "      <td>1.000000</td>\n",
              "      <td>0.080652</td>\n",
              "      <td>0.162135</td>\n",
              "    </tr>\n",
              "    <tr>\n",
              "      <th>qtde_clientes</th>\n",
              "      <td>0.462153</td>\n",
              "      <td>0.336452</td>\n",
              "      <td>0.787625</td>\n",
              "      <td>0.375505</td>\n",
              "      <td>0.171423</td>\n",
              "      <td>0.145884</td>\n",
              "      <td>0.135191</td>\n",
              "      <td>0.101286</td>\n",
              "      <td>0.510927</td>\n",
              "      <td>0.087474</td>\n",
              "      <td>0.086162</td>\n",
              "      <td>0.265043</td>\n",
              "      <td>0.238877</td>\n",
              "      <td>0.019639</td>\n",
              "      <td>0.080652</td>\n",
              "      <td>1.000000</td>\n",
              "      <td>0.842761</td>\n",
              "    </tr>\n",
              "    <tr>\n",
              "      <th>faturamento</th>\n",
              "      <td>0.429694</td>\n",
              "      <td>0.270752</td>\n",
              "      <td>0.550596</td>\n",
              "      <td>0.316441</td>\n",
              "      <td>0.116459</td>\n",
              "      <td>0.460619</td>\n",
              "      <td>0.161542</td>\n",
              "      <td>0.135536</td>\n",
              "      <td>0.570612</td>\n",
              "      <td>0.210489</td>\n",
              "      <td>0.157703</td>\n",
              "      <td>0.321261</td>\n",
              "      <td>0.469755</td>\n",
              "      <td>0.039503</td>\n",
              "      <td>0.162135</td>\n",
              "      <td>0.842761</td>\n",
              "      <td>1.000000</td>\n",
              "    </tr>\n",
              "  </tbody>\n",
              "</table>\n",
              "</div>"
            ],
            "text/plain": [
              "                        design_de_sobrancelhas  ...  faturamento\n",
              "design_de_sobrancelhas                1.000000  ...     0.429694\n",
              "design_coloracao                      0.153314  ...     0.270752\n",
              "design_coloracao_buco                 0.065894  ...     0.550596\n",
              "buco                                  0.664596  ...     0.316441\n",
              "brown_lamination                     -0.023677  ...     0.116459\n",
              "micropigmentacao                      0.128832  ...     0.460619\n",
              "extensao_de_cilios                    0.125900  ...     0.161542\n",
              "lash_lifting                          0.216663  ...     0.135536\n",
              "limpeza_de_pele                       0.348605  ...     0.570612\n",
              "microagulhamento                     -0.020484  ...     0.210489\n",
              "peeling_quimico                       0.013896  ...     0.157703\n",
              "massagem_relaxante                    0.137909  ...     0.321261\n",
              "pacote_massagem_5                     0.098465  ...     0.469755\n",
              "drenagem_linfatica                    0.025757  ...     0.039503\n",
              "striort                               0.151765  ...     0.162135\n",
              "qtde_clientes                         0.462153  ...     0.842761\n",
              "faturamento                           0.429694  ...     1.000000\n",
              "\n",
              "[17 rows x 17 columns]"
            ]
          },
          "metadata": {
            "tags": []
          },
          "execution_count": 12
        }
      ]
    },
    {
      "cell_type": "markdown",
      "metadata": {
        "id": "6EwmT4AQ_mH9"
      },
      "source": [
        " - Agrupando os dados por mês"
      ]
    },
    {
      "cell_type": "code",
      "metadata": {
        "id": "ExuuUfyf_mH9"
      },
      "source": [
        "# dados = dados.set_index('data_atendimento')\n",
        "# dados_por_mes=dados.resample('M').sum()\n",
        "# dados_por_mes=dados.resample('M', on='data_atendimento').sum()"
      ],
      "execution_count": 13,
      "outputs": []
    },
    {
      "cell_type": "code",
      "metadata": {
        "id": "hccR9ryh_mH-",
        "outputId": "fb20e6f7-8184-4e2a-91a1-fd84a8493bf3",
        "colab": {
          "base_uri": "https://localhost:8080/",
          "height": 100
        }
      },
      "source": [
        "dados.loc[dados['data_atendimento'] ==\"2020-04-01\"]"
      ],
      "execution_count": 14,
      "outputs": [
        {
          "output_type": "execute_result",
          "data": {
            "text/html": [
              "<div>\n",
              "<style scoped>\n",
              "    .dataframe tbody tr th:only-of-type {\n",
              "        vertical-align: middle;\n",
              "    }\n",
              "\n",
              "    .dataframe tbody tr th {\n",
              "        vertical-align: top;\n",
              "    }\n",
              "\n",
              "    .dataframe thead th {\n",
              "        text-align: right;\n",
              "    }\n",
              "</style>\n",
              "<table border=\"1\" class=\"dataframe\">\n",
              "  <thead>\n",
              "    <tr style=\"text-align: right;\">\n",
              "      <th></th>\n",
              "      <th>data_atendimento</th>\n",
              "      <th>design_de_sobrancelhas</th>\n",
              "      <th>design_coloracao</th>\n",
              "      <th>design_coloracao_buco</th>\n",
              "      <th>buco</th>\n",
              "      <th>brown_lamination</th>\n",
              "      <th>micropigmentacao</th>\n",
              "      <th>extensao_de_cilios</th>\n",
              "      <th>lash_lifting</th>\n",
              "      <th>limpeza_de_pele</th>\n",
              "      <th>microagulhamento</th>\n",
              "      <th>peeling_quimico</th>\n",
              "      <th>massagem_relaxante</th>\n",
              "      <th>pacote_massagem_5</th>\n",
              "      <th>drenagem_linfatica</th>\n",
              "      <th>striort</th>\n",
              "      <th>qtde_clientes</th>\n",
              "      <th>faturamento</th>\n",
              "    </tr>\n",
              "  </thead>\n",
              "  <tbody>\n",
              "    <tr>\n",
              "      <th>377</th>\n",
              "      <td>2020-04-01</td>\n",
              "      <td>1.0</td>\n",
              "      <td>0.0</td>\n",
              "      <td>1.0</td>\n",
              "      <td>0.0</td>\n",
              "      <td>0.0</td>\n",
              "      <td>0.0</td>\n",
              "      <td>2.0</td>\n",
              "      <td>0.0</td>\n",
              "      <td>1.0</td>\n",
              "      <td>0.0</td>\n",
              "      <td>0.0</td>\n",
              "      <td>0.0</td>\n",
              "      <td>0.0</td>\n",
              "      <td>0.0</td>\n",
              "      <td>0.0</td>\n",
              "      <td>4.0</td>\n",
              "      <td>360.0</td>\n",
              "    </tr>\n",
              "  </tbody>\n",
              "</table>\n",
              "</div>"
            ],
            "text/plain": [
              "    data_atendimento  design_de_sobrancelhas  ...  qtde_clientes  faturamento\n",
              "377       2020-04-01                     1.0  ...            4.0        360.0\n",
              "\n",
              "[1 rows x 18 columns]"
            ]
          },
          "metadata": {
            "tags": []
          },
          "execution_count": 14
        }
      ]
    },
    {
      "cell_type": "markdown",
      "metadata": {
        "id": "08jtShzxAwcg"
      },
      "source": [
        ""
      ]
    },
    {
      "cell_type": "markdown",
      "metadata": {
        "id": "ELH5LCnb_mH-"
      },
      "source": [
        " ## 4. Machine learning\n",
        " \n",
        " \n",
        "  \n",
        "   -  Definir X_train e X_test : \n",
        "       - X_train são os dados antes da pandemia \n",
        "       - X_test são os dados após a pandemia\n",
        "       - x prede sao os dados durante a pandemia "
      ]
    },
    {
      "cell_type": "markdown",
      "metadata": {
        "id": "ZWBJiXD0_mH_"
      },
      "source": [
        " - Definindo as amostras de treino e teste"
      ]
    },
    {
      "cell_type": "code",
      "metadata": {
        "id": "ZpuPa2KV_mIA"
      },
      "source": [
        "from sklearn.model_selection import train_test_split"
      ],
      "execution_count": 15,
      "outputs": []
    },
    {
      "cell_type": "code",
      "metadata": {
        "id": "k8jpXxI__mIA"
      },
      "source": [
        "train, test= train_test_split(dados, test_size=0.25 , random_state=123)"
      ],
      "execution_count": 16,
      "outputs": []
    },
    {
      "cell_type": "code",
      "metadata": {
        "id": "M_ARkL-0_mIA",
        "outputId": "ccba055a-ecc7-4777-d173-fa4ff82457b8",
        "colab": {
          "base_uri": "https://localhost:8080/"
        }
      },
      "source": [
        "train.info()"
      ],
      "execution_count": 17,
      "outputs": [
        {
          "output_type": "stream",
          "text": [
            "<class 'pandas.core.frame.DataFrame'>\n",
            "Int64Index: 546 entries, 714 to 510\n",
            "Data columns (total 18 columns):\n",
            " #   Column                  Non-Null Count  Dtype         \n",
            "---  ------                  --------------  -----         \n",
            " 0   data_atendimento        546 non-null    datetime64[ns]\n",
            " 1   design_de_sobrancelhas  546 non-null    float64       \n",
            " 2   design_coloracao        546 non-null    float64       \n",
            " 3   design_coloracao_buco   546 non-null    float64       \n",
            " 4   buco                    546 non-null    float64       \n",
            " 5   brown_lamination        546 non-null    float64       \n",
            " 6   micropigmentacao        546 non-null    float64       \n",
            " 7   extensao_de_cilios      546 non-null    float64       \n",
            " 8   lash_lifting            546 non-null    float64       \n",
            " 9   limpeza_de_pele         546 non-null    float64       \n",
            " 10  microagulhamento        546 non-null    float64       \n",
            " 11  peeling_quimico         546 non-null    float64       \n",
            " 12  massagem_relaxante      546 non-null    float64       \n",
            " 13  pacote_massagem_5       546 non-null    float64       \n",
            " 14  drenagem_linfatica      546 non-null    float64       \n",
            " 15  striort                 546 non-null    float64       \n",
            " 16  qtde_clientes           546 non-null    float64       \n",
            " 17  faturamento             546 non-null    float64       \n",
            "dtypes: datetime64[ns](1), float64(17)\n",
            "memory usage: 81.0 KB\n"
          ],
          "name": "stdout"
        }
      ]
    },
    {
      "cell_type": "code",
      "metadata": {
        "id": "zB4UeoyG_mIB",
        "outputId": "591e4c3b-cda5-4e28-d2e4-4e75ac32f0e3",
        "colab": {
          "base_uri": "https://localhost:8080/",
          "height": 439
        }
      },
      "source": [
        "train"
      ],
      "execution_count": 18,
      "outputs": [
        {
          "output_type": "execute_result",
          "data": {
            "text/html": [
              "<div>\n",
              "<style scoped>\n",
              "    .dataframe tbody tr th:only-of-type {\n",
              "        vertical-align: middle;\n",
              "    }\n",
              "\n",
              "    .dataframe tbody tr th {\n",
              "        vertical-align: top;\n",
              "    }\n",
              "\n",
              "    .dataframe thead th {\n",
              "        text-align: right;\n",
              "    }\n",
              "</style>\n",
              "<table border=\"1\" class=\"dataframe\">\n",
              "  <thead>\n",
              "    <tr style=\"text-align: right;\">\n",
              "      <th></th>\n",
              "      <th>data_atendimento</th>\n",
              "      <th>design_de_sobrancelhas</th>\n",
              "      <th>design_coloracao</th>\n",
              "      <th>design_coloracao_buco</th>\n",
              "      <th>buco</th>\n",
              "      <th>brown_lamination</th>\n",
              "      <th>micropigmentacao</th>\n",
              "      <th>extensao_de_cilios</th>\n",
              "      <th>lash_lifting</th>\n",
              "      <th>limpeza_de_pele</th>\n",
              "      <th>microagulhamento</th>\n",
              "      <th>peeling_quimico</th>\n",
              "      <th>massagem_relaxante</th>\n",
              "      <th>pacote_massagem_5</th>\n",
              "      <th>drenagem_linfatica</th>\n",
              "      <th>striort</th>\n",
              "      <th>qtde_clientes</th>\n",
              "      <th>faturamento</th>\n",
              "    </tr>\n",
              "  </thead>\n",
              "  <tbody>\n",
              "    <tr>\n",
              "      <th>714</th>\n",
              "      <td>2020-06-12</td>\n",
              "      <td>0.0</td>\n",
              "      <td>0.0</td>\n",
              "      <td>0.0</td>\n",
              "      <td>0.0</td>\n",
              "      <td>0.0</td>\n",
              "      <td>0.0</td>\n",
              "      <td>0.0</td>\n",
              "      <td>0.0</td>\n",
              "      <td>0.0</td>\n",
              "      <td>0.0</td>\n",
              "      <td>0.0</td>\n",
              "      <td>0.0</td>\n",
              "      <td>0.0</td>\n",
              "      <td>0.0</td>\n",
              "      <td>0.0</td>\n",
              "      <td>0.0</td>\n",
              "      <td>0.0</td>\n",
              "    </tr>\n",
              "    <tr>\n",
              "      <th>468</th>\n",
              "      <td>2020-04-04</td>\n",
              "      <td>0.0</td>\n",
              "      <td>0.0</td>\n",
              "      <td>0.0</td>\n",
              "      <td>0.0</td>\n",
              "      <td>0.0</td>\n",
              "      <td>0.0</td>\n",
              "      <td>0.0</td>\n",
              "      <td>0.0</td>\n",
              "      <td>0.0</td>\n",
              "      <td>0.0</td>\n",
              "      <td>0.0</td>\n",
              "      <td>0.0</td>\n",
              "      <td>0.0</td>\n",
              "      <td>0.0</td>\n",
              "      <td>0.0</td>\n",
              "      <td>0.0</td>\n",
              "      <td>0.0</td>\n",
              "    </tr>\n",
              "    <tr>\n",
              "      <th>726</th>\n",
              "      <td>2020-12-18</td>\n",
              "      <td>0.0</td>\n",
              "      <td>0.0</td>\n",
              "      <td>0.0</td>\n",
              "      <td>0.0</td>\n",
              "      <td>0.0</td>\n",
              "      <td>0.0</td>\n",
              "      <td>0.0</td>\n",
              "      <td>0.0</td>\n",
              "      <td>0.0</td>\n",
              "      <td>0.0</td>\n",
              "      <td>0.0</td>\n",
              "      <td>0.0</td>\n",
              "      <td>0.0</td>\n",
              "      <td>0.0</td>\n",
              "      <td>0.0</td>\n",
              "      <td>0.0</td>\n",
              "      <td>0.0</td>\n",
              "    </tr>\n",
              "    <tr>\n",
              "      <th>398</th>\n",
              "      <td>2020-01-25</td>\n",
              "      <td>0.0</td>\n",
              "      <td>0.0</td>\n",
              "      <td>0.0</td>\n",
              "      <td>0.0</td>\n",
              "      <td>0.0</td>\n",
              "      <td>0.0</td>\n",
              "      <td>0.0</td>\n",
              "      <td>0.0</td>\n",
              "      <td>0.0</td>\n",
              "      <td>0.0</td>\n",
              "      <td>0.0</td>\n",
              "      <td>0.0</td>\n",
              "      <td>0.0</td>\n",
              "      <td>0.0</td>\n",
              "      <td>0.0</td>\n",
              "      <td>0.0</td>\n",
              "      <td>0.0</td>\n",
              "    </tr>\n",
              "    <tr>\n",
              "      <th>66</th>\n",
              "      <td>2019-02-27</td>\n",
              "      <td>0.0</td>\n",
              "      <td>0.0</td>\n",
              "      <td>0.0</td>\n",
              "      <td>0.0</td>\n",
              "      <td>0.0</td>\n",
              "      <td>0.0</td>\n",
              "      <td>0.0</td>\n",
              "      <td>0.0</td>\n",
              "      <td>4.0</td>\n",
              "      <td>0.0</td>\n",
              "      <td>0.0</td>\n",
              "      <td>0.0</td>\n",
              "      <td>1.0</td>\n",
              "      <td>0.0</td>\n",
              "      <td>0.0</td>\n",
              "      <td>4.0</td>\n",
              "      <td>570.0</td>\n",
              "    </tr>\n",
              "    <tr>\n",
              "      <th>...</th>\n",
              "      <td>...</td>\n",
              "      <td>...</td>\n",
              "      <td>...</td>\n",
              "      <td>...</td>\n",
              "      <td>...</td>\n",
              "      <td>...</td>\n",
              "      <td>...</td>\n",
              "      <td>...</td>\n",
              "      <td>...</td>\n",
              "      <td>...</td>\n",
              "      <td>...</td>\n",
              "      <td>...</td>\n",
              "      <td>...</td>\n",
              "      <td>...</td>\n",
              "      <td>...</td>\n",
              "      <td>...</td>\n",
              "      <td>...</td>\n",
              "      <td>...</td>\n",
              "    </tr>\n",
              "    <tr>\n",
              "      <th>98</th>\n",
              "      <td>2019-03-31</td>\n",
              "      <td>0.0</td>\n",
              "      <td>0.0</td>\n",
              "      <td>0.0</td>\n",
              "      <td>0.0</td>\n",
              "      <td>0.0</td>\n",
              "      <td>0.0</td>\n",
              "      <td>0.0</td>\n",
              "      <td>0.0</td>\n",
              "      <td>0.0</td>\n",
              "      <td>0.0</td>\n",
              "      <td>0.0</td>\n",
              "      <td>0.0</td>\n",
              "      <td>0.0</td>\n",
              "      <td>0.0</td>\n",
              "      <td>0.0</td>\n",
              "      <td>0.0</td>\n",
              "      <td>0.0</td>\n",
              "    </tr>\n",
              "    <tr>\n",
              "      <th>322</th>\n",
              "      <td>2019-10-11</td>\n",
              "      <td>0.0</td>\n",
              "      <td>0.0</td>\n",
              "      <td>0.0</td>\n",
              "      <td>0.0</td>\n",
              "      <td>0.0</td>\n",
              "      <td>0.0</td>\n",
              "      <td>0.0</td>\n",
              "      <td>0.0</td>\n",
              "      <td>0.0</td>\n",
              "      <td>0.0</td>\n",
              "      <td>0.0</td>\n",
              "      <td>0.0</td>\n",
              "      <td>0.0</td>\n",
              "      <td>0.0</td>\n",
              "      <td>0.0</td>\n",
              "      <td>0.0</td>\n",
              "      <td>0.0</td>\n",
              "    </tr>\n",
              "    <tr>\n",
              "      <th>382</th>\n",
              "      <td>2020-09-01</td>\n",
              "      <td>0.0</td>\n",
              "      <td>0.0</td>\n",
              "      <td>1.0</td>\n",
              "      <td>0.0</td>\n",
              "      <td>0.0</td>\n",
              "      <td>0.0</td>\n",
              "      <td>0.0</td>\n",
              "      <td>0.0</td>\n",
              "      <td>0.0</td>\n",
              "      <td>0.0</td>\n",
              "      <td>0.0</td>\n",
              "      <td>0.0</td>\n",
              "      <td>2.0</td>\n",
              "      <td>0.0</td>\n",
              "      <td>0.0</td>\n",
              "      <td>3.0</td>\n",
              "      <td>550.0</td>\n",
              "    </tr>\n",
              "    <tr>\n",
              "      <th>365</th>\n",
              "      <td>2019-12-23</td>\n",
              "      <td>0.0</td>\n",
              "      <td>0.0</td>\n",
              "      <td>1.0</td>\n",
              "      <td>1.0</td>\n",
              "      <td>0.0</td>\n",
              "      <td>0.0</td>\n",
              "      <td>0.0</td>\n",
              "      <td>0.0</td>\n",
              "      <td>0.0</td>\n",
              "      <td>0.0</td>\n",
              "      <td>0.0</td>\n",
              "      <td>0.0</td>\n",
              "      <td>0.0</td>\n",
              "      <td>0.0</td>\n",
              "      <td>0.0</td>\n",
              "      <td>2.0</td>\n",
              "      <td>60.0</td>\n",
              "    </tr>\n",
              "    <tr>\n",
              "      <th>510</th>\n",
              "      <td>2020-05-16</td>\n",
              "      <td>0.0</td>\n",
              "      <td>0.0</td>\n",
              "      <td>0.0</td>\n",
              "      <td>0.0</td>\n",
              "      <td>0.0</td>\n",
              "      <td>0.0</td>\n",
              "      <td>0.0</td>\n",
              "      <td>0.0</td>\n",
              "      <td>0.0</td>\n",
              "      <td>0.0</td>\n",
              "      <td>0.0</td>\n",
              "      <td>0.0</td>\n",
              "      <td>0.0</td>\n",
              "      <td>0.0</td>\n",
              "      <td>0.0</td>\n",
              "      <td>0.0</td>\n",
              "      <td>0.0</td>\n",
              "    </tr>\n",
              "  </tbody>\n",
              "</table>\n",
              "<p>546 rows × 18 columns</p>\n",
              "</div>"
            ],
            "text/plain": [
              "    data_atendimento  design_de_sobrancelhas  ...  qtde_clientes  faturamento\n",
              "714       2020-06-12                     0.0  ...            0.0          0.0\n",
              "468       2020-04-04                     0.0  ...            0.0          0.0\n",
              "726       2020-12-18                     0.0  ...            0.0          0.0\n",
              "398       2020-01-25                     0.0  ...            0.0          0.0\n",
              "66        2019-02-27                     0.0  ...            4.0        570.0\n",
              "..               ...                     ...  ...            ...          ...\n",
              "98        2019-03-31                     0.0  ...            0.0          0.0\n",
              "322       2019-10-11                     0.0  ...            0.0          0.0\n",
              "382       2020-09-01                     0.0  ...            3.0        550.0\n",
              "365       2019-12-23                     0.0  ...            2.0         60.0\n",
              "510       2020-05-16                     0.0  ...            0.0          0.0\n",
              "\n",
              "[546 rows x 18 columns]"
            ]
          },
          "metadata": {
            "tags": []
          },
          "execution_count": 18
        }
      ]
    },
    {
      "cell_type": "code",
      "metadata": {
        "id": "dDlf1Yxg_mIB",
        "outputId": "0c4729ed-66da-4f68-ec74-ca37d7f281a6",
        "colab": {
          "base_uri": "https://localhost:8080/"
        }
      },
      "source": [
        "test.info()"
      ],
      "execution_count": 19,
      "outputs": [
        {
          "output_type": "stream",
          "text": [
            "<class 'pandas.core.frame.DataFrame'>\n",
            "Int64Index: 183 entries, 230 to 102\n",
            "Data columns (total 18 columns):\n",
            " #   Column                  Non-Null Count  Dtype         \n",
            "---  ------                  --------------  -----         \n",
            " 0   data_atendimento        183 non-null    datetime64[ns]\n",
            " 1   design_de_sobrancelhas  183 non-null    float64       \n",
            " 2   design_coloracao        183 non-null    float64       \n",
            " 3   design_coloracao_buco   183 non-null    float64       \n",
            " 4   buco                    183 non-null    float64       \n",
            " 5   brown_lamination        183 non-null    float64       \n",
            " 6   micropigmentacao        183 non-null    float64       \n",
            " 7   extensao_de_cilios      183 non-null    float64       \n",
            " 8   lash_lifting            183 non-null    float64       \n",
            " 9   limpeza_de_pele         183 non-null    float64       \n",
            " 10  microagulhamento        183 non-null    float64       \n",
            " 11  peeling_quimico         183 non-null    float64       \n",
            " 12  massagem_relaxante      183 non-null    float64       \n",
            " 13  pacote_massagem_5       183 non-null    float64       \n",
            " 14  drenagem_linfatica      183 non-null    float64       \n",
            " 15  striort                 183 non-null    float64       \n",
            " 16  qtde_clientes           183 non-null    float64       \n",
            " 17  faturamento             183 non-null    float64       \n",
            "dtypes: datetime64[ns](1), float64(17)\n",
            "memory usage: 27.2 KB\n"
          ],
          "name": "stdout"
        }
      ]
    },
    {
      "cell_type": "code",
      "metadata": {
        "id": "LtdfOR3o_mIC",
        "outputId": "641b69cf-ed6d-4374-8879-11d8e4be5fa7",
        "colab": {
          "base_uri": "https://localhost:8080/",
          "height": 439
        }
      },
      "source": [
        "test"
      ],
      "execution_count": 20,
      "outputs": [
        {
          "output_type": "execute_result",
          "data": {
            "text/html": [
              "<div>\n",
              "<style scoped>\n",
              "    .dataframe tbody tr th:only-of-type {\n",
              "        vertical-align: middle;\n",
              "    }\n",
              "\n",
              "    .dataframe tbody tr th {\n",
              "        vertical-align: top;\n",
              "    }\n",
              "\n",
              "    .dataframe thead th {\n",
              "        text-align: right;\n",
              "    }\n",
              "</style>\n",
              "<table border=\"1\" class=\"dataframe\">\n",
              "  <thead>\n",
              "    <tr style=\"text-align: right;\">\n",
              "      <th></th>\n",
              "      <th>data_atendimento</th>\n",
              "      <th>design_de_sobrancelhas</th>\n",
              "      <th>design_coloracao</th>\n",
              "      <th>design_coloracao_buco</th>\n",
              "      <th>buco</th>\n",
              "      <th>brown_lamination</th>\n",
              "      <th>micropigmentacao</th>\n",
              "      <th>extensao_de_cilios</th>\n",
              "      <th>lash_lifting</th>\n",
              "      <th>limpeza_de_pele</th>\n",
              "      <th>microagulhamento</th>\n",
              "      <th>peeling_quimico</th>\n",
              "      <th>massagem_relaxante</th>\n",
              "      <th>pacote_massagem_5</th>\n",
              "      <th>drenagem_linfatica</th>\n",
              "      <th>striort</th>\n",
              "      <th>qtde_clientes</th>\n",
              "      <th>faturamento</th>\n",
              "    </tr>\n",
              "  </thead>\n",
              "  <tbody>\n",
              "    <tr>\n",
              "      <th>230</th>\n",
              "      <td>2019-10-08</td>\n",
              "      <td>0.0</td>\n",
              "      <td>0.0</td>\n",
              "      <td>0.0</td>\n",
              "      <td>0.0</td>\n",
              "      <td>0.0</td>\n",
              "      <td>0.0</td>\n",
              "      <td>0.0</td>\n",
              "      <td>0.0</td>\n",
              "      <td>0.0</td>\n",
              "      <td>0.0</td>\n",
              "      <td>0.0</td>\n",
              "      <td>0.0</td>\n",
              "      <td>0.0</td>\n",
              "      <td>0.0</td>\n",
              "      <td>0.0</td>\n",
              "      <td>0.0</td>\n",
              "      <td>0.0</td>\n",
              "    </tr>\n",
              "    <tr>\n",
              "      <th>345</th>\n",
              "      <td>2019-03-12</td>\n",
              "      <td>0.0</td>\n",
              "      <td>0.0</td>\n",
              "      <td>12.0</td>\n",
              "      <td>0.0</td>\n",
              "      <td>0.0</td>\n",
              "      <td>0.0</td>\n",
              "      <td>0.0</td>\n",
              "      <td>0.0</td>\n",
              "      <td>1.0</td>\n",
              "      <td>0.0</td>\n",
              "      <td>0.0</td>\n",
              "      <td>1.0</td>\n",
              "      <td>0.0</td>\n",
              "      <td>0.0</td>\n",
              "      <td>0.0</td>\n",
              "      <td>12.0</td>\n",
              "      <td>760.0</td>\n",
              "    </tr>\n",
              "    <tr>\n",
              "      <th>332</th>\n",
              "      <td>2019-11-20</td>\n",
              "      <td>0.0</td>\n",
              "      <td>0.0</td>\n",
              "      <td>0.0</td>\n",
              "      <td>0.0</td>\n",
              "      <td>0.0</td>\n",
              "      <td>0.0</td>\n",
              "      <td>0.0</td>\n",
              "      <td>0.0</td>\n",
              "      <td>0.0</td>\n",
              "      <td>0.0</td>\n",
              "      <td>0.0</td>\n",
              "      <td>0.0</td>\n",
              "      <td>0.0</td>\n",
              "      <td>0.0</td>\n",
              "      <td>0.0</td>\n",
              "      <td>0.0</td>\n",
              "      <td>0.0</td>\n",
              "    </tr>\n",
              "    <tr>\n",
              "      <th>192</th>\n",
              "      <td>2019-03-07</td>\n",
              "      <td>0.0</td>\n",
              "      <td>0.0</td>\n",
              "      <td>0.0</td>\n",
              "      <td>0.0</td>\n",
              "      <td>0.0</td>\n",
              "      <td>0.0</td>\n",
              "      <td>0.0</td>\n",
              "      <td>0.0</td>\n",
              "      <td>0.0</td>\n",
              "      <td>0.0</td>\n",
              "      <td>0.0</td>\n",
              "      <td>0.0</td>\n",
              "      <td>0.0</td>\n",
              "      <td>0.0</td>\n",
              "      <td>0.0</td>\n",
              "      <td>0.0</td>\n",
              "      <td>0.0</td>\n",
              "    </tr>\n",
              "    <tr>\n",
              "      <th>724</th>\n",
              "      <td>2020-12-16</td>\n",
              "      <td>0.0</td>\n",
              "      <td>0.0</td>\n",
              "      <td>0.0</td>\n",
              "      <td>0.0</td>\n",
              "      <td>0.0</td>\n",
              "      <td>0.0</td>\n",
              "      <td>0.0</td>\n",
              "      <td>0.0</td>\n",
              "      <td>0.0</td>\n",
              "      <td>0.0</td>\n",
              "      <td>0.0</td>\n",
              "      <td>0.0</td>\n",
              "      <td>0.0</td>\n",
              "      <td>0.0</td>\n",
              "      <td>0.0</td>\n",
              "      <td>4.0</td>\n",
              "      <td>0.0</td>\n",
              "    </tr>\n",
              "    <tr>\n",
              "      <th>...</th>\n",
              "      <td>...</td>\n",
              "      <td>...</td>\n",
              "      <td>...</td>\n",
              "      <td>...</td>\n",
              "      <td>...</td>\n",
              "      <td>...</td>\n",
              "      <td>...</td>\n",
              "      <td>...</td>\n",
              "      <td>...</td>\n",
              "      <td>...</td>\n",
              "      <td>...</td>\n",
              "      <td>...</td>\n",
              "      <td>...</td>\n",
              "      <td>...</td>\n",
              "      <td>...</td>\n",
              "      <td>...</td>\n",
              "      <td>...</td>\n",
              "      <td>...</td>\n",
              "    </tr>\n",
              "    <tr>\n",
              "      <th>327</th>\n",
              "      <td>2019-11-15</td>\n",
              "      <td>0.0</td>\n",
              "      <td>1.0</td>\n",
              "      <td>0.0</td>\n",
              "      <td>0.0</td>\n",
              "      <td>0.0</td>\n",
              "      <td>0.0</td>\n",
              "      <td>0.0</td>\n",
              "      <td>0.0</td>\n",
              "      <td>3.0</td>\n",
              "      <td>0.0</td>\n",
              "      <td>1.0</td>\n",
              "      <td>0.0</td>\n",
              "      <td>0.0</td>\n",
              "      <td>0.0</td>\n",
              "      <td>0.0</td>\n",
              "      <td>4.0</td>\n",
              "      <td>430.0</td>\n",
              "    </tr>\n",
              "    <tr>\n",
              "      <th>529</th>\n",
              "      <td>2020-04-06</td>\n",
              "      <td>0.0</td>\n",
              "      <td>0.0</td>\n",
              "      <td>0.0</td>\n",
              "      <td>0.0</td>\n",
              "      <td>0.0</td>\n",
              "      <td>0.0</td>\n",
              "      <td>0.0</td>\n",
              "      <td>0.0</td>\n",
              "      <td>0.0</td>\n",
              "      <td>0.0</td>\n",
              "      <td>0.0</td>\n",
              "      <td>0.0</td>\n",
              "      <td>0.0</td>\n",
              "      <td>0.0</td>\n",
              "      <td>0.0</td>\n",
              "      <td>0.0</td>\n",
              "      <td>0.0</td>\n",
              "    </tr>\n",
              "    <tr>\n",
              "      <th>122</th>\n",
              "      <td>2019-04-24</td>\n",
              "      <td>0.0</td>\n",
              "      <td>0.0</td>\n",
              "      <td>1.0</td>\n",
              "      <td>0.0</td>\n",
              "      <td>0.0</td>\n",
              "      <td>0.0</td>\n",
              "      <td>0.0</td>\n",
              "      <td>0.0</td>\n",
              "      <td>1.0</td>\n",
              "      <td>0.0</td>\n",
              "      <td>0.0</td>\n",
              "      <td>0.0</td>\n",
              "      <td>0.0</td>\n",
              "      <td>0.0</td>\n",
              "      <td>0.0</td>\n",
              "      <td>2.0</td>\n",
              "      <td>130.0</td>\n",
              "    </tr>\n",
              "    <tr>\n",
              "      <th>40</th>\n",
              "      <td>2019-01-02</td>\n",
              "      <td>0.0</td>\n",
              "      <td>1.0</td>\n",
              "      <td>0.0</td>\n",
              "      <td>0.0</td>\n",
              "      <td>0.0</td>\n",
              "      <td>0.0</td>\n",
              "      <td>0.0</td>\n",
              "      <td>0.0</td>\n",
              "      <td>0.0</td>\n",
              "      <td>0.0</td>\n",
              "      <td>0.0</td>\n",
              "      <td>0.0</td>\n",
              "      <td>0.0</td>\n",
              "      <td>0.0</td>\n",
              "      <td>0.0</td>\n",
              "      <td>1.0</td>\n",
              "      <td>40.0</td>\n",
              "    </tr>\n",
              "    <tr>\n",
              "      <th>102</th>\n",
              "      <td>2019-04-04</td>\n",
              "      <td>0.0</td>\n",
              "      <td>0.0</td>\n",
              "      <td>0.0</td>\n",
              "      <td>0.0</td>\n",
              "      <td>0.0</td>\n",
              "      <td>0.0</td>\n",
              "      <td>0.0</td>\n",
              "      <td>0.0</td>\n",
              "      <td>0.0</td>\n",
              "      <td>0.0</td>\n",
              "      <td>0.0</td>\n",
              "      <td>0.0</td>\n",
              "      <td>0.0</td>\n",
              "      <td>0.0</td>\n",
              "      <td>0.0</td>\n",
              "      <td>0.0</td>\n",
              "      <td>0.0</td>\n",
              "    </tr>\n",
              "  </tbody>\n",
              "</table>\n",
              "<p>183 rows × 18 columns</p>\n",
              "</div>"
            ],
            "text/plain": [
              "    data_atendimento  design_de_sobrancelhas  ...  qtde_clientes  faturamento\n",
              "230       2019-10-08                     0.0  ...            0.0          0.0\n",
              "345       2019-03-12                     0.0  ...           12.0        760.0\n",
              "332       2019-11-20                     0.0  ...            0.0          0.0\n",
              "192       2019-03-07                     0.0  ...            0.0          0.0\n",
              "724       2020-12-16                     0.0  ...            4.0          0.0\n",
              "..               ...                     ...  ...            ...          ...\n",
              "327       2019-11-15                     0.0  ...            4.0        430.0\n",
              "529       2020-04-06                     0.0  ...            0.0          0.0\n",
              "122       2019-04-24                     0.0  ...            2.0        130.0\n",
              "40        2019-01-02                     0.0  ...            1.0         40.0\n",
              "102       2019-04-04                     0.0  ...            0.0          0.0\n",
              "\n",
              "[183 rows x 18 columns]"
            ]
          },
          "metadata": {
            "tags": []
          },
          "execution_count": 20
        }
      ]
    },
    {
      "cell_type": "code",
      "metadata": {
        "id": "4hFO_Uzy_mID"
      },
      "source": [
        "# train['design_coloracao_buco']=train['design_coloracao_buco'].apply(np.log1p)\n",
        "# train['faturamento']=train['faturamento'].apply(np.log1p)"
      ],
      "execution_count": 21,
      "outputs": []
    },
    {
      "cell_type": "code",
      "metadata": {
        "id": "2tvww9up_mIJ"
      },
      "source": [
        "# test['design_coloracao_buco']=test['design_coloracao_buco'].apply(np.log1p)\n",
        "# test['faturamento']=test['faturamento'].apply(np.log1p)"
      ],
      "execution_count": 22,
      "outputs": []
    },
    {
      "cell_type": "code",
      "metadata": {
        "id": "pWq61Udw_mIJ"
      },
      "source": [
        "X_cols = ['design_de_sobrancelhas', 'design_coloracao',\n",
        "       'design_coloracao_buco', 'buco', 'brown_lamination', 'micropigmentacao',\n",
        "       'extensao_de_cilios', 'lash_lifting', 'limpeza_de_pele',\n",
        "       'microagulhamento', 'peeling_quimico', 'massagem_relaxante',\n",
        "       'pacote_massagem_5', 'drenagem_linfatica', 'striort','qtde_clientes'\n",
        "         ]\n",
        "y_col = ['faturamento']"
      ],
      "execution_count": 35,
      "outputs": []
    },
    {
      "cell_type": "code",
      "metadata": {
        "id": "2pzopJ-3_mIK"
      },
      "source": [
        "X_train = train[X_cols]\n",
        "X_test = test[X_cols]\n",
        "y_train = train[y_col]\n",
        "y_test = test[y_col]"
      ],
      "execution_count": 36,
      "outputs": []
    },
    {
      "cell_type": "code",
      "metadata": {
        "id": "orQcOhl2_mIK",
        "outputId": "42ed0b63-3408-4fe3-dbc3-9c4165699a80",
        "colab": {
          "base_uri": "https://localhost:8080/",
          "height": 439
        }
      },
      "source": [
        "X_train"
      ],
      "execution_count": 37,
      "outputs": [
        {
          "output_type": "execute_result",
          "data": {
            "text/html": [
              "<div>\n",
              "<style scoped>\n",
              "    .dataframe tbody tr th:only-of-type {\n",
              "        vertical-align: middle;\n",
              "    }\n",
              "\n",
              "    .dataframe tbody tr th {\n",
              "        vertical-align: top;\n",
              "    }\n",
              "\n",
              "    .dataframe thead th {\n",
              "        text-align: right;\n",
              "    }\n",
              "</style>\n",
              "<table border=\"1\" class=\"dataframe\">\n",
              "  <thead>\n",
              "    <tr style=\"text-align: right;\">\n",
              "      <th></th>\n",
              "      <th>design_de_sobrancelhas</th>\n",
              "      <th>design_coloracao</th>\n",
              "      <th>design_coloracao_buco</th>\n",
              "      <th>buco</th>\n",
              "      <th>brown_lamination</th>\n",
              "      <th>micropigmentacao</th>\n",
              "      <th>extensao_de_cilios</th>\n",
              "      <th>lash_lifting</th>\n",
              "      <th>limpeza_de_pele</th>\n",
              "      <th>microagulhamento</th>\n",
              "      <th>peeling_quimico</th>\n",
              "      <th>massagem_relaxante</th>\n",
              "      <th>pacote_massagem_5</th>\n",
              "      <th>drenagem_linfatica</th>\n",
              "      <th>striort</th>\n",
              "      <th>qtde_clientes</th>\n",
              "    </tr>\n",
              "  </thead>\n",
              "  <tbody>\n",
              "    <tr>\n",
              "      <th>714</th>\n",
              "      <td>0.0</td>\n",
              "      <td>0.0</td>\n",
              "      <td>0.0</td>\n",
              "      <td>0.0</td>\n",
              "      <td>0.0</td>\n",
              "      <td>0.0</td>\n",
              "      <td>0.0</td>\n",
              "      <td>0.0</td>\n",
              "      <td>0.0</td>\n",
              "      <td>0.0</td>\n",
              "      <td>0.0</td>\n",
              "      <td>0.0</td>\n",
              "      <td>0.0</td>\n",
              "      <td>0.0</td>\n",
              "      <td>0.0</td>\n",
              "      <td>0.0</td>\n",
              "    </tr>\n",
              "    <tr>\n",
              "      <th>468</th>\n",
              "      <td>0.0</td>\n",
              "      <td>0.0</td>\n",
              "      <td>0.0</td>\n",
              "      <td>0.0</td>\n",
              "      <td>0.0</td>\n",
              "      <td>0.0</td>\n",
              "      <td>0.0</td>\n",
              "      <td>0.0</td>\n",
              "      <td>0.0</td>\n",
              "      <td>0.0</td>\n",
              "      <td>0.0</td>\n",
              "      <td>0.0</td>\n",
              "      <td>0.0</td>\n",
              "      <td>0.0</td>\n",
              "      <td>0.0</td>\n",
              "      <td>0.0</td>\n",
              "    </tr>\n",
              "    <tr>\n",
              "      <th>726</th>\n",
              "      <td>0.0</td>\n",
              "      <td>0.0</td>\n",
              "      <td>0.0</td>\n",
              "      <td>0.0</td>\n",
              "      <td>0.0</td>\n",
              "      <td>0.0</td>\n",
              "      <td>0.0</td>\n",
              "      <td>0.0</td>\n",
              "      <td>0.0</td>\n",
              "      <td>0.0</td>\n",
              "      <td>0.0</td>\n",
              "      <td>0.0</td>\n",
              "      <td>0.0</td>\n",
              "      <td>0.0</td>\n",
              "      <td>0.0</td>\n",
              "      <td>0.0</td>\n",
              "    </tr>\n",
              "    <tr>\n",
              "      <th>398</th>\n",
              "      <td>0.0</td>\n",
              "      <td>0.0</td>\n",
              "      <td>0.0</td>\n",
              "      <td>0.0</td>\n",
              "      <td>0.0</td>\n",
              "      <td>0.0</td>\n",
              "      <td>0.0</td>\n",
              "      <td>0.0</td>\n",
              "      <td>0.0</td>\n",
              "      <td>0.0</td>\n",
              "      <td>0.0</td>\n",
              "      <td>0.0</td>\n",
              "      <td>0.0</td>\n",
              "      <td>0.0</td>\n",
              "      <td>0.0</td>\n",
              "      <td>0.0</td>\n",
              "    </tr>\n",
              "    <tr>\n",
              "      <th>66</th>\n",
              "      <td>0.0</td>\n",
              "      <td>0.0</td>\n",
              "      <td>0.0</td>\n",
              "      <td>0.0</td>\n",
              "      <td>0.0</td>\n",
              "      <td>0.0</td>\n",
              "      <td>0.0</td>\n",
              "      <td>0.0</td>\n",
              "      <td>4.0</td>\n",
              "      <td>0.0</td>\n",
              "      <td>0.0</td>\n",
              "      <td>0.0</td>\n",
              "      <td>1.0</td>\n",
              "      <td>0.0</td>\n",
              "      <td>0.0</td>\n",
              "      <td>4.0</td>\n",
              "    </tr>\n",
              "    <tr>\n",
              "      <th>...</th>\n",
              "      <td>...</td>\n",
              "      <td>...</td>\n",
              "      <td>...</td>\n",
              "      <td>...</td>\n",
              "      <td>...</td>\n",
              "      <td>...</td>\n",
              "      <td>...</td>\n",
              "      <td>...</td>\n",
              "      <td>...</td>\n",
              "      <td>...</td>\n",
              "      <td>...</td>\n",
              "      <td>...</td>\n",
              "      <td>...</td>\n",
              "      <td>...</td>\n",
              "      <td>...</td>\n",
              "      <td>...</td>\n",
              "    </tr>\n",
              "    <tr>\n",
              "      <th>98</th>\n",
              "      <td>0.0</td>\n",
              "      <td>0.0</td>\n",
              "      <td>0.0</td>\n",
              "      <td>0.0</td>\n",
              "      <td>0.0</td>\n",
              "      <td>0.0</td>\n",
              "      <td>0.0</td>\n",
              "      <td>0.0</td>\n",
              "      <td>0.0</td>\n",
              "      <td>0.0</td>\n",
              "      <td>0.0</td>\n",
              "      <td>0.0</td>\n",
              "      <td>0.0</td>\n",
              "      <td>0.0</td>\n",
              "      <td>0.0</td>\n",
              "      <td>0.0</td>\n",
              "    </tr>\n",
              "    <tr>\n",
              "      <th>322</th>\n",
              "      <td>0.0</td>\n",
              "      <td>0.0</td>\n",
              "      <td>0.0</td>\n",
              "      <td>0.0</td>\n",
              "      <td>0.0</td>\n",
              "      <td>0.0</td>\n",
              "      <td>0.0</td>\n",
              "      <td>0.0</td>\n",
              "      <td>0.0</td>\n",
              "      <td>0.0</td>\n",
              "      <td>0.0</td>\n",
              "      <td>0.0</td>\n",
              "      <td>0.0</td>\n",
              "      <td>0.0</td>\n",
              "      <td>0.0</td>\n",
              "      <td>0.0</td>\n",
              "    </tr>\n",
              "    <tr>\n",
              "      <th>382</th>\n",
              "      <td>0.0</td>\n",
              "      <td>0.0</td>\n",
              "      <td>1.0</td>\n",
              "      <td>0.0</td>\n",
              "      <td>0.0</td>\n",
              "      <td>0.0</td>\n",
              "      <td>0.0</td>\n",
              "      <td>0.0</td>\n",
              "      <td>0.0</td>\n",
              "      <td>0.0</td>\n",
              "      <td>0.0</td>\n",
              "      <td>0.0</td>\n",
              "      <td>2.0</td>\n",
              "      <td>0.0</td>\n",
              "      <td>0.0</td>\n",
              "      <td>3.0</td>\n",
              "    </tr>\n",
              "    <tr>\n",
              "      <th>365</th>\n",
              "      <td>0.0</td>\n",
              "      <td>0.0</td>\n",
              "      <td>1.0</td>\n",
              "      <td>1.0</td>\n",
              "      <td>0.0</td>\n",
              "      <td>0.0</td>\n",
              "      <td>0.0</td>\n",
              "      <td>0.0</td>\n",
              "      <td>0.0</td>\n",
              "      <td>0.0</td>\n",
              "      <td>0.0</td>\n",
              "      <td>0.0</td>\n",
              "      <td>0.0</td>\n",
              "      <td>0.0</td>\n",
              "      <td>0.0</td>\n",
              "      <td>2.0</td>\n",
              "    </tr>\n",
              "    <tr>\n",
              "      <th>510</th>\n",
              "      <td>0.0</td>\n",
              "      <td>0.0</td>\n",
              "      <td>0.0</td>\n",
              "      <td>0.0</td>\n",
              "      <td>0.0</td>\n",
              "      <td>0.0</td>\n",
              "      <td>0.0</td>\n",
              "      <td>0.0</td>\n",
              "      <td>0.0</td>\n",
              "      <td>0.0</td>\n",
              "      <td>0.0</td>\n",
              "      <td>0.0</td>\n",
              "      <td>0.0</td>\n",
              "      <td>0.0</td>\n",
              "      <td>0.0</td>\n",
              "      <td>0.0</td>\n",
              "    </tr>\n",
              "  </tbody>\n",
              "</table>\n",
              "<p>546 rows × 16 columns</p>\n",
              "</div>"
            ],
            "text/plain": [
              "     design_de_sobrancelhas  design_coloracao  ...  striort  qtde_clientes\n",
              "714                     0.0               0.0  ...      0.0            0.0\n",
              "468                     0.0               0.0  ...      0.0            0.0\n",
              "726                     0.0               0.0  ...      0.0            0.0\n",
              "398                     0.0               0.0  ...      0.0            0.0\n",
              "66                      0.0               0.0  ...      0.0            4.0\n",
              "..                      ...               ...  ...      ...            ...\n",
              "98                      0.0               0.0  ...      0.0            0.0\n",
              "322                     0.0               0.0  ...      0.0            0.0\n",
              "382                     0.0               0.0  ...      0.0            3.0\n",
              "365                     0.0               0.0  ...      0.0            2.0\n",
              "510                     0.0               0.0  ...      0.0            0.0\n",
              "\n",
              "[546 rows x 16 columns]"
            ]
          },
          "metadata": {
            "tags": []
          },
          "execution_count": 37
        }
      ]
    },
    {
      "cell_type": "code",
      "metadata": {
        "id": "q3bodXum_mIL",
        "outputId": "d58fd8bf-9f26-49cb-b3fc-562b94fa6c31",
        "colab": {
          "base_uri": "https://localhost:8080/",
          "height": 419
        }
      },
      "source": [
        "y_train"
      ],
      "execution_count": 38,
      "outputs": [
        {
          "output_type": "execute_result",
          "data": {
            "text/html": [
              "<div>\n",
              "<style scoped>\n",
              "    .dataframe tbody tr th:only-of-type {\n",
              "        vertical-align: middle;\n",
              "    }\n",
              "\n",
              "    .dataframe tbody tr th {\n",
              "        vertical-align: top;\n",
              "    }\n",
              "\n",
              "    .dataframe thead th {\n",
              "        text-align: right;\n",
              "    }\n",
              "</style>\n",
              "<table border=\"1\" class=\"dataframe\">\n",
              "  <thead>\n",
              "    <tr style=\"text-align: right;\">\n",
              "      <th></th>\n",
              "      <th>faturamento</th>\n",
              "    </tr>\n",
              "  </thead>\n",
              "  <tbody>\n",
              "    <tr>\n",
              "      <th>714</th>\n",
              "      <td>0.0</td>\n",
              "    </tr>\n",
              "    <tr>\n",
              "      <th>468</th>\n",
              "      <td>0.0</td>\n",
              "    </tr>\n",
              "    <tr>\n",
              "      <th>726</th>\n",
              "      <td>0.0</td>\n",
              "    </tr>\n",
              "    <tr>\n",
              "      <th>398</th>\n",
              "      <td>0.0</td>\n",
              "    </tr>\n",
              "    <tr>\n",
              "      <th>66</th>\n",
              "      <td>570.0</td>\n",
              "    </tr>\n",
              "    <tr>\n",
              "      <th>...</th>\n",
              "      <td>...</td>\n",
              "    </tr>\n",
              "    <tr>\n",
              "      <th>98</th>\n",
              "      <td>0.0</td>\n",
              "    </tr>\n",
              "    <tr>\n",
              "      <th>322</th>\n",
              "      <td>0.0</td>\n",
              "    </tr>\n",
              "    <tr>\n",
              "      <th>382</th>\n",
              "      <td>550.0</td>\n",
              "    </tr>\n",
              "    <tr>\n",
              "      <th>365</th>\n",
              "      <td>60.0</td>\n",
              "    </tr>\n",
              "    <tr>\n",
              "      <th>510</th>\n",
              "      <td>0.0</td>\n",
              "    </tr>\n",
              "  </tbody>\n",
              "</table>\n",
              "<p>546 rows × 1 columns</p>\n",
              "</div>"
            ],
            "text/plain": [
              "     faturamento\n",
              "714          0.0\n",
              "468          0.0\n",
              "726          0.0\n",
              "398          0.0\n",
              "66         570.0\n",
              "..           ...\n",
              "98           0.0\n",
              "322          0.0\n",
              "382        550.0\n",
              "365         60.0\n",
              "510          0.0\n",
              "\n",
              "[546 rows x 1 columns]"
            ]
          },
          "metadata": {
            "tags": []
          },
          "execution_count": 38
        }
      ]
    },
    {
      "cell_type": "markdown",
      "metadata": {
        "id": "sfcyQAsZ_mIL"
      },
      "source": [
        " - Machine learning"
      ]
    },
    {
      "cell_type": "code",
      "metadata": {
        "id": "zOqACUin_mIL",
        "outputId": "02e9c594-81c3-43b4-9729-ac7eb9fe02d1",
        "colab": {
          "base_uri": "https://localhost:8080/"
        }
      },
      "source": [
        "from sklearn.neighbors import KNeighborsRegressor\n",
        "neigh = KNeighborsRegressor()\n",
        "neigh.fit(X_train,y_train)"
      ],
      "execution_count": 39,
      "outputs": [
        {
          "output_type": "execute_result",
          "data": {
            "text/plain": [
              "KNeighborsRegressor(algorithm='auto', leaf_size=30, metric='minkowski',\n",
              "                    metric_params=None, n_jobs=None, n_neighbors=5, p=2,\n",
              "                    weights='uniform')"
            ]
          },
          "metadata": {
            "tags": []
          },
          "execution_count": 39
        }
      ]
    },
    {
      "cell_type": "code",
      "metadata": {
        "id": "vftn6C2G_mIM"
      },
      "source": [
        "y_pred = neigh.predict(X_test)"
      ],
      "execution_count": 40,
      "outputs": []
    },
    {
      "cell_type": "code",
      "metadata": {
        "id": "wXhKFVX6_mIM",
        "outputId": "7c83f1c5-49b2-4064-ddff-a59b39020b4c",
        "colab": {
          "base_uri": "https://localhost:8080/"
        }
      },
      "source": [
        "# Root Mean Squared Error\n",
        "np.sqrt(np.mean((y_pred-y_test.values)**2))"
      ],
      "execution_count": 41,
      "outputs": [
        {
          "output_type": "execute_result",
          "data": {
            "text/plain": [
              "96.74782724435073"
            ]
          },
          "metadata": {
            "tags": []
          },
          "execution_count": 41
        }
      ]
    },
    {
      "cell_type": "code",
      "metadata": {
        "id": "D1Pfux86_mIM",
        "outputId": "c4922d00-91bc-4c52-b994-49a2aba8a424",
        "colab": {
          "base_uri": "https://localhost:8080/"
        }
      },
      "source": [
        "# Mean Squared Error\n",
        "np.mean((y_pred-y_test.values)**2)"
      ],
      "execution_count": 42,
      "outputs": [
        {
          "output_type": "execute_result",
          "data": {
            "text/plain": [
              "9360.142076502732"
            ]
          },
          "metadata": {
            "tags": []
          },
          "execution_count": 42
        }
      ]
    },
    {
      "cell_type": "code",
      "metadata": {
        "id": "34ZpZxwj_mIN",
        "outputId": "99375efa-fc38-464f-a9c6-70fa108d6a04",
        "colab": {
          "base_uri": "https://localhost:8080/"
        }
      },
      "source": [
        "# Mean Absolute Error\n",
        "np.mean(np.abs(y_pred-y_test.values))"
      ],
      "execution_count": 43,
      "outputs": [
        {
          "output_type": "execute_result",
          "data": {
            "text/plain": [
              "47.02732240437158"
            ]
          },
          "metadata": {
            "tags": []
          },
          "execution_count": 43
        }
      ]
    },
    {
      "cell_type": "code",
      "metadata": {
        "id": "kRdH9wvF_mIO",
        "outputId": "aca622b7-7060-46b6-d15f-407f45746319",
        "colab": {
          "base_uri": "https://localhost:8080/"
        }
      },
      "source": [
        "# R2 Score\n",
        "from sklearn.metrics import r2_score\n",
        "r2_score(y_test, y_pred)"
      ],
      "execution_count": 44,
      "outputs": [
        {
          "output_type": "execute_result",
          "data": {
            "text/plain": [
              "0.7956109966078049"
            ]
          },
          "metadata": {
            "tags": []
          },
          "execution_count": 44
        }
      ]
    },
    {
      "cell_type": "markdown",
      "metadata": {
        "id": "D-AgdQV2_mIP"
      },
      "source": [
        " - Triagem com outros modelos"
      ]
    },
    {
      "cell_type": "code",
      "metadata": {
        "id": "rlBKxohJ_mIQ",
        "outputId": "355b879d-2455-46ff-d02b-a401dbfea958",
        "colab": {
          "base_uri": "https://localhost:8080/"
        }
      },
      "source": [
        "from sklearn.linear_model import LinearRegression\n",
        "reg = LinearRegression()\n",
        "reg.fit(X_train, y_train)\n",
        "\n",
        "reg.score(X_test, y_test)"
      ],
      "execution_count": 45,
      "outputs": [
        {
          "output_type": "execute_result",
          "data": {
            "text/plain": [
              "1.0"
            ]
          },
          "metadata": {
            "tags": []
          },
          "execution_count": 45
        }
      ]
    },
    {
      "cell_type": "code",
      "metadata": {
        "id": "BTCyQY4A_mIQ",
        "outputId": "afea3932-2533-42e4-f22c-671bdb63a15a",
        "colab": {
          "base_uri": "https://localhost:8080/"
        }
      },
      "source": [
        "from sklearn.tree import DecisionTreeRegressor\n",
        "from sklearn.ensemble import RandomForestRegressor\n",
        "from sklearn.neural_network import MLPRegressor\n",
        "from xgboost import XGBRegressor\n",
        "\n",
        "regressor_list = [DecisionTreeRegressor(),\n",
        "                  RandomForestRegressor(),\n",
        "                  MLPRegressor(),\n",
        "                  XGBRegressor()\n",
        "                  ]\n",
        "\n",
        "for reg in regressor_list:\n",
        "  print('Treinando', reg.__class__.__name__)\n",
        "  reg.fit(X_train, y_train)\n",
        "  train_score = reg.score(X_train, y_train)\n",
        "  test_score = reg.score(X_test, y_test)\n",
        "  print('Train score', train_score)\n",
        "  print('Test score', test_score)\n",
        "  print('='*80)"
      ],
      "execution_count": 46,
      "outputs": [
        {
          "output_type": "stream",
          "text": [
            "Treinando DecisionTreeRegressor\n",
            "Train score 1.0\n",
            "Test score 0.8202340040489604\n",
            "================================================================================\n",
            "Treinando RandomForestRegressor\n"
          ],
          "name": "stdout"
        },
        {
          "output_type": "stream",
          "text": [
            "/usr/local/lib/python3.6/dist-packages/ipykernel_launcher.py:14: DataConversionWarning: A column-vector y was passed when a 1d array was expected. Please change the shape of y to (n_samples,), for example using ravel().\n",
            "  \n"
          ],
          "name": "stderr"
        },
        {
          "output_type": "stream",
          "text": [
            "Train score 0.9879893301000382\n",
            "Test score 0.9175525662455121\n",
            "================================================================================\n",
            "Treinando MLPRegressor\n"
          ],
          "name": "stdout"
        },
        {
          "output_type": "stream",
          "text": [
            "/usr/local/lib/python3.6/dist-packages/sklearn/neural_network/_multilayer_perceptron.py:1342: DataConversionWarning: A column-vector y was passed when a 1d array was expected. Please change the shape of y to (n_samples, ), for example using ravel().\n",
            "  y = column_or_1d(y, warn=True)\n"
          ],
          "name": "stderr"
        },
        {
          "output_type": "stream",
          "text": [
            "Train score 0.7336196343522792\n",
            "Test score 0.7727396675818408\n",
            "================================================================================\n",
            "Treinando XGBRegressor\n",
            "[22:02:48] WARNING: /workspace/src/objective/regression_obj.cu:152: reg:linear is now deprecated in favor of reg:squarederror.\n",
            "Train score 0.9871153935675625\n",
            "Test score 0.9544216332883296\n",
            "================================================================================\n"
          ],
          "name": "stdout"
        },
        {
          "output_type": "stream",
          "text": [
            "/usr/local/lib/python3.6/dist-packages/sklearn/neural_network/_multilayer_perceptron.py:571: ConvergenceWarning: Stochastic Optimizer: Maximum iterations (200) reached and the optimization hasn't converged yet.\n",
            "  % self.max_iter, ConvergenceWarning)\n"
          ],
          "name": "stderr"
        }
      ]
    },
    {
      "cell_type": "code",
      "metadata": {
        "id": "OBhayHA1_mIR",
        "outputId": "cc4562dd-e0ee-4e1a-f6a5-a3c6bc8c9e47",
        "colab": {
          "base_uri": "https://localhost:8080/"
        }
      },
      "source": [
        "from sklearn.tree import DecisionTreeRegressor\n",
        "from sklearn.ensemble import RandomForestRegressor\n",
        "from sklearn.neural_network import MLPRegressor\n",
        "\n",
        "\n",
        "regressor_list = [DecisionTreeRegressor(),\n",
        "                  RandomForestRegressor(),\n",
        "                  MLPRegressor(),\n",
        "            \n",
        "                  ]\n",
        "\n",
        "for reg in regressor_list:\n",
        "  print('Treinando', reg.__class__.__name__)\n",
        "  reg.fit(X_train, y_train)\n",
        "  train_score = reg.score(X_train, y_train)\n",
        "  test_score = reg.score(X_test, y_test)\n",
        "  print('Train score', train_score)\n",
        "  print('Test score', test_score)\n",
        "  print('='*80)"
      ],
      "execution_count": 47,
      "outputs": [
        {
          "output_type": "stream",
          "text": [
            "Treinando DecisionTreeRegressor\n",
            "Train score 1.0\n",
            "Test score 0.8301616737997993\n",
            "================================================================================\n",
            "Treinando RandomForestRegressor\n"
          ],
          "name": "stdout"
        },
        {
          "output_type": "stream",
          "text": [
            "/usr/local/lib/python3.6/dist-packages/ipykernel_launcher.py:14: DataConversionWarning: A column-vector y was passed when a 1d array was expected. Please change the shape of y to (n_samples,), for example using ravel().\n",
            "  \n"
          ],
          "name": "stderr"
        },
        {
          "output_type": "stream",
          "text": [
            "Train score 0.9879319721979789\n",
            "Test score 0.914400345850735\n",
            "================================================================================\n",
            "Treinando MLPRegressor\n"
          ],
          "name": "stdout"
        },
        {
          "output_type": "stream",
          "text": [
            "/usr/local/lib/python3.6/dist-packages/sklearn/neural_network/_multilayer_perceptron.py:1342: DataConversionWarning: A column-vector y was passed when a 1d array was expected. Please change the shape of y to (n_samples, ), for example using ravel().\n",
            "  y = column_or_1d(y, warn=True)\n"
          ],
          "name": "stderr"
        },
        {
          "output_type": "stream",
          "text": [
            "Train score 0.7498975998025035\n",
            "Test score 0.7823432964316244\n",
            "================================================================================\n"
          ],
          "name": "stdout"
        },
        {
          "output_type": "stream",
          "text": [
            "/usr/local/lib/python3.6/dist-packages/sklearn/neural_network/_multilayer_perceptron.py:571: ConvergenceWarning: Stochastic Optimizer: Maximum iterations (200) reached and the optimization hasn't converged yet.\n",
            "  % self.max_iter, ConvergenceWarning)\n"
          ],
          "name": "stderr"
        }
      ]
    },
    {
      "cell_type": "code",
      "metadata": {
        "id": "w5_VGWgt_mIR"
      },
      "source": [
        ""
      ],
      "execution_count": null,
      "outputs": []
    },
    {
      "cell_type": "code",
      "metadata": {
        "id": "enXMaJ3w_mIS"
      },
      "source": [
        ""
      ],
      "execution_count": null,
      "outputs": []
    },
    {
      "cell_type": "code",
      "metadata": {
        "id": "I-eqc7At_mIS"
      },
      "source": [
        ""
      ],
      "execution_count": null,
      "outputs": []
    },
    {
      "cell_type": "code",
      "metadata": {
        "id": "1KvkYnL8_mIS"
      },
      "source": [
        ""
      ],
      "execution_count": null,
      "outputs": []
    },
    {
      "cell_type": "code",
      "metadata": {
        "id": "HiylOa9g_mIT"
      },
      "source": [
        ""
      ],
      "execution_count": null,
      "outputs": []
    },
    {
      "cell_type": "code",
      "metadata": {
        "id": "Fos8EamH_mIT"
      },
      "source": [
        ""
      ],
      "execution_count": null,
      "outputs": []
    },
    {
      "cell_type": "code",
      "metadata": {
        "id": "19zYqopj_mIT"
      },
      "source": [
        ""
      ],
      "execution_count": null,
      "outputs": []
    },
    {
      "cell_type": "markdown",
      "metadata": {
        "id": "j0xubSwQ_mIU"
      },
      "source": [
        ""
      ]
    },
    {
      "cell_type": "code",
      "metadata": {
        "id": "8LBTpT-6_mIW"
      },
      "source": [
        "from sklearn.model_selection import train_test_split"
      ],
      "execution_count": null,
      "outputs": []
    },
    {
      "cell_type": "code",
      "metadata": {
        "id": "YliSO3Qv_mIX"
      },
      "source": [
        "train, test= train_test_split(dados, test_size=0.25 , random_state=123)"
      ],
      "execution_count": null,
      "outputs": []
    },
    {
      "cell_type": "code",
      "metadata": {
        "id": "Ti7dv6JX_mIX"
      },
      "source": [
        "train.info()"
      ],
      "execution_count": null,
      "outputs": []
    },
    {
      "cell_type": "code",
      "metadata": {
        "id": "tOmzgkAG_mIX"
      },
      "source": [
        "test.info()"
      ],
      "execution_count": null,
      "outputs": []
    },
    {
      "cell_type": "code",
      "metadata": {
        "id": "rk1C27eq_mIY"
      },
      "source": [
        ""
      ],
      "execution_count": null,
      "outputs": []
    }
  ]
}