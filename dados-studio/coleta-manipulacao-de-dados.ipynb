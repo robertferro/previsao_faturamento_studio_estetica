{
 "cells": [
  {
   "cell_type": "code",
   "execution_count": 1,
   "metadata": {},
   "outputs": [],
   "source": [
    "import pandas as pd\n",
    "import numpy as np"
   ]
  },
  {
   "cell_type": "markdown",
   "metadata": {},
   "source": [
    " - Criando um dicionario com todos os procedimentos e valores "
   ]
  },
  {
   "cell_type": "code",
   "execution_count": 2,
   "metadata": {},
   "outputs": [],
   "source": [
    "procedimentos = ['design_de_sobrancelhas', 'coloração_henna', 'buço', 'micropigmentação', 'limpeza_de_pele', 'microagulhamento'\n",
    "                 , 'peeling_químico', 'massagem_relaxante', 'pacote_massagem_5', 'drenagem_linfática',\n",
    "                'striort']\n",
    "\n",
    "preco = ['30','20','10','450','80', '200', '100', '80', '250', '80', '130']"
   ]
  },
  {
   "cell_type": "code",
   "execution_count": 3,
   "metadata": {},
   "outputs": [],
   "source": [
    "dados_studio  = {'procedimentos': procedimentos,\n",
    "                 'preco': preco\n",
    "    \n",
    "}"
   ]
  },
  {
   "cell_type": "code",
   "execution_count": 5,
   "metadata": {},
   "outputs": [],
   "source": [
    "procedimentos_precos = pd.DataFrame(dados_studio"
   ]
  },
  {
   "cell_type": "markdown",
   "metadata": {},
   "source": [
    " - criando um novo DataFrame para vicular os procedimentos a datas e quantidade que foram realizados  "
   ]
  },
  {
   "cell_type": "code",
   "execution_count": 9,
   "metadata": {},
   "outputs": [],
   "source": [
    "dados_procedimentos = {\n",
    "}"
   ]
  },
  {
   "cell_type": "code",
   "execution_count": 18,
   "metadata": {},
   "outputs": [],
   "source": [
    "procedimentos_realizados = pd.DataFrame(dados_procedimentos, columns =  ['data','design_de_sobrancelhas', 'coloração_henna', 'buço', 'micropigmentação', 'limpeza_de_pele', 'microagulhamento'\n",
    "                 , 'peeling_químico', 'massagem_relaxante', 'pacote_massagem_5', 'drenagem_linfática',\n",
    "                'striort'] )"
   ]
  },
  {
   "cell_type": "code",
   "execution_count": 20,
   "metadata": {},
   "outputs": [],
   "source": [
    "data = ['21/12/2018','22/12/2018','23/12/2018']"
   ]
  },
  {
   "cell_type": "code",
   "execution_count": 21,
   "metadata": {},
   "outputs": [],
   "source": [
    "procedimentos_realizados.data = data"
   ]
  },
  {
   "cell_type": "code",
   "execution_count": 22,
   "metadata": {},
   "outputs": [
    {
     "data": {
      "text/html": [
       "<div>\n",
       "<style scoped>\n",
       "    .dataframe tbody tr th:only-of-type {\n",
       "        vertical-align: middle;\n",
       "    }\n",
       "\n",
       "    .dataframe tbody tr th {\n",
       "        vertical-align: top;\n",
       "    }\n",
       "\n",
       "    .dataframe thead th {\n",
       "        text-align: right;\n",
       "    }\n",
       "</style>\n",
       "<table border=\"1\" class=\"dataframe\">\n",
       "  <thead>\n",
       "    <tr style=\"text-align: right;\">\n",
       "      <th></th>\n",
       "      <th>data</th>\n",
       "      <th>design_de_sobrancelhas</th>\n",
       "      <th>coloração_henna</th>\n",
       "      <th>buço</th>\n",
       "      <th>micropigmentação</th>\n",
       "      <th>limpeza_de_pele</th>\n",
       "      <th>microagulhamento</th>\n",
       "      <th>peeling_químico</th>\n",
       "      <th>massagem_relaxante</th>\n",
       "      <th>pacote_massagem_5</th>\n",
       "      <th>drenagem_linfática</th>\n",
       "      <th>striort</th>\n",
       "    </tr>\n",
       "  </thead>\n",
       "  <tbody>\n",
       "    <tr>\n",
       "      <th>0</th>\n",
       "      <td>21/12/2018</td>\n",
       "      <td>NaN</td>\n",
       "      <td>NaN</td>\n",
       "      <td>NaN</td>\n",
       "      <td>NaN</td>\n",
       "      <td>NaN</td>\n",
       "      <td>NaN</td>\n",
       "      <td>NaN</td>\n",
       "      <td>NaN</td>\n",
       "      <td>NaN</td>\n",
       "      <td>NaN</td>\n",
       "      <td>NaN</td>\n",
       "    </tr>\n",
       "    <tr>\n",
       "      <th>1</th>\n",
       "      <td>22/12/2018</td>\n",
       "      <td>NaN</td>\n",
       "      <td>NaN</td>\n",
       "      <td>NaN</td>\n",
       "      <td>NaN</td>\n",
       "      <td>NaN</td>\n",
       "      <td>NaN</td>\n",
       "      <td>NaN</td>\n",
       "      <td>NaN</td>\n",
       "      <td>NaN</td>\n",
       "      <td>NaN</td>\n",
       "      <td>NaN</td>\n",
       "    </tr>\n",
       "    <tr>\n",
       "      <th>2</th>\n",
       "      <td>23/12/2018</td>\n",
       "      <td>NaN</td>\n",
       "      <td>NaN</td>\n",
       "      <td>NaN</td>\n",
       "      <td>NaN</td>\n",
       "      <td>NaN</td>\n",
       "      <td>NaN</td>\n",
       "      <td>NaN</td>\n",
       "      <td>NaN</td>\n",
       "      <td>NaN</td>\n",
       "      <td>NaN</td>\n",
       "      <td>NaN</td>\n",
       "    </tr>\n",
       "  </tbody>\n",
       "</table>\n",
       "</div>"
      ],
      "text/plain": [
       "         data design_de_sobrancelhas coloração_henna buço micropigmentação  \\\n",
       "0  21/12/2018                    NaN             NaN  NaN              NaN   \n",
       "1  22/12/2018                    NaN             NaN  NaN              NaN   \n",
       "2  23/12/2018                    NaN             NaN  NaN              NaN   \n",
       "\n",
       "  limpeza_de_pele microagulhamento peeling_químico massagem_relaxante  \\\n",
       "0             NaN              NaN             NaN                NaN   \n",
       "1             NaN              NaN             NaN                NaN   \n",
       "2             NaN              NaN             NaN                NaN   \n",
       "\n",
       "  pacote_massagem_5 drenagem_linfática striort  \n",
       "0               NaN                NaN     NaN  \n",
       "1               NaN                NaN     NaN  \n",
       "2               NaN                NaN     NaN  "
      ]
     },
     "execution_count": 22,
     "metadata": {},
     "output_type": "execute_result"
    }
   ],
   "source": [
    "procedimentos_realizados"
   ]
  },
  {
   "cell_type": "code",
   "execution_count": null,
   "metadata": {},
   "outputs": [],
   "source": []
  }
 ],
 "metadata": {
  "kernelspec": {
   "display_name": "Python 3",
   "language": "python",
   "name": "python3"
  },
  "language_info": {
   "codemirror_mode": {
    "name": "ipython",
    "version": 3
   },
   "file_extension": ".py",
   "mimetype": "text/x-python",
   "name": "python",
   "nbconvert_exporter": "python",
   "pygments_lexer": "ipython3",
   "version": "3.8.3"
  }
 },
 "nbformat": 4,
 "nbformat_minor": 4
}
