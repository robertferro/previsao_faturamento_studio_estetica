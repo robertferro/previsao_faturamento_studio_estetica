{
 "cells": [
  {
   "cell_type": "markdown",
   "metadata": {},
   "source": [
    "## 1.Planejamento \n",
    "\n",
    " - Fazer a previsão do crescimento dos procedimentos e faturamento nosmeses que duraram a quarentena"
   ]
  },
  {
   "cell_type": "code",
   "execution_count": 1,
   "metadata": {},
   "outputs": [],
   "source": [
    "import pandas as pd\n",
    "import numpy as np\n",
    "import matplotlib.pyplot as plt\n",
    "import seaborn as sns"
   ]
  },
  {
   "cell_type": "markdown",
   "metadata": {},
   "source": [
    "## 2. Importando e fazeendo um tratamento na base de dados"
   ]
  },
  {
   "cell_type": "markdown",
   "metadata": {},
   "source": [
    " - Importandos os daddos do Studio Biena Guedes"
   ]
  },
  {
   "cell_type": "code",
   "execution_count": 2,
   "metadata": {},
   "outputs": [],
   "source": [
    "url='https://raw.githubusercontent.com/robertferro/studio-estetica/main/studio_estetica.csv'"
   ]
  },
  {
   "cell_type": "code",
   "execution_count": 3,
   "metadata": {},
   "outputs": [],
   "source": [
    "dados=pd.read_csv(url,sep=';',decimal=',')"
   ]
  },
  {
   "cell_type": "code",
   "execution_count": 4,
   "metadata": {},
   "outputs": [
    {
     "data": {
      "text/html": [
       "<div>\n",
       "<style scoped>\n",
       "    .dataframe tbody tr th:only-of-type {\n",
       "        vertical-align: middle;\n",
       "    }\n",
       "\n",
       "    .dataframe tbody tr th {\n",
       "        vertical-align: top;\n",
       "    }\n",
       "\n",
       "    .dataframe thead th {\n",
       "        text-align: right;\n",
       "    }\n",
       "</style>\n",
       "<table border=\"1\" class=\"dataframe\">\n",
       "  <thead>\n",
       "    <tr style=\"text-align: right;\">\n",
       "      <th></th>\n",
       "      <th>data_atendimento</th>\n",
       "      <th>design_de_sobrancelhas</th>\n",
       "      <th>design_coloracao</th>\n",
       "      <th>design_coloracao_buco</th>\n",
       "      <th>buco</th>\n",
       "      <th>brown_lamination</th>\n",
       "      <th>micropigmentacao</th>\n",
       "      <th>extensao_de_cilios</th>\n",
       "      <th>lash_lifting</th>\n",
       "      <th>limpeza_de_pele</th>\n",
       "      <th>microagulhamento</th>\n",
       "      <th>peeling_quimico</th>\n",
       "      <th>massagem_relaxante</th>\n",
       "      <th>pacote_massagem_5</th>\n",
       "      <th>drenagem_linfatica</th>\n",
       "      <th>striort</th>\n",
       "      <th>qtde_clientes</th>\n",
       "      <th>faturamento</th>\n",
       "    </tr>\n",
       "  </thead>\n",
       "  <tbody>\n",
       "    <tr>\n",
       "      <th>0</th>\n",
       "      <td>NaN</td>\n",
       "      <td>20.0</td>\n",
       "      <td>30.0</td>\n",
       "      <td>35.0</td>\n",
       "      <td>10.0</td>\n",
       "      <td>100.0</td>\n",
       "      <td>400.0</td>\n",
       "      <td>100.0</td>\n",
       "      <td>80.0</td>\n",
       "      <td>60.0</td>\n",
       "      <td>250.0</td>\n",
       "      <td>150.0</td>\n",
       "      <td>80.0</td>\n",
       "      <td>250.0</td>\n",
       "      <td>80.0</td>\n",
       "      <td>150.0</td>\n",
       "      <td>0.0</td>\n",
       "      <td>0.0</td>\n",
       "    </tr>\n",
       "    <tr>\n",
       "      <th>1</th>\n",
       "      <td>23/12/2018</td>\n",
       "      <td>0.0</td>\n",
       "      <td>0.0</td>\n",
       "      <td>7.0</td>\n",
       "      <td>0.0</td>\n",
       "      <td>0.0</td>\n",
       "      <td>0.0</td>\n",
       "      <td>0.0</td>\n",
       "      <td>0.0</td>\n",
       "      <td>1.0</td>\n",
       "      <td>0.0</td>\n",
       "      <td>0.0</td>\n",
       "      <td>0.0</td>\n",
       "      <td>0.0</td>\n",
       "      <td>0.0</td>\n",
       "      <td>0.0</td>\n",
       "      <td>7.0</td>\n",
       "      <td>305.0</td>\n",
       "    </tr>\n",
       "    <tr>\n",
       "      <th>2</th>\n",
       "      <td>24/12/2018</td>\n",
       "      <td>0.0</td>\n",
       "      <td>0.0</td>\n",
       "      <td>0.0</td>\n",
       "      <td>0.0</td>\n",
       "      <td>0.0</td>\n",
       "      <td>0.0</td>\n",
       "      <td>0.0</td>\n",
       "      <td>0.0</td>\n",
       "      <td>0.0</td>\n",
       "      <td>0.0</td>\n",
       "      <td>0.0</td>\n",
       "      <td>0.0</td>\n",
       "      <td>0.0</td>\n",
       "      <td>0.0</td>\n",
       "      <td>0.0</td>\n",
       "      <td>0.0</td>\n",
       "      <td>0.0</td>\n",
       "    </tr>\n",
       "    <tr>\n",
       "      <th>3</th>\n",
       "      <td>25/12/2018</td>\n",
       "      <td>0.0</td>\n",
       "      <td>0.0</td>\n",
       "      <td>0.0</td>\n",
       "      <td>0.0</td>\n",
       "      <td>0.0</td>\n",
       "      <td>0.0</td>\n",
       "      <td>0.0</td>\n",
       "      <td>0.0</td>\n",
       "      <td>0.0</td>\n",
       "      <td>0.0</td>\n",
       "      <td>0.0</td>\n",
       "      <td>0.0</td>\n",
       "      <td>0.0</td>\n",
       "      <td>0.0</td>\n",
       "      <td>0.0</td>\n",
       "      <td>0.0</td>\n",
       "      <td>0.0</td>\n",
       "    </tr>\n",
       "    <tr>\n",
       "      <th>4</th>\n",
       "      <td>26/12/2018</td>\n",
       "      <td>1.0</td>\n",
       "      <td>0.0</td>\n",
       "      <td>1.0</td>\n",
       "      <td>1.0</td>\n",
       "      <td>0.0</td>\n",
       "      <td>1.0</td>\n",
       "      <td>1.0</td>\n",
       "      <td>0.0</td>\n",
       "      <td>0.0</td>\n",
       "      <td>0.0</td>\n",
       "      <td>0.0</td>\n",
       "      <td>0.0</td>\n",
       "      <td>0.0</td>\n",
       "      <td>0.0</td>\n",
       "      <td>0.0</td>\n",
       "      <td>4.0</td>\n",
       "      <td>565.0</td>\n",
       "    </tr>\n",
       "  </tbody>\n",
       "</table>\n",
       "</div>"
      ],
      "text/plain": [
       "  data_atendimento  design_de_sobrancelhas  design_coloracao  \\\n",
       "0              NaN                    20.0              30.0   \n",
       "1       23/12/2018                     0.0               0.0   \n",
       "2       24/12/2018                     0.0               0.0   \n",
       "3       25/12/2018                     0.0               0.0   \n",
       "4       26/12/2018                     1.0               0.0   \n",
       "\n",
       "   design_coloracao_buco  buco  brown_lamination  micropigmentacao  \\\n",
       "0                   35.0  10.0             100.0             400.0   \n",
       "1                    7.0   0.0               0.0               0.0   \n",
       "2                    0.0   0.0               0.0               0.0   \n",
       "3                    0.0   0.0               0.0               0.0   \n",
       "4                    1.0   1.0               0.0               1.0   \n",
       "\n",
       "   extensao_de_cilios  lash_lifting  limpeza_de_pele  microagulhamento  \\\n",
       "0               100.0          80.0             60.0             250.0   \n",
       "1                 0.0           0.0              1.0               0.0   \n",
       "2                 0.0           0.0              0.0               0.0   \n",
       "3                 0.0           0.0              0.0               0.0   \n",
       "4                 1.0           0.0              0.0               0.0   \n",
       "\n",
       "   peeling_quimico  massagem_relaxante  pacote_massagem_5  drenagem_linfatica  \\\n",
       "0            150.0                80.0              250.0                80.0   \n",
       "1              0.0                 0.0                0.0                 0.0   \n",
       "2              0.0                 0.0                0.0                 0.0   \n",
       "3              0.0                 0.0                0.0                 0.0   \n",
       "4              0.0                 0.0                0.0                 0.0   \n",
       "\n",
       "   striort  qtde_clientes  faturamento  \n",
       "0    150.0            0.0          0.0  \n",
       "1      0.0            7.0        305.0  \n",
       "2      0.0            0.0          0.0  \n",
       "3      0.0            0.0          0.0  \n",
       "4      0.0            4.0        565.0  "
      ]
     },
     "execution_count": 4,
     "metadata": {},
     "output_type": "execute_result"
    }
   ],
   "source": [
    "dados.head()"
   ]
  },
  {
   "cell_type": "markdown",
   "metadata": {},
   "source": [
    " - Excluindo os valores nulos"
   ]
  },
  {
   "cell_type": "code",
   "execution_count": 5,
   "metadata": {},
   "outputs": [
    {
     "data": {
      "text/plain": [
       "data_atendimento          2\n",
       "design_de_sobrancelhas    0\n",
       "design_coloracao          0\n",
       "design_coloracao_buco     0\n",
       "buco                      0\n",
       "brown_lamination          0\n",
       "micropigmentacao          0\n",
       "extensao_de_cilios        0\n",
       "lash_lifting              0\n",
       "limpeza_de_pele           0\n",
       "microagulhamento          0\n",
       "peeling_quimico           0\n",
       "massagem_relaxante        0\n",
       "pacote_massagem_5         0\n",
       "drenagem_linfatica        0\n",
       "striort                   0\n",
       "qtde_clientes             0\n",
       "faturamento               0\n",
       "dtype: int64"
      ]
     },
     "execution_count": 5,
     "metadata": {},
     "output_type": "execute_result"
    }
   ],
   "source": [
    "dados.isna().sum()"
   ]
  },
  {
   "cell_type": "code",
   "execution_count": 6,
   "metadata": {},
   "outputs": [],
   "source": [
    "dados=dados.dropna()"
   ]
  },
  {
   "cell_type": "code",
   "execution_count": 7,
   "metadata": {},
   "outputs": [
    {
     "name": "stdout",
     "output_type": "stream",
     "text": [
      "<class 'pandas.core.frame.DataFrame'>\n",
      "Int64Index: 729 entries, 1 to 730\n",
      "Data columns (total 18 columns):\n",
      " #   Column                  Non-Null Count  Dtype  \n",
      "---  ------                  --------------  -----  \n",
      " 0   data_atendimento        729 non-null    object \n",
      " 1   design_de_sobrancelhas  729 non-null    float64\n",
      " 2   design_coloracao        729 non-null    float64\n",
      " 3   design_coloracao_buco   729 non-null    float64\n",
      " 4   buco                    729 non-null    float64\n",
      " 5   brown_lamination        729 non-null    float64\n",
      " 6   micropigmentacao        729 non-null    float64\n",
      " 7   extensao_de_cilios      729 non-null    float64\n",
      " 8   lash_lifting            729 non-null    float64\n",
      " 9   limpeza_de_pele         729 non-null    float64\n",
      " 10  microagulhamento        729 non-null    float64\n",
      " 11  peeling_quimico         729 non-null    float64\n",
      " 12  massagem_relaxante      729 non-null    float64\n",
      " 13  pacote_massagem_5       729 non-null    float64\n",
      " 14  drenagem_linfatica      729 non-null    float64\n",
      " 15  striort                 729 non-null    float64\n",
      " 16  qtde_clientes           729 non-null    float64\n",
      " 17  faturamento             729 non-null    float64\n",
      "dtypes: float64(17), object(1)\n",
      "memory usage: 108.2+ KB\n"
     ]
    }
   ],
   "source": [
    "dados.info()"
   ]
  },
  {
   "cell_type": "markdown",
   "metadata": {},
   "source": [
    " - Convertendo a coluna \"data_atendimento\" para o formato datetime"
   ]
  },
  {
   "cell_type": "code",
   "execution_count": 8,
   "metadata": {},
   "outputs": [],
   "source": [
    "dados['data_atendimento'] = pd.to_datetime(dados['data_atendimento'],format=r\"%d/%m/%Y\")"
   ]
  },
  {
   "cell_type": "markdown",
   "metadata": {},
   "source": [
    "## 3. EDA"
   ]
  },
  {
   "cell_type": "code",
   "execution_count": 9,
   "metadata": {},
   "outputs": [
    {
     "data": {
      "text/plain": [
       "<matplotlib.axes._subplots.AxesSubplot at 0x134d7e3a6d0>"
      ]
     },
     "execution_count": 9,
     "metadata": {},
     "output_type": "execute_result"
    },
    {
     "data": {
      "image/png": "[encoded data removed]",
      "text/plain": [
       "<Figure size 864x432 with 2 Axes>"
      ]
     },
     "metadata": {
      "needs_background": "light"
     },
     "output_type": "display_data"
    }
   ],
   "source": [
    "plt.figure(figsize=(12,6))\n",
    "sns.heatmap(dados.corr(), annot=True, center=0, cmap=\"YlGnBu\")"
   ]
  },
  {
   "cell_type": "code",
   "execution_count": 10,
   "metadata": {},
   "outputs": [
    {
     "data": {
      "text/html": [
       "<div>\n",
       "<style scoped>\n",
       "    .dataframe tbody tr th:only-of-type {\n",
       "        vertical-align: middle;\n",
       "    }\n",
       "\n",
       "    .dataframe tbody tr th {\n",
       "        vertical-align: top;\n",
       "    }\n",
       "\n",
       "    .dataframe thead th {\n",
       "        text-align: right;\n",
       "    }\n",
       "</style>\n",
       "<table border=\"1\" class=\"dataframe\">\n",
       "  <thead>\n",
       "    <tr style=\"text-align: right;\">\n",
       "      <th></th>\n",
       "      <th>count</th>\n",
       "      <th>mean</th>\n",
       "      <th>std</th>\n",
       "      <th>min</th>\n",
       "      <th>25%</th>\n",
       "      <th>50%</th>\n",
       "      <th>75%</th>\n",
       "      <th>max</th>\n",
       "    </tr>\n",
       "  </thead>\n",
       "  <tbody>\n",
       "    <tr>\n",
       "      <th>design_de_sobrancelhas</th>\n",
       "      <td>729.0</td>\n",
       "      <td>0.400549</td>\n",
       "      <td>0.852469</td>\n",
       "      <td>0.0</td>\n",
       "      <td>0.0</td>\n",
       "      <td>0.0</td>\n",
       "      <td>0.0</td>\n",
       "      <td>5.0</td>\n",
       "    </tr>\n",
       "    <tr>\n",
       "      <th>design_coloracao</th>\n",
       "      <td>729.0</td>\n",
       "      <td>0.231824</td>\n",
       "      <td>0.583450</td>\n",
       "      <td>0.0</td>\n",
       "      <td>0.0</td>\n",
       "      <td>0.0</td>\n",
       "      <td>0.0</td>\n",
       "      <td>4.0</td>\n",
       "    </tr>\n",
       "    <tr>\n",
       "      <th>design_coloracao_buco</th>\n",
       "      <td>729.0</td>\n",
       "      <td>0.703704</td>\n",
       "      <td>1.944985</td>\n",
       "      <td>0.0</td>\n",
       "      <td>0.0</td>\n",
       "      <td>0.0</td>\n",
       "      <td>1.0</td>\n",
       "      <td>19.0</td>\n",
       "    </tr>\n",
       "    <tr>\n",
       "      <th>buco</th>\n",
       "      <td>729.0</td>\n",
       "      <td>0.215364</td>\n",
       "      <td>0.580342</td>\n",
       "      <td>0.0</td>\n",
       "      <td>0.0</td>\n",
       "      <td>0.0</td>\n",
       "      <td>0.0</td>\n",
       "      <td>4.0</td>\n",
       "    </tr>\n",
       "    <tr>\n",
       "      <th>brown_lamination</th>\n",
       "      <td>729.0</td>\n",
       "      <td>0.001372</td>\n",
       "      <td>0.037037</td>\n",
       "      <td>0.0</td>\n",
       "      <td>0.0</td>\n",
       "      <td>0.0</td>\n",
       "      <td>0.0</td>\n",
       "      <td>1.0</td>\n",
       "    </tr>\n",
       "    <tr>\n",
       "      <th>micropigmentacao</th>\n",
       "      <td>729.0</td>\n",
       "      <td>0.031481</td>\n",
       "      <td>0.180924</td>\n",
       "      <td>0.0</td>\n",
       "      <td>0.0</td>\n",
       "      <td>0.0</td>\n",
       "      <td>0.0</td>\n",
       "      <td>2.0</td>\n",
       "    </tr>\n",
       "    <tr>\n",
       "      <th>extensao_de_cilios</th>\n",
       "      <td>729.0</td>\n",
       "      <td>0.039781</td>\n",
       "      <td>0.200776</td>\n",
       "      <td>0.0</td>\n",
       "      <td>0.0</td>\n",
       "      <td>0.0</td>\n",
       "      <td>0.0</td>\n",
       "      <td>2.0</td>\n",
       "    </tr>\n",
       "    <tr>\n",
       "      <th>lash_lifting</th>\n",
       "      <td>729.0</td>\n",
       "      <td>0.029492</td>\n",
       "      <td>0.183883</td>\n",
       "      <td>0.0</td>\n",
       "      <td>0.0</td>\n",
       "      <td>0.0</td>\n",
       "      <td>0.0</td>\n",
       "      <td>2.0</td>\n",
       "    </tr>\n",
       "    <tr>\n",
       "      <th>limpeza_de_pele</th>\n",
       "      <td>729.0</td>\n",
       "      <td>0.407407</td>\n",
       "      <td>0.795333</td>\n",
       "      <td>0.0</td>\n",
       "      <td>0.0</td>\n",
       "      <td>0.0</td>\n",
       "      <td>1.0</td>\n",
       "      <td>5.0</td>\n",
       "    </tr>\n",
       "    <tr>\n",
       "      <th>microagulhamento</th>\n",
       "      <td>729.0</td>\n",
       "      <td>0.024691</td>\n",
       "      <td>0.155289</td>\n",
       "      <td>0.0</td>\n",
       "      <td>0.0</td>\n",
       "      <td>0.0</td>\n",
       "      <td>0.0</td>\n",
       "      <td>1.0</td>\n",
       "    </tr>\n",
       "    <tr>\n",
       "      <th>peeling_quimico</th>\n",
       "      <td>729.0</td>\n",
       "      <td>0.034294</td>\n",
       "      <td>0.203482</td>\n",
       "      <td>0.0</td>\n",
       "      <td>0.0</td>\n",
       "      <td>0.0</td>\n",
       "      <td>0.0</td>\n",
       "      <td>2.0</td>\n",
       "    </tr>\n",
       "    <tr>\n",
       "      <th>massagem_relaxante</th>\n",
       "      <td>729.0</td>\n",
       "      <td>0.111111</td>\n",
       "      <td>0.371550</td>\n",
       "      <td>0.0</td>\n",
       "      <td>0.0</td>\n",
       "      <td>0.0</td>\n",
       "      <td>0.0</td>\n",
       "      <td>4.0</td>\n",
       "    </tr>\n",
       "    <tr>\n",
       "      <th>pacote_massagem_5</th>\n",
       "      <td>729.0</td>\n",
       "      <td>0.091084</td>\n",
       "      <td>0.352643</td>\n",
       "      <td>0.0</td>\n",
       "      <td>0.0</td>\n",
       "      <td>0.0</td>\n",
       "      <td>0.0</td>\n",
       "      <td>3.0</td>\n",
       "    </tr>\n",
       "    <tr>\n",
       "      <th>drenagem_linfatica</th>\n",
       "      <td>729.0</td>\n",
       "      <td>0.012071</td>\n",
       "      <td>0.106349</td>\n",
       "      <td>0.0</td>\n",
       "      <td>0.0</td>\n",
       "      <td>0.0</td>\n",
       "      <td>0.0</td>\n",
       "      <td>1.0</td>\n",
       "    </tr>\n",
       "    <tr>\n",
       "      <th>striort</th>\n",
       "      <td>729.0</td>\n",
       "      <td>0.008230</td>\n",
       "      <td>0.090410</td>\n",
       "      <td>0.0</td>\n",
       "      <td>0.0</td>\n",
       "      <td>0.0</td>\n",
       "      <td>0.0</td>\n",
       "      <td>1.0</td>\n",
       "    </tr>\n",
       "    <tr>\n",
       "      <th>qtde_clientes</th>\n",
       "      <td>729.0</td>\n",
       "      <td>1.898491</td>\n",
       "      <td>2.656758</td>\n",
       "      <td>0.0</td>\n",
       "      <td>0.0</td>\n",
       "      <td>1.0</td>\n",
       "      <td>3.0</td>\n",
       "      <td>19.0</td>\n",
       "    </tr>\n",
       "    <tr>\n",
       "      <th>faturamento</th>\n",
       "      <td>729.0</td>\n",
       "      <td>135.296982</td>\n",
       "      <td>187.267266</td>\n",
       "      <td>0.0</td>\n",
       "      <td>0.0</td>\n",
       "      <td>30.0</td>\n",
       "      <td>230.0</td>\n",
       "      <td>1035.0</td>\n",
       "    </tr>\n",
       "  </tbody>\n",
       "</table>\n",
       "</div>"
      ],
      "text/plain": [
       "                        count        mean         std  min  25%   50%    75%  \\\n",
       "design_de_sobrancelhas  729.0    0.400549    0.852469  0.0  0.0   0.0    0.0   \n",
       "design_coloracao        729.0    0.231824    0.583450  0.0  0.0   0.0    0.0   \n",
       "design_coloracao_buco   729.0    0.703704    1.944985  0.0  0.0   0.0    1.0   \n",
       "buco                    729.0    0.215364    0.580342  0.0  0.0   0.0    0.0   \n",
       "brown_lamination        729.0    0.001372    0.037037  0.0  0.0   0.0    0.0   \n",
       "micropigmentacao        729.0    0.031481    0.180924  0.0  0.0   0.0    0.0   \n",
       "extensao_de_cilios      729.0    0.039781    0.200776  0.0  0.0   0.0    0.0   \n",
       "lash_lifting            729.0    0.029492    0.183883  0.0  0.0   0.0    0.0   \n",
       "limpeza_de_pele         729.0    0.407407    0.795333  0.0  0.0   0.0    1.0   \n",
       "microagulhamento        729.0    0.024691    0.155289  0.0  0.0   0.0    0.0   \n",
       "peeling_quimico         729.0    0.034294    0.203482  0.0  0.0   0.0    0.0   \n",
       "massagem_relaxante      729.0    0.111111    0.371550  0.0  0.0   0.0    0.0   \n",
       "pacote_massagem_5       729.0    0.091084    0.352643  0.0  0.0   0.0    0.0   \n",
       "drenagem_linfatica      729.0    0.012071    0.106349  0.0  0.0   0.0    0.0   \n",
       "striort                 729.0    0.008230    0.090410  0.0  0.0   0.0    0.0   \n",
       "qtde_clientes           729.0    1.898491    2.656758  0.0  0.0   1.0    3.0   \n",
       "faturamento             729.0  135.296982  187.267266  0.0  0.0  30.0  230.0   \n",
       "\n",
       "                           max  \n",
       "design_de_sobrancelhas     5.0  \n",
       "design_coloracao           4.0  \n",
       "design_coloracao_buco     19.0  \n",
       "buco                       4.0  \n",
       "brown_lamination           1.0  \n",
       "micropigmentacao           2.0  \n",
       "extensao_de_cilios         2.0  \n",
       "lash_lifting               2.0  \n",
       "limpeza_de_pele            5.0  \n",
       "microagulhamento           1.0  \n",
       "peeling_quimico            2.0  \n",
       "massagem_relaxante         4.0  \n",
       "pacote_massagem_5          3.0  \n",
       "drenagem_linfatica         1.0  \n",
       "striort                    1.0  \n",
       "qtde_clientes             19.0  \n",
       "faturamento             1035.0  "
      ]
     },
     "execution_count": 10,
     "metadata": {},
     "output_type": "execute_result"
    }
   ],
   "source": [
    "dados.describe().T"
   ]
  },
  {
   "cell_type": "markdown",
   "metadata": {},
   "source": [
    " - Visualizando a distribuição do faturamento e da quantidade de clientes"
   ]
  },
  {
   "cell_type": "code",
   "execution_count": 11,
   "metadata": {},
   "outputs": [
    {
     "data": {
      "text/plain": [
       "<matplotlib.axes._subplots.AxesSubplot at 0x134d83800d0>"
      ]
     },
     "execution_count": 11,
     "metadata": {},
     "output_type": "execute_result"
    },
    {
     "data": {
      "image/png": "[encoded data removed]",
      "text/plain": [
       "<Figure size 1152x576 with 2 Axes>"
      ]
     },
     "metadata": {
      "needs_background": "light"
     },
     "output_type": "display_data"
    }
   ],
   "source": [
    "fig, ax = plt.subplots(1,2,figsize=(16,8))\n",
    "dados.faturamento.plot(kind=\"hist\",ax=ax[0])\n",
    "dados.qtde_clientes.plot(kind=\"hist\",ax=ax[1])"
   ]
  },
  {
   "cell_type": "code",
   "execution_count": 12,
   "metadata": {},
   "outputs": [
    {
     "data": {
      "text/plain": [
       "Text(0, 0.5, 'faturamento')"
      ]
     },
     "execution_count": 12,
     "metadata": {},
     "output_type": "execute_result"
    },
    {
     "data": {
      "image/png": "[encoded data removed]",
      "text/plain": [
       "<Figure size 720x432 with 1 Axes>"
      ]
     },
     "metadata": {
      "needs_background": "light"
     },
     "output_type": "display_data"
    }
   ],
   "source": [
    "plt.figure(figsize=(10, 6))\n",
    "plt.scatter(dados['qtde_clientes'], dados['faturamento'],alpha=0.5)\n",
    "#x = [0, 400, 1000]\n",
    "#y = [0, 10000, 20000]\n",
    "#plt.plot(x, y, c='r')\n",
    "plt.xlabel('qtde_clientes')\n",
    "plt.ylabel('faturamento')"
   ]
  },
  {
   "cell_type": "code",
   "execution_count": 13,
   "metadata": {},
   "outputs": [
    {
     "data": {
      "text/plain": [
       "<matplotlib.axes._subplots.AxesSubplot at 0x134d85f5ac0>"
      ]
     },
     "execution_count": 13,
     "metadata": {},
     "output_type": "execute_result"
    },
    {
     "data": {
      "image/png": "[encoded data removed]",
      "text/plain": [
       "<Figure size 432x288 with 1 Axes>"
      ]
     },
     "metadata": {
      "needs_background": "light"
     },
     "output_type": "display_data"
    }
   ],
   "source": [
    "sns.regplot('qtde_clientes','faturamento', data=dados)"
   ]
  },
  {
   "cell_type": "code",
   "execution_count": 14,
   "metadata": {},
   "outputs": [
    {
     "data": {
      "text/plain": [
       "<matplotlib.axes._subplots.AxesSubplot at 0x134d87c3d00>"
      ]
     },
     "execution_count": 14,
     "metadata": {},
     "output_type": "execute_result"
    },
    {
     "data": {
      "image/png": "[encoded data removed]",
      "text/plain": [
       "<Figure size 432x288 with 1 Axes>"
      ]
     },
     "metadata": {
      "needs_background": "light"
     },
     "output_type": "display_data"
    }
   ],
   "source": [
    "sns.boxplot(x=dados['faturamento'])"
   ]
  },
  {
   "cell_type": "code",
   "execution_count": 15,
   "metadata": {},
   "outputs": [
    {
     "data": {
      "text/plain": [
       "<matplotlib.axes._subplots.AxesSubplot at 0x134d8817f40>"
      ]
     },
     "execution_count": 15,
     "metadata": {},
     "output_type": "execute_result"
    },
    {
     "data": {
      "image/png": "[encoded data removed]",
      "text/plain": [
       "<Figure size 432x288 with 1 Axes>"
      ]
     },
     "metadata": {
      "needs_background": "light"
     },
     "output_type": "display_data"
    }
   ],
   "source": [
    "sns.boxplot(x=dados['qtde_clientes'])"
   ]
  },
  {
   "cell_type": "markdown",
   "metadata": {},
   "source": [
    " - Agrupando os dados por mês"
   ]
  },
  {
   "cell_type": "code",
   "execution_count": 16,
   "metadata": {},
   "outputs": [],
   "source": [
    "# dados = dados.set_index('data_atendimento')\n",
    "# dados_por_mes=dados.resample('M').sum()\n",
    "dados_por_mes=dados.resample('M', on='data_atendimento').sum()"
   ]
  },
  {
   "cell_type": "code",
   "execution_count": 17,
   "metadata": {},
   "outputs": [
    {
     "data": {
      "text/html": [
       "<div>\n",
       "<style scoped>\n",
       "    .dataframe tbody tr th:only-of-type {\n",
       "        vertical-align: middle;\n",
       "    }\n",
       "\n",
       "    .dataframe tbody tr th {\n",
       "        vertical-align: top;\n",
       "    }\n",
       "\n",
       "    .dataframe thead th {\n",
       "        text-align: right;\n",
       "    }\n",
       "</style>\n",
       "<table border=\"1\" class=\"dataframe\">\n",
       "  <thead>\n",
       "    <tr style=\"text-align: right;\">\n",
       "      <th></th>\n",
       "      <th>count</th>\n",
       "      <th>mean</th>\n",
       "      <th>std</th>\n",
       "      <th>min</th>\n",
       "      <th>25%</th>\n",
       "      <th>50%</th>\n",
       "      <th>75%</th>\n",
       "      <th>max</th>\n",
       "    </tr>\n",
       "  </thead>\n",
       "  <tbody>\n",
       "    <tr>\n",
       "      <th>design_de_sobrancelhas</th>\n",
       "      <td>25.0</td>\n",
       "      <td>11.680</td>\n",
       "      <td>8.454387</td>\n",
       "      <td>0.0</td>\n",
       "      <td>4.0</td>\n",
       "      <td>11.0</td>\n",
       "      <td>18.0</td>\n",
       "      <td>26.0</td>\n",
       "    </tr>\n",
       "    <tr>\n",
       "      <th>design_coloracao</th>\n",
       "      <td>25.0</td>\n",
       "      <td>6.760</td>\n",
       "      <td>4.935247</td>\n",
       "      <td>0.0</td>\n",
       "      <td>2.0</td>\n",
       "      <td>7.0</td>\n",
       "      <td>10.0</td>\n",
       "      <td>18.0</td>\n",
       "    </tr>\n",
       "    <tr>\n",
       "      <th>design_coloracao_buco</th>\n",
       "      <td>25.0</td>\n",
       "      <td>20.520</td>\n",
       "      <td>16.842704</td>\n",
       "      <td>0.0</td>\n",
       "      <td>10.0</td>\n",
       "      <td>15.0</td>\n",
       "      <td>24.0</td>\n",
       "      <td>57.0</td>\n",
       "    </tr>\n",
       "    <tr>\n",
       "      <th>buco</th>\n",
       "      <td>25.0</td>\n",
       "      <td>6.280</td>\n",
       "      <td>4.668333</td>\n",
       "      <td>0.0</td>\n",
       "      <td>3.0</td>\n",
       "      <td>4.0</td>\n",
       "      <td>10.0</td>\n",
       "      <td>14.0</td>\n",
       "    </tr>\n",
       "    <tr>\n",
       "      <th>brown_lamination</th>\n",
       "      <td>25.0</td>\n",
       "      <td>0.040</td>\n",
       "      <td>0.200000</td>\n",
       "      <td>0.0</td>\n",
       "      <td>0.0</td>\n",
       "      <td>0.0</td>\n",
       "      <td>0.0</td>\n",
       "      <td>1.0</td>\n",
       "    </tr>\n",
       "    <tr>\n",
       "      <th>micropigmentacao</th>\n",
       "      <td>25.0</td>\n",
       "      <td>0.918</td>\n",
       "      <td>1.650561</td>\n",
       "      <td>0.0</td>\n",
       "      <td>0.0</td>\n",
       "      <td>0.0</td>\n",
       "      <td>1.0</td>\n",
       "      <td>7.0</td>\n",
       "    </tr>\n",
       "    <tr>\n",
       "      <th>extensao_de_cilios</th>\n",
       "      <td>25.0</td>\n",
       "      <td>1.160</td>\n",
       "      <td>1.469977</td>\n",
       "      <td>0.0</td>\n",
       "      <td>0.0</td>\n",
       "      <td>1.0</td>\n",
       "      <td>2.0</td>\n",
       "      <td>5.0</td>\n",
       "    </tr>\n",
       "    <tr>\n",
       "      <th>lash_lifting</th>\n",
       "      <td>25.0</td>\n",
       "      <td>0.860</td>\n",
       "      <td>2.118962</td>\n",
       "      <td>0.0</td>\n",
       "      <td>0.0</td>\n",
       "      <td>0.0</td>\n",
       "      <td>0.0</td>\n",
       "      <td>9.0</td>\n",
       "    </tr>\n",
       "    <tr>\n",
       "      <th>limpeza_de_pele</th>\n",
       "      <td>25.0</td>\n",
       "      <td>11.880</td>\n",
       "      <td>7.539175</td>\n",
       "      <td>0.0</td>\n",
       "      <td>9.0</td>\n",
       "      <td>12.0</td>\n",
       "      <td>15.0</td>\n",
       "      <td>27.5</td>\n",
       "    </tr>\n",
       "    <tr>\n",
       "      <th>microagulhamento</th>\n",
       "      <td>25.0</td>\n",
       "      <td>0.720</td>\n",
       "      <td>0.890693</td>\n",
       "      <td>0.0</td>\n",
       "      <td>0.0</td>\n",
       "      <td>0.0</td>\n",
       "      <td>2.0</td>\n",
       "      <td>2.0</td>\n",
       "    </tr>\n",
       "    <tr>\n",
       "      <th>peeling_quimico</th>\n",
       "      <td>25.0</td>\n",
       "      <td>1.000</td>\n",
       "      <td>1.554563</td>\n",
       "      <td>0.0</td>\n",
       "      <td>0.0</td>\n",
       "      <td>0.0</td>\n",
       "      <td>1.0</td>\n",
       "      <td>6.0</td>\n",
       "    </tr>\n",
       "    <tr>\n",
       "      <th>massagem_relaxante</th>\n",
       "      <td>25.0</td>\n",
       "      <td>3.240</td>\n",
       "      <td>3.132890</td>\n",
       "      <td>0.0</td>\n",
       "      <td>0.0</td>\n",
       "      <td>3.5</td>\n",
       "      <td>4.5</td>\n",
       "      <td>11.0</td>\n",
       "    </tr>\n",
       "    <tr>\n",
       "      <th>pacote_massagem_5</th>\n",
       "      <td>25.0</td>\n",
       "      <td>2.656</td>\n",
       "      <td>2.340954</td>\n",
       "      <td>0.0</td>\n",
       "      <td>1.0</td>\n",
       "      <td>2.0</td>\n",
       "      <td>4.0</td>\n",
       "      <td>7.5</td>\n",
       "    </tr>\n",
       "    <tr>\n",
       "      <th>drenagem_linfatica</th>\n",
       "      <td>25.0</td>\n",
       "      <td>0.352</td>\n",
       "      <td>0.759452</td>\n",
       "      <td>0.0</td>\n",
       "      <td>0.0</td>\n",
       "      <td>0.0</td>\n",
       "      <td>0.0</td>\n",
       "      <td>3.0</td>\n",
       "    </tr>\n",
       "    <tr>\n",
       "      <th>striort</th>\n",
       "      <td>25.0</td>\n",
       "      <td>0.240</td>\n",
       "      <td>0.723418</td>\n",
       "      <td>0.0</td>\n",
       "      <td>0.0</td>\n",
       "      <td>0.0</td>\n",
       "      <td>0.0</td>\n",
       "      <td>3.0</td>\n",
       "    </tr>\n",
       "    <tr>\n",
       "      <th>qtde_clientes</th>\n",
       "      <td>25.0</td>\n",
       "      <td>55.360</td>\n",
       "      <td>31.513066</td>\n",
       "      <td>0.0</td>\n",
       "      <td>40.0</td>\n",
       "      <td>58.0</td>\n",
       "      <td>76.0</td>\n",
       "      <td>125.0</td>\n",
       "    </tr>\n",
       "    <tr>\n",
       "      <th>faturamento</th>\n",
       "      <td>25.0</td>\n",
       "      <td>3945.260</td>\n",
       "      <td>2217.804052</td>\n",
       "      <td>0.0</td>\n",
       "      <td>2940.0</td>\n",
       "      <td>4100.0</td>\n",
       "      <td>5360.0</td>\n",
       "      <td>7714.0</td>\n",
       "    </tr>\n",
       "  </tbody>\n",
       "</table>\n",
       "</div>"
      ],
      "text/plain": [
       "                        count      mean          std  min     25%     50%  \\\n",
       "design_de_sobrancelhas   25.0    11.680     8.454387  0.0     4.0    11.0   \n",
       "design_coloracao         25.0     6.760     4.935247  0.0     2.0     7.0   \n",
       "design_coloracao_buco    25.0    20.520    16.842704  0.0    10.0    15.0   \n",
       "buco                     25.0     6.280     4.668333  0.0     3.0     4.0   \n",
       "brown_lamination         25.0     0.040     0.200000  0.0     0.0     0.0   \n",
       "micropigmentacao         25.0     0.918     1.650561  0.0     0.0     0.0   \n",
       "extensao_de_cilios       25.0     1.160     1.469977  0.0     0.0     1.0   \n",
       "lash_lifting             25.0     0.860     2.118962  0.0     0.0     0.0   \n",
       "limpeza_de_pele          25.0    11.880     7.539175  0.0     9.0    12.0   \n",
       "microagulhamento         25.0     0.720     0.890693  0.0     0.0     0.0   \n",
       "peeling_quimico          25.0     1.000     1.554563  0.0     0.0     0.0   \n",
       "massagem_relaxante       25.0     3.240     3.132890  0.0     0.0     3.5   \n",
       "pacote_massagem_5        25.0     2.656     2.340954  0.0     1.0     2.0   \n",
       "drenagem_linfatica       25.0     0.352     0.759452  0.0     0.0     0.0   \n",
       "striort                  25.0     0.240     0.723418  0.0     0.0     0.0   \n",
       "qtde_clientes            25.0    55.360    31.513066  0.0    40.0    58.0   \n",
       "faturamento              25.0  3945.260  2217.804052  0.0  2940.0  4100.0   \n",
       "\n",
       "                           75%     max  \n",
       "design_de_sobrancelhas    18.0    26.0  \n",
       "design_coloracao          10.0    18.0  \n",
       "design_coloracao_buco     24.0    57.0  \n",
       "buco                      10.0    14.0  \n",
       "brown_lamination           0.0     1.0  \n",
       "micropigmentacao           1.0     7.0  \n",
       "extensao_de_cilios         2.0     5.0  \n",
       "lash_lifting               0.0     9.0  \n",
       "limpeza_de_pele           15.0    27.5  \n",
       "microagulhamento           2.0     2.0  \n",
       "peeling_quimico            1.0     6.0  \n",
       "massagem_relaxante         4.5    11.0  \n",
       "pacote_massagem_5          4.0     7.5  \n",
       "drenagem_linfatica         0.0     3.0  \n",
       "striort                    0.0     3.0  \n",
       "qtde_clientes             76.0   125.0  \n",
       "faturamento             5360.0  7714.0  "
      ]
     },
     "execution_count": 17,
     "metadata": {},
     "output_type": "execute_result"
    }
   ],
   "source": [
    "dados_por_mes.describe().T"
   ]
  },
  {
   "cell_type": "code",
   "execution_count": 18,
   "metadata": {},
   "outputs": [],
   "source": [
    "mes_ano=['dez_2018','jan_2019','fev_2019','mar_2019','abr_2019','maio_2019','jun_2019','jul_2019','ago_2019',\n",
    "                      'set_2019','out_2019','nov_2019','dez_2019','jan_2020','fev_2020','mar_2020','abr_2020','maio_2020',\n",
    "                       'jun_2020','jul_2020','ago_2020','set_2020','out_2020','nov_2020','dez_2020']\n",
    "dados_por_mes['mes_ano']=mes_ano"
   ]
  },
  {
   "cell_type": "code",
   "execution_count": 19,
   "metadata": {},
   "outputs": [
    {
     "data": {
      "text/html": [
       "<div>\n",
       "<style scoped>\n",
       "    .dataframe tbody tr th:only-of-type {\n",
       "        vertical-align: middle;\n",
       "    }\n",
       "\n",
       "    .dataframe tbody tr th {\n",
       "        vertical-align: top;\n",
       "    }\n",
       "\n",
       "    .dataframe thead th {\n",
       "        text-align: right;\n",
       "    }\n",
       "</style>\n",
       "<table border=\"1\" class=\"dataframe\">\n",
       "  <thead>\n",
       "    <tr style=\"text-align: right;\">\n",
       "      <th></th>\n",
       "      <th>design_de_sobrancelhas</th>\n",
       "      <th>design_coloracao</th>\n",
       "      <th>design_coloracao_buco</th>\n",
       "      <th>buco</th>\n",
       "      <th>brown_lamination</th>\n",
       "      <th>micropigmentacao</th>\n",
       "      <th>extensao_de_cilios</th>\n",
       "      <th>lash_lifting</th>\n",
       "      <th>limpeza_de_pele</th>\n",
       "      <th>microagulhamento</th>\n",
       "      <th>peeling_quimico</th>\n",
       "      <th>massagem_relaxante</th>\n",
       "      <th>pacote_massagem_5</th>\n",
       "      <th>drenagem_linfatica</th>\n",
       "      <th>striort</th>\n",
       "      <th>qtde_clientes</th>\n",
       "      <th>faturamento</th>\n",
       "      <th>mes_ano</th>\n",
       "    </tr>\n",
       "    <tr>\n",
       "      <th>data_atendimento</th>\n",
       "      <th></th>\n",
       "      <th></th>\n",
       "      <th></th>\n",
       "      <th></th>\n",
       "      <th></th>\n",
       "      <th></th>\n",
       "      <th></th>\n",
       "      <th></th>\n",
       "      <th></th>\n",
       "      <th></th>\n",
       "      <th></th>\n",
       "      <th></th>\n",
       "      <th></th>\n",
       "      <th></th>\n",
       "      <th></th>\n",
       "      <th></th>\n",
       "      <th></th>\n",
       "      <th></th>\n",
       "    </tr>\n",
       "  </thead>\n",
       "  <tbody>\n",
       "    <tr>\n",
       "      <th>2018-12-31</th>\n",
       "      <td>4.0</td>\n",
       "      <td>0.0</td>\n",
       "      <td>9.0</td>\n",
       "      <td>3.0</td>\n",
       "      <td>0.0</td>\n",
       "      <td>1.0</td>\n",
       "      <td>1.5</td>\n",
       "      <td>0.0</td>\n",
       "      <td>3.0</td>\n",
       "      <td>0.0</td>\n",
       "      <td>0.0</td>\n",
       "      <td>0.0</td>\n",
       "      <td>0.0</td>\n",
       "      <td>0.0</td>\n",
       "      <td>0.0</td>\n",
       "      <td>18.0</td>\n",
       "      <td>1155.0</td>\n",
       "      <td>dez_2018</td>\n",
       "    </tr>\n",
       "    <tr>\n",
       "      <th>2019-01-31</th>\n",
       "      <td>5.0</td>\n",
       "      <td>5.0</td>\n",
       "      <td>10.0</td>\n",
       "      <td>4.0</td>\n",
       "      <td>0.0</td>\n",
       "      <td>0.0</td>\n",
       "      <td>2.5</td>\n",
       "      <td>0.0</td>\n",
       "      <td>14.0</td>\n",
       "      <td>0.0</td>\n",
       "      <td>2.0</td>\n",
       "      <td>4.0</td>\n",
       "      <td>0.0</td>\n",
       "      <td>3.0</td>\n",
       "      <td>0.0</td>\n",
       "      <td>47.0</td>\n",
       "      <td>2590.0</td>\n",
       "      <td>jan_2019</td>\n",
       "    </tr>\n",
       "    <tr>\n",
       "      <th>2019-02-28</th>\n",
       "      <td>3.0</td>\n",
       "      <td>7.0</td>\n",
       "      <td>14.0</td>\n",
       "      <td>1.0</td>\n",
       "      <td>0.0</td>\n",
       "      <td>0.0</td>\n",
       "      <td>3.0</td>\n",
       "      <td>0.0</td>\n",
       "      <td>9.0</td>\n",
       "      <td>0.0</td>\n",
       "      <td>2.0</td>\n",
       "      <td>3.5</td>\n",
       "      <td>3.0</td>\n",
       "      <td>0.0</td>\n",
       "      <td>0.0</td>\n",
       "      <td>40.0</td>\n",
       "      <td>2940.0</td>\n",
       "      <td>fev_2019</td>\n",
       "    </tr>\n",
       "    <tr>\n",
       "      <th>2019-03-31</th>\n",
       "      <td>4.0</td>\n",
       "      <td>10.0</td>\n",
       "      <td>13.0</td>\n",
       "      <td>4.0</td>\n",
       "      <td>0.0</td>\n",
       "      <td>0.0</td>\n",
       "      <td>3.0</td>\n",
       "      <td>0.0</td>\n",
       "      <td>12.0</td>\n",
       "      <td>0.0</td>\n",
       "      <td>6.0</td>\n",
       "      <td>0.0</td>\n",
       "      <td>5.0</td>\n",
       "      <td>0.0</td>\n",
       "      <td>0.0</td>\n",
       "      <td>45.0</td>\n",
       "      <td>4045.0</td>\n",
       "      <td>mar_2019</td>\n",
       "    </tr>\n",
       "    <tr>\n",
       "      <th>2019-04-30</th>\n",
       "      <td>4.0</td>\n",
       "      <td>8.0</td>\n",
       "      <td>18.0</td>\n",
       "      <td>0.0</td>\n",
       "      <td>0.0</td>\n",
       "      <td>1.0</td>\n",
       "      <td>2.0</td>\n",
       "      <td>0.0</td>\n",
       "      <td>19.0</td>\n",
       "      <td>0.0</td>\n",
       "      <td>1.0</td>\n",
       "      <td>2.5</td>\n",
       "      <td>1.5</td>\n",
       "      <td>0.0</td>\n",
       "      <td>0.0</td>\n",
       "      <td>50.0</td>\n",
       "      <td>3415.0</td>\n",
       "      <td>abr_2019</td>\n",
       "    </tr>\n",
       "  </tbody>\n",
       "</table>\n",
       "</div>"
      ],
      "text/plain": [
       "                  design_de_sobrancelhas  design_coloracao  \\\n",
       "data_atendimento                                             \n",
       "2018-12-31                           4.0               0.0   \n",
       "2019-01-31                           5.0               5.0   \n",
       "2019-02-28                           3.0               7.0   \n",
       "2019-03-31                           4.0              10.0   \n",
       "2019-04-30                           4.0               8.0   \n",
       "\n",
       "                  design_coloracao_buco  buco  brown_lamination  \\\n",
       "data_atendimento                                                  \n",
       "2018-12-31                          9.0   3.0               0.0   \n",
       "2019-01-31                         10.0   4.0               0.0   \n",
       "2019-02-28                         14.0   1.0               0.0   \n",
       "2019-03-31                         13.0   4.0               0.0   \n",
       "2019-04-30                         18.0   0.0               0.0   \n",
       "\n",
       "                  micropigmentacao  extensao_de_cilios  lash_lifting  \\\n",
       "data_atendimento                                                       \n",
       "2018-12-31                     1.0                 1.5           0.0   \n",
       "2019-01-31                     0.0                 2.5           0.0   \n",
       "2019-02-28                     0.0                 3.0           0.0   \n",
       "2019-03-31                     0.0                 3.0           0.0   \n",
       "2019-04-30                     1.0                 2.0           0.0   \n",
       "\n",
       "                  limpeza_de_pele  microagulhamento  peeling_quimico  \\\n",
       "data_atendimento                                                       \n",
       "2018-12-31                    3.0               0.0              0.0   \n",
       "2019-01-31                   14.0               0.0              2.0   \n",
       "2019-02-28                    9.0               0.0              2.0   \n",
       "2019-03-31                   12.0               0.0              6.0   \n",
       "2019-04-30                   19.0               0.0              1.0   \n",
       "\n",
       "                  massagem_relaxante  pacote_massagem_5  drenagem_linfatica  \\\n",
       "data_atendimento                                                              \n",
       "2018-12-31                       0.0                0.0                 0.0   \n",
       "2019-01-31                       4.0                0.0                 3.0   \n",
       "2019-02-28                       3.5                3.0                 0.0   \n",
       "2019-03-31                       0.0                5.0                 0.0   \n",
       "2019-04-30                       2.5                1.5                 0.0   \n",
       "\n",
       "                  striort  qtde_clientes  faturamento   mes_ano  \n",
       "data_atendimento                                                 \n",
       "2018-12-31            0.0           18.0       1155.0  dez_2018  \n",
       "2019-01-31            0.0           47.0       2590.0  jan_2019  \n",
       "2019-02-28            0.0           40.0       2940.0  fev_2019  \n",
       "2019-03-31            0.0           45.0       4045.0  mar_2019  \n",
       "2019-04-30            0.0           50.0       3415.0  abr_2019  "
      ]
     },
     "execution_count": 19,
     "metadata": {},
     "output_type": "execute_result"
    }
   ],
   "source": [
    "dados_por_mes.head()"
   ]
  },
  {
   "cell_type": "code",
   "execution_count": 20,
   "metadata": {},
   "outputs": [],
   "source": [
    "cols = dados_por_mes.columns.tolist()\n",
    "cols = cols[-1:] + cols[:-1]\n",
    "dados_por_mes = dados_por_mes[cols] "
   ]
  },
  {
   "cell_type": "code",
   "execution_count": 21,
   "metadata": {},
   "outputs": [
    {
     "data": {
      "text/html": [
       "<div>\n",
       "<style scoped>\n",
       "    .dataframe tbody tr th:only-of-type {\n",
       "        vertical-align: middle;\n",
       "    }\n",
       "\n",
       "    .dataframe tbody tr th {\n",
       "        vertical-align: top;\n",
       "    }\n",
       "\n",
       "    .dataframe thead th {\n",
       "        text-align: right;\n",
       "    }\n",
       "</style>\n",
       "<table border=\"1\" class=\"dataframe\">\n",
       "  <thead>\n",
       "    <tr style=\"text-align: right;\">\n",
       "      <th></th>\n",
       "      <th>mes_ano</th>\n",
       "      <th>design_de_sobrancelhas</th>\n",
       "      <th>design_coloracao</th>\n",
       "      <th>design_coloracao_buco</th>\n",
       "      <th>buco</th>\n",
       "      <th>brown_lamination</th>\n",
       "      <th>micropigmentacao</th>\n",
       "      <th>extensao_de_cilios</th>\n",
       "      <th>lash_lifting</th>\n",
       "      <th>limpeza_de_pele</th>\n",
       "      <th>microagulhamento</th>\n",
       "      <th>peeling_quimico</th>\n",
       "      <th>massagem_relaxante</th>\n",
       "      <th>pacote_massagem_5</th>\n",
       "      <th>drenagem_linfatica</th>\n",
       "      <th>striort</th>\n",
       "      <th>qtde_clientes</th>\n",
       "      <th>faturamento</th>\n",
       "    </tr>\n",
       "    <tr>\n",
       "      <th>data_atendimento</th>\n",
       "      <th></th>\n",
       "      <th></th>\n",
       "      <th></th>\n",
       "      <th></th>\n",
       "      <th></th>\n",
       "      <th></th>\n",
       "      <th></th>\n",
       "      <th></th>\n",
       "      <th></th>\n",
       "      <th></th>\n",
       "      <th></th>\n",
       "      <th></th>\n",
       "      <th></th>\n",
       "      <th></th>\n",
       "      <th></th>\n",
       "      <th></th>\n",
       "      <th></th>\n",
       "      <th></th>\n",
       "    </tr>\n",
       "  </thead>\n",
       "  <tbody>\n",
       "    <tr>\n",
       "      <th>2018-12-31</th>\n",
       "      <td>dez_2018</td>\n",
       "      <td>4.0</td>\n",
       "      <td>0.0</td>\n",
       "      <td>9.0</td>\n",
       "      <td>3.0</td>\n",
       "      <td>0.0</td>\n",
       "      <td>1.0</td>\n",
       "      <td>1.5</td>\n",
       "      <td>0.0</td>\n",
       "      <td>3.0</td>\n",
       "      <td>0.0</td>\n",
       "      <td>0.0</td>\n",
       "      <td>0.0</td>\n",
       "      <td>0.0</td>\n",
       "      <td>0.0</td>\n",
       "      <td>0.0</td>\n",
       "      <td>18.0</td>\n",
       "      <td>1155.0</td>\n",
       "    </tr>\n",
       "    <tr>\n",
       "      <th>2019-01-31</th>\n",
       "      <td>jan_2019</td>\n",
       "      <td>5.0</td>\n",
       "      <td>5.0</td>\n",
       "      <td>10.0</td>\n",
       "      <td>4.0</td>\n",
       "      <td>0.0</td>\n",
       "      <td>0.0</td>\n",
       "      <td>2.5</td>\n",
       "      <td>0.0</td>\n",
       "      <td>14.0</td>\n",
       "      <td>0.0</td>\n",
       "      <td>2.0</td>\n",
       "      <td>4.0</td>\n",
       "      <td>0.0</td>\n",
       "      <td>3.0</td>\n",
       "      <td>0.0</td>\n",
       "      <td>47.0</td>\n",
       "      <td>2590.0</td>\n",
       "    </tr>\n",
       "    <tr>\n",
       "      <th>2019-02-28</th>\n",
       "      <td>fev_2019</td>\n",
       "      <td>3.0</td>\n",
       "      <td>7.0</td>\n",
       "      <td>14.0</td>\n",
       "      <td>1.0</td>\n",
       "      <td>0.0</td>\n",
       "      <td>0.0</td>\n",
       "      <td>3.0</td>\n",
       "      <td>0.0</td>\n",
       "      <td>9.0</td>\n",
       "      <td>0.0</td>\n",
       "      <td>2.0</td>\n",
       "      <td>3.5</td>\n",
       "      <td>3.0</td>\n",
       "      <td>0.0</td>\n",
       "      <td>0.0</td>\n",
       "      <td>40.0</td>\n",
       "      <td>2940.0</td>\n",
       "    </tr>\n",
       "    <tr>\n",
       "      <th>2019-03-31</th>\n",
       "      <td>mar_2019</td>\n",
       "      <td>4.0</td>\n",
       "      <td>10.0</td>\n",
       "      <td>13.0</td>\n",
       "      <td>4.0</td>\n",
       "      <td>0.0</td>\n",
       "      <td>0.0</td>\n",
       "      <td>3.0</td>\n",
       "      <td>0.0</td>\n",
       "      <td>12.0</td>\n",
       "      <td>0.0</td>\n",
       "      <td>6.0</td>\n",
       "      <td>0.0</td>\n",
       "      <td>5.0</td>\n",
       "      <td>0.0</td>\n",
       "      <td>0.0</td>\n",
       "      <td>45.0</td>\n",
       "      <td>4045.0</td>\n",
       "    </tr>\n",
       "    <tr>\n",
       "      <th>2019-04-30</th>\n",
       "      <td>abr_2019</td>\n",
       "      <td>4.0</td>\n",
       "      <td>8.0</td>\n",
       "      <td>18.0</td>\n",
       "      <td>0.0</td>\n",
       "      <td>0.0</td>\n",
       "      <td>1.0</td>\n",
       "      <td>2.0</td>\n",
       "      <td>0.0</td>\n",
       "      <td>19.0</td>\n",
       "      <td>0.0</td>\n",
       "      <td>1.0</td>\n",
       "      <td>2.5</td>\n",
       "      <td>1.5</td>\n",
       "      <td>0.0</td>\n",
       "      <td>0.0</td>\n",
       "      <td>50.0</td>\n",
       "      <td>3415.0</td>\n",
       "    </tr>\n",
       "  </tbody>\n",
       "</table>\n",
       "</div>"
      ],
      "text/plain": [
       "                   mes_ano  design_de_sobrancelhas  design_coloracao  \\\n",
       "data_atendimento                                                       \n",
       "2018-12-31        dez_2018                     4.0               0.0   \n",
       "2019-01-31        jan_2019                     5.0               5.0   \n",
       "2019-02-28        fev_2019                     3.0               7.0   \n",
       "2019-03-31        mar_2019                     4.0              10.0   \n",
       "2019-04-30        abr_2019                     4.0               8.0   \n",
       "\n",
       "                  design_coloracao_buco  buco  brown_lamination  \\\n",
       "data_atendimento                                                  \n",
       "2018-12-31                          9.0   3.0               0.0   \n",
       "2019-01-31                         10.0   4.0               0.0   \n",
       "2019-02-28                         14.0   1.0               0.0   \n",
       "2019-03-31                         13.0   4.0               0.0   \n",
       "2019-04-30                         18.0   0.0               0.0   \n",
       "\n",
       "                  micropigmentacao  extensao_de_cilios  lash_lifting  \\\n",
       "data_atendimento                                                       \n",
       "2018-12-31                     1.0                 1.5           0.0   \n",
       "2019-01-31                     0.0                 2.5           0.0   \n",
       "2019-02-28                     0.0                 3.0           0.0   \n",
       "2019-03-31                     0.0                 3.0           0.0   \n",
       "2019-04-30                     1.0                 2.0           0.0   \n",
       "\n",
       "                  limpeza_de_pele  microagulhamento  peeling_quimico  \\\n",
       "data_atendimento                                                       \n",
       "2018-12-31                    3.0               0.0              0.0   \n",
       "2019-01-31                   14.0               0.0              2.0   \n",
       "2019-02-28                    9.0               0.0              2.0   \n",
       "2019-03-31                   12.0               0.0              6.0   \n",
       "2019-04-30                   19.0               0.0              1.0   \n",
       "\n",
       "                  massagem_relaxante  pacote_massagem_5  drenagem_linfatica  \\\n",
       "data_atendimento                                                              \n",
       "2018-12-31                       0.0                0.0                 0.0   \n",
       "2019-01-31                       4.0                0.0                 3.0   \n",
       "2019-02-28                       3.5                3.0                 0.0   \n",
       "2019-03-31                       0.0                5.0                 0.0   \n",
       "2019-04-30                       2.5                1.5                 0.0   \n",
       "\n",
       "                  striort  qtde_clientes  faturamento  \n",
       "data_atendimento                                       \n",
       "2018-12-31            0.0           18.0       1155.0  \n",
       "2019-01-31            0.0           47.0       2590.0  \n",
       "2019-02-28            0.0           40.0       2940.0  \n",
       "2019-03-31            0.0           45.0       4045.0  \n",
       "2019-04-30            0.0           50.0       3415.0  "
      ]
     },
     "execution_count": 21,
     "metadata": {},
     "output_type": "execute_result"
    }
   ],
   "source": [
    "dados_por_mes.head()"
   ]
  },
  {
   "cell_type": "markdown",
   "metadata": {},
   "source": [
    " - Criando o DataFrame apenas com faturamento e quantidade de clientes por mês"
   ]
  },
  {
   "cell_type": "code",
   "execution_count": 22,
   "metadata": {},
   "outputs": [],
   "source": [
    "fat_mensal=dados_por_mes.loc[:,['mes_ano','faturamento','qtde_clientes']]\n",
    "fat_mensal=fat_mensal.set_index('mes_ano')"
   ]
  },
  {
   "cell_type": "code",
   "execution_count": 23,
   "metadata": {},
   "outputs": [
    {
     "data": {
      "image/png": "[encoded data removed]",
      "text/plain": [
       "<Figure size 1296x432 with 2 Axes>"
      ]
     },
     "metadata": {
      "needs_background": "light"
     },
     "output_type": "display_data"
    }
   ],
   "source": [
    "fig, ax = plt.subplots(1,2,figsize=(18,6))\n",
    "fat_mensal.faturamento.plot.bar(ax=ax[0])\n",
    "ax[0].set_title('Faturamento Mensal')\n",
    "fat_mensal.qtde_clientes.plot.bar(ax=ax[1],color='g')\n",
    "ax[1].set_title('Quantidade de clientes por mês')\n",
    "plt.xticks();"
   ]
  },
  {
   "cell_type": "markdown",
   "metadata": {},
   "source": [
    " - Filtrando outliers"
   ]
  },
  {
   "cell_type": "code",
   "execution_count": 24,
   "metadata": {},
   "outputs": [],
   "source": [
    "dados_filtrado =dados.query('qtde_clientes <=7  and faturamento <= 600 and data_atendimento <=\"2020-03-20\"')"
   ]
  },
  {
   "cell_type": "code",
   "execution_count": 25,
   "metadata": {},
   "outputs": [
    {
     "data": {
      "text/plain": [
       "(420, 18)"
      ]
     },
     "execution_count": 25,
     "metadata": {},
     "output_type": "execute_result"
    }
   ],
   "source": [
    "dados_filtrado.shape"
   ]
  },
  {
   "cell_type": "code",
   "execution_count": null,
   "metadata": {},
   "outputs": [],
   "source": []
  },
  {
   "cell_type": "code",
   "execution_count": null,
   "metadata": {},
   "outputs": [],
   "source": []
  },
  {
   "cell_type": "code",
   "execution_count": null,
   "metadata": {},
   "outputs": [],
   "source": []
  },
  {
   "cell_type": "markdown",
   "metadata": {},
   "source": [
    "\n",
    " - Previsão do faturamento sem outliers:\n",
    "    - Calcular a média da quantidade de clientes por dia\n",
    "    - Calcular a média do valor gasto por cliente"
   ]
  },
  {
   "cell_type": "code",
   "execution_count": 26,
   "metadata": {},
   "outputs": [
    {
     "data": {
      "text/plain": [
       "68.6790450928382"
      ]
     },
     "execution_count": 26,
     "metadata": {},
     "output_type": "execute_result"
    }
   ],
   "source": [
    "# soma do faturamento dividido pela quantidade de clientes , retorna o valor médio  gasto por cliente\n",
    "valor_medio_de_consumo =dados_filtrado.faturamento.sum()/dados_filtrado.qtde_clientes.sum()\n",
    "valor_medio_de_consumo"
   ]
  },
  {
   "cell_type": "code",
   "execution_count": 27,
   "metadata": {},
   "outputs": [
    {
     "data": {
      "text/plain": [
       "1.7952380952380953"
      ]
     },
     "execution_count": 27,
     "metadata": {},
     "output_type": "execute_result"
    }
   ],
   "source": [
    "# quantidade de clientes dividido pela quantidade de dias , retorna a quantidade média de clientes que frequentam o espaço por dia\n",
    "media_clientes_por=dados_filtrado.qtde_clientes.sum()/len(dados_filtrado.data_atendimento)\n",
    "media_clientes_por"
   ]
  },
  {
   "cell_type": "code",
   "execution_count": 28,
   "metadata": {},
   "outputs": [
    {
     "data": {
      "text/plain": [
       "123.29523809523809"
      ]
     },
     "execution_count": 28,
     "metadata": {},
     "output_type": "execute_result"
    }
   ],
   "source": [
    "# Calculando a previsão média de faturamento \n",
    "previsao_faturamento=media_clientes_por*valor_medio_de_consumo\n",
    "previsao_faturamento"
   ]
  },
  {
   "cell_type": "code",
   "execution_count": 29,
   "metadata": {},
   "outputs": [],
   "source": [
    "# dados.loc[dados['data_atendimento'] ==\"2020-04-01\"]"
   ]
  },
  {
   "cell_type": "markdown",
   "metadata": {},
   "source": [
    " ## 4. Machine learning\n",
    " \n",
    " \n",
    "  \n",
    "   -  Definir X_train e X_test : \n",
    "       - X_train são os dados antes da pandemia \n",
    "       - X_test são os dados após a pandemia\n",
    "       - x prede sao os dados durante a pandemia "
   ]
  },
  {
   "cell_type": "markdown",
   "metadata": {},
   "source": [
    " - Definindo as amostras de treino e teste"
   ]
  },
  {
   "cell_type": "code",
   "execution_count": 30,
   "metadata": {},
   "outputs": [],
   "source": [
    "from sklearn.model_selection import train_test_split"
   ]
  },
  {
   "cell_type": "code",
   "execution_count": 31,
   "metadata": {},
   "outputs": [],
   "source": [
    "train, test= train_test_split(dados_filtrado, test_size=0.25 , random_state=123)"
   ]
  },
  {
   "cell_type": "code",
   "execution_count": 32,
   "metadata": {},
   "outputs": [
    {
     "name": "stdout",
     "output_type": "stream",
     "text": [
      "<class 'pandas.core.frame.DataFrame'>\n",
      "Int64Index: 315 entries, 1 to 393\n",
      "Data columns (total 18 columns):\n",
      " #   Column                  Non-Null Count  Dtype         \n",
      "---  ------                  --------------  -----         \n",
      " 0   data_atendimento        315 non-null    datetime64[ns]\n",
      " 1   design_de_sobrancelhas  315 non-null    float64       \n",
      " 2   design_coloracao        315 non-null    float64       \n",
      " 3   design_coloracao_buco   315 non-null    float64       \n",
      " 4   buco                    315 non-null    float64       \n",
      " 5   brown_lamination        315 non-null    float64       \n",
      " 6   micropigmentacao        315 non-null    float64       \n",
      " 7   extensao_de_cilios      315 non-null    float64       \n",
      " 8   lash_lifting            315 non-null    float64       \n",
      " 9   limpeza_de_pele         315 non-null    float64       \n",
      " 10  microagulhamento        315 non-null    float64       \n",
      " 11  peeling_quimico         315 non-null    float64       \n",
      " 12  massagem_relaxante      315 non-null    float64       \n",
      " 13  pacote_massagem_5       315 non-null    float64       \n",
      " 14  drenagem_linfatica      315 non-null    float64       \n",
      " 15  striort                 315 non-null    float64       \n",
      " 16  qtde_clientes           315 non-null    float64       \n",
      " 17  faturamento             315 non-null    float64       \n",
      "dtypes: datetime64[ns](1), float64(17)\n",
      "memory usage: 46.8 KB\n"
     ]
    }
   ],
   "source": [
    "train.info()"
   ]
  },
  {
   "cell_type": "code",
   "execution_count": 33,
   "metadata": {},
   "outputs": [
    {
     "data": {
      "text/html": [
       "<div>\n",
       "<style scoped>\n",
       "    .dataframe tbody tr th:only-of-type {\n",
       "        vertical-align: middle;\n",
       "    }\n",
       "\n",
       "    .dataframe tbody tr th {\n",
       "        vertical-align: top;\n",
       "    }\n",
       "\n",
       "    .dataframe thead th {\n",
       "        text-align: right;\n",
       "    }\n",
       "</style>\n",
       "<table border=\"1\" class=\"dataframe\">\n",
       "  <thead>\n",
       "    <tr style=\"text-align: right;\">\n",
       "      <th></th>\n",
       "      <th>data_atendimento</th>\n",
       "      <th>design_de_sobrancelhas</th>\n",
       "      <th>design_coloracao</th>\n",
       "      <th>design_coloracao_buco</th>\n",
       "      <th>buco</th>\n",
       "      <th>brown_lamination</th>\n",
       "      <th>micropigmentacao</th>\n",
       "      <th>extensao_de_cilios</th>\n",
       "      <th>lash_lifting</th>\n",
       "      <th>limpeza_de_pele</th>\n",
       "      <th>microagulhamento</th>\n",
       "      <th>peeling_quimico</th>\n",
       "      <th>massagem_relaxante</th>\n",
       "      <th>pacote_massagem_5</th>\n",
       "      <th>drenagem_linfatica</th>\n",
       "      <th>striort</th>\n",
       "      <th>qtde_clientes</th>\n",
       "      <th>faturamento</th>\n",
       "    </tr>\n",
       "  </thead>\n",
       "  <tbody>\n",
       "    <tr>\n",
       "      <th>1</th>\n",
       "      <td>2018-12-23</td>\n",
       "      <td>0.0</td>\n",
       "      <td>0.0</td>\n",
       "      <td>7.0</td>\n",
       "      <td>0.0</td>\n",
       "      <td>0.0</td>\n",
       "      <td>0.0</td>\n",
       "      <td>0.0</td>\n",
       "      <td>0.0</td>\n",
       "      <td>1.0</td>\n",
       "      <td>0.0</td>\n",
       "      <td>0.0</td>\n",
       "      <td>0.0</td>\n",
       "      <td>0.0</td>\n",
       "      <td>0.0</td>\n",
       "      <td>0.0</td>\n",
       "      <td>7.0</td>\n",
       "      <td>305.0</td>\n",
       "    </tr>\n",
       "    <tr>\n",
       "      <th>247</th>\n",
       "      <td>2019-08-26</td>\n",
       "      <td>0.0</td>\n",
       "      <td>0.0</td>\n",
       "      <td>0.0</td>\n",
       "      <td>0.0</td>\n",
       "      <td>0.0</td>\n",
       "      <td>0.0</td>\n",
       "      <td>0.0</td>\n",
       "      <td>0.0</td>\n",
       "      <td>0.0</td>\n",
       "      <td>0.0</td>\n",
       "      <td>0.0</td>\n",
       "      <td>0.0</td>\n",
       "      <td>0.0</td>\n",
       "      <td>0.0</td>\n",
       "      <td>0.0</td>\n",
       "      <td>0.0</td>\n",
       "      <td>0.0</td>\n",
       "    </tr>\n",
       "    <tr>\n",
       "      <th>145</th>\n",
       "      <td>2019-05-16</td>\n",
       "      <td>0.0</td>\n",
       "      <td>0.0</td>\n",
       "      <td>0.0</td>\n",
       "      <td>0.0</td>\n",
       "      <td>0.0</td>\n",
       "      <td>0.0</td>\n",
       "      <td>0.0</td>\n",
       "      <td>0.0</td>\n",
       "      <td>0.0</td>\n",
       "      <td>0.0</td>\n",
       "      <td>0.0</td>\n",
       "      <td>0.0</td>\n",
       "      <td>0.0</td>\n",
       "      <td>0.0</td>\n",
       "      <td>0.0</td>\n",
       "      <td>0.0</td>\n",
       "      <td>0.0</td>\n",
       "    </tr>\n",
       "    <tr>\n",
       "      <th>368</th>\n",
       "      <td>2019-12-25</td>\n",
       "      <td>0.0</td>\n",
       "      <td>0.0</td>\n",
       "      <td>0.0</td>\n",
       "      <td>0.0</td>\n",
       "      <td>0.0</td>\n",
       "      <td>0.0</td>\n",
       "      <td>0.0</td>\n",
       "      <td>0.0</td>\n",
       "      <td>0.0</td>\n",
       "      <td>0.0</td>\n",
       "      <td>0.0</td>\n",
       "      <td>0.0</td>\n",
       "      <td>0.0</td>\n",
       "      <td>0.0</td>\n",
       "      <td>0.0</td>\n",
       "      <td>0.0</td>\n",
       "      <td>0.0</td>\n",
       "    </tr>\n",
       "    <tr>\n",
       "      <th>428</th>\n",
       "      <td>2020-02-23</td>\n",
       "      <td>0.0</td>\n",
       "      <td>0.0</td>\n",
       "      <td>0.0</td>\n",
       "      <td>0.0</td>\n",
       "      <td>0.0</td>\n",
       "      <td>0.0</td>\n",
       "      <td>0.0</td>\n",
       "      <td>0.0</td>\n",
       "      <td>0.0</td>\n",
       "      <td>0.0</td>\n",
       "      <td>0.0</td>\n",
       "      <td>0.0</td>\n",
       "      <td>0.0</td>\n",
       "      <td>0.0</td>\n",
       "      <td>0.0</td>\n",
       "      <td>0.0</td>\n",
       "      <td>0.0</td>\n",
       "    </tr>\n",
       "  </tbody>\n",
       "</table>\n",
       "</div>"
      ],
      "text/plain": [
       "    data_atendimento  design_de_sobrancelhas  design_coloracao  \\\n",
       "1         2018-12-23                     0.0               0.0   \n",
       "247       2019-08-26                     0.0               0.0   \n",
       "145       2019-05-16                     0.0               0.0   \n",
       "368       2019-12-25                     0.0               0.0   \n",
       "428       2020-02-23                     0.0               0.0   \n",
       "\n",
       "     design_coloracao_buco  buco  brown_lamination  micropigmentacao  \\\n",
       "1                      7.0   0.0               0.0               0.0   \n",
       "247                    0.0   0.0               0.0               0.0   \n",
       "145                    0.0   0.0               0.0               0.0   \n",
       "368                    0.0   0.0               0.0               0.0   \n",
       "428                    0.0   0.0               0.0               0.0   \n",
       "\n",
       "     extensao_de_cilios  lash_lifting  limpeza_de_pele  microagulhamento  \\\n",
       "1                   0.0           0.0              1.0               0.0   \n",
       "247                 0.0           0.0              0.0               0.0   \n",
       "145                 0.0           0.0              0.0               0.0   \n",
       "368                 0.0           0.0              0.0               0.0   \n",
       "428                 0.0           0.0              0.0               0.0   \n",
       "\n",
       "     peeling_quimico  massagem_relaxante  pacote_massagem_5  \\\n",
       "1                0.0                 0.0                0.0   \n",
       "247              0.0                 0.0                0.0   \n",
       "145              0.0                 0.0                0.0   \n",
       "368              0.0                 0.0                0.0   \n",
       "428              0.0                 0.0                0.0   \n",
       "\n",
       "     drenagem_linfatica  striort  qtde_clientes  faturamento  \n",
       "1                   0.0      0.0            7.0        305.0  \n",
       "247                 0.0      0.0            0.0          0.0  \n",
       "145                 0.0      0.0            0.0          0.0  \n",
       "368                 0.0      0.0            0.0          0.0  \n",
       "428                 0.0      0.0            0.0          0.0  "
      ]
     },
     "execution_count": 33,
     "metadata": {},
     "output_type": "execute_result"
    }
   ],
   "source": [
    "train.head()"
   ]
  },
  {
   "cell_type": "code",
   "execution_count": 34,
   "metadata": {},
   "outputs": [
    {
     "name": "stdout",
     "output_type": "stream",
     "text": [
      "<class 'pandas.core.frame.DataFrame'>\n",
      "Int64Index: 105 entries, 12 to 433\n",
      "Data columns (total 18 columns):\n",
      " #   Column                  Non-Null Count  Dtype         \n",
      "---  ------                  --------------  -----         \n",
      " 0   data_atendimento        105 non-null    datetime64[ns]\n",
      " 1   design_de_sobrancelhas  105 non-null    float64       \n",
      " 2   design_coloracao        105 non-null    float64       \n",
      " 3   design_coloracao_buco   105 non-null    float64       \n",
      " 4   buco                    105 non-null    float64       \n",
      " 5   brown_lamination        105 non-null    float64       \n",
      " 6   micropigmentacao        105 non-null    float64       \n",
      " 7   extensao_de_cilios      105 non-null    float64       \n",
      " 8   lash_lifting            105 non-null    float64       \n",
      " 9   limpeza_de_pele         105 non-null    float64       \n",
      " 10  microagulhamento        105 non-null    float64       \n",
      " 11  peeling_quimico         105 non-null    float64       \n",
      " 12  massagem_relaxante      105 non-null    float64       \n",
      " 13  pacote_massagem_5       105 non-null    float64       \n",
      " 14  drenagem_linfatica      105 non-null    float64       \n",
      " 15  striort                 105 non-null    float64       \n",
      " 16  qtde_clientes           105 non-null    float64       \n",
      " 17  faturamento             105 non-null    float64       \n",
      "dtypes: datetime64[ns](1), float64(17)\n",
      "memory usage: 15.6 KB\n"
     ]
    }
   ],
   "source": [
    "test.info()"
   ]
  },
  {
   "cell_type": "code",
   "execution_count": 35,
   "metadata": {},
   "outputs": [
    {
     "data": {
      "text/html": [
       "<div>\n",
       "<style scoped>\n",
       "    .dataframe tbody tr th:only-of-type {\n",
       "        vertical-align: middle;\n",
       "    }\n",
       "\n",
       "    .dataframe tbody tr th {\n",
       "        vertical-align: top;\n",
       "    }\n",
       "\n",
       "    .dataframe thead th {\n",
       "        text-align: right;\n",
       "    }\n",
       "</style>\n",
       "<table border=\"1\" class=\"dataframe\">\n",
       "  <thead>\n",
       "    <tr style=\"text-align: right;\">\n",
       "      <th></th>\n",
       "      <th>data_atendimento</th>\n",
       "      <th>design_de_sobrancelhas</th>\n",
       "      <th>design_coloracao</th>\n",
       "      <th>design_coloracao_buco</th>\n",
       "      <th>buco</th>\n",
       "      <th>brown_lamination</th>\n",
       "      <th>micropigmentacao</th>\n",
       "      <th>extensao_de_cilios</th>\n",
       "      <th>lash_lifting</th>\n",
       "      <th>limpeza_de_pele</th>\n",
       "      <th>microagulhamento</th>\n",
       "      <th>peeling_quimico</th>\n",
       "      <th>massagem_relaxante</th>\n",
       "      <th>pacote_massagem_5</th>\n",
       "      <th>drenagem_linfatica</th>\n",
       "      <th>striort</th>\n",
       "      <th>qtde_clientes</th>\n",
       "      <th>faturamento</th>\n",
       "    </tr>\n",
       "  </thead>\n",
       "  <tbody>\n",
       "    <tr>\n",
       "      <th>12</th>\n",
       "      <td>2019-01-03</td>\n",
       "      <td>0.0</td>\n",
       "      <td>1.0</td>\n",
       "      <td>0.0</td>\n",
       "      <td>0.0</td>\n",
       "      <td>0.0</td>\n",
       "      <td>0.0</td>\n",
       "      <td>0.0</td>\n",
       "      <td>0.0</td>\n",
       "      <td>1.0</td>\n",
       "      <td>0.0</td>\n",
       "      <td>0.0</td>\n",
       "      <td>1.0</td>\n",
       "      <td>0.0</td>\n",
       "      <td>0.0</td>\n",
       "      <td>0.0</td>\n",
       "      <td>3.0</td>\n",
       "      <td>170.0</td>\n",
       "    </tr>\n",
       "    <tr>\n",
       "      <th>25</th>\n",
       "      <td>2019-01-16</td>\n",
       "      <td>0.0</td>\n",
       "      <td>0.0</td>\n",
       "      <td>0.0</td>\n",
       "      <td>0.0</td>\n",
       "      <td>0.0</td>\n",
       "      <td>0.0</td>\n",
       "      <td>0.0</td>\n",
       "      <td>0.0</td>\n",
       "      <td>0.0</td>\n",
       "      <td>0.0</td>\n",
       "      <td>1.0</td>\n",
       "      <td>0.0</td>\n",
       "      <td>0.0</td>\n",
       "      <td>0.0</td>\n",
       "      <td>0.0</td>\n",
       "      <td>1.0</td>\n",
       "      <td>150.0</td>\n",
       "    </tr>\n",
       "    <tr>\n",
       "      <th>37</th>\n",
       "      <td>2019-01-28</td>\n",
       "      <td>1.0</td>\n",
       "      <td>0.0</td>\n",
       "      <td>0.0</td>\n",
       "      <td>0.0</td>\n",
       "      <td>0.0</td>\n",
       "      <td>0.0</td>\n",
       "      <td>0.0</td>\n",
       "      <td>0.0</td>\n",
       "      <td>0.0</td>\n",
       "      <td>0.0</td>\n",
       "      <td>0.0</td>\n",
       "      <td>0.0</td>\n",
       "      <td>0.0</td>\n",
       "      <td>1.0</td>\n",
       "      <td>0.0</td>\n",
       "      <td>2.0</td>\n",
       "      <td>100.0</td>\n",
       "    </tr>\n",
       "    <tr>\n",
       "      <th>309</th>\n",
       "      <td>2019-10-27</td>\n",
       "      <td>0.0</td>\n",
       "      <td>0.0</td>\n",
       "      <td>0.0</td>\n",
       "      <td>0.0</td>\n",
       "      <td>0.0</td>\n",
       "      <td>0.0</td>\n",
       "      <td>0.0</td>\n",
       "      <td>0.0</td>\n",
       "      <td>0.0</td>\n",
       "      <td>0.0</td>\n",
       "      <td>0.0</td>\n",
       "      <td>0.0</td>\n",
       "      <td>0.0</td>\n",
       "      <td>0.0</td>\n",
       "      <td>0.0</td>\n",
       "      <td>0.0</td>\n",
       "      <td>0.0</td>\n",
       "    </tr>\n",
       "    <tr>\n",
       "      <th>16</th>\n",
       "      <td>2019-01-07</td>\n",
       "      <td>0.0</td>\n",
       "      <td>0.0</td>\n",
       "      <td>0.0</td>\n",
       "      <td>0.0</td>\n",
       "      <td>0.0</td>\n",
       "      <td>0.0</td>\n",
       "      <td>0.0</td>\n",
       "      <td>0.0</td>\n",
       "      <td>0.0</td>\n",
       "      <td>0.0</td>\n",
       "      <td>0.0</td>\n",
       "      <td>0.0</td>\n",
       "      <td>0.0</td>\n",
       "      <td>0.0</td>\n",
       "      <td>0.0</td>\n",
       "      <td>0.0</td>\n",
       "      <td>0.0</td>\n",
       "    </tr>\n",
       "  </tbody>\n",
       "</table>\n",
       "</div>"
      ],
      "text/plain": [
       "    data_atendimento  design_de_sobrancelhas  design_coloracao  \\\n",
       "12        2019-01-03                     0.0               1.0   \n",
       "25        2019-01-16                     0.0               0.0   \n",
       "37        2019-01-28                     1.0               0.0   \n",
       "309       2019-10-27                     0.0               0.0   \n",
       "16        2019-01-07                     0.0               0.0   \n",
       "\n",
       "     design_coloracao_buco  buco  brown_lamination  micropigmentacao  \\\n",
       "12                     0.0   0.0               0.0               0.0   \n",
       "25                     0.0   0.0               0.0               0.0   \n",
       "37                     0.0   0.0               0.0               0.0   \n",
       "309                    0.0   0.0               0.0               0.0   \n",
       "16                     0.0   0.0               0.0               0.0   \n",
       "\n",
       "     extensao_de_cilios  lash_lifting  limpeza_de_pele  microagulhamento  \\\n",
       "12                  0.0           0.0              1.0               0.0   \n",
       "25                  0.0           0.0              0.0               0.0   \n",
       "37                  0.0           0.0              0.0               0.0   \n",
       "309                 0.0           0.0              0.0               0.0   \n",
       "16                  0.0           0.0              0.0               0.0   \n",
       "\n",
       "     peeling_quimico  massagem_relaxante  pacote_massagem_5  \\\n",
       "12               0.0                 1.0                0.0   \n",
       "25               1.0                 0.0                0.0   \n",
       "37               0.0                 0.0                0.0   \n",
       "309              0.0                 0.0                0.0   \n",
       "16               0.0                 0.0                0.0   \n",
       "\n",
       "     drenagem_linfatica  striort  qtde_clientes  faturamento  \n",
       "12                  0.0      0.0            3.0        170.0  \n",
       "25                  0.0      0.0            1.0        150.0  \n",
       "37                  1.0      0.0            2.0        100.0  \n",
       "309                 0.0      0.0            0.0          0.0  \n",
       "16                  0.0      0.0            0.0          0.0  "
      ]
     },
     "execution_count": 35,
     "metadata": {},
     "output_type": "execute_result"
    }
   ],
   "source": [
    "test.head()"
   ]
  },
  {
   "cell_type": "code",
   "execution_count": 36,
   "metadata": {},
   "outputs": [],
   "source": [
    "# train['design_coloracao_buco']=train['design_coloracao_buco'].apply(np.log1p)\n",
    "# train['faturamento']=train['faturamento'].apply(np.log1p)"
   ]
  },
  {
   "cell_type": "code",
   "execution_count": 37,
   "metadata": {},
   "outputs": [],
   "source": [
    "# test['design_coloracao_buco']=test['design_coloracao_buco'].apply(np.log1p)\n",
    "# test['faturamento']=test['faturamento'].apply(np.log1p)"
   ]
  },
  {
   "cell_type": "code",
   "execution_count": 38,
   "metadata": {},
   "outputs": [],
   "source": [
    "X_cols = ['design_de_sobrancelhas', 'design_coloracao',\n",
    "       'design_coloracao_buco', 'buco', 'brown_lamination', 'micropigmentacao',\n",
    "       'extensao_de_cilios', 'lash_lifting', 'limpeza_de_pele',\n",
    "       'microagulhamento', 'peeling_quimico', 'massagem_relaxante',\n",
    "       'pacote_massagem_5', 'drenagem_linfatica', 'striort','qtde_clientes'\n",
    "         ]\n",
    "y_col = ['faturamento']"
   ]
  },
  {
   "cell_type": "code",
   "execution_count": 39,
   "metadata": {},
   "outputs": [],
   "source": [
    "X_train = train[X_cols]\n",
    "X_test = test[X_cols]\n",
    "y_train = train[y_col]\n",
    "y_test = test[y_col]"
   ]
  },
  {
   "cell_type": "code",
   "execution_count": 40,
   "metadata": {},
   "outputs": [
    {
     "data": {
      "text/html": [
       "<div>\n",
       "<style scoped>\n",
       "    .dataframe tbody tr th:only-of-type {\n",
       "        vertical-align: middle;\n",
       "    }\n",
       "\n",
       "    .dataframe tbody tr th {\n",
       "        vertical-align: top;\n",
       "    }\n",
       "\n",
       "    .dataframe thead th {\n",
       "        text-align: right;\n",
       "    }\n",
       "</style>\n",
       "<table border=\"1\" class=\"dataframe\">\n",
       "  <thead>\n",
       "    <tr style=\"text-align: right;\">\n",
       "      <th></th>\n",
       "      <th>design_de_sobrancelhas</th>\n",
       "      <th>design_coloracao</th>\n",
       "      <th>design_coloracao_buco</th>\n",
       "      <th>buco</th>\n",
       "      <th>brown_lamination</th>\n",
       "      <th>micropigmentacao</th>\n",
       "      <th>extensao_de_cilios</th>\n",
       "      <th>lash_lifting</th>\n",
       "      <th>limpeza_de_pele</th>\n",
       "      <th>microagulhamento</th>\n",
       "      <th>peeling_quimico</th>\n",
       "      <th>massagem_relaxante</th>\n",
       "      <th>pacote_massagem_5</th>\n",
       "      <th>drenagem_linfatica</th>\n",
       "      <th>striort</th>\n",
       "      <th>qtde_clientes</th>\n",
       "    </tr>\n",
       "  </thead>\n",
       "  <tbody>\n",
       "    <tr>\n",
       "      <th>1</th>\n",
       "      <td>0.0</td>\n",
       "      <td>0.0</td>\n",
       "      <td>7.0</td>\n",
       "      <td>0.0</td>\n",
       "      <td>0.0</td>\n",
       "      <td>0.0</td>\n",
       "      <td>0.0</td>\n",
       "      <td>0.0</td>\n",
       "      <td>1.0</td>\n",
       "      <td>0.0</td>\n",
       "      <td>0.0</td>\n",
       "      <td>0.0</td>\n",
       "      <td>0.0</td>\n",
       "      <td>0.0</td>\n",
       "      <td>0.0</td>\n",
       "      <td>7.0</td>\n",
       "    </tr>\n",
       "    <tr>\n",
       "      <th>247</th>\n",
       "      <td>0.0</td>\n",
       "      <td>0.0</td>\n",
       "      <td>0.0</td>\n",
       "      <td>0.0</td>\n",
       "      <td>0.0</td>\n",
       "      <td>0.0</td>\n",
       "      <td>0.0</td>\n",
       "      <td>0.0</td>\n",
       "      <td>0.0</td>\n",
       "      <td>0.0</td>\n",
       "      <td>0.0</td>\n",
       "      <td>0.0</td>\n",
       "      <td>0.0</td>\n",
       "      <td>0.0</td>\n",
       "      <td>0.0</td>\n",
       "      <td>0.0</td>\n",
       "    </tr>\n",
       "    <tr>\n",
       "      <th>145</th>\n",
       "      <td>0.0</td>\n",
       "      <td>0.0</td>\n",
       "      <td>0.0</td>\n",
       "      <td>0.0</td>\n",
       "      <td>0.0</td>\n",
       "      <td>0.0</td>\n",
       "      <td>0.0</td>\n",
       "      <td>0.0</td>\n",
       "      <td>0.0</td>\n",
       "      <td>0.0</td>\n",
       "      <td>0.0</td>\n",
       "      <td>0.0</td>\n",
       "      <td>0.0</td>\n",
       "      <td>0.0</td>\n",
       "      <td>0.0</td>\n",
       "      <td>0.0</td>\n",
       "    </tr>\n",
       "    <tr>\n",
       "      <th>368</th>\n",
       "      <td>0.0</td>\n",
       "      <td>0.0</td>\n",
       "      <td>0.0</td>\n",
       "      <td>0.0</td>\n",
       "      <td>0.0</td>\n",
       "      <td>0.0</td>\n",
       "      <td>0.0</td>\n",
       "      <td>0.0</td>\n",
       "      <td>0.0</td>\n",
       "      <td>0.0</td>\n",
       "      <td>0.0</td>\n",
       "      <td>0.0</td>\n",
       "      <td>0.0</td>\n",
       "      <td>0.0</td>\n",
       "      <td>0.0</td>\n",
       "      <td>0.0</td>\n",
       "    </tr>\n",
       "    <tr>\n",
       "      <th>428</th>\n",
       "      <td>0.0</td>\n",
       "      <td>0.0</td>\n",
       "      <td>0.0</td>\n",
       "      <td>0.0</td>\n",
       "      <td>0.0</td>\n",
       "      <td>0.0</td>\n",
       "      <td>0.0</td>\n",
       "      <td>0.0</td>\n",
       "      <td>0.0</td>\n",
       "      <td>0.0</td>\n",
       "      <td>0.0</td>\n",
       "      <td>0.0</td>\n",
       "      <td>0.0</td>\n",
       "      <td>0.0</td>\n",
       "      <td>0.0</td>\n",
       "      <td>0.0</td>\n",
       "    </tr>\n",
       "  </tbody>\n",
       "</table>\n",
       "</div>"
      ],
      "text/plain": [
       "     design_de_sobrancelhas  design_coloracao  design_coloracao_buco  buco  \\\n",
       "1                       0.0               0.0                    7.0   0.0   \n",
       "247                     0.0               0.0                    0.0   0.0   \n",
       "145                     0.0               0.0                    0.0   0.0   \n",
       "368                     0.0               0.0                    0.0   0.0   \n",
       "428                     0.0               0.0                    0.0   0.0   \n",
       "\n",
       "     brown_lamination  micropigmentacao  extensao_de_cilios  lash_lifting  \\\n",
       "1                 0.0               0.0                 0.0           0.0   \n",
       "247               0.0               0.0                 0.0           0.0   \n",
       "145               0.0               0.0                 0.0           0.0   \n",
       "368               0.0               0.0                 0.0           0.0   \n",
       "428               0.0               0.0                 0.0           0.0   \n",
       "\n",
       "     limpeza_de_pele  microagulhamento  peeling_quimico  massagem_relaxante  \\\n",
       "1                1.0               0.0              0.0                 0.0   \n",
       "247              0.0               0.0              0.0                 0.0   \n",
       "145              0.0               0.0              0.0                 0.0   \n",
       "368              0.0               0.0              0.0                 0.0   \n",
       "428              0.0               0.0              0.0                 0.0   \n",
       "\n",
       "     pacote_massagem_5  drenagem_linfatica  striort  qtde_clientes  \n",
       "1                  0.0                 0.0      0.0            7.0  \n",
       "247                0.0                 0.0      0.0            0.0  \n",
       "145                0.0                 0.0      0.0            0.0  \n",
       "368                0.0                 0.0      0.0            0.0  \n",
       "428                0.0                 0.0      0.0            0.0  "
      ]
     },
     "execution_count": 40,
     "metadata": {},
     "output_type": "execute_result"
    }
   ],
   "source": [
    "X_train.head()"
   ]
  },
  {
   "cell_type": "code",
   "execution_count": 41,
   "metadata": {},
   "outputs": [
    {
     "data": {
      "text/html": [
       "<div>\n",
       "<style scoped>\n",
       "    .dataframe tbody tr th:only-of-type {\n",
       "        vertical-align: middle;\n",
       "    }\n",
       "\n",
       "    .dataframe tbody tr th {\n",
       "        vertical-align: top;\n",
       "    }\n",
       "\n",
       "    .dataframe thead th {\n",
       "        text-align: right;\n",
       "    }\n",
       "</style>\n",
       "<table border=\"1\" class=\"dataframe\">\n",
       "  <thead>\n",
       "    <tr style=\"text-align: right;\">\n",
       "      <th></th>\n",
       "      <th>faturamento</th>\n",
       "    </tr>\n",
       "  </thead>\n",
       "  <tbody>\n",
       "    <tr>\n",
       "      <th>1</th>\n",
       "      <td>305.0</td>\n",
       "    </tr>\n",
       "    <tr>\n",
       "      <th>247</th>\n",
       "      <td>0.0</td>\n",
       "    </tr>\n",
       "    <tr>\n",
       "      <th>145</th>\n",
       "      <td>0.0</td>\n",
       "    </tr>\n",
       "    <tr>\n",
       "      <th>368</th>\n",
       "      <td>0.0</td>\n",
       "    </tr>\n",
       "    <tr>\n",
       "      <th>428</th>\n",
       "      <td>0.0</td>\n",
       "    </tr>\n",
       "  </tbody>\n",
       "</table>\n",
       "</div>"
      ],
      "text/plain": [
       "     faturamento\n",
       "1          305.0\n",
       "247          0.0\n",
       "145          0.0\n",
       "368          0.0\n",
       "428          0.0"
      ]
     },
     "execution_count": 41,
     "metadata": {},
     "output_type": "execute_result"
    }
   ],
   "source": [
    "y_train.head()"
   ]
  },
  {
   "cell_type": "markdown",
   "metadata": {},
   "source": [
    " - Machine learning"
   ]
  },
  {
   "cell_type": "code",
   "execution_count": 42,
   "metadata": {},
   "outputs": [
    {
     "data": {
      "text/plain": [
       "KNeighborsRegressor()"
      ]
     },
     "execution_count": 42,
     "metadata": {},
     "output_type": "execute_result"
    }
   ],
   "source": [
    "from sklearn.neighbors import KNeighborsRegressor\n",
    "neigh = KNeighborsRegressor()\n",
    "neigh.fit(X_train,y_train)"
   ]
  },
  {
   "cell_type": "code",
   "execution_count": 43,
   "metadata": {},
   "outputs": [],
   "source": [
    "y_pred = neigh.predict(X_test)"
   ]
  },
  {
   "cell_type": "code",
   "execution_count": 44,
   "metadata": {},
   "outputs": [
    {
     "data": {
      "text/plain": [
       "81.99454104941842"
      ]
     },
     "execution_count": 44,
     "metadata": {},
     "output_type": "execute_result"
    }
   ],
   "source": [
    "# Root Mean Squared Error\n",
    "np.sqrt(np.mean((y_pred-y_test.values)**2))"
   ]
  },
  {
   "cell_type": "code",
   "execution_count": 45,
   "metadata": {},
   "outputs": [
    {
     "data": {
      "text/plain": [
       "6723.104761904762"
      ]
     },
     "execution_count": 45,
     "metadata": {},
     "output_type": "execute_result"
    }
   ],
   "source": [
    "# Mean Squared Error\n",
    "np.mean((y_pred-y_test.values)**2)"
   ]
  },
  {
   "cell_type": "code",
   "execution_count": 46,
   "metadata": {},
   "outputs": [
    {
     "data": {
      "text/plain": [
       "38.97142857142857"
      ]
     },
     "execution_count": 46,
     "metadata": {},
     "output_type": "execute_result"
    }
   ],
   "source": [
    "# Mean Absolute Error\n",
    "np.mean(np.abs(y_pred-y_test.values))"
   ]
  },
  {
   "cell_type": "code",
   "execution_count": 47,
   "metadata": {},
   "outputs": [
    {
     "data": {
      "text/plain": [
       "0.7064577742786808"
      ]
     },
     "execution_count": 47,
     "metadata": {},
     "output_type": "execute_result"
    }
   ],
   "source": [
    "# R2 Score\n",
    "from sklearn.metrics import r2_score\n",
    "r2_score(y_test, y_pred)"
   ]
  },
  {
   "cell_type": "markdown",
   "metadata": {},
   "source": [
    " - Triagem com outros modelos"
   ]
  },
  {
   "cell_type": "code",
   "execution_count": 48,
   "metadata": {},
   "outputs": [
    {
     "data": {
      "text/plain": [
       "1.0"
      ]
     },
     "execution_count": 48,
     "metadata": {},
     "output_type": "execute_result"
    }
   ],
   "source": [
    "from sklearn.linear_model import LinearRegression\n",
    "reg = LinearRegression()\n",
    "reg.fit(X_train, y_train)\n",
    "\n",
    "reg.score(X_test, y_test)"
   ]
  },
  {
   "cell_type": "code",
   "execution_count": 49,
   "metadata": {},
   "outputs": [],
   "source": [
    "# import sys\n",
    "# !{sys.executable} -m pip install xgboost"
   ]
  },
  {
   "cell_type": "code",
   "execution_count": 50,
   "metadata": {},
   "outputs": [
    {
     "name": "stdout",
     "output_type": "stream",
     "text": [
      "Treinando DecisionTreeRegressor\n",
      "Train score 1.0\n",
      "Test score 0.8822705750593245\n",
      "================================================================================\n",
      "Treinando RandomForestRegressor\n"
     ]
    },
    {
     "name": "stderr",
     "output_type": "stream",
     "text": [
      "<ipython-input-50-c1465de9113c>:14: DataConversionWarning: A column-vector y was passed when a 1d array was expected. Please change the shape of y to (n_samples,), for example using ravel().\n",
      "  reg.fit(X_train, y_train)\n"
     ]
    },
    {
     "name": "stdout",
     "output_type": "stream",
     "text": [
      "Train score 0.9889450943598116\n",
      "Test score 0.9358324429764254\n",
      "================================================================================\n",
      "Treinando MLPRegressor\n"
     ]
    },
    {
     "name": "stderr",
     "output_type": "stream",
     "text": [
      "C:\\Users\\Biena\\anaconda3\\lib\\site-packages\\sklearn\\utils\\validation.py:73: DataConversionWarning: A column-vector y was passed when a 1d array was expected. Please change the shape of y to (n_samples, ), for example using ravel().\n",
      "  return f(**kwargs)\n",
      "C:\\Users\\Biena\\anaconda3\\lib\\site-packages\\sklearn\\neural_network\\_multilayer_perceptron.py:582: ConvergenceWarning: Stochastic Optimizer: Maximum iterations (200) reached and the optimization hasn't converged yet.\n",
      "  warnings.warn(\n"
     ]
    },
    {
     "name": "stdout",
     "output_type": "stream",
     "text": [
      "Train score 0.45065865628904034\n",
      "Test score 0.550687032509223\n",
      "================================================================================\n",
      "Treinando XGBRegressor\n",
      "Train score 0.9998529628131209\n",
      "Test score 0.9628668692829907\n",
      "================================================================================\n"
     ]
    }
   ],
   "source": [
    "from sklearn.tree import DecisionTreeRegressor\n",
    "from sklearn.ensemble import RandomForestRegressor\n",
    "from sklearn.neural_network import MLPRegressor\n",
    "from xgboost import XGBRegressor\n",
    "\n",
    "regressor_list = [DecisionTreeRegressor(),\n",
    "                  RandomForestRegressor(),\n",
    "                  MLPRegressor(),\n",
    "                  XGBRegressor()\n",
    "                  ]\n",
    "\n",
    "for reg in regressor_list:\n",
    "  print('Treinando', reg.__class__.__name__)\n",
    "  reg.fit(X_train, y_train)\n",
    "  train_score = reg.score(X_train, y_train)\n",
    "  test_score = reg.score(X_test, y_test)\n",
    "  print('Train score', train_score)\n",
    "  print('Test score', test_score)\n",
    "  print('='*80)"
   ]
  },
  {
   "cell_type": "markdown",
   "metadata": {},
   "source": [
    "- Repetindo com validação cruzada."
   ]
  },
  {
   "cell_type": "code",
   "execution_count": 53,
   "metadata": {},
   "outputs": [
    {
     "name": "stdout",
     "output_type": "stream",
     "text": [
      "Treinando DecisionTreeRegressor\n",
      "Train score 1.0\n",
      "Validation score [0.85848701 0.72837203 0.9196918  0.78957838 0.8138508 ]\n",
      "Test score 0.8752119325364263\n",
      "================================================================================\n",
      "Treinando RandomForestRegressor\n",
      "Train score 0.9871282312636301\n",
      "Validation score [0.89687721 0.85842427 0.95367599 0.85031565 0.91935561]\n",
      "Test score 0.9380415237242465\n",
      "================================================================================\n",
      "Treinando MLPRegressor\n",
      "Train score 0.43928074320473276\n",
      "Validation score [0.30391158 0.40688735 0.48466389 0.46929701 0.63590242]\n",
      "Test score 0.533984516165764\n",
      "================================================================================\n",
      "Treinando XGBRegressor\n",
      "Train score 0.9998529628131209\n",
      "Validation score [0.93450363 0.91370659 0.96104704 0.90293097 0.94375139]\n",
      "Test score 0.9628668692829907\n",
      "================================================================================\n"
     ]
    }
   ],
   "source": [
    "# repetindo processo com validação cruzada\n",
    "import warnings\n",
    "warnings.filterwarnings(\"ignore\")\n",
    "from sklearn.tree import DecisionTreeRegressor\n",
    "from sklearn.ensemble import RandomForestRegressor\n",
    "from sklearn.neural_network import MLPRegressor\n",
    "from xgboost import XGBRegressor\n",
    "from sklearn.model_selection import cross_val_score\n",
    "\n",
    "regressor_list = [DecisionTreeRegressor(),\n",
    "                  RandomForestRegressor(),\n",
    "                  MLPRegressor(),\n",
    "                  XGBRegressor()\n",
    "                  ]\n",
    "\n",
    "for reg in regressor_list:\n",
    "  print('Treinando', reg.__class__.__name__)\n",
    "  reg.fit(X_train, y_train)\n",
    "  train_score = reg.score(X_train, y_train)\n",
    "  val_score = cross_val_score(reg, X_train, y_train, cv=5)\n",
    "  test_score = reg.score(X_test, y_test)\n",
    "  print('Train score', train_score)\n",
    "  print('Validation score', val_score)\n",
    "  print('Test score', test_score)\n",
    "  print('='*80)"
   ]
  },
  {
   "cell_type": "code",
   "execution_count": 54,
   "metadata": {},
   "outputs": [
    {
     "data": {
      "text/plain": [
       "GridSearchCV(cv=5,\n",
       "             estimator=XGBRegressor(base_score=None, booster=None,\n",
       "                                    colsample_bylevel=None,\n",
       "                                    colsample_bynode=None,\n",
       "                                    colsample_bytree=None, gamma=None,\n",
       "                                    gpu_id=None, importance_type='gain',\n",
       "                                    interaction_constraints=None,\n",
       "                                    learning_rate=None, max_delta_step=None,\n",
       "                                    max_depth=1, min_child_weight=None,\n",
       "                                    missing=nan, monotone_constraints=None,\n",
       "                                    n_estimators=100, n_jobs=None,\n",
       "                                    num_parallel_tree=None, random_state=None,\n",
       "                                    reg_alpha=None, reg_lambda=None,\n",
       "                                    scale_pos_weight=None, subsample=None,\n",
       "                                    tree_method=None, validate_parameters=None,\n",
       "                                    verbosity=None),\n",
       "             n_jobs=-1,\n",
       "             param_grid=[{'learning_rate': [0.1, 0.2, 0.3, 0.4, 0.5],\n",
       "                          'max_depth': [3, 4, 5, 6, 7, 8],\n",
       "                          'n_estimators': [50, 100, 150, 200, 250]}],\n",
       "             scoring='r2')"
      ]
     },
     "execution_count": 54,
     "metadata": {},
     "output_type": "execute_result"
    }
   ],
   "source": [
    "#  Todo: calibração do modelo\n",
    "from sklearn.model_selection import GridSearchCV\n",
    "parameters=[{'learning_rate':[0.1,0.2,0.3,0.4,0.5],\n",
    "             'max_depth':[3,4,5,6,7,8],\n",
    "             'n_estimators':[50, 100,150,200,250]}]\n",
    "            \n",
    "xgb = XGBRegressor(n_estimators=100, max_depth=1)\n",
    "gs = GridSearchCV(xgb,parameters,scoring='r2',n_jobs=-1,cv=5)\n",
    "gs.fit(X_train, y_train)"
   ]
  },
  {
   "cell_type": "code",
   "execution_count": null,
   "metadata": {},
   "outputs": [],
   "source": [
    "gs.best_params_"
   ]
  },
  {
   "cell_type": "code",
   "execution_count": null,
   "metadata": {},
   "outputs": [],
   "source": [
    "train_score = reg.score(X_train, y_train)\n",
    "val_score = cross_val_score(reg, X_train, y_train, cv=3)\n",
    "test_score = reg.score(X_test, y_test)\n",
    "print('Train score', train_score)\n",
    "print('Validation score', val_score)\n",
    "print('Test score', test_score)"
   ]
  },
  {
   "cell_type": "code",
   "execution_count": null,
   "metadata": {},
   "outputs": [],
   "source": [
    "import pickle\n",
    "# now you can save it to a file\n",
    "with open('xgboost_regression.pkl', 'wb') as f:\n",
    "    pickle.dump(reg, f)\n"
   ]
  },
  {
   "cell_type": "code",
   "execution_count": null,
   "metadata": {},
   "outputs": [],
   "source": []
  }
 ],
 "metadata": {
  "kernelspec": {
   "display_name": "Python 3",
   "language": "python",
   "name": "python3"
  },
  "language_info": {
   "codemirror_mode": {
    "name": "ipython",
    "version": 3
   },
   "file_extension": ".py",
   "mimetype": "text/x-python",
   "name": "python",
   "nbconvert_exporter": "python",
   "pygments_lexer": "ipython3",
   "version": "3.8.3"
  }
 },
 "nbformat": 4,
 "nbformat_minor": 4
}
