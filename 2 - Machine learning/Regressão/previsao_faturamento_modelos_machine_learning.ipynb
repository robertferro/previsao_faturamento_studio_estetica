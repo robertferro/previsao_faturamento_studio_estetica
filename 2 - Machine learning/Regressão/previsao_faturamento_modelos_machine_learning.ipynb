{
  "nbformat": 4,
  "nbformat_minor": 0,
  "metadata": {
    "colab": {
      "name": "previsao_faturamento_modelos_machine_learning.ipynb",
      "provenance": []
    },
    "kernelspec": {
      "display_name": "Python 3",
      "language": "python",
      "name": "python3"
    },
    "language_info": {
      "codemirror_mode": {
        "name": "ipython",
        "version": 3
      },
      "file_extension": ".py",
      "mimetype": "text/x-python",
      "name": "python",
      "nbconvert_exporter": "python",
      "pygments_lexer": "ipython3",
      "version": "3.8.3"
    }
  },
  "cells": [
    {
      "cell_type": "markdown",
      "metadata": {
        "id": "ksEadj9Vj72Y"
      },
      "source": [
        "## 1- Objetivo\n",
        " \n",
        " - Encontrar o melhor modelo para a previsão de faturamento.\n",
        " "
      ]
    },
    {
      "cell_type": "markdown",
      "metadata": {
        "id": "a8rX1maGj72w"
      },
      "source": [
        " - Importando os dados preprocessados"
      ]
    },
    {
      "cell_type": "code",
      "metadata": {
        "id": "_FB7LcA1j72y"
      },
      "source": [
        "\n",
        "import pandas as pd\n",
        "import numpy as np\n",
        "import seaborn as sns\n",
        "import matplotlib.pyplot as plt\n",
        "import datetime\n",
        "from datetime import date"
      ],
      "execution_count": 18,
      "outputs": []
    },
    {
      "cell_type": "code",
      "metadata": {
        "id": "gzeRdhOjj720"
      },
      "source": [
        "url = 'https://raw.githubusercontent.com/robertferro/studio-estetica/main/dados_modelagem.csv'"
      ],
      "execution_count": 19,
      "outputs": []
    },
    {
      "cell_type": "code",
      "metadata": {
        "id": "JFOJzTzgj720"
      },
      "source": [
        "dados = pd.read_csv(url, sep = ',')"
      ],
      "execution_count": 20,
      "outputs": []
    },
    {
      "cell_type": "code",
      "metadata": {
        "colab": {
          "base_uri": "https://localhost:8080/",
          "height": 241
        },
        "id": "Dnrh_3dij721",
        "outputId": "2bdc4f42-2725-44b9-908b-75a1f3ff023b"
      },
      "source": [
        "dados.head()"
      ],
      "execution_count": 21,
      "outputs": [
        {
          "output_type": "execute_result",
          "data": {
            "text/html": [
              "<div>\n",
              "<style scoped>\n",
              "    .dataframe tbody tr th:only-of-type {\n",
              "        vertical-align: middle;\n",
              "    }\n",
              "\n",
              "    .dataframe tbody tr th {\n",
              "        vertical-align: top;\n",
              "    }\n",
              "\n",
              "    .dataframe thead th {\n",
              "        text-align: right;\n",
              "    }\n",
              "</style>\n",
              "<table border=\"1\" class=\"dataframe\">\n",
              "  <thead>\n",
              "    <tr style=\"text-align: right;\">\n",
              "      <th></th>\n",
              "      <th>Unnamed: 0</th>\n",
              "      <th>data_atendimento</th>\n",
              "      <th>design_de_sobrancelhas</th>\n",
              "      <th>design_coloracao</th>\n",
              "      <th>design_coloracao_buco</th>\n",
              "      <th>buco</th>\n",
              "      <th>brown_lamination</th>\n",
              "      <th>micropigmentacao</th>\n",
              "      <th>extensao_de_cilios</th>\n",
              "      <th>lash_lifting</th>\n",
              "      <th>limpeza_de_pele</th>\n",
              "      <th>microagulhamento</th>\n",
              "      <th>peeling_quimico</th>\n",
              "      <th>massagem_relaxante</th>\n",
              "      <th>pacote_massagem_5</th>\n",
              "      <th>drenagem_linfatica</th>\n",
              "      <th>striort</th>\n",
              "      <th>qtde_clientes</th>\n",
              "      <th>faturamento</th>\n",
              "    </tr>\n",
              "  </thead>\n",
              "  <tbody>\n",
              "    <tr>\n",
              "      <th>0</th>\n",
              "      <td>1</td>\n",
              "      <td>2018-12-23</td>\n",
              "      <td>0.0</td>\n",
              "      <td>0.0</td>\n",
              "      <td>7.0</td>\n",
              "      <td>0.0</td>\n",
              "      <td>0.0</td>\n",
              "      <td>0.0</td>\n",
              "      <td>0.0</td>\n",
              "      <td>0.0</td>\n",
              "      <td>1.0</td>\n",
              "      <td>0.0</td>\n",
              "      <td>0.0</td>\n",
              "      <td>0.0</td>\n",
              "      <td>0.0</td>\n",
              "      <td>0.0</td>\n",
              "      <td>0.0</td>\n",
              "      <td>7.0</td>\n",
              "      <td>270.0</td>\n",
              "    </tr>\n",
              "    <tr>\n",
              "      <th>1</th>\n",
              "      <td>2</td>\n",
              "      <td>2018-12-24</td>\n",
              "      <td>0.0</td>\n",
              "      <td>0.0</td>\n",
              "      <td>0.0</td>\n",
              "      <td>0.0</td>\n",
              "      <td>0.0</td>\n",
              "      <td>0.0</td>\n",
              "      <td>0.0</td>\n",
              "      <td>0.0</td>\n",
              "      <td>0.0</td>\n",
              "      <td>0.0</td>\n",
              "      <td>0.0</td>\n",
              "      <td>0.0</td>\n",
              "      <td>0.0</td>\n",
              "      <td>0.0</td>\n",
              "      <td>0.0</td>\n",
              "      <td>0.0</td>\n",
              "      <td>0.0</td>\n",
              "    </tr>\n",
              "    <tr>\n",
              "      <th>2</th>\n",
              "      <td>3</td>\n",
              "      <td>2018-12-25</td>\n",
              "      <td>0.0</td>\n",
              "      <td>0.0</td>\n",
              "      <td>0.0</td>\n",
              "      <td>0.0</td>\n",
              "      <td>0.0</td>\n",
              "      <td>0.0</td>\n",
              "      <td>0.0</td>\n",
              "      <td>0.0</td>\n",
              "      <td>0.0</td>\n",
              "      <td>0.0</td>\n",
              "      <td>0.0</td>\n",
              "      <td>0.0</td>\n",
              "      <td>0.0</td>\n",
              "      <td>0.0</td>\n",
              "      <td>0.0</td>\n",
              "      <td>0.0</td>\n",
              "      <td>0.0</td>\n",
              "    </tr>\n",
              "    <tr>\n",
              "      <th>3</th>\n",
              "      <td>4</td>\n",
              "      <td>2018-12-26</td>\n",
              "      <td>1.0</td>\n",
              "      <td>0.0</td>\n",
              "      <td>1.0</td>\n",
              "      <td>1.0</td>\n",
              "      <td>0.0</td>\n",
              "      <td>1.0</td>\n",
              "      <td>1.0</td>\n",
              "      <td>0.0</td>\n",
              "      <td>0.0</td>\n",
              "      <td>0.0</td>\n",
              "      <td>0.0</td>\n",
              "      <td>0.0</td>\n",
              "      <td>0.0</td>\n",
              "      <td>0.0</td>\n",
              "      <td>0.0</td>\n",
              "      <td>4.0</td>\n",
              "      <td>560.0</td>\n",
              "    </tr>\n",
              "    <tr>\n",
              "      <th>4</th>\n",
              "      <td>5</td>\n",
              "      <td>2018-12-27</td>\n",
              "      <td>0.0</td>\n",
              "      <td>0.0</td>\n",
              "      <td>1.0</td>\n",
              "      <td>0.0</td>\n",
              "      <td>0.0</td>\n",
              "      <td>0.0</td>\n",
              "      <td>0.0</td>\n",
              "      <td>0.0</td>\n",
              "      <td>1.0</td>\n",
              "      <td>0.0</td>\n",
              "      <td>0.0</td>\n",
              "      <td>0.0</td>\n",
              "      <td>0.0</td>\n",
              "      <td>0.0</td>\n",
              "      <td>0.0</td>\n",
              "      <td>2.0</td>\n",
              "      <td>90.0</td>\n",
              "    </tr>\n",
              "  </tbody>\n",
              "</table>\n",
              "</div>"
            ],
            "text/plain": [
              "   Unnamed: 0 data_atendimento  ...  qtde_clientes  faturamento\n",
              "0           1       2018-12-23  ...            7.0        270.0\n",
              "1           2       2018-12-24  ...            0.0          0.0\n",
              "2           3       2018-12-25  ...            0.0          0.0\n",
              "3           4       2018-12-26  ...            4.0        560.0\n",
              "4           5       2018-12-27  ...            2.0         90.0\n",
              "\n",
              "[5 rows x 19 columns]"
            ]
          },
          "metadata": {
            "tags": []
          },
          "execution_count": 21
        }
      ]
    },
    {
      "cell_type": "markdown",
      "metadata": {
        "id": "z9XKaiHNj722"
      },
      "source": [
        "## 2. Manipulação de dados.\n",
        "\n",
        "\n",
        " - Criando novas colunas referentes a data que vão auxiliar o algoritmo."
      ]
    },
    {
      "cell_type": "code",
      "metadata": {
        "id": "h2X_bNAJj723"
      },
      "source": [
        "dados = dados.drop('Unnamed: 0' , axis = 1)"
      ],
      "execution_count": 22,
      "outputs": []
    },
    {
      "cell_type": "code",
      "metadata": {
        "id": "vj9mJup2j724"
      },
      "source": [
        "# reorganizando os dados referentes a data \n",
        "\n",
        "def date_to_weekday(date):\n",
        "    weekday_dict = {0:'segunda', 1:'terca', 2: 'quarta', 3: 'quinta', 4: 'sexta', 5: 'sabado', 6: 'domingo'}\n",
        "    date_time_obj = datetime.datetime.strptime(date, '%Y-%m-%d')\n",
        "    return weekday_dict[date_time_obj.weekday()]\n",
        "\n",
        "date = dados['data_atendimento'].str.split(\"-\", n = 3, expand = True)\n",
        "dados['ano'] = date[0].astype('int32')\n",
        "dados['dia'] = date[2].astype('int32')\n",
        "dados['mes'] = date[1].astype('int32')\n",
        "dados['dia_da_semana'] = dados['data_atendimento'].apply(date_to_weekday)"
      ],
      "execution_count": 23,
      "outputs": []
    },
    {
      "cell_type": "code",
      "metadata": {
        "colab": {
          "base_uri": "https://localhost:8080/",
          "height": 224
        },
        "id": "zCwpoDydj724",
        "outputId": "4889adb6-c8e9-4ea7-ffec-6010db020ce8"
      },
      "source": [
        "dados.head()"
      ],
      "execution_count": 24,
      "outputs": [
        {
          "output_type": "execute_result",
          "data": {
            "text/html": [
              "<div>\n",
              "<style scoped>\n",
              "    .dataframe tbody tr th:only-of-type {\n",
              "        vertical-align: middle;\n",
              "    }\n",
              "\n",
              "    .dataframe tbody tr th {\n",
              "        vertical-align: top;\n",
              "    }\n",
              "\n",
              "    .dataframe thead th {\n",
              "        text-align: right;\n",
              "    }\n",
              "</style>\n",
              "<table border=\"1\" class=\"dataframe\">\n",
              "  <thead>\n",
              "    <tr style=\"text-align: right;\">\n",
              "      <th></th>\n",
              "      <th>data_atendimento</th>\n",
              "      <th>design_de_sobrancelhas</th>\n",
              "      <th>design_coloracao</th>\n",
              "      <th>design_coloracao_buco</th>\n",
              "      <th>buco</th>\n",
              "      <th>brown_lamination</th>\n",
              "      <th>micropigmentacao</th>\n",
              "      <th>extensao_de_cilios</th>\n",
              "      <th>lash_lifting</th>\n",
              "      <th>limpeza_de_pele</th>\n",
              "      <th>microagulhamento</th>\n",
              "      <th>peeling_quimico</th>\n",
              "      <th>massagem_relaxante</th>\n",
              "      <th>pacote_massagem_5</th>\n",
              "      <th>drenagem_linfatica</th>\n",
              "      <th>striort</th>\n",
              "      <th>qtde_clientes</th>\n",
              "      <th>faturamento</th>\n",
              "      <th>ano</th>\n",
              "      <th>dia</th>\n",
              "      <th>mes</th>\n",
              "      <th>dia_da_semana</th>\n",
              "    </tr>\n",
              "  </thead>\n",
              "  <tbody>\n",
              "    <tr>\n",
              "      <th>0</th>\n",
              "      <td>2018-12-23</td>\n",
              "      <td>0.0</td>\n",
              "      <td>0.0</td>\n",
              "      <td>7.0</td>\n",
              "      <td>0.0</td>\n",
              "      <td>0.0</td>\n",
              "      <td>0.0</td>\n",
              "      <td>0.0</td>\n",
              "      <td>0.0</td>\n",
              "      <td>1.0</td>\n",
              "      <td>0.0</td>\n",
              "      <td>0.0</td>\n",
              "      <td>0.0</td>\n",
              "      <td>0.0</td>\n",
              "      <td>0.0</td>\n",
              "      <td>0.0</td>\n",
              "      <td>7.0</td>\n",
              "      <td>270.0</td>\n",
              "      <td>2018</td>\n",
              "      <td>23</td>\n",
              "      <td>12</td>\n",
              "      <td>domingo</td>\n",
              "    </tr>\n",
              "    <tr>\n",
              "      <th>1</th>\n",
              "      <td>2018-12-24</td>\n",
              "      <td>0.0</td>\n",
              "      <td>0.0</td>\n",
              "      <td>0.0</td>\n",
              "      <td>0.0</td>\n",
              "      <td>0.0</td>\n",
              "      <td>0.0</td>\n",
              "      <td>0.0</td>\n",
              "      <td>0.0</td>\n",
              "      <td>0.0</td>\n",
              "      <td>0.0</td>\n",
              "      <td>0.0</td>\n",
              "      <td>0.0</td>\n",
              "      <td>0.0</td>\n",
              "      <td>0.0</td>\n",
              "      <td>0.0</td>\n",
              "      <td>0.0</td>\n",
              "      <td>0.0</td>\n",
              "      <td>2018</td>\n",
              "      <td>24</td>\n",
              "      <td>12</td>\n",
              "      <td>segunda</td>\n",
              "    </tr>\n",
              "    <tr>\n",
              "      <th>2</th>\n",
              "      <td>2018-12-25</td>\n",
              "      <td>0.0</td>\n",
              "      <td>0.0</td>\n",
              "      <td>0.0</td>\n",
              "      <td>0.0</td>\n",
              "      <td>0.0</td>\n",
              "      <td>0.0</td>\n",
              "      <td>0.0</td>\n",
              "      <td>0.0</td>\n",
              "      <td>0.0</td>\n",
              "      <td>0.0</td>\n",
              "      <td>0.0</td>\n",
              "      <td>0.0</td>\n",
              "      <td>0.0</td>\n",
              "      <td>0.0</td>\n",
              "      <td>0.0</td>\n",
              "      <td>0.0</td>\n",
              "      <td>0.0</td>\n",
              "      <td>2018</td>\n",
              "      <td>25</td>\n",
              "      <td>12</td>\n",
              "      <td>terca</td>\n",
              "    </tr>\n",
              "    <tr>\n",
              "      <th>3</th>\n",
              "      <td>2018-12-26</td>\n",
              "      <td>1.0</td>\n",
              "      <td>0.0</td>\n",
              "      <td>1.0</td>\n",
              "      <td>1.0</td>\n",
              "      <td>0.0</td>\n",
              "      <td>1.0</td>\n",
              "      <td>1.0</td>\n",
              "      <td>0.0</td>\n",
              "      <td>0.0</td>\n",
              "      <td>0.0</td>\n",
              "      <td>0.0</td>\n",
              "      <td>0.0</td>\n",
              "      <td>0.0</td>\n",
              "      <td>0.0</td>\n",
              "      <td>0.0</td>\n",
              "      <td>4.0</td>\n",
              "      <td>560.0</td>\n",
              "      <td>2018</td>\n",
              "      <td>26</td>\n",
              "      <td>12</td>\n",
              "      <td>quarta</td>\n",
              "    </tr>\n",
              "    <tr>\n",
              "      <th>4</th>\n",
              "      <td>2018-12-27</td>\n",
              "      <td>0.0</td>\n",
              "      <td>0.0</td>\n",
              "      <td>1.0</td>\n",
              "      <td>0.0</td>\n",
              "      <td>0.0</td>\n",
              "      <td>0.0</td>\n",
              "      <td>0.0</td>\n",
              "      <td>0.0</td>\n",
              "      <td>1.0</td>\n",
              "      <td>0.0</td>\n",
              "      <td>0.0</td>\n",
              "      <td>0.0</td>\n",
              "      <td>0.0</td>\n",
              "      <td>0.0</td>\n",
              "      <td>0.0</td>\n",
              "      <td>2.0</td>\n",
              "      <td>90.0</td>\n",
              "      <td>2018</td>\n",
              "      <td>27</td>\n",
              "      <td>12</td>\n",
              "      <td>quinta</td>\n",
              "    </tr>\n",
              "  </tbody>\n",
              "</table>\n",
              "</div>"
            ],
            "text/plain": [
              "  data_atendimento  design_de_sobrancelhas  ...  mes  dia_da_semana\n",
              "0       2018-12-23                     0.0  ...   12        domingo\n",
              "1       2018-12-24                     0.0  ...   12        segunda\n",
              "2       2018-12-25                     0.0  ...   12          terca\n",
              "3       2018-12-26                     1.0  ...   12         quarta\n",
              "4       2018-12-27                     0.0  ...   12         quinta\n",
              "\n",
              "[5 rows x 22 columns]"
            ]
          },
          "metadata": {
            "tags": []
          },
          "execution_count": 24
        }
      ]
    },
    {
      "cell_type": "code",
      "metadata": {
        "colab": {
          "base_uri": "https://localhost:8080/"
        },
        "id": "APM3TRSkj725",
        "outputId": "08ac68c6-0f4e-4061-b0ae-62b8fe5059c8"
      },
      "source": [
        "dados.info()"
      ],
      "execution_count": 25,
      "outputs": [
        {
          "output_type": "stream",
          "text": [
            "<class 'pandas.core.frame.DataFrame'>\n",
            "RangeIndex: 740 entries, 0 to 739\n",
            "Data columns (total 22 columns):\n",
            " #   Column                  Non-Null Count  Dtype  \n",
            "---  ------                  --------------  -----  \n",
            " 0   data_atendimento        740 non-null    object \n",
            " 1   design_de_sobrancelhas  740 non-null    float64\n",
            " 2   design_coloracao        740 non-null    float64\n",
            " 3   design_coloracao_buco   740 non-null    float64\n",
            " 4   buco                    740 non-null    float64\n",
            " 5   brown_lamination        740 non-null    float64\n",
            " 6   micropigmentacao        740 non-null    float64\n",
            " 7   extensao_de_cilios      740 non-null    float64\n",
            " 8   lash_lifting            740 non-null    float64\n",
            " 9   limpeza_de_pele         740 non-null    float64\n",
            " 10  microagulhamento        740 non-null    float64\n",
            " 11  peeling_quimico         740 non-null    float64\n",
            " 12  massagem_relaxante      740 non-null    float64\n",
            " 13  pacote_massagem_5       740 non-null    float64\n",
            " 14  drenagem_linfatica      740 non-null    float64\n",
            " 15  striort                 740 non-null    float64\n",
            " 16  qtde_clientes           740 non-null    float64\n",
            " 17  faturamento             740 non-null    float64\n",
            " 18  ano                     740 non-null    int32  \n",
            " 19  dia                     740 non-null    int32  \n",
            " 20  mes                     740 non-null    int32  \n",
            " 21  dia_da_semana           740 non-null    object \n",
            "dtypes: float64(17), int32(3), object(2)\n",
            "memory usage: 118.6+ KB\n"
          ],
          "name": "stdout"
        }
      ]
    },
    {
      "cell_type": "markdown",
      "metadata": {
        "id": "MCHyK1GLpV7g"
      },
      "source": [
        " - Excluindo os dados referentes ao periodo da pandemia.\n",
        " \n",
        "     Período de 20 de marco a 1 de julho."
      ]
    },
    {
      "cell_type": "code",
      "metadata": {
        "colab": {
          "base_uri": "https://localhost:8080/",
          "height": 439
        },
        "id": "SQzOlKhjpV7j",
        "outputId": "09cf1560-cad9-4fb1-b918-ee3b96caa8d0"
      },
      "source": [
        "dados.loc[453:556]"
      ],
      "execution_count": 26,
      "outputs": [
        {
          "output_type": "execute_result",
          "data": {
            "text/html": [
              "<div>\n",
              "<style scoped>\n",
              "    .dataframe tbody tr th:only-of-type {\n",
              "        vertical-align: middle;\n",
              "    }\n",
              "\n",
              "    .dataframe tbody tr th {\n",
              "        vertical-align: top;\n",
              "    }\n",
              "\n",
              "    .dataframe thead th {\n",
              "        text-align: right;\n",
              "    }\n",
              "</style>\n",
              "<table border=\"1\" class=\"dataframe\">\n",
              "  <thead>\n",
              "    <tr style=\"text-align: right;\">\n",
              "      <th></th>\n",
              "      <th>data_atendimento</th>\n",
              "      <th>design_de_sobrancelhas</th>\n",
              "      <th>design_coloracao</th>\n",
              "      <th>design_coloracao_buco</th>\n",
              "      <th>buco</th>\n",
              "      <th>brown_lamination</th>\n",
              "      <th>micropigmentacao</th>\n",
              "      <th>extensao_de_cilios</th>\n",
              "      <th>lash_lifting</th>\n",
              "      <th>limpeza_de_pele</th>\n",
              "      <th>microagulhamento</th>\n",
              "      <th>peeling_quimico</th>\n",
              "      <th>massagem_relaxante</th>\n",
              "      <th>pacote_massagem_5</th>\n",
              "      <th>drenagem_linfatica</th>\n",
              "      <th>striort</th>\n",
              "      <th>qtde_clientes</th>\n",
              "      <th>faturamento</th>\n",
              "      <th>ano</th>\n",
              "      <th>dia</th>\n",
              "      <th>mes</th>\n",
              "      <th>dia_da_semana</th>\n",
              "    </tr>\n",
              "  </thead>\n",
              "  <tbody>\n",
              "    <tr>\n",
              "      <th>453</th>\n",
              "      <td>2020-03-20</td>\n",
              "      <td>0.0</td>\n",
              "      <td>0.0</td>\n",
              "      <td>0.0</td>\n",
              "      <td>0.0</td>\n",
              "      <td>0.0</td>\n",
              "      <td>0.0</td>\n",
              "      <td>0.0</td>\n",
              "      <td>0.0</td>\n",
              "      <td>0.0</td>\n",
              "      <td>0.0</td>\n",
              "      <td>0.0</td>\n",
              "      <td>0.0</td>\n",
              "      <td>0.0</td>\n",
              "      <td>0.0</td>\n",
              "      <td>0.0</td>\n",
              "      <td>0.0</td>\n",
              "      <td>0.0</td>\n",
              "      <td>2020</td>\n",
              "      <td>20</td>\n",
              "      <td>3</td>\n",
              "      <td>sexta</td>\n",
              "    </tr>\n",
              "    <tr>\n",
              "      <th>454</th>\n",
              "      <td>2020-03-21</td>\n",
              "      <td>0.0</td>\n",
              "      <td>0.0</td>\n",
              "      <td>0.0</td>\n",
              "      <td>0.0</td>\n",
              "      <td>0.0</td>\n",
              "      <td>0.0</td>\n",
              "      <td>0.0</td>\n",
              "      <td>0.0</td>\n",
              "      <td>0.0</td>\n",
              "      <td>0.0</td>\n",
              "      <td>0.0</td>\n",
              "      <td>0.0</td>\n",
              "      <td>0.0</td>\n",
              "      <td>0.0</td>\n",
              "      <td>0.0</td>\n",
              "      <td>0.0</td>\n",
              "      <td>0.0</td>\n",
              "      <td>2020</td>\n",
              "      <td>21</td>\n",
              "      <td>3</td>\n",
              "      <td>sabado</td>\n",
              "    </tr>\n",
              "    <tr>\n",
              "      <th>455</th>\n",
              "      <td>2020-03-22</td>\n",
              "      <td>0.0</td>\n",
              "      <td>0.0</td>\n",
              "      <td>0.0</td>\n",
              "      <td>0.0</td>\n",
              "      <td>0.0</td>\n",
              "      <td>0.0</td>\n",
              "      <td>0.0</td>\n",
              "      <td>0.0</td>\n",
              "      <td>0.0</td>\n",
              "      <td>0.0</td>\n",
              "      <td>0.0</td>\n",
              "      <td>0.0</td>\n",
              "      <td>0.0</td>\n",
              "      <td>0.0</td>\n",
              "      <td>0.0</td>\n",
              "      <td>0.0</td>\n",
              "      <td>0.0</td>\n",
              "      <td>2020</td>\n",
              "      <td>22</td>\n",
              "      <td>3</td>\n",
              "      <td>domingo</td>\n",
              "    </tr>\n",
              "    <tr>\n",
              "      <th>456</th>\n",
              "      <td>2020-03-23</td>\n",
              "      <td>0.0</td>\n",
              "      <td>0.0</td>\n",
              "      <td>0.0</td>\n",
              "      <td>0.0</td>\n",
              "      <td>0.0</td>\n",
              "      <td>0.0</td>\n",
              "      <td>0.0</td>\n",
              "      <td>0.0</td>\n",
              "      <td>0.0</td>\n",
              "      <td>0.0</td>\n",
              "      <td>0.0</td>\n",
              "      <td>0.0</td>\n",
              "      <td>0.0</td>\n",
              "      <td>0.0</td>\n",
              "      <td>0.0</td>\n",
              "      <td>0.0</td>\n",
              "      <td>0.0</td>\n",
              "      <td>2020</td>\n",
              "      <td>23</td>\n",
              "      <td>3</td>\n",
              "      <td>segunda</td>\n",
              "    </tr>\n",
              "    <tr>\n",
              "      <th>457</th>\n",
              "      <td>2020-03-24</td>\n",
              "      <td>0.0</td>\n",
              "      <td>0.0</td>\n",
              "      <td>0.0</td>\n",
              "      <td>0.0</td>\n",
              "      <td>0.0</td>\n",
              "      <td>0.0</td>\n",
              "      <td>0.0</td>\n",
              "      <td>0.0</td>\n",
              "      <td>0.0</td>\n",
              "      <td>0.0</td>\n",
              "      <td>0.0</td>\n",
              "      <td>0.0</td>\n",
              "      <td>0.0</td>\n",
              "      <td>0.0</td>\n",
              "      <td>0.0</td>\n",
              "      <td>0.0</td>\n",
              "      <td>0.0</td>\n",
              "      <td>2020</td>\n",
              "      <td>24</td>\n",
              "      <td>3</td>\n",
              "      <td>terca</td>\n",
              "    </tr>\n",
              "    <tr>\n",
              "      <th>...</th>\n",
              "      <td>...</td>\n",
              "      <td>...</td>\n",
              "      <td>...</td>\n",
              "      <td>...</td>\n",
              "      <td>...</td>\n",
              "      <td>...</td>\n",
              "      <td>...</td>\n",
              "      <td>...</td>\n",
              "      <td>...</td>\n",
              "      <td>...</td>\n",
              "      <td>...</td>\n",
              "      <td>...</td>\n",
              "      <td>...</td>\n",
              "      <td>...</td>\n",
              "      <td>...</td>\n",
              "      <td>...</td>\n",
              "      <td>...</td>\n",
              "      <td>...</td>\n",
              "      <td>...</td>\n",
              "      <td>...</td>\n",
              "      <td>...</td>\n",
              "      <td>...</td>\n",
              "    </tr>\n",
              "    <tr>\n",
              "      <th>552</th>\n",
              "      <td>2020-06-27</td>\n",
              "      <td>0.0</td>\n",
              "      <td>0.0</td>\n",
              "      <td>0.0</td>\n",
              "      <td>0.0</td>\n",
              "      <td>0.0</td>\n",
              "      <td>0.0</td>\n",
              "      <td>0.0</td>\n",
              "      <td>0.0</td>\n",
              "      <td>0.0</td>\n",
              "      <td>0.0</td>\n",
              "      <td>0.0</td>\n",
              "      <td>0.0</td>\n",
              "      <td>0.0</td>\n",
              "      <td>0.0</td>\n",
              "      <td>0.0</td>\n",
              "      <td>0.0</td>\n",
              "      <td>0.0</td>\n",
              "      <td>2020</td>\n",
              "      <td>27</td>\n",
              "      <td>6</td>\n",
              "      <td>sabado</td>\n",
              "    </tr>\n",
              "    <tr>\n",
              "      <th>553</th>\n",
              "      <td>2020-06-28</td>\n",
              "      <td>0.0</td>\n",
              "      <td>0.0</td>\n",
              "      <td>0.0</td>\n",
              "      <td>0.0</td>\n",
              "      <td>0.0</td>\n",
              "      <td>0.0</td>\n",
              "      <td>0.0</td>\n",
              "      <td>0.0</td>\n",
              "      <td>0.0</td>\n",
              "      <td>0.0</td>\n",
              "      <td>0.0</td>\n",
              "      <td>0.0</td>\n",
              "      <td>0.0</td>\n",
              "      <td>0.0</td>\n",
              "      <td>0.0</td>\n",
              "      <td>0.0</td>\n",
              "      <td>0.0</td>\n",
              "      <td>2020</td>\n",
              "      <td>28</td>\n",
              "      <td>6</td>\n",
              "      <td>domingo</td>\n",
              "    </tr>\n",
              "    <tr>\n",
              "      <th>554</th>\n",
              "      <td>2020-06-29</td>\n",
              "      <td>0.0</td>\n",
              "      <td>0.0</td>\n",
              "      <td>0.0</td>\n",
              "      <td>0.0</td>\n",
              "      <td>0.0</td>\n",
              "      <td>0.0</td>\n",
              "      <td>0.0</td>\n",
              "      <td>0.0</td>\n",
              "      <td>0.0</td>\n",
              "      <td>0.0</td>\n",
              "      <td>0.0</td>\n",
              "      <td>0.0</td>\n",
              "      <td>0.0</td>\n",
              "      <td>0.0</td>\n",
              "      <td>0.0</td>\n",
              "      <td>0.0</td>\n",
              "      <td>0.0</td>\n",
              "      <td>2020</td>\n",
              "      <td>29</td>\n",
              "      <td>6</td>\n",
              "      <td>segunda</td>\n",
              "    </tr>\n",
              "    <tr>\n",
              "      <th>555</th>\n",
              "      <td>2020-06-30</td>\n",
              "      <td>0.0</td>\n",
              "      <td>0.0</td>\n",
              "      <td>0.0</td>\n",
              "      <td>0.0</td>\n",
              "      <td>0.0</td>\n",
              "      <td>0.0</td>\n",
              "      <td>0.0</td>\n",
              "      <td>0.0</td>\n",
              "      <td>0.0</td>\n",
              "      <td>0.0</td>\n",
              "      <td>0.0</td>\n",
              "      <td>0.0</td>\n",
              "      <td>0.0</td>\n",
              "      <td>0.0</td>\n",
              "      <td>0.0</td>\n",
              "      <td>0.0</td>\n",
              "      <td>0.0</td>\n",
              "      <td>2020</td>\n",
              "      <td>30</td>\n",
              "      <td>6</td>\n",
              "      <td>terca</td>\n",
              "    </tr>\n",
              "    <tr>\n",
              "      <th>556</th>\n",
              "      <td>2020-07-01</td>\n",
              "      <td>0.0</td>\n",
              "      <td>0.0</td>\n",
              "      <td>0.0</td>\n",
              "      <td>0.0</td>\n",
              "      <td>0.0</td>\n",
              "      <td>0.0</td>\n",
              "      <td>0.0</td>\n",
              "      <td>0.0</td>\n",
              "      <td>0.0</td>\n",
              "      <td>0.0</td>\n",
              "      <td>0.0</td>\n",
              "      <td>0.0</td>\n",
              "      <td>0.0</td>\n",
              "      <td>0.0</td>\n",
              "      <td>0.0</td>\n",
              "      <td>0.0</td>\n",
              "      <td>0.0</td>\n",
              "      <td>2020</td>\n",
              "      <td>1</td>\n",
              "      <td>7</td>\n",
              "      <td>quarta</td>\n",
              "    </tr>\n",
              "  </tbody>\n",
              "</table>\n",
              "<p>104 rows × 22 columns</p>\n",
              "</div>"
            ],
            "text/plain": [
              "    data_atendimento  design_de_sobrancelhas  ...  mes  dia_da_semana\n",
              "453       2020-03-20                     0.0  ...    3          sexta\n",
              "454       2020-03-21                     0.0  ...    3         sabado\n",
              "455       2020-03-22                     0.0  ...    3        domingo\n",
              "456       2020-03-23                     0.0  ...    3        segunda\n",
              "457       2020-03-24                     0.0  ...    3          terca\n",
              "..               ...                     ...  ...  ...            ...\n",
              "552       2020-06-27                     0.0  ...    6         sabado\n",
              "553       2020-06-28                     0.0  ...    6        domingo\n",
              "554       2020-06-29                     0.0  ...    6        segunda\n",
              "555       2020-06-30                     0.0  ...    6          terca\n",
              "556       2020-07-01                     0.0  ...    7         quarta\n",
              "\n",
              "[104 rows x 22 columns]"
            ]
          },
          "metadata": {
            "tags": []
          },
          "execution_count": 26
        }
      ]
    },
    {
      "cell_type": "code",
      "metadata": {
        "colab": {
          "base_uri": "https://localhost:8080/",
          "height": 224
        },
        "id": "0lY6xNa0pV7k",
        "outputId": "24e43267-95e9-45ec-9bc6-fe52837bd95f"
      },
      "source": [
        "dados_pandemia =[]\n",
        "for i in range(453,556):\n",
        "    dados_pandemia.append(i)\n",
        "\n",
        "dados = dados.drop(dados_pandemia)\n",
        "dados = dados.reset_index()\n",
        "dados = dados.drop('index', axis = 1)\n",
        "dados.head()"
      ],
      "execution_count": 27,
      "outputs": [
        {
          "output_type": "execute_result",
          "data": {
            "text/html": [
              "<div>\n",
              "<style scoped>\n",
              "    .dataframe tbody tr th:only-of-type {\n",
              "        vertical-align: middle;\n",
              "    }\n",
              "\n",
              "    .dataframe tbody tr th {\n",
              "        vertical-align: top;\n",
              "    }\n",
              "\n",
              "    .dataframe thead th {\n",
              "        text-align: right;\n",
              "    }\n",
              "</style>\n",
              "<table border=\"1\" class=\"dataframe\">\n",
              "  <thead>\n",
              "    <tr style=\"text-align: right;\">\n",
              "      <th></th>\n",
              "      <th>data_atendimento</th>\n",
              "      <th>design_de_sobrancelhas</th>\n",
              "      <th>design_coloracao</th>\n",
              "      <th>design_coloracao_buco</th>\n",
              "      <th>buco</th>\n",
              "      <th>brown_lamination</th>\n",
              "      <th>micropigmentacao</th>\n",
              "      <th>extensao_de_cilios</th>\n",
              "      <th>lash_lifting</th>\n",
              "      <th>limpeza_de_pele</th>\n",
              "      <th>microagulhamento</th>\n",
              "      <th>peeling_quimico</th>\n",
              "      <th>massagem_relaxante</th>\n",
              "      <th>pacote_massagem_5</th>\n",
              "      <th>drenagem_linfatica</th>\n",
              "      <th>striort</th>\n",
              "      <th>qtde_clientes</th>\n",
              "      <th>faturamento</th>\n",
              "      <th>ano</th>\n",
              "      <th>dia</th>\n",
              "      <th>mes</th>\n",
              "      <th>dia_da_semana</th>\n",
              "    </tr>\n",
              "  </thead>\n",
              "  <tbody>\n",
              "    <tr>\n",
              "      <th>0</th>\n",
              "      <td>2018-12-23</td>\n",
              "      <td>0.0</td>\n",
              "      <td>0.0</td>\n",
              "      <td>7.0</td>\n",
              "      <td>0.0</td>\n",
              "      <td>0.0</td>\n",
              "      <td>0.0</td>\n",
              "      <td>0.0</td>\n",
              "      <td>0.0</td>\n",
              "      <td>1.0</td>\n",
              "      <td>0.0</td>\n",
              "      <td>0.0</td>\n",
              "      <td>0.0</td>\n",
              "      <td>0.0</td>\n",
              "      <td>0.0</td>\n",
              "      <td>0.0</td>\n",
              "      <td>7.0</td>\n",
              "      <td>270.0</td>\n",
              "      <td>2018</td>\n",
              "      <td>23</td>\n",
              "      <td>12</td>\n",
              "      <td>domingo</td>\n",
              "    </tr>\n",
              "    <tr>\n",
              "      <th>1</th>\n",
              "      <td>2018-12-24</td>\n",
              "      <td>0.0</td>\n",
              "      <td>0.0</td>\n",
              "      <td>0.0</td>\n",
              "      <td>0.0</td>\n",
              "      <td>0.0</td>\n",
              "      <td>0.0</td>\n",
              "      <td>0.0</td>\n",
              "      <td>0.0</td>\n",
              "      <td>0.0</td>\n",
              "      <td>0.0</td>\n",
              "      <td>0.0</td>\n",
              "      <td>0.0</td>\n",
              "      <td>0.0</td>\n",
              "      <td>0.0</td>\n",
              "      <td>0.0</td>\n",
              "      <td>0.0</td>\n",
              "      <td>0.0</td>\n",
              "      <td>2018</td>\n",
              "      <td>24</td>\n",
              "      <td>12</td>\n",
              "      <td>segunda</td>\n",
              "    </tr>\n",
              "    <tr>\n",
              "      <th>2</th>\n",
              "      <td>2018-12-25</td>\n",
              "      <td>0.0</td>\n",
              "      <td>0.0</td>\n",
              "      <td>0.0</td>\n",
              "      <td>0.0</td>\n",
              "      <td>0.0</td>\n",
              "      <td>0.0</td>\n",
              "      <td>0.0</td>\n",
              "      <td>0.0</td>\n",
              "      <td>0.0</td>\n",
              "      <td>0.0</td>\n",
              "      <td>0.0</td>\n",
              "      <td>0.0</td>\n",
              "      <td>0.0</td>\n",
              "      <td>0.0</td>\n",
              "      <td>0.0</td>\n",
              "      <td>0.0</td>\n",
              "      <td>0.0</td>\n",
              "      <td>2018</td>\n",
              "      <td>25</td>\n",
              "      <td>12</td>\n",
              "      <td>terca</td>\n",
              "    </tr>\n",
              "    <tr>\n",
              "      <th>3</th>\n",
              "      <td>2018-12-26</td>\n",
              "      <td>1.0</td>\n",
              "      <td>0.0</td>\n",
              "      <td>1.0</td>\n",
              "      <td>1.0</td>\n",
              "      <td>0.0</td>\n",
              "      <td>1.0</td>\n",
              "      <td>1.0</td>\n",
              "      <td>0.0</td>\n",
              "      <td>0.0</td>\n",
              "      <td>0.0</td>\n",
              "      <td>0.0</td>\n",
              "      <td>0.0</td>\n",
              "      <td>0.0</td>\n",
              "      <td>0.0</td>\n",
              "      <td>0.0</td>\n",
              "      <td>4.0</td>\n",
              "      <td>560.0</td>\n",
              "      <td>2018</td>\n",
              "      <td>26</td>\n",
              "      <td>12</td>\n",
              "      <td>quarta</td>\n",
              "    </tr>\n",
              "    <tr>\n",
              "      <th>4</th>\n",
              "      <td>2018-12-27</td>\n",
              "      <td>0.0</td>\n",
              "      <td>0.0</td>\n",
              "      <td>1.0</td>\n",
              "      <td>0.0</td>\n",
              "      <td>0.0</td>\n",
              "      <td>0.0</td>\n",
              "      <td>0.0</td>\n",
              "      <td>0.0</td>\n",
              "      <td>1.0</td>\n",
              "      <td>0.0</td>\n",
              "      <td>0.0</td>\n",
              "      <td>0.0</td>\n",
              "      <td>0.0</td>\n",
              "      <td>0.0</td>\n",
              "      <td>0.0</td>\n",
              "      <td>2.0</td>\n",
              "      <td>90.0</td>\n",
              "      <td>2018</td>\n",
              "      <td>27</td>\n",
              "      <td>12</td>\n",
              "      <td>quinta</td>\n",
              "    </tr>\n",
              "  </tbody>\n",
              "</table>\n",
              "</div>"
            ],
            "text/plain": [
              "  data_atendimento  design_de_sobrancelhas  ...  mes  dia_da_semana\n",
              "0       2018-12-23                     0.0  ...   12        domingo\n",
              "1       2018-12-24                     0.0  ...   12        segunda\n",
              "2       2018-12-25                     0.0  ...   12          terca\n",
              "3       2018-12-26                     1.0  ...   12         quarta\n",
              "4       2018-12-27                     0.0  ...   12         quinta\n",
              "\n",
              "[5 rows x 22 columns]"
            ]
          },
          "metadata": {
            "tags": []
          },
          "execution_count": 27
        }
      ]
    },
    {
      "cell_type": "markdown",
      "metadata": {
        "id": "oiu3hrlWvXPz"
      },
      "source": [
        " - Removendo os domingos."
      ]
    },
    {
      "cell_type": "code",
      "metadata": {
        "id": "sQXRCY04vb67",
        "colab": {
          "base_uri": "https://localhost:8080/",
          "height": 224
        },
        "outputId": "aff390ef-28a4-4a1f-8cc4-540d415e35a1"
      },
      "source": [
        "# corrigindo um pequeno erro de lançamento\r\n",
        "\r\n",
        "dados.iloc[0,0] = '2018-12-22'\r\n",
        "dados.iloc[0,20] = 'sabado'\r\n",
        "dados = dados.set_index('dia_da_semana')\r\n",
        "dados = dados.drop('domingo')\r\n",
        "dados = dados.reset_index()\r\n",
        "dados.head()"
      ],
      "execution_count": 28,
      "outputs": [
        {
          "output_type": "execute_result",
          "data": {
            "text/html": [
              "<div>\n",
              "<style scoped>\n",
              "    .dataframe tbody tr th:only-of-type {\n",
              "        vertical-align: middle;\n",
              "    }\n",
              "\n",
              "    .dataframe tbody tr th {\n",
              "        vertical-align: top;\n",
              "    }\n",
              "\n",
              "    .dataframe thead th {\n",
              "        text-align: right;\n",
              "    }\n",
              "</style>\n",
              "<table border=\"1\" class=\"dataframe\">\n",
              "  <thead>\n",
              "    <tr style=\"text-align: right;\">\n",
              "      <th></th>\n",
              "      <th>dia_da_semana</th>\n",
              "      <th>data_atendimento</th>\n",
              "      <th>design_de_sobrancelhas</th>\n",
              "      <th>design_coloracao</th>\n",
              "      <th>design_coloracao_buco</th>\n",
              "      <th>buco</th>\n",
              "      <th>brown_lamination</th>\n",
              "      <th>micropigmentacao</th>\n",
              "      <th>extensao_de_cilios</th>\n",
              "      <th>lash_lifting</th>\n",
              "      <th>limpeza_de_pele</th>\n",
              "      <th>microagulhamento</th>\n",
              "      <th>peeling_quimico</th>\n",
              "      <th>massagem_relaxante</th>\n",
              "      <th>pacote_massagem_5</th>\n",
              "      <th>drenagem_linfatica</th>\n",
              "      <th>striort</th>\n",
              "      <th>qtde_clientes</th>\n",
              "      <th>faturamento</th>\n",
              "      <th>ano</th>\n",
              "      <th>dia</th>\n",
              "      <th>mes</th>\n",
              "    </tr>\n",
              "  </thead>\n",
              "  <tbody>\n",
              "    <tr>\n",
              "      <th>0</th>\n",
              "      <td>segunda</td>\n",
              "      <td>2018-12-24</td>\n",
              "      <td>0.0</td>\n",
              "      <td>0.0</td>\n",
              "      <td>0.0</td>\n",
              "      <td>0.0</td>\n",
              "      <td>0.0</td>\n",
              "      <td>0.0</td>\n",
              "      <td>0.0</td>\n",
              "      <td>0.0</td>\n",
              "      <td>0.0</td>\n",
              "      <td>0.0</td>\n",
              "      <td>0.0</td>\n",
              "      <td>0.0</td>\n",
              "      <td>0.0</td>\n",
              "      <td>0.0</td>\n",
              "      <td>0.0</td>\n",
              "      <td>0.0</td>\n",
              "      <td>0.0</td>\n",
              "      <td>2018</td>\n",
              "      <td>24</td>\n",
              "      <td>12</td>\n",
              "    </tr>\n",
              "    <tr>\n",
              "      <th>1</th>\n",
              "      <td>terca</td>\n",
              "      <td>2018-12-25</td>\n",
              "      <td>0.0</td>\n",
              "      <td>0.0</td>\n",
              "      <td>0.0</td>\n",
              "      <td>0.0</td>\n",
              "      <td>0.0</td>\n",
              "      <td>0.0</td>\n",
              "      <td>0.0</td>\n",
              "      <td>0.0</td>\n",
              "      <td>0.0</td>\n",
              "      <td>0.0</td>\n",
              "      <td>0.0</td>\n",
              "      <td>0.0</td>\n",
              "      <td>0.0</td>\n",
              "      <td>0.0</td>\n",
              "      <td>0.0</td>\n",
              "      <td>0.0</td>\n",
              "      <td>0.0</td>\n",
              "      <td>2018</td>\n",
              "      <td>25</td>\n",
              "      <td>12</td>\n",
              "    </tr>\n",
              "    <tr>\n",
              "      <th>2</th>\n",
              "      <td>quarta</td>\n",
              "      <td>2018-12-26</td>\n",
              "      <td>1.0</td>\n",
              "      <td>0.0</td>\n",
              "      <td>1.0</td>\n",
              "      <td>1.0</td>\n",
              "      <td>0.0</td>\n",
              "      <td>1.0</td>\n",
              "      <td>1.0</td>\n",
              "      <td>0.0</td>\n",
              "      <td>0.0</td>\n",
              "      <td>0.0</td>\n",
              "      <td>0.0</td>\n",
              "      <td>0.0</td>\n",
              "      <td>0.0</td>\n",
              "      <td>0.0</td>\n",
              "      <td>0.0</td>\n",
              "      <td>4.0</td>\n",
              "      <td>560.0</td>\n",
              "      <td>2018</td>\n",
              "      <td>26</td>\n",
              "      <td>12</td>\n",
              "    </tr>\n",
              "    <tr>\n",
              "      <th>3</th>\n",
              "      <td>quinta</td>\n",
              "      <td>2018-12-27</td>\n",
              "      <td>0.0</td>\n",
              "      <td>0.0</td>\n",
              "      <td>1.0</td>\n",
              "      <td>0.0</td>\n",
              "      <td>0.0</td>\n",
              "      <td>0.0</td>\n",
              "      <td>0.0</td>\n",
              "      <td>0.0</td>\n",
              "      <td>1.0</td>\n",
              "      <td>0.0</td>\n",
              "      <td>0.0</td>\n",
              "      <td>0.0</td>\n",
              "      <td>0.0</td>\n",
              "      <td>0.0</td>\n",
              "      <td>0.0</td>\n",
              "      <td>2.0</td>\n",
              "      <td>90.0</td>\n",
              "      <td>2018</td>\n",
              "      <td>27</td>\n",
              "      <td>12</td>\n",
              "    </tr>\n",
              "    <tr>\n",
              "      <th>4</th>\n",
              "      <td>sexta</td>\n",
              "      <td>2018-12-28</td>\n",
              "      <td>0.0</td>\n",
              "      <td>0.0</td>\n",
              "      <td>0.0</td>\n",
              "      <td>0.0</td>\n",
              "      <td>0.0</td>\n",
              "      <td>0.0</td>\n",
              "      <td>0.0</td>\n",
              "      <td>0.0</td>\n",
              "      <td>0.0</td>\n",
              "      <td>0.0</td>\n",
              "      <td>0.0</td>\n",
              "      <td>0.0</td>\n",
              "      <td>0.0</td>\n",
              "      <td>0.0</td>\n",
              "      <td>0.0</td>\n",
              "      <td>0.0</td>\n",
              "      <td>0.0</td>\n",
              "      <td>2018</td>\n",
              "      <td>28</td>\n",
              "      <td>12</td>\n",
              "    </tr>\n",
              "  </tbody>\n",
              "</table>\n",
              "</div>"
            ],
            "text/plain": [
              "  dia_da_semana data_atendimento  design_de_sobrancelhas  ...   ano  dia  mes\n",
              "0       segunda       2018-12-24                     0.0  ...  2018   24   12\n",
              "1         terca       2018-12-25                     0.0  ...  2018   25   12\n",
              "2        quarta       2018-12-26                     1.0  ...  2018   26   12\n",
              "3        quinta       2018-12-27                     0.0  ...  2018   27   12\n",
              "4         sexta       2018-12-28                     0.0  ...  2018   28   12\n",
              "\n",
              "[5 rows x 22 columns]"
            ]
          },
          "metadata": {
            "tags": []
          },
          "execution_count": 28
        }
      ]
    },
    {
      "cell_type": "code",
      "metadata": {
        "colab": {
          "base_uri": "https://localhost:8080/"
        },
        "id": "5S9exvLbpV7l",
        "outputId": "5050436c-30ea-4a45-af49-f60e181a800e"
      },
      "source": [
        "dados.shape"
      ],
      "execution_count": 29,
      "outputs": [
        {
          "output_type": "execute_result",
          "data": {
            "text/plain": [
              "(546, 22)"
            ]
          },
          "metadata": {
            "tags": []
          },
          "execution_count": 29
        }
      ]
    },
    {
      "cell_type": "markdown",
      "metadata": {
        "id": "5BxTrZUuwGfm"
      },
      "source": [
        " - Reordenando as colunas"
      ]
    },
    {
      "cell_type": "code",
      "metadata": {
        "colab": {
          "base_uri": "https://localhost:8080/"
        },
        "id": "uIK5Xw-7wJW7",
        "outputId": "24ee80a9-009b-4515-aaa4-f197cc1de9c8"
      },
      "source": [
        "dados.columns"
      ],
      "execution_count": 30,
      "outputs": [
        {
          "output_type": "execute_result",
          "data": {
            "text/plain": [
              "Index(['dia_da_semana', 'data_atendimento', 'design_de_sobrancelhas',\n",
              "       'design_coloracao', 'design_coloracao_buco', 'buco', 'brown_lamination',\n",
              "       'micropigmentacao', 'extensao_de_cilios', 'lash_lifting',\n",
              "       'limpeza_de_pele', 'microagulhamento', 'peeling_quimico',\n",
              "       'massagem_relaxante', 'pacote_massagem_5', 'drenagem_linfatica',\n",
              "       'striort', 'qtde_clientes', 'faturamento', 'ano', 'dia', 'mes'],\n",
              "      dtype='object')"
            ]
          },
          "metadata": {
            "tags": []
          },
          "execution_count": 30
        }
      ]
    },
    {
      "cell_type": "code",
      "metadata": {
        "colab": {
          "base_uri": "https://localhost:8080/",
          "height": 224
        },
        "id": "eX8SgCxEwJnS",
        "outputId": "b314cc8b-355d-4e26-f5ec-a970cbb4dece"
      },
      "source": [
        "dados = dados[['data_atendimento', 'design_de_sobrancelhas', 'design_coloracao',\r\n",
        "       'design_coloracao_buco', 'buco', 'brown_lamination', 'micropigmentacao',\r\n",
        "       'extensao_de_cilios', 'lash_lifting', 'limpeza_de_pele',\r\n",
        "       'microagulhamento', 'peeling_quimico', 'massagem_relaxante',\r\n",
        "       'pacote_massagem_5', 'drenagem_linfatica', 'striort', 'qtde_clientes', 'dia', 'mes','ano', 'dia_da_semana',\r\n",
        "       'faturamento']]\r\n",
        "\r\n",
        "dados.head()"
      ],
      "execution_count": 31,
      "outputs": [
        {
          "output_type": "execute_result",
          "data": {
            "text/html": [
              "<div>\n",
              "<style scoped>\n",
              "    .dataframe tbody tr th:only-of-type {\n",
              "        vertical-align: middle;\n",
              "    }\n",
              "\n",
              "    .dataframe tbody tr th {\n",
              "        vertical-align: top;\n",
              "    }\n",
              "\n",
              "    .dataframe thead th {\n",
              "        text-align: right;\n",
              "    }\n",
              "</style>\n",
              "<table border=\"1\" class=\"dataframe\">\n",
              "  <thead>\n",
              "    <tr style=\"text-align: right;\">\n",
              "      <th></th>\n",
              "      <th>data_atendimento</th>\n",
              "      <th>design_de_sobrancelhas</th>\n",
              "      <th>design_coloracao</th>\n",
              "      <th>design_coloracao_buco</th>\n",
              "      <th>buco</th>\n",
              "      <th>brown_lamination</th>\n",
              "      <th>micropigmentacao</th>\n",
              "      <th>extensao_de_cilios</th>\n",
              "      <th>lash_lifting</th>\n",
              "      <th>limpeza_de_pele</th>\n",
              "      <th>microagulhamento</th>\n",
              "      <th>peeling_quimico</th>\n",
              "      <th>massagem_relaxante</th>\n",
              "      <th>pacote_massagem_5</th>\n",
              "      <th>drenagem_linfatica</th>\n",
              "      <th>striort</th>\n",
              "      <th>qtde_clientes</th>\n",
              "      <th>dia</th>\n",
              "      <th>mes</th>\n",
              "      <th>ano</th>\n",
              "      <th>dia_da_semana</th>\n",
              "      <th>faturamento</th>\n",
              "    </tr>\n",
              "  </thead>\n",
              "  <tbody>\n",
              "    <tr>\n",
              "      <th>0</th>\n",
              "      <td>2018-12-24</td>\n",
              "      <td>0.0</td>\n",
              "      <td>0.0</td>\n",
              "      <td>0.0</td>\n",
              "      <td>0.0</td>\n",
              "      <td>0.0</td>\n",
              "      <td>0.0</td>\n",
              "      <td>0.0</td>\n",
              "      <td>0.0</td>\n",
              "      <td>0.0</td>\n",
              "      <td>0.0</td>\n",
              "      <td>0.0</td>\n",
              "      <td>0.0</td>\n",
              "      <td>0.0</td>\n",
              "      <td>0.0</td>\n",
              "      <td>0.0</td>\n",
              "      <td>0.0</td>\n",
              "      <td>24</td>\n",
              "      <td>12</td>\n",
              "      <td>2018</td>\n",
              "      <td>segunda</td>\n",
              "      <td>0.0</td>\n",
              "    </tr>\n",
              "    <tr>\n",
              "      <th>1</th>\n",
              "      <td>2018-12-25</td>\n",
              "      <td>0.0</td>\n",
              "      <td>0.0</td>\n",
              "      <td>0.0</td>\n",
              "      <td>0.0</td>\n",
              "      <td>0.0</td>\n",
              "      <td>0.0</td>\n",
              "      <td>0.0</td>\n",
              "      <td>0.0</td>\n",
              "      <td>0.0</td>\n",
              "      <td>0.0</td>\n",
              "      <td>0.0</td>\n",
              "      <td>0.0</td>\n",
              "      <td>0.0</td>\n",
              "      <td>0.0</td>\n",
              "      <td>0.0</td>\n",
              "      <td>0.0</td>\n",
              "      <td>25</td>\n",
              "      <td>12</td>\n",
              "      <td>2018</td>\n",
              "      <td>terca</td>\n",
              "      <td>0.0</td>\n",
              "    </tr>\n",
              "    <tr>\n",
              "      <th>2</th>\n",
              "      <td>2018-12-26</td>\n",
              "      <td>1.0</td>\n",
              "      <td>0.0</td>\n",
              "      <td>1.0</td>\n",
              "      <td>1.0</td>\n",
              "      <td>0.0</td>\n",
              "      <td>1.0</td>\n",
              "      <td>1.0</td>\n",
              "      <td>0.0</td>\n",
              "      <td>0.0</td>\n",
              "      <td>0.0</td>\n",
              "      <td>0.0</td>\n",
              "      <td>0.0</td>\n",
              "      <td>0.0</td>\n",
              "      <td>0.0</td>\n",
              "      <td>0.0</td>\n",
              "      <td>4.0</td>\n",
              "      <td>26</td>\n",
              "      <td>12</td>\n",
              "      <td>2018</td>\n",
              "      <td>quarta</td>\n",
              "      <td>560.0</td>\n",
              "    </tr>\n",
              "    <tr>\n",
              "      <th>3</th>\n",
              "      <td>2018-12-27</td>\n",
              "      <td>0.0</td>\n",
              "      <td>0.0</td>\n",
              "      <td>1.0</td>\n",
              "      <td>0.0</td>\n",
              "      <td>0.0</td>\n",
              "      <td>0.0</td>\n",
              "      <td>0.0</td>\n",
              "      <td>0.0</td>\n",
              "      <td>1.0</td>\n",
              "      <td>0.0</td>\n",
              "      <td>0.0</td>\n",
              "      <td>0.0</td>\n",
              "      <td>0.0</td>\n",
              "      <td>0.0</td>\n",
              "      <td>0.0</td>\n",
              "      <td>2.0</td>\n",
              "      <td>27</td>\n",
              "      <td>12</td>\n",
              "      <td>2018</td>\n",
              "      <td>quinta</td>\n",
              "      <td>90.0</td>\n",
              "    </tr>\n",
              "    <tr>\n",
              "      <th>4</th>\n",
              "      <td>2018-12-28</td>\n",
              "      <td>0.0</td>\n",
              "      <td>0.0</td>\n",
              "      <td>0.0</td>\n",
              "      <td>0.0</td>\n",
              "      <td>0.0</td>\n",
              "      <td>0.0</td>\n",
              "      <td>0.0</td>\n",
              "      <td>0.0</td>\n",
              "      <td>0.0</td>\n",
              "      <td>0.0</td>\n",
              "      <td>0.0</td>\n",
              "      <td>0.0</td>\n",
              "      <td>0.0</td>\n",
              "      <td>0.0</td>\n",
              "      <td>0.0</td>\n",
              "      <td>0.0</td>\n",
              "      <td>28</td>\n",
              "      <td>12</td>\n",
              "      <td>2018</td>\n",
              "      <td>sexta</td>\n",
              "      <td>0.0</td>\n",
              "    </tr>\n",
              "  </tbody>\n",
              "</table>\n",
              "</div>"
            ],
            "text/plain": [
              "  data_atendimento  design_de_sobrancelhas  ...  dia_da_semana  faturamento\n",
              "0       2018-12-24                     0.0  ...        segunda          0.0\n",
              "1       2018-12-25                     0.0  ...          terca          0.0\n",
              "2       2018-12-26                     1.0  ...         quarta        560.0\n",
              "3       2018-12-27                     0.0  ...         quinta         90.0\n",
              "4       2018-12-28                     0.0  ...          sexta          0.0\n",
              "\n",
              "[5 rows x 22 columns]"
            ]
          },
          "metadata": {
            "tags": []
          },
          "execution_count": 31
        }
      ]
    },
    {
      "cell_type": "code",
      "metadata": {
        "colab": {
          "base_uri": "https://localhost:8080/"
        },
        "id": "HUcDruJopV7p",
        "outputId": "400b972e-5255-492a-e587-a6bfd759e6cd"
      },
      "source": [
        "dados.info()"
      ],
      "execution_count": 32,
      "outputs": [
        {
          "output_type": "stream",
          "text": [
            "<class 'pandas.core.frame.DataFrame'>\n",
            "RangeIndex: 546 entries, 0 to 545\n",
            "Data columns (total 22 columns):\n",
            " #   Column                  Non-Null Count  Dtype  \n",
            "---  ------                  --------------  -----  \n",
            " 0   data_atendimento        546 non-null    object \n",
            " 1   design_de_sobrancelhas  546 non-null    float64\n",
            " 2   design_coloracao        546 non-null    float64\n",
            " 3   design_coloracao_buco   546 non-null    float64\n",
            " 4   buco                    546 non-null    float64\n",
            " 5   brown_lamination        546 non-null    float64\n",
            " 6   micropigmentacao        546 non-null    float64\n",
            " 7   extensao_de_cilios      546 non-null    float64\n",
            " 8   lash_lifting            546 non-null    float64\n",
            " 9   limpeza_de_pele         546 non-null    float64\n",
            " 10  microagulhamento        546 non-null    float64\n",
            " 11  peeling_quimico         546 non-null    float64\n",
            " 12  massagem_relaxante      546 non-null    float64\n",
            " 13  pacote_massagem_5       546 non-null    float64\n",
            " 14  drenagem_linfatica      546 non-null    float64\n",
            " 15  striort                 546 non-null    float64\n",
            " 16  qtde_clientes           546 non-null    float64\n",
            " 17  dia                     546 non-null    int32  \n",
            " 18  mes                     546 non-null    object \n",
            " 19  ano                     546 non-null    int32  \n",
            " 20  dia_da_semana           546 non-null    object \n",
            " 21  faturamento             546 non-null    float64\n",
            "dtypes: float64(17), int32(2), object(3)\n",
            "memory usage: 89.7+ KB\n"
          ],
          "name": "stdout"
        }
      ]
    },
    {
      "cell_type": "code",
      "metadata": {
        "id": "Vexa6olkB7YY"
      },
      "source": [
        "dados['mes'] = dados['mes'].astype(int)"
      ],
      "execution_count": 33,
      "outputs": []
    },
    {
      "cell_type": "code",
      "metadata": {
        "colab": {
          "base_uri": "https://localhost:8080/",
          "height": 1000
        },
        "id": "Vgz_519D1Tgj",
        "outputId": "700f4f25-463a-4f4a-e094-b0cda10c5473"
      },
      "source": [
        "dados.hist(bins=50, figsize=(20,12))"
      ],
      "execution_count": 34,
      "outputs": [
        {
          "output_type": "execute_result",
          "data": {
            "text/plain": [
              "array([[<matplotlib.axes._subplots.AxesSubplot object at 0x7f952a57a1d0>,\n",
              "        <matplotlib.axes._subplots.AxesSubplot object at 0x7f952be4eb90>,\n",
              "        <matplotlib.axes._subplots.AxesSubplot object at 0x7f952a513510>,\n",
              "        <matplotlib.axes._subplots.AxesSubplot object at 0x7f952a525a90>],\n",
              "       [<matplotlib.axes._subplots.AxesSubplot object at 0x7f952a53af90>,\n",
              "        <matplotlib.axes._subplots.AxesSubplot object at 0x7f952af81290>,\n",
              "        <matplotlib.axes._subplots.AxesSubplot object at 0x7f952acc7cd0>,\n",
              "        <matplotlib.axes._subplots.AxesSubplot object at 0x7f952abe0310>],\n",
              "       [<matplotlib.axes._subplots.AxesSubplot object at 0x7f952b194410>,\n",
              "        <matplotlib.axes._subplots.AxesSubplot object at 0x7f952afc3350>,\n",
              "        <matplotlib.axes._subplots.AxesSubplot object at 0x7f952a419850>,\n",
              "        <matplotlib.axes._subplots.AxesSubplot object at 0x7f952a3cded0>],\n",
              "       [<matplotlib.axes._subplots.AxesSubplot object at 0x7f952a38f590>,\n",
              "        <matplotlib.axes._subplots.AxesSubplot object at 0x7f952a346c10>,\n",
              "        <matplotlib.axes._subplots.AxesSubplot object at 0x7f952a3082d0>,\n",
              "        <matplotlib.axes._subplots.AxesSubplot object at 0x7f952a33f950>],\n",
              "       [<matplotlib.axes._subplots.AxesSubplot object at 0x7f952a2eab10>,\n",
              "        <matplotlib.axes._subplots.AxesSubplot object at 0x7f952a2b8690>,\n",
              "        <matplotlib.axes._subplots.AxesSubplot object at 0x7f952a26dd10>,\n",
              "        <matplotlib.axes._subplots.AxesSubplot object at 0x7f952a22f3d0>]],\n",
              "      dtype=object)"
            ]
          },
          "metadata": {
            "tags": []
          },
          "execution_count": 34
        },
        {
          "output_type": "display_data",
          "data": {
            "image/png": "[encoded data removed]",
            "text/plain": [
              "<Figure size 1440x864 with 20 Axes>"
            ]
          },
          "metadata": {
            "tags": [],
            "needs_background": "light"
          }
        }
      ]
    },
    {
      "cell_type": "markdown",
      "metadata": {
        "id": "qP_GSxosj72-"
      },
      "source": [
        " ## 4. Machine learning"
      ]
    },
    {
      "cell_type": "markdown",
      "metadata": {
        "id": "O1NWaO5ewwWk"
      },
      "source": [
        " - Selecionando apenas as colunas que  importam para a modelagem."
      ]
    },
    {
      "cell_type": "code",
      "metadata": {
        "id": "vK7eldpvwv0q"
      },
      "source": [
        "dados_ml = dados[['qtde_clientes','dia','mes','dia_da_semana','faturamento']]"
      ],
      "execution_count": 35,
      "outputs": []
    },
    {
      "cell_type": "code",
      "metadata": {
        "id": "JqRZmMMW7fw4"
      },
      "source": [
        "dados_ml = dados_ml[['dia','mes','dia_da_semana','qtde_clientes','faturamento']]"
      ],
      "execution_count": 36,
      "outputs": []
    },
    {
      "cell_type": "markdown",
      "metadata": {
        "id": "f9pgLW6Lj72-"
      },
      "source": [
        " - Transformando variáveis categóricas em variáveis numéricas."
      ]
    },
    {
      "cell_type": "code",
      "metadata": {
        "id": "bAW56Xbq7wHs",
        "outputId": "49c5fc52-89a5-4d3e-ed23-5c6bcd1da6dc",
        "colab": {
          "base_uri": "https://localhost:8080/"
        }
      },
      "source": [
        "dados_ml.info()"
      ],
      "execution_count": 37,
      "outputs": [
        {
          "output_type": "stream",
          "text": [
            "<class 'pandas.core.frame.DataFrame'>\n",
            "RangeIndex: 546 entries, 0 to 545\n",
            "Data columns (total 5 columns):\n",
            " #   Column         Non-Null Count  Dtype  \n",
            "---  ------         --------------  -----  \n",
            " 0   dia            546 non-null    int32  \n",
            " 1   mes            546 non-null    int64  \n",
            " 2   dia_da_semana  546 non-null    object \n",
            " 3   qtde_clientes  546 non-null    float64\n",
            " 4   faturamento    546 non-null    float64\n",
            "dtypes: float64(2), int32(1), int64(1), object(1)\n",
            "memory usage: 19.3+ KB\n"
          ],
          "name": "stdout"
        }
      ]
    },
    {
      "cell_type": "code",
      "metadata": {
        "id": "fgKoTjKXj73A"
      },
      "source": [
        "from sklearn.preprocessing import LabelEncoder"
      ],
      "execution_count": 38,
      "outputs": []
    },
    {
      "cell_type": "code",
      "metadata": {
        "id": "ahauc957j73A"
      },
      "source": [
        "enconder = LabelEncoder()"
      ],
      "execution_count": 39,
      "outputs": []
    },
    {
      "cell_type": "code",
      "metadata": {
        "id": "-9ykU5ERj73B"
      },
      "source": [
        "dados_ml['dia_da_semana'] = enconder.fit_transform(dados_ml['dia_da_semana'])\n"
      ],
      "execution_count": 40,
      "outputs": []
    },
    {
      "cell_type": "code",
      "metadata": {
        "colab": {
          "base_uri": "https://localhost:8080/",
          "height": 609
        },
        "id": "uVzJijYkj73C",
        "outputId": "4ee878bd-da66-4111-9472-504221a643fe"
      },
      "source": [
        "plt.figure(figsize=(14,10))\n",
        "\n",
        "corr = dados_ml.corr().abs()\n",
        "mask = np.triu(np.ones_like(corr, dtype=np.bool))\n",
        "\n",
        "sns.heatmap(corr, mask=mask, annot=True, center=0, cmap=\"YlGnBu\")"
      ],
      "execution_count": 41,
      "outputs": [
        {
          "output_type": "execute_result",
          "data": {
            "text/plain": [
              "<matplotlib.axes._subplots.AxesSubplot at 0x7f953c906590>"
            ]
          },
          "metadata": {
            "tags": []
          },
          "execution_count": 41
        },
        {
          "output_type": "display_data",
          "data": {
            "image/png": "[encoded data removed]",
            "text/plain": [
              "<Figure size 1008x720 with 2 Axes>"
            ]
          },
          "metadata": {
            "tags": [],
            "needs_background": "light"
          }
        }
      ]
    },
    {
      "cell_type": "code",
      "metadata": {
        "colab": {
          "base_uri": "https://localhost:8080/",
          "height": 618
        },
        "id": "bUbm8ijRzNGm",
        "outputId": "09c77735-09b8-46cc-d351-bd0edea20f84"
      },
      "source": [
        "dados_ml.hist(bins=50, figsize=(12,8))"
      ],
      "execution_count": 42,
      "outputs": [
        {
          "output_type": "execute_result",
          "data": {
            "text/plain": [
              "array([[<matplotlib.axes._subplots.AxesSubplot object at 0x7f951f392990>,\n",
              "        <matplotlib.axes._subplots.AxesSubplot object at 0x7f951f34b7d0>],\n",
              "       [<matplotlib.axes._subplots.AxesSubplot object at 0x7f951f2fee50>,\n",
              "        <matplotlib.axes._subplots.AxesSubplot object at 0x7f951f2c1510>],\n",
              "       [<matplotlib.axes._subplots.AxesSubplot object at 0x7f951f278b90>,\n",
              "        <matplotlib.axes._subplots.AxesSubplot object at 0x7f951f23a250>]],\n",
              "      dtype=object)"
            ]
          },
          "metadata": {
            "tags": []
          },
          "execution_count": 42
        },
        {
          "output_type": "display_data",
          "data": {
            "image/png": "[encoded data removed]",
            "text/plain": [
              "<Figure size 864x576 with 6 Axes>"
            ]
          },
          "metadata": {
            "tags": [],
            "needs_background": "light"
          }
        }
      ]
    },
    {
      "cell_type": "markdown",
      "metadata": {
        "id": "UDuj63uNzhOD"
      },
      "source": [
        " - Normalizando os dados."
      ]
    },
    {
      "cell_type": "code",
      "metadata": {
        "id": "-8qWKTxkzgb4"
      },
      "source": [
        "dados_ml['faturamento']=dados_ml['faturamento'].apply(np.log1p)\r\n",
        "# dados['qtde_clientes']=dados['qtde_clientes'].apply(np.log1p)"
      ],
      "execution_count": 43,
      "outputs": []
    },
    {
      "cell_type": "code",
      "metadata": {
        "colab": {
          "base_uri": "https://localhost:8080/",
          "height": 609
        },
        "id": "qmQKy5RAzYHL",
        "outputId": "f0ad9b98-25d7-422b-9afd-bc5a8a5fb2d9"
      },
      "source": [
        "plt.figure(figsize=(14,10))\r\n",
        "\r\n",
        "corr = dados_ml.corr().abs()\r\n",
        "mask = np.triu(np.ones_like(corr, dtype=np.bool))\r\n",
        "\r\n",
        "sns.heatmap(corr, mask=mask, annot=True, center=0, cmap=\"YlGnBu\")"
      ],
      "execution_count": 44,
      "outputs": [
        {
          "output_type": "execute_result",
          "data": {
            "text/plain": [
              "<matplotlib.axes._subplots.AxesSubplot at 0x7f951f2d1510>"
            ]
          },
          "metadata": {
            "tags": []
          },
          "execution_count": 44
        },
        {
          "output_type": "display_data",
          "data": {
            "image/png": "[encoded data removed]",
            "text/plain": [
              "<Figure size 1008x720 with 2 Axes>"
            ]
          },
          "metadata": {
            "tags": [],
            "needs_background": "light"
          }
        }
      ]
    },
    {
      "cell_type": "markdown",
      "metadata": {
        "id": "eCnfuFp5j73D"
      },
      "source": [
        " - Separando as amostras de treino e teste."
      ]
    },
    {
      "cell_type": "code",
      "metadata": {
        "id": "qrs3qOjWj73D"
      },
      "source": [
        "X = dados_ml[['dia','mes','dia_da_semana','qtde_clientes']]\n",
        "Y = dados_ml['faturamento']"
      ],
      "execution_count": 45,
      "outputs": []
    },
    {
      "cell_type": "code",
      "metadata": {
        "id": "lkXSYNbpj73E"
      },
      "source": [
        "from sklearn.model_selection import train_test_split"
      ],
      "execution_count": 46,
      "outputs": []
    },
    {
      "cell_type": "code",
      "metadata": {
        "id": "_H0dsn3jj73E"
      },
      "source": [
        "X_treino,X_teste,Y_treino,Y_teste = train_test_split(X,Y,test_size=0.25,random_state=0)"
      ],
      "execution_count": 47,
      "outputs": []
    },
    {
      "cell_type": "markdown",
      "metadata": {
        "id": "pjiBzKngj73E"
      },
      "source": [
        " - Modelo \"Baseline\" (Ponto de partida)"
      ]
    },
    {
      "cell_type": "code",
      "metadata": {
        "id": "gmMimwFIj73F"
      },
      "source": [
        "from sklearn.linear_model import LinearRegression"
      ],
      "execution_count": 48,
      "outputs": []
    },
    {
      "cell_type": "code",
      "metadata": {
        "colab": {
          "base_uri": "https://localhost:8080/"
        },
        "id": "MC0kLmWAj73G",
        "outputId": "3bf72a5b-c955-4c0c-f77e-bd0c15be9a7c"
      },
      "source": [
        "lr = LinearRegression()\n",
        "lr.fit(X_treino, Y_treino)\n",
        "lr.score(X_teste, Y_teste)"
      ],
      "execution_count": 49,
      "outputs": [
        {
          "output_type": "execute_result",
          "data": {
            "text/plain": [
              "0.4679618946200779"
            ]
          },
          "metadata": {
            "tags": []
          },
          "execution_count": 49
        }
      ]
    },
    {
      "cell_type": "code",
      "metadata": {
        "id": "TnGfLGIR1J9M"
      },
      "source": [
        "y_pred = lr.predict(X_teste)"
      ],
      "execution_count": 50,
      "outputs": []
    },
    {
      "cell_type": "code",
      "metadata": {
        "id": "nfJkTPSS3ACH"
      },
      "source": [
        "from sklearn.metrics import mean_absolute_error,mean_squared_error, r2_score"
      ],
      "execution_count": 51,
      "outputs": []
    },
    {
      "cell_type": "code",
      "metadata": {
        "colab": {
          "base_uri": "https://localhost:8080/"
        },
        "id": "PnJrevmC1KF0",
        "outputId": "aec26a7a-82cb-4d15-e4cc-5deb87eb9ae4"
      },
      "source": [
        "MAE  = mean_absolute_error(Y_teste,y_pred)\r\n",
        "MSE  = mean_squared_error(Y_teste,y_pred)\r\n",
        "RMSE = np.sqrt(mean_squared_error(Y_teste,y_pred))\r\n",
        "R2 = r2_score(Y_teste, y_pred)\r\n",
        "\r\n",
        "print('MAE = {:0.4f}'.format(MAE))\r\n",
        "print('MSE = {:0.4f}'.format(MSE))\r\n",
        "print('RMSE = {:0.4f}'.format(RMSE))\r\n",
        "print('R2 = {:0.4f}'.format(R2))"
      ],
      "execution_count": 52,
      "outputs": [
        {
          "output_type": "stream",
          "text": [
            "MAE = 1.5065\n",
            "MSE = 3.1233\n",
            "RMSE = 1.7673\n",
            "R2 = 0.4680\n"
          ],
          "name": "stdout"
        }
      ]
    },
    {
      "cell_type": "markdown",
      "metadata": {
        "id": "Hxh6YdL4j73I"
      },
      "source": [
        " - Machine learning"
      ]
    },
    {
      "cell_type": "code",
      "metadata": {
        "colab": {
          "base_uri": "https://localhost:8080/"
        },
        "id": "dMiPo22hj73I",
        "outputId": "30f036f3-f0fe-405c-bf51-5aa592e9a1ac"
      },
      "source": [
        "from sklearn.neighbors import KNeighborsRegressor\n",
        "neigh = KNeighborsRegressor(n_neighbors=3)\n",
        "neigh.fit(X_treino,Y_treino)"
      ],
      "execution_count": 53,
      "outputs": [
        {
          "output_type": "execute_result",
          "data": {
            "text/plain": [
              "KNeighborsRegressor(algorithm='auto', leaf_size=30, metric='minkowski',\n",
              "                    metric_params=None, n_jobs=None, n_neighbors=3, p=2,\n",
              "                    weights='uniform')"
            ]
          },
          "metadata": {
            "tags": []
          },
          "execution_count": 53
        }
      ]
    },
    {
      "cell_type": "code",
      "metadata": {
        "id": "MagjA7CKj73J"
      },
      "source": [
        "y_pred = neigh.predict(X_teste)"
      ],
      "execution_count": 54,
      "outputs": []
    },
    {
      "cell_type": "code",
      "metadata": {
        "colab": {
          "base_uri": "https://localhost:8080/"
        },
        "id": "9OTMZuvXj73J",
        "outputId": "0cda0fe7-5bff-4517-a0b9-cb7f90ae2b13"
      },
      "source": [
        "# Root Mean Squared Error\n",
        "np.sqrt(np.mean((y_pred-Y_teste.values)**2))"
      ],
      "execution_count": 55,
      "outputs": [
        {
          "output_type": "execute_result",
          "data": {
            "text/plain": [
              "1.5582555495963275"
            ]
          },
          "metadata": {
            "tags": []
          },
          "execution_count": 55
        }
      ]
    },
    {
      "cell_type": "code",
      "metadata": {
        "colab": {
          "base_uri": "https://localhost:8080/"
        },
        "id": "5ZPIpn5yj73J",
        "outputId": "661b6eb1-019a-4802-9c35-a58112fdd29c"
      },
      "source": [
        "# Mean Squared Error\n",
        "np.mean((y_pred-Y_teste.values)**2)"
      ],
      "execution_count": 56,
      "outputs": [
        {
          "output_type": "execute_result",
          "data": {
            "text/plain": [
              "2.4281603578477524"
            ]
          },
          "metadata": {
            "tags": []
          },
          "execution_count": 56
        }
      ]
    },
    {
      "cell_type": "code",
      "metadata": {
        "colab": {
          "base_uri": "https://localhost:8080/"
        },
        "id": "-uX7OgMvj73K",
        "outputId": "4c8e56dc-0403-4fc2-830b-a517acc59f51"
      },
      "source": [
        "# Mean Absolute Error\n",
        "np.mean(np.abs(y_pred-Y_teste.values))"
      ],
      "execution_count": 57,
      "outputs": [
        {
          "output_type": "execute_result",
          "data": {
            "text/plain": [
              "1.0809959974639178"
            ]
          },
          "metadata": {
            "tags": []
          },
          "execution_count": 57
        }
      ]
    },
    {
      "cell_type": "code",
      "metadata": {
        "colab": {
          "base_uri": "https://localhost:8080/"
        },
        "id": "vN4zrRBPj73K",
        "outputId": "1f6b2927-f269-4591-e016-344101ff82b8"
      },
      "source": [
        "# R2 Score\n",
        "from sklearn.metrics import r2_score\n",
        "r2_score(Y_teste, y_pred)"
      ],
      "execution_count": 58,
      "outputs": [
        {
          "output_type": "execute_result",
          "data": {
            "text/plain": [
              "0.5863779248193369"
            ]
          },
          "metadata": {
            "tags": []
          },
          "execution_count": 58
        }
      ]
    },
    {
      "cell_type": "markdown",
      "metadata": {
        "id": "ywu22-kWj73L"
      },
      "source": [
        " - Triagem com outros modelos"
      ]
    },
    {
      "cell_type": "code",
      "metadata": {
        "colab": {
          "base_uri": "https://localhost:8080/"
        },
        "id": "CztGCpz8j73L",
        "outputId": "4fa789b0-e346-4c1a-b65f-b8fdb2f11a99"
      },
      "source": [
        "from sklearn.tree import DecisionTreeRegressor\n",
        "from sklearn.ensemble import RandomForestRegressor\n",
        "from sklearn.neural_network import MLPRegressor\n",
        "from xgboost import XGBRegressor\n",
        "\n",
        "\n",
        "regressor_list = [\n",
        "                  DecisionTreeRegressor(),\n",
        "                  RandomForestRegressor(),\n",
        "                  MLPRegressor(),\n",
        "                  XGBRegressor(),\n",
        "           \n",
        "                  ]\n",
        "\n",
        "for reg in regressor_list:\n",
        "  print('Treinando', reg.__class__.__name__)\n",
        "  reg.fit(X_treino, Y_treino)\n",
        "  train_score = reg.score(X_treino, Y_treino)\n",
        "  test_score = reg.score(X_teste, Y_teste)\n",
        "  print('Train score', train_score)\n",
        "  print('Test score', test_score)\n",
        "  print('='*80)"
      ],
      "execution_count": 59,
      "outputs": [
        {
          "output_type": "stream",
          "text": [
            "Treinando DecisionTreeRegressor\n",
            "Train score 1.0\n",
            "Test score 0.8488468133001307\n",
            "================================================================================\n",
            "Treinando RandomForestRegressor\n",
            "Train score 0.9913088311591378\n",
            "Test score 0.9191556511237668\n",
            "================================================================================\n",
            "Treinando MLPRegressor\n",
            "Train score 0.8863945715126517\n",
            "Test score 0.8859969667284493\n",
            "================================================================================\n",
            "Treinando XGBRegressor\n",
            "[17:55:51] WARNING: /workspace/src/objective/regression_obj.cu:152: reg:linear is now deprecated in favor of reg:squarederror.\n",
            "Train score 0.9668411704746355\n",
            "Test score 0.9444525213446423\n",
            "================================================================================\n"
          ],
          "name": "stdout"
        },
        {
          "output_type": "stream",
          "text": [
            "/usr/local/lib/python3.7/dist-packages/sklearn/neural_network/_multilayer_perceptron.py:571: ConvergenceWarning: Stochastic Optimizer: Maximum iterations (200) reached and the optimization hasn't converged yet.\n",
            "  % self.max_iter, ConvergenceWarning)\n"
          ],
          "name": "stderr"
        }
      ]
    },
    {
      "cell_type": "markdown",
      "metadata": {
        "id": "D_hIhD3Oj73M"
      },
      "source": [
        "- Repetindo com validação cruzada."
      ]
    },
    {
      "cell_type": "code",
      "metadata": {
        "colab": {
          "base_uri": "https://localhost:8080/"
        },
        "id": "54qeW69zj73M",
        "outputId": "ab513fdf-6a6d-4aa5-a6aa-b810dbfa9439"
      },
      "source": [
        "# repetindo processo com validação cruzada\n",
        "import warnings\n",
        "warnings.filterwarnings(\"ignore\")\n",
        "\n",
        "from sklearn.tree import DecisionTreeRegressor\n",
        "from sklearn.ensemble import RandomForestRegressor\n",
        "from sklearn.neural_network import MLPRegressor\n",
        "from xgboost import XGBRegressor\n",
        "from sklearn.model_selection import cross_val_score\n",
        "\n",
        "\n",
        "regressor_list = [\n",
        "                  DecisionTreeRegressor(),\n",
        "                  RandomForestRegressor(),\n",
        "                  MLPRegressor(),\n",
        "                  XGBRegressor(),\n",
        "                  ]\n",
        "\n",
        "for reg in regressor_list:\n",
        "  print('Treinando', reg.__class__.__name__)\n",
        "  reg.fit(X_treino, Y_treino)\n",
        "  train_score = reg.score(X_treino, Y_treino)\n",
        "  val_score = cross_val_score(reg, X_treino, Y_treino, cv=5)\n",
        "  test_score = reg.score(X_teste, Y_teste)\n",
        "  print('Train score', train_score)\n",
        "  print('Validation score', val_score)\n",
        "  print('Test score', test_score)\n",
        "  print('='*80)"
      ],
      "execution_count": 60,
      "outputs": [
        {
          "output_type": "stream",
          "text": [
            "Treinando DecisionTreeRegressor\n",
            "Train score 1.0\n",
            "Validation score [0.89655546 0.9393631  0.82872931 0.87371166 0.92763503]\n",
            "Test score 0.8460158013754355\n",
            "================================================================================\n",
            "Treinando RandomForestRegressor\n",
            "Train score 0.9907129340021452\n",
            "Validation score [0.9375714  0.95002074 0.84084191 0.94971788 0.96232163]\n",
            "Test score 0.9213884240555777\n",
            "================================================================================\n",
            "Treinando MLPRegressor\n",
            "Train score 0.8607356451770267\n",
            "Validation score [0.86116921 0.85062593 0.74067334 0.84303448 0.86012187]\n",
            "Test score 0.8565707876516084\n",
            "================================================================================\n",
            "Treinando XGBRegressor\n",
            "[17:56:02] WARNING: /workspace/src/objective/regression_obj.cu:152: reg:linear is now deprecated in favor of reg:squarederror.\n",
            "[17:56:02] WARNING: /workspace/src/objective/regression_obj.cu:152: reg:linear is now deprecated in favor of reg:squarederror.\n",
            "[17:56:02] WARNING: /workspace/src/objective/regression_obj.cu:152: reg:linear is now deprecated in favor of reg:squarederror.\n",
            "[17:56:02] WARNING: /workspace/src/objective/regression_obj.cu:152: reg:linear is now deprecated in favor of reg:squarederror.\n",
            "[17:56:02] WARNING: /workspace/src/objective/regression_obj.cu:152: reg:linear is now deprecated in favor of reg:squarederror.\n",
            "[17:56:03] WARNING: /workspace/src/objective/regression_obj.cu:152: reg:linear is now deprecated in favor of reg:squarederror.\n",
            "Train score 0.9668411704746355\n",
            "Validation score [0.94576559 0.94755566 0.82872877 0.95707394 0.96144465]\n",
            "Test score 0.9444525213446423\n",
            "================================================================================\n"
          ],
          "name": "stdout"
        }
      ]
    },
    {
      "cell_type": "markdown",
      "metadata": {
        "id": "M6ytccOk8se8"
      },
      "source": [
        " - Calculando o erro."
      ]
    },
    {
      "cell_type": "code",
      "metadata": {
        "id": "xeQIUHo98zaV"
      },
      "source": [
        "reg = XGBRegressor()"
      ],
      "execution_count": 61,
      "outputs": []
    },
    {
      "cell_type": "code",
      "metadata": {
        "id": "E_6i8Z_s8883",
        "outputId": "4ac46479-bf80-4195-f5c0-879ef52ee701",
        "colab": {
          "base_uri": "https://localhost:8080/"
        }
      },
      "source": [
        "reg.fit(X_treino, Y_treino)"
      ],
      "execution_count": 62,
      "outputs": [
        {
          "output_type": "stream",
          "text": [
            "[17:56:18] WARNING: /workspace/src/objective/regression_obj.cu:152: reg:linear is now deprecated in favor of reg:squarederror.\n"
          ],
          "name": "stdout"
        },
        {
          "output_type": "execute_result",
          "data": {
            "text/plain": [
              "XGBRegressor(base_score=0.5, booster='gbtree', colsample_bylevel=1,\n",
              "             colsample_bynode=1, colsample_bytree=1, gamma=0,\n",
              "             importance_type='gain', learning_rate=0.1, max_delta_step=0,\n",
              "             max_depth=3, min_child_weight=1, missing=None, n_estimators=100,\n",
              "             n_jobs=1, nthread=None, objective='reg:linear', random_state=0,\n",
              "             reg_alpha=0, reg_lambda=1, scale_pos_weight=1, seed=None,\n",
              "             silent=None, subsample=1, verbosity=1)"
            ]
          },
          "metadata": {
            "tags": []
          },
          "execution_count": 62
        }
      ]
    },
    {
      "cell_type": "code",
      "metadata": {
        "id": "l4uyvBFw8zgv"
      },
      "source": [
        "y_pred = reg.predict(X_teste)"
      ],
      "execution_count": 63,
      "outputs": []
    },
    {
      "cell_type": "code",
      "metadata": {
        "id": "Y0Qa1Sk68rJ0",
        "outputId": "cca36e93-173f-4c86-edee-9097859af812",
        "colab": {
          "base_uri": "https://localhost:8080/"
        }
      },
      "source": [
        "MAE  = mean_absolute_error(Y_teste,y_pred)\r\n",
        "MSE  = mean_squared_error(Y_teste,y_pred)\r\n",
        "RMSE = np.sqrt(mean_squared_error(Y_teste,y_pred))\r\n",
        "R2 = r2_score(Y_teste, y_pred)\r\n",
        "\r\n",
        "print('MAE = {:0.8f}'.format(MAE))\r\n",
        "print('MSE = {:0.8f}'.format(MSE))\r\n",
        "print('RMSE = {:0.8f}'.format(RMSE))\r\n",
        "print('R2 = {:0.8}'.format(R2))"
      ],
      "execution_count": 67,
      "outputs": [
        {
          "output_type": "stream",
          "text": [
            "MAE = 0.42810796\n",
            "MSE = 0.32609039\n",
            "RMSE = 0.57104325\n",
            "R2 = 0.94445252\n"
          ],
          "name": "stdout"
        }
      ]
    },
    {
      "cell_type": "code",
      "metadata": {
        "id": "08K5mRb86OMy"
      },
      "source": [
        "# import pickle\r\n",
        "# # now you can save it to a file\r\n",
        "# with open('xgboost_regression.pkl', 'wb') as f:\r\n",
        "#     pickle.dump(reg, f)"
      ],
      "execution_count": null,
      "outputs": []
    },
    {
      "cell_type": "code",
      "metadata": {
        "id": "ZWF4ImpXrapj"
      },
      "source": [
        ""
      ],
      "execution_count": null,
      "outputs": []
    }
  ]
}