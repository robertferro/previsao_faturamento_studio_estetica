{
  "nbformat": 4,
  "nbformat_minor": 0,
  "metadata": {
    "colab": {
      "name": "previsao_faturamento_modelos_machine_learning.ipynb",
      "provenance": []
    },
    "kernelspec": {
      "display_name": "Python 3",
      "language": "python",
      "name": "python3"
    },
    "language_info": {
      "codemirror_mode": {
        "name": "ipython",
        "version": 3
      },
      "file_extension": ".py",
      "mimetype": "text/x-python",
      "name": "python",
      "nbconvert_exporter": "python",
      "pygments_lexer": "ipython3",
      "version": "3.8.3"
    }
  },
  "cells": [
    {
      "cell_type": "markdown",
      "metadata": {
        "id": "ksEadj9Vj72Y"
      },
      "source": [
        "## 1- Objetivo\n",
        " \n",
        " - Encontrar o melhor modelo para a previsão de faturamento.\n",
        " "
      ]
    },
    {
      "cell_type": "markdown",
      "metadata": {
        "id": "a8rX1maGj72w"
      },
      "source": [
        " - Importando os dados preprocessados"
      ]
    },
    {
      "cell_type": "code",
      "metadata": {
        "id": "_FB7LcA1j72y"
      },
      "source": [
        "import pandas as pd\n",
        "import numpy as np\n",
        "import seaborn as sns\n",
        "import matplotlib.pyplot as plt\n",
        "import datetime\n",
        "from datetime import date"
      ],
      "execution_count": 1,
      "outputs": []
    },
    {
      "cell_type": "code",
      "metadata": {
        "id": "gzeRdhOjj720"
      },
      "source": [
        "url = 'https://raw.githubusercontent.com/robertferro/studio-estetica/main/dados_modelagem.csv'"
      ],
      "execution_count": 2,
      "outputs": []
    },
    {
      "cell_type": "code",
      "metadata": {
        "id": "JFOJzTzgj720"
      },
      "source": [
        "dados = pd.read_csv(url, sep = ',')"
      ],
      "execution_count": 3,
      "outputs": []
    },
    {
      "cell_type": "code",
      "metadata": {
        "colab": {
          "base_uri": "https://localhost:8080/",
          "height": 241
        },
        "id": "Dnrh_3dij721",
        "outputId": "7265710f-3875-4dc8-a06d-626dacc9a291"
      },
      "source": [
        "dados.head()"
      ],
      "execution_count": 4,
      "outputs": [
        {
          "output_type": "execute_result",
          "data": {
            "text/html": [
              "<div>\n",
              "<style scoped>\n",
              "    .dataframe tbody tr th:only-of-type {\n",
              "        vertical-align: middle;\n",
              "    }\n",
              "\n",
              "    .dataframe tbody tr th {\n",
              "        vertical-align: top;\n",
              "    }\n",
              "\n",
              "    .dataframe thead th {\n",
              "        text-align: right;\n",
              "    }\n",
              "</style>\n",
              "<table border=\"1\" class=\"dataframe\">\n",
              "  <thead>\n",
              "    <tr style=\"text-align: right;\">\n",
              "      <th></th>\n",
              "      <th>Unnamed: 0</th>\n",
              "      <th>data_atendimento</th>\n",
              "      <th>design_de_sobrancelhas</th>\n",
              "      <th>design_coloracao</th>\n",
              "      <th>design_coloracao_buco</th>\n",
              "      <th>buco</th>\n",
              "      <th>brown_lamination</th>\n",
              "      <th>micropigmentacao</th>\n",
              "      <th>extensao_de_cilios</th>\n",
              "      <th>lash_lifting</th>\n",
              "      <th>limpeza_de_pele</th>\n",
              "      <th>microagulhamento</th>\n",
              "      <th>peeling_quimico</th>\n",
              "      <th>massagem_relaxante</th>\n",
              "      <th>pacote_massagem_5</th>\n",
              "      <th>drenagem_linfatica</th>\n",
              "      <th>striort</th>\n",
              "      <th>qtde_clientes</th>\n",
              "      <th>faturamento</th>\n",
              "    </tr>\n",
              "  </thead>\n",
              "  <tbody>\n",
              "    <tr>\n",
              "      <th>0</th>\n",
              "      <td>1</td>\n",
              "      <td>2018-12-23</td>\n",
              "      <td>0.0</td>\n",
              "      <td>0.0</td>\n",
              "      <td>7.0</td>\n",
              "      <td>0.0</td>\n",
              "      <td>0.0</td>\n",
              "      <td>0.0</td>\n",
              "      <td>0.0</td>\n",
              "      <td>0.0</td>\n",
              "      <td>1.0</td>\n",
              "      <td>0.0</td>\n",
              "      <td>0.0</td>\n",
              "      <td>0.0</td>\n",
              "      <td>0.0</td>\n",
              "      <td>0.0</td>\n",
              "      <td>0.0</td>\n",
              "      <td>7.0</td>\n",
              "      <td>270.0</td>\n",
              "    </tr>\n",
              "    <tr>\n",
              "      <th>1</th>\n",
              "      <td>2</td>\n",
              "      <td>2018-12-24</td>\n",
              "      <td>0.0</td>\n",
              "      <td>0.0</td>\n",
              "      <td>0.0</td>\n",
              "      <td>0.0</td>\n",
              "      <td>0.0</td>\n",
              "      <td>0.0</td>\n",
              "      <td>0.0</td>\n",
              "      <td>0.0</td>\n",
              "      <td>0.0</td>\n",
              "      <td>0.0</td>\n",
              "      <td>0.0</td>\n",
              "      <td>0.0</td>\n",
              "      <td>0.0</td>\n",
              "      <td>0.0</td>\n",
              "      <td>0.0</td>\n",
              "      <td>0.0</td>\n",
              "      <td>0.0</td>\n",
              "    </tr>\n",
              "    <tr>\n",
              "      <th>2</th>\n",
              "      <td>3</td>\n",
              "      <td>2018-12-25</td>\n",
              "      <td>0.0</td>\n",
              "      <td>0.0</td>\n",
              "      <td>0.0</td>\n",
              "      <td>0.0</td>\n",
              "      <td>0.0</td>\n",
              "      <td>0.0</td>\n",
              "      <td>0.0</td>\n",
              "      <td>0.0</td>\n",
              "      <td>0.0</td>\n",
              "      <td>0.0</td>\n",
              "      <td>0.0</td>\n",
              "      <td>0.0</td>\n",
              "      <td>0.0</td>\n",
              "      <td>0.0</td>\n",
              "      <td>0.0</td>\n",
              "      <td>0.0</td>\n",
              "      <td>0.0</td>\n",
              "    </tr>\n",
              "    <tr>\n",
              "      <th>3</th>\n",
              "      <td>4</td>\n",
              "      <td>2018-12-26</td>\n",
              "      <td>1.0</td>\n",
              "      <td>0.0</td>\n",
              "      <td>1.0</td>\n",
              "      <td>1.0</td>\n",
              "      <td>0.0</td>\n",
              "      <td>1.0</td>\n",
              "      <td>1.0</td>\n",
              "      <td>0.0</td>\n",
              "      <td>0.0</td>\n",
              "      <td>0.0</td>\n",
              "      <td>0.0</td>\n",
              "      <td>0.0</td>\n",
              "      <td>0.0</td>\n",
              "      <td>0.0</td>\n",
              "      <td>0.0</td>\n",
              "      <td>4.0</td>\n",
              "      <td>560.0</td>\n",
              "    </tr>\n",
              "    <tr>\n",
              "      <th>4</th>\n",
              "      <td>5</td>\n",
              "      <td>2018-12-27</td>\n",
              "      <td>0.0</td>\n",
              "      <td>0.0</td>\n",
              "      <td>1.0</td>\n",
              "      <td>0.0</td>\n",
              "      <td>0.0</td>\n",
              "      <td>0.0</td>\n",
              "      <td>0.0</td>\n",
              "      <td>0.0</td>\n",
              "      <td>1.0</td>\n",
              "      <td>0.0</td>\n",
              "      <td>0.0</td>\n",
              "      <td>0.0</td>\n",
              "      <td>0.0</td>\n",
              "      <td>0.0</td>\n",
              "      <td>0.0</td>\n",
              "      <td>2.0</td>\n",
              "      <td>90.0</td>\n",
              "    </tr>\n",
              "  </tbody>\n",
              "</table>\n",
              "</div>"
            ],
            "text/plain": [
              "   Unnamed: 0 data_atendimento  ...  qtde_clientes  faturamento\n",
              "0           1       2018-12-23  ...            7.0        270.0\n",
              "1           2       2018-12-24  ...            0.0          0.0\n",
              "2           3       2018-12-25  ...            0.0          0.0\n",
              "3           4       2018-12-26  ...            4.0        560.0\n",
              "4           5       2018-12-27  ...            2.0         90.0\n",
              "\n",
              "[5 rows x 19 columns]"
            ]
          },
          "metadata": {
            "tags": []
          },
          "execution_count": 4
        }
      ]
    },
    {
      "cell_type": "markdown",
      "metadata": {
        "id": "z9XKaiHNj722"
      },
      "source": [
        "## 2. Manipulação de dados.\n",
        "\n",
        "\n",
        " - Criando novas colunas referentes a data."
      ]
    },
    {
      "cell_type": "code",
      "metadata": {
        "id": "h2X_bNAJj723"
      },
      "source": [
        "dados = dados.drop('Unnamed: 0' , axis = 1)"
      ],
      "execution_count": 5,
      "outputs": []
    },
    {
      "cell_type": "code",
      "metadata": {
        "id": "vj9mJup2j724"
      },
      "source": [
        "# reorganizando os dados referentes a data \n",
        "\n",
        "def date_to_weekday(date):\n",
        "    weekday_dict = {0:'segunda', 1:'terca', 2: 'quarta', 3: 'quinta', 4: 'sexta', 5: 'sabado', 6: 'domingo'}\n",
        "    date_time_obj = datetime.datetime.strptime(date, '%Y-%m-%d')\n",
        "    return weekday_dict[date_time_obj.weekday()]\n",
        "\n",
        "date = dados['data_atendimento'].str.split(\"-\", n = 3, expand = True)\n",
        "dados['ano'] = date[0].astype('int32')\n",
        "dados['dia'] = date[2].astype('int32')\n",
        "dados['mes'] = date[1].astype('int32')\n",
        "dados['dia_da_semana'] = dados['data_atendimento'].apply(date_to_weekday)"
      ],
      "execution_count": 6,
      "outputs": []
    },
    {
      "cell_type": "code",
      "metadata": {
        "colab": {
          "base_uri": "https://localhost:8080/",
          "height": 224
        },
        "id": "zCwpoDydj724",
        "outputId": "815e3ac4-bc30-4ffd-aef4-3af3162529b0"
      },
      "source": [
        "dados.head()"
      ],
      "execution_count": 7,
      "outputs": [
        {
          "output_type": "execute_result",
          "data": {
            "text/html": [
              "<div>\n",
              "<style scoped>\n",
              "    .dataframe tbody tr th:only-of-type {\n",
              "        vertical-align: middle;\n",
              "    }\n",
              "\n",
              "    .dataframe tbody tr th {\n",
              "        vertical-align: top;\n",
              "    }\n",
              "\n",
              "    .dataframe thead th {\n",
              "        text-align: right;\n",
              "    }\n",
              "</style>\n",
              "<table border=\"1\" class=\"dataframe\">\n",
              "  <thead>\n",
              "    <tr style=\"text-align: right;\">\n",
              "      <th></th>\n",
              "      <th>data_atendimento</th>\n",
              "      <th>design_de_sobrancelhas</th>\n",
              "      <th>design_coloracao</th>\n",
              "      <th>design_coloracao_buco</th>\n",
              "      <th>buco</th>\n",
              "      <th>brown_lamination</th>\n",
              "      <th>micropigmentacao</th>\n",
              "      <th>extensao_de_cilios</th>\n",
              "      <th>lash_lifting</th>\n",
              "      <th>limpeza_de_pele</th>\n",
              "      <th>microagulhamento</th>\n",
              "      <th>peeling_quimico</th>\n",
              "      <th>massagem_relaxante</th>\n",
              "      <th>pacote_massagem_5</th>\n",
              "      <th>drenagem_linfatica</th>\n",
              "      <th>striort</th>\n",
              "      <th>qtde_clientes</th>\n",
              "      <th>faturamento</th>\n",
              "      <th>ano</th>\n",
              "      <th>dia</th>\n",
              "      <th>mes</th>\n",
              "      <th>dia_da_semana</th>\n",
              "    </tr>\n",
              "  </thead>\n",
              "  <tbody>\n",
              "    <tr>\n",
              "      <th>0</th>\n",
              "      <td>2018-12-23</td>\n",
              "      <td>0.0</td>\n",
              "      <td>0.0</td>\n",
              "      <td>7.0</td>\n",
              "      <td>0.0</td>\n",
              "      <td>0.0</td>\n",
              "      <td>0.0</td>\n",
              "      <td>0.0</td>\n",
              "      <td>0.0</td>\n",
              "      <td>1.0</td>\n",
              "      <td>0.0</td>\n",
              "      <td>0.0</td>\n",
              "      <td>0.0</td>\n",
              "      <td>0.0</td>\n",
              "      <td>0.0</td>\n",
              "      <td>0.0</td>\n",
              "      <td>7.0</td>\n",
              "      <td>270.0</td>\n",
              "      <td>2018</td>\n",
              "      <td>23</td>\n",
              "      <td>12</td>\n",
              "      <td>domingo</td>\n",
              "    </tr>\n",
              "    <tr>\n",
              "      <th>1</th>\n",
              "      <td>2018-12-24</td>\n",
              "      <td>0.0</td>\n",
              "      <td>0.0</td>\n",
              "      <td>0.0</td>\n",
              "      <td>0.0</td>\n",
              "      <td>0.0</td>\n",
              "      <td>0.0</td>\n",
              "      <td>0.0</td>\n",
              "      <td>0.0</td>\n",
              "      <td>0.0</td>\n",
              "      <td>0.0</td>\n",
              "      <td>0.0</td>\n",
              "      <td>0.0</td>\n",
              "      <td>0.0</td>\n",
              "      <td>0.0</td>\n",
              "      <td>0.0</td>\n",
              "      <td>0.0</td>\n",
              "      <td>0.0</td>\n",
              "      <td>2018</td>\n",
              "      <td>24</td>\n",
              "      <td>12</td>\n",
              "      <td>segunda</td>\n",
              "    </tr>\n",
              "    <tr>\n",
              "      <th>2</th>\n",
              "      <td>2018-12-25</td>\n",
              "      <td>0.0</td>\n",
              "      <td>0.0</td>\n",
              "      <td>0.0</td>\n",
              "      <td>0.0</td>\n",
              "      <td>0.0</td>\n",
              "      <td>0.0</td>\n",
              "      <td>0.0</td>\n",
              "      <td>0.0</td>\n",
              "      <td>0.0</td>\n",
              "      <td>0.0</td>\n",
              "      <td>0.0</td>\n",
              "      <td>0.0</td>\n",
              "      <td>0.0</td>\n",
              "      <td>0.0</td>\n",
              "      <td>0.0</td>\n",
              "      <td>0.0</td>\n",
              "      <td>0.0</td>\n",
              "      <td>2018</td>\n",
              "      <td>25</td>\n",
              "      <td>12</td>\n",
              "      <td>terca</td>\n",
              "    </tr>\n",
              "    <tr>\n",
              "      <th>3</th>\n",
              "      <td>2018-12-26</td>\n",
              "      <td>1.0</td>\n",
              "      <td>0.0</td>\n",
              "      <td>1.0</td>\n",
              "      <td>1.0</td>\n",
              "      <td>0.0</td>\n",
              "      <td>1.0</td>\n",
              "      <td>1.0</td>\n",
              "      <td>0.0</td>\n",
              "      <td>0.0</td>\n",
              "      <td>0.0</td>\n",
              "      <td>0.0</td>\n",
              "      <td>0.0</td>\n",
              "      <td>0.0</td>\n",
              "      <td>0.0</td>\n",
              "      <td>0.0</td>\n",
              "      <td>4.0</td>\n",
              "      <td>560.0</td>\n",
              "      <td>2018</td>\n",
              "      <td>26</td>\n",
              "      <td>12</td>\n",
              "      <td>quarta</td>\n",
              "    </tr>\n",
              "    <tr>\n",
              "      <th>4</th>\n",
              "      <td>2018-12-27</td>\n",
              "      <td>0.0</td>\n",
              "      <td>0.0</td>\n",
              "      <td>1.0</td>\n",
              "      <td>0.0</td>\n",
              "      <td>0.0</td>\n",
              "      <td>0.0</td>\n",
              "      <td>0.0</td>\n",
              "      <td>0.0</td>\n",
              "      <td>1.0</td>\n",
              "      <td>0.0</td>\n",
              "      <td>0.0</td>\n",
              "      <td>0.0</td>\n",
              "      <td>0.0</td>\n",
              "      <td>0.0</td>\n",
              "      <td>0.0</td>\n",
              "      <td>2.0</td>\n",
              "      <td>90.0</td>\n",
              "      <td>2018</td>\n",
              "      <td>27</td>\n",
              "      <td>12</td>\n",
              "      <td>quinta</td>\n",
              "    </tr>\n",
              "  </tbody>\n",
              "</table>\n",
              "</div>"
            ],
            "text/plain": [
              "  data_atendimento  design_de_sobrancelhas  ...  mes  dia_da_semana\n",
              "0       2018-12-23                     0.0  ...   12        domingo\n",
              "1       2018-12-24                     0.0  ...   12        segunda\n",
              "2       2018-12-25                     0.0  ...   12          terca\n",
              "3       2018-12-26                     1.0  ...   12         quarta\n",
              "4       2018-12-27                     0.0  ...   12         quinta\n",
              "\n",
              "[5 rows x 22 columns]"
            ]
          },
          "metadata": {
            "tags": []
          },
          "execution_count": 7
        }
      ]
    },
    {
      "cell_type": "code",
      "metadata": {
        "colab": {
          "base_uri": "https://localhost:8080/"
        },
        "id": "APM3TRSkj725",
        "outputId": "b11d531d-aef3-4f98-8686-2a1f691ed385"
      },
      "source": [
        "dados.info()"
      ],
      "execution_count": 8,
      "outputs": [
        {
          "output_type": "stream",
          "text": [
            "<class 'pandas.core.frame.DataFrame'>\n",
            "RangeIndex: 740 entries, 0 to 739\n",
            "Data columns (total 22 columns):\n",
            " #   Column                  Non-Null Count  Dtype  \n",
            "---  ------                  --------------  -----  \n",
            " 0   data_atendimento        740 non-null    object \n",
            " 1   design_de_sobrancelhas  740 non-null    float64\n",
            " 2   design_coloracao        740 non-null    float64\n",
            " 3   design_coloracao_buco   740 non-null    float64\n",
            " 4   buco                    740 non-null    float64\n",
            " 5   brown_lamination        740 non-null    float64\n",
            " 6   micropigmentacao        740 non-null    float64\n",
            " 7   extensao_de_cilios      740 non-null    float64\n",
            " 8   lash_lifting            740 non-null    float64\n",
            " 9   limpeza_de_pele         740 non-null    float64\n",
            " 10  microagulhamento        740 non-null    float64\n",
            " 11  peeling_quimico         740 non-null    float64\n",
            " 12  massagem_relaxante      740 non-null    float64\n",
            " 13  pacote_massagem_5       740 non-null    float64\n",
            " 14  drenagem_linfatica      740 non-null    float64\n",
            " 15  striort                 740 non-null    float64\n",
            " 16  qtde_clientes           740 non-null    float64\n",
            " 17  faturamento             740 non-null    float64\n",
            " 18  ano                     740 non-null    int32  \n",
            " 19  dia                     740 non-null    int32  \n",
            " 20  mes                     740 non-null    int32  \n",
            " 21  dia_da_semana           740 non-null    object \n",
            "dtypes: float64(17), int32(3), object(2)\n",
            "memory usage: 118.6+ KB\n"
          ],
          "name": "stdout"
        }
      ]
    },
    {
      "cell_type": "markdown",
      "metadata": {
        "id": "jglH0taoj726"
      },
      "source": [
        " - Reordenando as colunas"
      ]
    },
    {
      "cell_type": "code",
      "metadata": {
        "colab": {
          "base_uri": "https://localhost:8080/"
        },
        "id": "oDKeF9Zmj726",
        "outputId": "a6cf20cd-0c7b-4602-c070-518e9214610b"
      },
      "source": [
        "dados.columns"
      ],
      "execution_count": 9,
      "outputs": [
        {
          "output_type": "execute_result",
          "data": {
            "text/plain": [
              "Index(['data_atendimento', 'design_de_sobrancelhas', 'design_coloracao',\n",
              "       'design_coloracao_buco', 'buco', 'brown_lamination', 'micropigmentacao',\n",
              "       'extensao_de_cilios', 'lash_lifting', 'limpeza_de_pele',\n",
              "       'microagulhamento', 'peeling_quimico', 'massagem_relaxante',\n",
              "       'pacote_massagem_5', 'drenagem_linfatica', 'striort', 'qtde_clientes',\n",
              "       'faturamento', 'ano', 'dia', 'mes', 'dia_da_semana'],\n",
              "      dtype='object')"
            ]
          },
          "metadata": {
            "tags": []
          },
          "execution_count": 9
        }
      ]
    },
    {
      "cell_type": "code",
      "metadata": {
        "id": "Dq1KziK3j727"
      },
      "source": [
        "dados = dados[['data_atendimento', 'design_de_sobrancelhas', 'design_coloracao',\n",
        "       'design_coloracao_buco', 'buco', 'brown_lamination', 'micropigmentacao',\n",
        "       'extensao_de_cilios', 'lash_lifting', 'limpeza_de_pele',\n",
        "       'microagulhamento', 'peeling_quimico', 'massagem_relaxante',\n",
        "       'pacote_massagem_5', 'drenagem_linfatica', 'striort', 'qtde_clientes', 'dia', 'mes','ano', 'dia_da_semana',\n",
        "       'faturamento']]"
      ],
      "execution_count": 10,
      "outputs": []
    },
    {
      "cell_type": "code",
      "metadata": {
        "colab": {
          "base_uri": "https://localhost:8080/",
          "height": 224
        },
        "id": "_zoqU_MCj729",
        "outputId": "34895662-b74a-4f2e-a796-aeb6942002f5"
      },
      "source": [
        "dados.head()"
      ],
      "execution_count": 11,
      "outputs": [
        {
          "output_type": "execute_result",
          "data": {
            "text/html": [
              "<div>\n",
              "<style scoped>\n",
              "    .dataframe tbody tr th:only-of-type {\n",
              "        vertical-align: middle;\n",
              "    }\n",
              "\n",
              "    .dataframe tbody tr th {\n",
              "        vertical-align: top;\n",
              "    }\n",
              "\n",
              "    .dataframe thead th {\n",
              "        text-align: right;\n",
              "    }\n",
              "</style>\n",
              "<table border=\"1\" class=\"dataframe\">\n",
              "  <thead>\n",
              "    <tr style=\"text-align: right;\">\n",
              "      <th></th>\n",
              "      <th>data_atendimento</th>\n",
              "      <th>design_de_sobrancelhas</th>\n",
              "      <th>design_coloracao</th>\n",
              "      <th>design_coloracao_buco</th>\n",
              "      <th>buco</th>\n",
              "      <th>brown_lamination</th>\n",
              "      <th>micropigmentacao</th>\n",
              "      <th>extensao_de_cilios</th>\n",
              "      <th>lash_lifting</th>\n",
              "      <th>limpeza_de_pele</th>\n",
              "      <th>microagulhamento</th>\n",
              "      <th>peeling_quimico</th>\n",
              "      <th>massagem_relaxante</th>\n",
              "      <th>pacote_massagem_5</th>\n",
              "      <th>drenagem_linfatica</th>\n",
              "      <th>striort</th>\n",
              "      <th>qtde_clientes</th>\n",
              "      <th>dia</th>\n",
              "      <th>mes</th>\n",
              "      <th>ano</th>\n",
              "      <th>dia_da_semana</th>\n",
              "      <th>faturamento</th>\n",
              "    </tr>\n",
              "  </thead>\n",
              "  <tbody>\n",
              "    <tr>\n",
              "      <th>0</th>\n",
              "      <td>2018-12-23</td>\n",
              "      <td>0.0</td>\n",
              "      <td>0.0</td>\n",
              "      <td>7.0</td>\n",
              "      <td>0.0</td>\n",
              "      <td>0.0</td>\n",
              "      <td>0.0</td>\n",
              "      <td>0.0</td>\n",
              "      <td>0.0</td>\n",
              "      <td>1.0</td>\n",
              "      <td>0.0</td>\n",
              "      <td>0.0</td>\n",
              "      <td>0.0</td>\n",
              "      <td>0.0</td>\n",
              "      <td>0.0</td>\n",
              "      <td>0.0</td>\n",
              "      <td>7.0</td>\n",
              "      <td>23</td>\n",
              "      <td>12</td>\n",
              "      <td>2018</td>\n",
              "      <td>domingo</td>\n",
              "      <td>270.0</td>\n",
              "    </tr>\n",
              "    <tr>\n",
              "      <th>1</th>\n",
              "      <td>2018-12-24</td>\n",
              "      <td>0.0</td>\n",
              "      <td>0.0</td>\n",
              "      <td>0.0</td>\n",
              "      <td>0.0</td>\n",
              "      <td>0.0</td>\n",
              "      <td>0.0</td>\n",
              "      <td>0.0</td>\n",
              "      <td>0.0</td>\n",
              "      <td>0.0</td>\n",
              "      <td>0.0</td>\n",
              "      <td>0.0</td>\n",
              "      <td>0.0</td>\n",
              "      <td>0.0</td>\n",
              "      <td>0.0</td>\n",
              "      <td>0.0</td>\n",
              "      <td>0.0</td>\n",
              "      <td>24</td>\n",
              "      <td>12</td>\n",
              "      <td>2018</td>\n",
              "      <td>segunda</td>\n",
              "      <td>0.0</td>\n",
              "    </tr>\n",
              "    <tr>\n",
              "      <th>2</th>\n",
              "      <td>2018-12-25</td>\n",
              "      <td>0.0</td>\n",
              "      <td>0.0</td>\n",
              "      <td>0.0</td>\n",
              "      <td>0.0</td>\n",
              "      <td>0.0</td>\n",
              "      <td>0.0</td>\n",
              "      <td>0.0</td>\n",
              "      <td>0.0</td>\n",
              "      <td>0.0</td>\n",
              "      <td>0.0</td>\n",
              "      <td>0.0</td>\n",
              "      <td>0.0</td>\n",
              "      <td>0.0</td>\n",
              "      <td>0.0</td>\n",
              "      <td>0.0</td>\n",
              "      <td>0.0</td>\n",
              "      <td>25</td>\n",
              "      <td>12</td>\n",
              "      <td>2018</td>\n",
              "      <td>terca</td>\n",
              "      <td>0.0</td>\n",
              "    </tr>\n",
              "    <tr>\n",
              "      <th>3</th>\n",
              "      <td>2018-12-26</td>\n",
              "      <td>1.0</td>\n",
              "      <td>0.0</td>\n",
              "      <td>1.0</td>\n",
              "      <td>1.0</td>\n",
              "      <td>0.0</td>\n",
              "      <td>1.0</td>\n",
              "      <td>1.0</td>\n",
              "      <td>0.0</td>\n",
              "      <td>0.0</td>\n",
              "      <td>0.0</td>\n",
              "      <td>0.0</td>\n",
              "      <td>0.0</td>\n",
              "      <td>0.0</td>\n",
              "      <td>0.0</td>\n",
              "      <td>0.0</td>\n",
              "      <td>4.0</td>\n",
              "      <td>26</td>\n",
              "      <td>12</td>\n",
              "      <td>2018</td>\n",
              "      <td>quarta</td>\n",
              "      <td>560.0</td>\n",
              "    </tr>\n",
              "    <tr>\n",
              "      <th>4</th>\n",
              "      <td>2018-12-27</td>\n",
              "      <td>0.0</td>\n",
              "      <td>0.0</td>\n",
              "      <td>1.0</td>\n",
              "      <td>0.0</td>\n",
              "      <td>0.0</td>\n",
              "      <td>0.0</td>\n",
              "      <td>0.0</td>\n",
              "      <td>0.0</td>\n",
              "      <td>1.0</td>\n",
              "      <td>0.0</td>\n",
              "      <td>0.0</td>\n",
              "      <td>0.0</td>\n",
              "      <td>0.0</td>\n",
              "      <td>0.0</td>\n",
              "      <td>0.0</td>\n",
              "      <td>2.0</td>\n",
              "      <td>27</td>\n",
              "      <td>12</td>\n",
              "      <td>2018</td>\n",
              "      <td>quinta</td>\n",
              "      <td>90.0</td>\n",
              "    </tr>\n",
              "  </tbody>\n",
              "</table>\n",
              "</div>"
            ],
            "text/plain": [
              "  data_atendimento  design_de_sobrancelhas  ...  dia_da_semana  faturamento\n",
              "0       2018-12-23                     0.0  ...        domingo        270.0\n",
              "1       2018-12-24                     0.0  ...        segunda          0.0\n",
              "2       2018-12-25                     0.0  ...          terca          0.0\n",
              "3       2018-12-26                     1.0  ...         quarta        560.0\n",
              "4       2018-12-27                     0.0  ...         quinta         90.0\n",
              "\n",
              "[5 rows x 22 columns]"
            ]
          },
          "metadata": {
            "tags": []
          },
          "execution_count": 11
        }
      ]
    },
    {
      "cell_type": "markdown",
      "metadata": {
        "id": "MCHyK1GLpV7g"
      },
      "source": [
        " - Excluindo os dados referentes ao periodo da pandemia.\n",
        " \n",
        "     Período de 20 de marco a 1 de julho."
      ]
    },
    {
      "cell_type": "code",
      "metadata": {
        "colab": {
          "base_uri": "https://localhost:8080/",
          "height": 100
        },
        "id": "MNFFa3YrpV7h",
        "outputId": "c6235555-49e2-4ccd-8f37-8b5826def277"
      },
      "source": [
        "dados.query('data_atendimento == \"2020-07-01\"')"
      ],
      "execution_count": 12,
      "outputs": [
        {
          "output_type": "execute_result",
          "data": {
            "text/html": [
              "<div>\n",
              "<style scoped>\n",
              "    .dataframe tbody tr th:only-of-type {\n",
              "        vertical-align: middle;\n",
              "    }\n",
              "\n",
              "    .dataframe tbody tr th {\n",
              "        vertical-align: top;\n",
              "    }\n",
              "\n",
              "    .dataframe thead th {\n",
              "        text-align: right;\n",
              "    }\n",
              "</style>\n",
              "<table border=\"1\" class=\"dataframe\">\n",
              "  <thead>\n",
              "    <tr style=\"text-align: right;\">\n",
              "      <th></th>\n",
              "      <th>data_atendimento</th>\n",
              "      <th>design_de_sobrancelhas</th>\n",
              "      <th>design_coloracao</th>\n",
              "      <th>design_coloracao_buco</th>\n",
              "      <th>buco</th>\n",
              "      <th>brown_lamination</th>\n",
              "      <th>micropigmentacao</th>\n",
              "      <th>extensao_de_cilios</th>\n",
              "      <th>lash_lifting</th>\n",
              "      <th>limpeza_de_pele</th>\n",
              "      <th>microagulhamento</th>\n",
              "      <th>peeling_quimico</th>\n",
              "      <th>massagem_relaxante</th>\n",
              "      <th>pacote_massagem_5</th>\n",
              "      <th>drenagem_linfatica</th>\n",
              "      <th>striort</th>\n",
              "      <th>qtde_clientes</th>\n",
              "      <th>dia</th>\n",
              "      <th>mes</th>\n",
              "      <th>ano</th>\n",
              "      <th>dia_da_semana</th>\n",
              "      <th>faturamento</th>\n",
              "    </tr>\n",
              "  </thead>\n",
              "  <tbody>\n",
              "    <tr>\n",
              "      <th>556</th>\n",
              "      <td>2020-07-01</td>\n",
              "      <td>0.0</td>\n",
              "      <td>0.0</td>\n",
              "      <td>0.0</td>\n",
              "      <td>0.0</td>\n",
              "      <td>0.0</td>\n",
              "      <td>0.0</td>\n",
              "      <td>0.0</td>\n",
              "      <td>0.0</td>\n",
              "      <td>0.0</td>\n",
              "      <td>0.0</td>\n",
              "      <td>0.0</td>\n",
              "      <td>0.0</td>\n",
              "      <td>0.0</td>\n",
              "      <td>0.0</td>\n",
              "      <td>0.0</td>\n",
              "      <td>0.0</td>\n",
              "      <td>1</td>\n",
              "      <td>7</td>\n",
              "      <td>2020</td>\n",
              "      <td>quarta</td>\n",
              "      <td>0.0</td>\n",
              "    </tr>\n",
              "  </tbody>\n",
              "</table>\n",
              "</div>"
            ],
            "text/plain": [
              "    data_atendimento  design_de_sobrancelhas  ...  dia_da_semana  faturamento\n",
              "556       2020-07-01                     0.0  ...         quarta          0.0\n",
              "\n",
              "[1 rows x 22 columns]"
            ]
          },
          "metadata": {
            "tags": []
          },
          "execution_count": 12
        }
      ]
    },
    {
      "cell_type": "code",
      "metadata": {
        "colab": {
          "base_uri": "https://localhost:8080/",
          "height": 439
        },
        "id": "SQzOlKhjpV7j",
        "outputId": "46589824-3098-4341-f805-bcd45af32893"
      },
      "source": [
        "dados.loc[453:556]"
      ],
      "execution_count": 13,
      "outputs": [
        {
          "output_type": "execute_result",
          "data": {
            "text/html": [
              "<div>\n",
              "<style scoped>\n",
              "    .dataframe tbody tr th:only-of-type {\n",
              "        vertical-align: middle;\n",
              "    }\n",
              "\n",
              "    .dataframe tbody tr th {\n",
              "        vertical-align: top;\n",
              "    }\n",
              "\n",
              "    .dataframe thead th {\n",
              "        text-align: right;\n",
              "    }\n",
              "</style>\n",
              "<table border=\"1\" class=\"dataframe\">\n",
              "  <thead>\n",
              "    <tr style=\"text-align: right;\">\n",
              "      <th></th>\n",
              "      <th>data_atendimento</th>\n",
              "      <th>design_de_sobrancelhas</th>\n",
              "      <th>design_coloracao</th>\n",
              "      <th>design_coloracao_buco</th>\n",
              "      <th>buco</th>\n",
              "      <th>brown_lamination</th>\n",
              "      <th>micropigmentacao</th>\n",
              "      <th>extensao_de_cilios</th>\n",
              "      <th>lash_lifting</th>\n",
              "      <th>limpeza_de_pele</th>\n",
              "      <th>microagulhamento</th>\n",
              "      <th>peeling_quimico</th>\n",
              "      <th>massagem_relaxante</th>\n",
              "      <th>pacote_massagem_5</th>\n",
              "      <th>drenagem_linfatica</th>\n",
              "      <th>striort</th>\n",
              "      <th>qtde_clientes</th>\n",
              "      <th>dia</th>\n",
              "      <th>mes</th>\n",
              "      <th>ano</th>\n",
              "      <th>dia_da_semana</th>\n",
              "      <th>faturamento</th>\n",
              "    </tr>\n",
              "  </thead>\n",
              "  <tbody>\n",
              "    <tr>\n",
              "      <th>453</th>\n",
              "      <td>2020-03-20</td>\n",
              "      <td>0.0</td>\n",
              "      <td>0.0</td>\n",
              "      <td>0.0</td>\n",
              "      <td>0.0</td>\n",
              "      <td>0.0</td>\n",
              "      <td>0.0</td>\n",
              "      <td>0.0</td>\n",
              "      <td>0.0</td>\n",
              "      <td>0.0</td>\n",
              "      <td>0.0</td>\n",
              "      <td>0.0</td>\n",
              "      <td>0.0</td>\n",
              "      <td>0.0</td>\n",
              "      <td>0.0</td>\n",
              "      <td>0.0</td>\n",
              "      <td>0.0</td>\n",
              "      <td>20</td>\n",
              "      <td>3</td>\n",
              "      <td>2020</td>\n",
              "      <td>sexta</td>\n",
              "      <td>0.0</td>\n",
              "    </tr>\n",
              "    <tr>\n",
              "      <th>454</th>\n",
              "      <td>2020-03-21</td>\n",
              "      <td>0.0</td>\n",
              "      <td>0.0</td>\n",
              "      <td>0.0</td>\n",
              "      <td>0.0</td>\n",
              "      <td>0.0</td>\n",
              "      <td>0.0</td>\n",
              "      <td>0.0</td>\n",
              "      <td>0.0</td>\n",
              "      <td>0.0</td>\n",
              "      <td>0.0</td>\n",
              "      <td>0.0</td>\n",
              "      <td>0.0</td>\n",
              "      <td>0.0</td>\n",
              "      <td>0.0</td>\n",
              "      <td>0.0</td>\n",
              "      <td>0.0</td>\n",
              "      <td>21</td>\n",
              "      <td>3</td>\n",
              "      <td>2020</td>\n",
              "      <td>sabado</td>\n",
              "      <td>0.0</td>\n",
              "    </tr>\n",
              "    <tr>\n",
              "      <th>455</th>\n",
              "      <td>2020-03-22</td>\n",
              "      <td>0.0</td>\n",
              "      <td>0.0</td>\n",
              "      <td>0.0</td>\n",
              "      <td>0.0</td>\n",
              "      <td>0.0</td>\n",
              "      <td>0.0</td>\n",
              "      <td>0.0</td>\n",
              "      <td>0.0</td>\n",
              "      <td>0.0</td>\n",
              "      <td>0.0</td>\n",
              "      <td>0.0</td>\n",
              "      <td>0.0</td>\n",
              "      <td>0.0</td>\n",
              "      <td>0.0</td>\n",
              "      <td>0.0</td>\n",
              "      <td>0.0</td>\n",
              "      <td>22</td>\n",
              "      <td>3</td>\n",
              "      <td>2020</td>\n",
              "      <td>domingo</td>\n",
              "      <td>0.0</td>\n",
              "    </tr>\n",
              "    <tr>\n",
              "      <th>456</th>\n",
              "      <td>2020-03-23</td>\n",
              "      <td>0.0</td>\n",
              "      <td>0.0</td>\n",
              "      <td>0.0</td>\n",
              "      <td>0.0</td>\n",
              "      <td>0.0</td>\n",
              "      <td>0.0</td>\n",
              "      <td>0.0</td>\n",
              "      <td>0.0</td>\n",
              "      <td>0.0</td>\n",
              "      <td>0.0</td>\n",
              "      <td>0.0</td>\n",
              "      <td>0.0</td>\n",
              "      <td>0.0</td>\n",
              "      <td>0.0</td>\n",
              "      <td>0.0</td>\n",
              "      <td>0.0</td>\n",
              "      <td>23</td>\n",
              "      <td>3</td>\n",
              "      <td>2020</td>\n",
              "      <td>segunda</td>\n",
              "      <td>0.0</td>\n",
              "    </tr>\n",
              "    <tr>\n",
              "      <th>457</th>\n",
              "      <td>2020-03-24</td>\n",
              "      <td>0.0</td>\n",
              "      <td>0.0</td>\n",
              "      <td>0.0</td>\n",
              "      <td>0.0</td>\n",
              "      <td>0.0</td>\n",
              "      <td>0.0</td>\n",
              "      <td>0.0</td>\n",
              "      <td>0.0</td>\n",
              "      <td>0.0</td>\n",
              "      <td>0.0</td>\n",
              "      <td>0.0</td>\n",
              "      <td>0.0</td>\n",
              "      <td>0.0</td>\n",
              "      <td>0.0</td>\n",
              "      <td>0.0</td>\n",
              "      <td>0.0</td>\n",
              "      <td>24</td>\n",
              "      <td>3</td>\n",
              "      <td>2020</td>\n",
              "      <td>terca</td>\n",
              "      <td>0.0</td>\n",
              "    </tr>\n",
              "    <tr>\n",
              "      <th>...</th>\n",
              "      <td>...</td>\n",
              "      <td>...</td>\n",
              "      <td>...</td>\n",
              "      <td>...</td>\n",
              "      <td>...</td>\n",
              "      <td>...</td>\n",
              "      <td>...</td>\n",
              "      <td>...</td>\n",
              "      <td>...</td>\n",
              "      <td>...</td>\n",
              "      <td>...</td>\n",
              "      <td>...</td>\n",
              "      <td>...</td>\n",
              "      <td>...</td>\n",
              "      <td>...</td>\n",
              "      <td>...</td>\n",
              "      <td>...</td>\n",
              "      <td>...</td>\n",
              "      <td>...</td>\n",
              "      <td>...</td>\n",
              "      <td>...</td>\n",
              "      <td>...</td>\n",
              "    </tr>\n",
              "    <tr>\n",
              "      <th>552</th>\n",
              "      <td>2020-06-27</td>\n",
              "      <td>0.0</td>\n",
              "      <td>0.0</td>\n",
              "      <td>0.0</td>\n",
              "      <td>0.0</td>\n",
              "      <td>0.0</td>\n",
              "      <td>0.0</td>\n",
              "      <td>0.0</td>\n",
              "      <td>0.0</td>\n",
              "      <td>0.0</td>\n",
              "      <td>0.0</td>\n",
              "      <td>0.0</td>\n",
              "      <td>0.0</td>\n",
              "      <td>0.0</td>\n",
              "      <td>0.0</td>\n",
              "      <td>0.0</td>\n",
              "      <td>0.0</td>\n",
              "      <td>27</td>\n",
              "      <td>6</td>\n",
              "      <td>2020</td>\n",
              "      <td>sabado</td>\n",
              "      <td>0.0</td>\n",
              "    </tr>\n",
              "    <tr>\n",
              "      <th>553</th>\n",
              "      <td>2020-06-28</td>\n",
              "      <td>0.0</td>\n",
              "      <td>0.0</td>\n",
              "      <td>0.0</td>\n",
              "      <td>0.0</td>\n",
              "      <td>0.0</td>\n",
              "      <td>0.0</td>\n",
              "      <td>0.0</td>\n",
              "      <td>0.0</td>\n",
              "      <td>0.0</td>\n",
              "      <td>0.0</td>\n",
              "      <td>0.0</td>\n",
              "      <td>0.0</td>\n",
              "      <td>0.0</td>\n",
              "      <td>0.0</td>\n",
              "      <td>0.0</td>\n",
              "      <td>0.0</td>\n",
              "      <td>28</td>\n",
              "      <td>6</td>\n",
              "      <td>2020</td>\n",
              "      <td>domingo</td>\n",
              "      <td>0.0</td>\n",
              "    </tr>\n",
              "    <tr>\n",
              "      <th>554</th>\n",
              "      <td>2020-06-29</td>\n",
              "      <td>0.0</td>\n",
              "      <td>0.0</td>\n",
              "      <td>0.0</td>\n",
              "      <td>0.0</td>\n",
              "      <td>0.0</td>\n",
              "      <td>0.0</td>\n",
              "      <td>0.0</td>\n",
              "      <td>0.0</td>\n",
              "      <td>0.0</td>\n",
              "      <td>0.0</td>\n",
              "      <td>0.0</td>\n",
              "      <td>0.0</td>\n",
              "      <td>0.0</td>\n",
              "      <td>0.0</td>\n",
              "      <td>0.0</td>\n",
              "      <td>0.0</td>\n",
              "      <td>29</td>\n",
              "      <td>6</td>\n",
              "      <td>2020</td>\n",
              "      <td>segunda</td>\n",
              "      <td>0.0</td>\n",
              "    </tr>\n",
              "    <tr>\n",
              "      <th>555</th>\n",
              "      <td>2020-06-30</td>\n",
              "      <td>0.0</td>\n",
              "      <td>0.0</td>\n",
              "      <td>0.0</td>\n",
              "      <td>0.0</td>\n",
              "      <td>0.0</td>\n",
              "      <td>0.0</td>\n",
              "      <td>0.0</td>\n",
              "      <td>0.0</td>\n",
              "      <td>0.0</td>\n",
              "      <td>0.0</td>\n",
              "      <td>0.0</td>\n",
              "      <td>0.0</td>\n",
              "      <td>0.0</td>\n",
              "      <td>0.0</td>\n",
              "      <td>0.0</td>\n",
              "      <td>0.0</td>\n",
              "      <td>30</td>\n",
              "      <td>6</td>\n",
              "      <td>2020</td>\n",
              "      <td>terca</td>\n",
              "      <td>0.0</td>\n",
              "    </tr>\n",
              "    <tr>\n",
              "      <th>556</th>\n",
              "      <td>2020-07-01</td>\n",
              "      <td>0.0</td>\n",
              "      <td>0.0</td>\n",
              "      <td>0.0</td>\n",
              "      <td>0.0</td>\n",
              "      <td>0.0</td>\n",
              "      <td>0.0</td>\n",
              "      <td>0.0</td>\n",
              "      <td>0.0</td>\n",
              "      <td>0.0</td>\n",
              "      <td>0.0</td>\n",
              "      <td>0.0</td>\n",
              "      <td>0.0</td>\n",
              "      <td>0.0</td>\n",
              "      <td>0.0</td>\n",
              "      <td>0.0</td>\n",
              "      <td>0.0</td>\n",
              "      <td>1</td>\n",
              "      <td>7</td>\n",
              "      <td>2020</td>\n",
              "      <td>quarta</td>\n",
              "      <td>0.0</td>\n",
              "    </tr>\n",
              "  </tbody>\n",
              "</table>\n",
              "<p>104 rows × 22 columns</p>\n",
              "</div>"
            ],
            "text/plain": [
              "    data_atendimento  design_de_sobrancelhas  ...  dia_da_semana  faturamento\n",
              "453       2020-03-20                     0.0  ...          sexta          0.0\n",
              "454       2020-03-21                     0.0  ...         sabado          0.0\n",
              "455       2020-03-22                     0.0  ...        domingo          0.0\n",
              "456       2020-03-23                     0.0  ...        segunda          0.0\n",
              "457       2020-03-24                     0.0  ...          terca          0.0\n",
              "..               ...                     ...  ...            ...          ...\n",
              "552       2020-06-27                     0.0  ...         sabado          0.0\n",
              "553       2020-06-28                     0.0  ...        domingo          0.0\n",
              "554       2020-06-29                     0.0  ...        segunda          0.0\n",
              "555       2020-06-30                     0.0  ...          terca          0.0\n",
              "556       2020-07-01                     0.0  ...         quarta          0.0\n",
              "\n",
              "[104 rows x 22 columns]"
            ]
          },
          "metadata": {
            "tags": []
          },
          "execution_count": 13
        }
      ]
    },
    {
      "cell_type": "code",
      "metadata": {
        "colab": {
          "base_uri": "https://localhost:8080/",
          "height": 224
        },
        "id": "0lY6xNa0pV7k",
        "outputId": "18c44f3f-b6b2-4104-c488-a5c8e9eef522"
      },
      "source": [
        "dados_pandemia =[]\n",
        "for i in range(453,556):\n",
        "    dados_pandemia.append(i)\n",
        "\n",
        "dados = dados.drop(dados_pandemia)\n",
        "dados = dados.reset_index()\n",
        "dados = dados.drop('index', axis = 1)\n",
        "dados.head()"
      ],
      "execution_count": 14,
      "outputs": [
        {
          "output_type": "execute_result",
          "data": {
            "text/html": [
              "<div>\n",
              "<style scoped>\n",
              "    .dataframe tbody tr th:only-of-type {\n",
              "        vertical-align: middle;\n",
              "    }\n",
              "\n",
              "    .dataframe tbody tr th {\n",
              "        vertical-align: top;\n",
              "    }\n",
              "\n",
              "    .dataframe thead th {\n",
              "        text-align: right;\n",
              "    }\n",
              "</style>\n",
              "<table border=\"1\" class=\"dataframe\">\n",
              "  <thead>\n",
              "    <tr style=\"text-align: right;\">\n",
              "      <th></th>\n",
              "      <th>data_atendimento</th>\n",
              "      <th>design_de_sobrancelhas</th>\n",
              "      <th>design_coloracao</th>\n",
              "      <th>design_coloracao_buco</th>\n",
              "      <th>buco</th>\n",
              "      <th>brown_lamination</th>\n",
              "      <th>micropigmentacao</th>\n",
              "      <th>extensao_de_cilios</th>\n",
              "      <th>lash_lifting</th>\n",
              "      <th>limpeza_de_pele</th>\n",
              "      <th>microagulhamento</th>\n",
              "      <th>peeling_quimico</th>\n",
              "      <th>massagem_relaxante</th>\n",
              "      <th>pacote_massagem_5</th>\n",
              "      <th>drenagem_linfatica</th>\n",
              "      <th>striort</th>\n",
              "      <th>qtde_clientes</th>\n",
              "      <th>dia</th>\n",
              "      <th>mes</th>\n",
              "      <th>ano</th>\n",
              "      <th>dia_da_semana</th>\n",
              "      <th>faturamento</th>\n",
              "    </tr>\n",
              "  </thead>\n",
              "  <tbody>\n",
              "    <tr>\n",
              "      <th>0</th>\n",
              "      <td>2018-12-23</td>\n",
              "      <td>0.0</td>\n",
              "      <td>0.0</td>\n",
              "      <td>7.0</td>\n",
              "      <td>0.0</td>\n",
              "      <td>0.0</td>\n",
              "      <td>0.0</td>\n",
              "      <td>0.0</td>\n",
              "      <td>0.0</td>\n",
              "      <td>1.0</td>\n",
              "      <td>0.0</td>\n",
              "      <td>0.0</td>\n",
              "      <td>0.0</td>\n",
              "      <td>0.0</td>\n",
              "      <td>0.0</td>\n",
              "      <td>0.0</td>\n",
              "      <td>7.0</td>\n",
              "      <td>23</td>\n",
              "      <td>12</td>\n",
              "      <td>2018</td>\n",
              "      <td>domingo</td>\n",
              "      <td>270.0</td>\n",
              "    </tr>\n",
              "    <tr>\n",
              "      <th>1</th>\n",
              "      <td>2018-12-24</td>\n",
              "      <td>0.0</td>\n",
              "      <td>0.0</td>\n",
              "      <td>0.0</td>\n",
              "      <td>0.0</td>\n",
              "      <td>0.0</td>\n",
              "      <td>0.0</td>\n",
              "      <td>0.0</td>\n",
              "      <td>0.0</td>\n",
              "      <td>0.0</td>\n",
              "      <td>0.0</td>\n",
              "      <td>0.0</td>\n",
              "      <td>0.0</td>\n",
              "      <td>0.0</td>\n",
              "      <td>0.0</td>\n",
              "      <td>0.0</td>\n",
              "      <td>0.0</td>\n",
              "      <td>24</td>\n",
              "      <td>12</td>\n",
              "      <td>2018</td>\n",
              "      <td>segunda</td>\n",
              "      <td>0.0</td>\n",
              "    </tr>\n",
              "    <tr>\n",
              "      <th>2</th>\n",
              "      <td>2018-12-25</td>\n",
              "      <td>0.0</td>\n",
              "      <td>0.0</td>\n",
              "      <td>0.0</td>\n",
              "      <td>0.0</td>\n",
              "      <td>0.0</td>\n",
              "      <td>0.0</td>\n",
              "      <td>0.0</td>\n",
              "      <td>0.0</td>\n",
              "      <td>0.0</td>\n",
              "      <td>0.0</td>\n",
              "      <td>0.0</td>\n",
              "      <td>0.0</td>\n",
              "      <td>0.0</td>\n",
              "      <td>0.0</td>\n",
              "      <td>0.0</td>\n",
              "      <td>0.0</td>\n",
              "      <td>25</td>\n",
              "      <td>12</td>\n",
              "      <td>2018</td>\n",
              "      <td>terca</td>\n",
              "      <td>0.0</td>\n",
              "    </tr>\n",
              "    <tr>\n",
              "      <th>3</th>\n",
              "      <td>2018-12-26</td>\n",
              "      <td>1.0</td>\n",
              "      <td>0.0</td>\n",
              "      <td>1.0</td>\n",
              "      <td>1.0</td>\n",
              "      <td>0.0</td>\n",
              "      <td>1.0</td>\n",
              "      <td>1.0</td>\n",
              "      <td>0.0</td>\n",
              "      <td>0.0</td>\n",
              "      <td>0.0</td>\n",
              "      <td>0.0</td>\n",
              "      <td>0.0</td>\n",
              "      <td>0.0</td>\n",
              "      <td>0.0</td>\n",
              "      <td>0.0</td>\n",
              "      <td>4.0</td>\n",
              "      <td>26</td>\n",
              "      <td>12</td>\n",
              "      <td>2018</td>\n",
              "      <td>quarta</td>\n",
              "      <td>560.0</td>\n",
              "    </tr>\n",
              "    <tr>\n",
              "      <th>4</th>\n",
              "      <td>2018-12-27</td>\n",
              "      <td>0.0</td>\n",
              "      <td>0.0</td>\n",
              "      <td>1.0</td>\n",
              "      <td>0.0</td>\n",
              "      <td>0.0</td>\n",
              "      <td>0.0</td>\n",
              "      <td>0.0</td>\n",
              "      <td>0.0</td>\n",
              "      <td>1.0</td>\n",
              "      <td>0.0</td>\n",
              "      <td>0.0</td>\n",
              "      <td>0.0</td>\n",
              "      <td>0.0</td>\n",
              "      <td>0.0</td>\n",
              "      <td>0.0</td>\n",
              "      <td>2.0</td>\n",
              "      <td>27</td>\n",
              "      <td>12</td>\n",
              "      <td>2018</td>\n",
              "      <td>quinta</td>\n",
              "      <td>90.0</td>\n",
              "    </tr>\n",
              "  </tbody>\n",
              "</table>\n",
              "</div>"
            ],
            "text/plain": [
              "  data_atendimento  design_de_sobrancelhas  ...  dia_da_semana  faturamento\n",
              "0       2018-12-23                     0.0  ...        domingo        270.0\n",
              "1       2018-12-24                     0.0  ...        segunda          0.0\n",
              "2       2018-12-25                     0.0  ...          terca          0.0\n",
              "3       2018-12-26                     1.0  ...         quarta        560.0\n",
              "4       2018-12-27                     0.0  ...         quinta         90.0\n",
              "\n",
              "[5 rows x 22 columns]"
            ]
          },
          "metadata": {
            "tags": []
          },
          "execution_count": 14
        }
      ]
    },
    {
      "cell_type": "markdown",
      "metadata": {
        "id": "oiu3hrlWvXPz"
      },
      "source": [
        " - Removendo os domingos."
      ]
    },
    {
      "cell_type": "code",
      "metadata": {
        "id": "sQXRCY04vb67"
      },
      "source": [
        "dados.iloc[0,0] = '2018-12-22'\r\n",
        "dados.iloc[0,20] = 'sabado'"
      ],
      "execution_count": 15,
      "outputs": []
    },
    {
      "cell_type": "code",
      "metadata": {
        "colab": {
          "base_uri": "https://localhost:8080/",
          "height": 224
        },
        "id": "g9yNuMKrvglj",
        "outputId": "da9fd9c0-bbd7-44cc-8395-c0314a0951d5"
      },
      "source": [
        "dados.head()"
      ],
      "execution_count": 16,
      "outputs": [
        {
          "output_type": "execute_result",
          "data": {
            "text/html": [
              "<div>\n",
              "<style scoped>\n",
              "    .dataframe tbody tr th:only-of-type {\n",
              "        vertical-align: middle;\n",
              "    }\n",
              "\n",
              "    .dataframe tbody tr th {\n",
              "        vertical-align: top;\n",
              "    }\n",
              "\n",
              "    .dataframe thead th {\n",
              "        text-align: right;\n",
              "    }\n",
              "</style>\n",
              "<table border=\"1\" class=\"dataframe\">\n",
              "  <thead>\n",
              "    <tr style=\"text-align: right;\">\n",
              "      <th></th>\n",
              "      <th>data_atendimento</th>\n",
              "      <th>design_de_sobrancelhas</th>\n",
              "      <th>design_coloracao</th>\n",
              "      <th>design_coloracao_buco</th>\n",
              "      <th>buco</th>\n",
              "      <th>brown_lamination</th>\n",
              "      <th>micropigmentacao</th>\n",
              "      <th>extensao_de_cilios</th>\n",
              "      <th>lash_lifting</th>\n",
              "      <th>limpeza_de_pele</th>\n",
              "      <th>microagulhamento</th>\n",
              "      <th>peeling_quimico</th>\n",
              "      <th>massagem_relaxante</th>\n",
              "      <th>pacote_massagem_5</th>\n",
              "      <th>drenagem_linfatica</th>\n",
              "      <th>striort</th>\n",
              "      <th>qtde_clientes</th>\n",
              "      <th>dia</th>\n",
              "      <th>mes</th>\n",
              "      <th>ano</th>\n",
              "      <th>dia_da_semana</th>\n",
              "      <th>faturamento</th>\n",
              "    </tr>\n",
              "  </thead>\n",
              "  <tbody>\n",
              "    <tr>\n",
              "      <th>0</th>\n",
              "      <td>2018-12-22</td>\n",
              "      <td>0.0</td>\n",
              "      <td>0.0</td>\n",
              "      <td>7.0</td>\n",
              "      <td>0.0</td>\n",
              "      <td>0.0</td>\n",
              "      <td>0.0</td>\n",
              "      <td>0.0</td>\n",
              "      <td>0.0</td>\n",
              "      <td>1.0</td>\n",
              "      <td>0.0</td>\n",
              "      <td>0.0</td>\n",
              "      <td>0.0</td>\n",
              "      <td>0.0</td>\n",
              "      <td>0.0</td>\n",
              "      <td>0.0</td>\n",
              "      <td>7.0</td>\n",
              "      <td>23</td>\n",
              "      <td>12</td>\n",
              "      <td>2018</td>\n",
              "      <td>sabado</td>\n",
              "      <td>270.0</td>\n",
              "    </tr>\n",
              "    <tr>\n",
              "      <th>1</th>\n",
              "      <td>2018-12-24</td>\n",
              "      <td>0.0</td>\n",
              "      <td>0.0</td>\n",
              "      <td>0.0</td>\n",
              "      <td>0.0</td>\n",
              "      <td>0.0</td>\n",
              "      <td>0.0</td>\n",
              "      <td>0.0</td>\n",
              "      <td>0.0</td>\n",
              "      <td>0.0</td>\n",
              "      <td>0.0</td>\n",
              "      <td>0.0</td>\n",
              "      <td>0.0</td>\n",
              "      <td>0.0</td>\n",
              "      <td>0.0</td>\n",
              "      <td>0.0</td>\n",
              "      <td>0.0</td>\n",
              "      <td>24</td>\n",
              "      <td>12</td>\n",
              "      <td>2018</td>\n",
              "      <td>segunda</td>\n",
              "      <td>0.0</td>\n",
              "    </tr>\n",
              "    <tr>\n",
              "      <th>2</th>\n",
              "      <td>2018-12-25</td>\n",
              "      <td>0.0</td>\n",
              "      <td>0.0</td>\n",
              "      <td>0.0</td>\n",
              "      <td>0.0</td>\n",
              "      <td>0.0</td>\n",
              "      <td>0.0</td>\n",
              "      <td>0.0</td>\n",
              "      <td>0.0</td>\n",
              "      <td>0.0</td>\n",
              "      <td>0.0</td>\n",
              "      <td>0.0</td>\n",
              "      <td>0.0</td>\n",
              "      <td>0.0</td>\n",
              "      <td>0.0</td>\n",
              "      <td>0.0</td>\n",
              "      <td>0.0</td>\n",
              "      <td>25</td>\n",
              "      <td>12</td>\n",
              "      <td>2018</td>\n",
              "      <td>terca</td>\n",
              "      <td>0.0</td>\n",
              "    </tr>\n",
              "    <tr>\n",
              "      <th>3</th>\n",
              "      <td>2018-12-26</td>\n",
              "      <td>1.0</td>\n",
              "      <td>0.0</td>\n",
              "      <td>1.0</td>\n",
              "      <td>1.0</td>\n",
              "      <td>0.0</td>\n",
              "      <td>1.0</td>\n",
              "      <td>1.0</td>\n",
              "      <td>0.0</td>\n",
              "      <td>0.0</td>\n",
              "      <td>0.0</td>\n",
              "      <td>0.0</td>\n",
              "      <td>0.0</td>\n",
              "      <td>0.0</td>\n",
              "      <td>0.0</td>\n",
              "      <td>0.0</td>\n",
              "      <td>4.0</td>\n",
              "      <td>26</td>\n",
              "      <td>12</td>\n",
              "      <td>2018</td>\n",
              "      <td>quarta</td>\n",
              "      <td>560.0</td>\n",
              "    </tr>\n",
              "    <tr>\n",
              "      <th>4</th>\n",
              "      <td>2018-12-27</td>\n",
              "      <td>0.0</td>\n",
              "      <td>0.0</td>\n",
              "      <td>1.0</td>\n",
              "      <td>0.0</td>\n",
              "      <td>0.0</td>\n",
              "      <td>0.0</td>\n",
              "      <td>0.0</td>\n",
              "      <td>0.0</td>\n",
              "      <td>1.0</td>\n",
              "      <td>0.0</td>\n",
              "      <td>0.0</td>\n",
              "      <td>0.0</td>\n",
              "      <td>0.0</td>\n",
              "      <td>0.0</td>\n",
              "      <td>0.0</td>\n",
              "      <td>2.0</td>\n",
              "      <td>27</td>\n",
              "      <td>12</td>\n",
              "      <td>2018</td>\n",
              "      <td>quinta</td>\n",
              "      <td>90.0</td>\n",
              "    </tr>\n",
              "  </tbody>\n",
              "</table>\n",
              "</div>"
            ],
            "text/plain": [
              "  data_atendimento  design_de_sobrancelhas  ...  dia_da_semana  faturamento\n",
              "0       2018-12-22                     0.0  ...         sabado        270.0\n",
              "1       2018-12-24                     0.0  ...        segunda          0.0\n",
              "2       2018-12-25                     0.0  ...          terca          0.0\n",
              "3       2018-12-26                     1.0  ...         quarta        560.0\n",
              "4       2018-12-27                     0.0  ...         quinta         90.0\n",
              "\n",
              "[5 rows x 22 columns]"
            ]
          },
          "metadata": {
            "tags": []
          },
          "execution_count": 16
        }
      ]
    },
    {
      "cell_type": "code",
      "metadata": {
        "colab": {
          "base_uri": "https://localhost:8080/",
          "height": 224
        },
        "id": "VvfQyWWhvgw9",
        "outputId": "67e3539d-6ffd-41c8-f59f-faf7429a84a7"
      },
      "source": [
        "dados = dados.set_index('dia_da_semana')\r\n",
        "dados = dados.drop('domingo')\r\n",
        "dados = dados.reset_index()\r\n",
        "dados.head()"
      ],
      "execution_count": 17,
      "outputs": [
        {
          "output_type": "execute_result",
          "data": {
            "text/html": [
              "<div>\n",
              "<style scoped>\n",
              "    .dataframe tbody tr th:only-of-type {\n",
              "        vertical-align: middle;\n",
              "    }\n",
              "\n",
              "    .dataframe tbody tr th {\n",
              "        vertical-align: top;\n",
              "    }\n",
              "\n",
              "    .dataframe thead th {\n",
              "        text-align: right;\n",
              "    }\n",
              "</style>\n",
              "<table border=\"1\" class=\"dataframe\">\n",
              "  <thead>\n",
              "    <tr style=\"text-align: right;\">\n",
              "      <th></th>\n",
              "      <th>dia_da_semana</th>\n",
              "      <th>data_atendimento</th>\n",
              "      <th>design_de_sobrancelhas</th>\n",
              "      <th>design_coloracao</th>\n",
              "      <th>design_coloracao_buco</th>\n",
              "      <th>buco</th>\n",
              "      <th>brown_lamination</th>\n",
              "      <th>micropigmentacao</th>\n",
              "      <th>extensao_de_cilios</th>\n",
              "      <th>lash_lifting</th>\n",
              "      <th>limpeza_de_pele</th>\n",
              "      <th>microagulhamento</th>\n",
              "      <th>peeling_quimico</th>\n",
              "      <th>massagem_relaxante</th>\n",
              "      <th>pacote_massagem_5</th>\n",
              "      <th>drenagem_linfatica</th>\n",
              "      <th>striort</th>\n",
              "      <th>qtde_clientes</th>\n",
              "      <th>dia</th>\n",
              "      <th>mes</th>\n",
              "      <th>ano</th>\n",
              "      <th>faturamento</th>\n",
              "    </tr>\n",
              "  </thead>\n",
              "  <tbody>\n",
              "    <tr>\n",
              "      <th>0</th>\n",
              "      <td>sabado</td>\n",
              "      <td>2018-12-22</td>\n",
              "      <td>0.0</td>\n",
              "      <td>0.0</td>\n",
              "      <td>7.0</td>\n",
              "      <td>0.0</td>\n",
              "      <td>0.0</td>\n",
              "      <td>0.0</td>\n",
              "      <td>0.0</td>\n",
              "      <td>0.0</td>\n",
              "      <td>1.0</td>\n",
              "      <td>0.0</td>\n",
              "      <td>0.0</td>\n",
              "      <td>0.0</td>\n",
              "      <td>0.0</td>\n",
              "      <td>0.0</td>\n",
              "      <td>0.0</td>\n",
              "      <td>7.0</td>\n",
              "      <td>23</td>\n",
              "      <td>12</td>\n",
              "      <td>2018</td>\n",
              "      <td>270.0</td>\n",
              "    </tr>\n",
              "    <tr>\n",
              "      <th>1</th>\n",
              "      <td>segunda</td>\n",
              "      <td>2018-12-24</td>\n",
              "      <td>0.0</td>\n",
              "      <td>0.0</td>\n",
              "      <td>0.0</td>\n",
              "      <td>0.0</td>\n",
              "      <td>0.0</td>\n",
              "      <td>0.0</td>\n",
              "      <td>0.0</td>\n",
              "      <td>0.0</td>\n",
              "      <td>0.0</td>\n",
              "      <td>0.0</td>\n",
              "      <td>0.0</td>\n",
              "      <td>0.0</td>\n",
              "      <td>0.0</td>\n",
              "      <td>0.0</td>\n",
              "      <td>0.0</td>\n",
              "      <td>0.0</td>\n",
              "      <td>24</td>\n",
              "      <td>12</td>\n",
              "      <td>2018</td>\n",
              "      <td>0.0</td>\n",
              "    </tr>\n",
              "    <tr>\n",
              "      <th>2</th>\n",
              "      <td>terca</td>\n",
              "      <td>2018-12-25</td>\n",
              "      <td>0.0</td>\n",
              "      <td>0.0</td>\n",
              "      <td>0.0</td>\n",
              "      <td>0.0</td>\n",
              "      <td>0.0</td>\n",
              "      <td>0.0</td>\n",
              "      <td>0.0</td>\n",
              "      <td>0.0</td>\n",
              "      <td>0.0</td>\n",
              "      <td>0.0</td>\n",
              "      <td>0.0</td>\n",
              "      <td>0.0</td>\n",
              "      <td>0.0</td>\n",
              "      <td>0.0</td>\n",
              "      <td>0.0</td>\n",
              "      <td>0.0</td>\n",
              "      <td>25</td>\n",
              "      <td>12</td>\n",
              "      <td>2018</td>\n",
              "      <td>0.0</td>\n",
              "    </tr>\n",
              "    <tr>\n",
              "      <th>3</th>\n",
              "      <td>quarta</td>\n",
              "      <td>2018-12-26</td>\n",
              "      <td>1.0</td>\n",
              "      <td>0.0</td>\n",
              "      <td>1.0</td>\n",
              "      <td>1.0</td>\n",
              "      <td>0.0</td>\n",
              "      <td>1.0</td>\n",
              "      <td>1.0</td>\n",
              "      <td>0.0</td>\n",
              "      <td>0.0</td>\n",
              "      <td>0.0</td>\n",
              "      <td>0.0</td>\n",
              "      <td>0.0</td>\n",
              "      <td>0.0</td>\n",
              "      <td>0.0</td>\n",
              "      <td>0.0</td>\n",
              "      <td>4.0</td>\n",
              "      <td>26</td>\n",
              "      <td>12</td>\n",
              "      <td>2018</td>\n",
              "      <td>560.0</td>\n",
              "    </tr>\n",
              "    <tr>\n",
              "      <th>4</th>\n",
              "      <td>quinta</td>\n",
              "      <td>2018-12-27</td>\n",
              "      <td>0.0</td>\n",
              "      <td>0.0</td>\n",
              "      <td>1.0</td>\n",
              "      <td>0.0</td>\n",
              "      <td>0.0</td>\n",
              "      <td>0.0</td>\n",
              "      <td>0.0</td>\n",
              "      <td>0.0</td>\n",
              "      <td>1.0</td>\n",
              "      <td>0.0</td>\n",
              "      <td>0.0</td>\n",
              "      <td>0.0</td>\n",
              "      <td>0.0</td>\n",
              "      <td>0.0</td>\n",
              "      <td>0.0</td>\n",
              "      <td>2.0</td>\n",
              "      <td>27</td>\n",
              "      <td>12</td>\n",
              "      <td>2018</td>\n",
              "      <td>90.0</td>\n",
              "    </tr>\n",
              "  </tbody>\n",
              "</table>\n",
              "</div>"
            ],
            "text/plain": [
              "  dia_da_semana data_atendimento  ...   ano  faturamento\n",
              "0        sabado       2018-12-22  ...  2018        270.0\n",
              "1       segunda       2018-12-24  ...  2018          0.0\n",
              "2         terca       2018-12-25  ...  2018          0.0\n",
              "3        quarta       2018-12-26  ...  2018        560.0\n",
              "4        quinta       2018-12-27  ...  2018         90.0\n",
              "\n",
              "[5 rows x 22 columns]"
            ]
          },
          "metadata": {
            "tags": []
          },
          "execution_count": 17
        }
      ]
    },
    {
      "cell_type": "code",
      "metadata": {
        "colab": {
          "base_uri": "https://localhost:8080/"
        },
        "id": "5S9exvLbpV7l",
        "outputId": "75b13c2c-8b78-44ce-d65e-eb4c6bc0c89b"
      },
      "source": [
        "dados.shape"
      ],
      "execution_count": 18,
      "outputs": [
        {
          "output_type": "execute_result",
          "data": {
            "text/plain": [
              "(547, 22)"
            ]
          },
          "metadata": {
            "tags": []
          },
          "execution_count": 18
        }
      ]
    },
    {
      "cell_type": "code",
      "metadata": {
        "colab": {
          "base_uri": "https://localhost:8080/"
        },
        "id": "HUcDruJopV7p",
        "outputId": "b664d34d-bcfb-4065-da39-457d8ec24e99"
      },
      "source": [
        "dados.info()"
      ],
      "execution_count": 19,
      "outputs": [
        {
          "output_type": "stream",
          "text": [
            "<class 'pandas.core.frame.DataFrame'>\n",
            "RangeIndex: 547 entries, 0 to 546\n",
            "Data columns (total 22 columns):\n",
            " #   Column                  Non-Null Count  Dtype  \n",
            "---  ------                  --------------  -----  \n",
            " 0   dia_da_semana           547 non-null    object \n",
            " 1   data_atendimento        547 non-null    object \n",
            " 2   design_de_sobrancelhas  547 non-null    float64\n",
            " 3   design_coloracao        547 non-null    float64\n",
            " 4   design_coloracao_buco   547 non-null    float64\n",
            " 5   buco                    547 non-null    float64\n",
            " 6   brown_lamination        547 non-null    float64\n",
            " 7   micropigmentacao        547 non-null    float64\n",
            " 8   extensao_de_cilios      547 non-null    float64\n",
            " 9   lash_lifting            547 non-null    float64\n",
            " 10  limpeza_de_pele         547 non-null    float64\n",
            " 11  microagulhamento        547 non-null    float64\n",
            " 12  peeling_quimico         547 non-null    float64\n",
            " 13  massagem_relaxante      547 non-null    float64\n",
            " 14  pacote_massagem_5       547 non-null    float64\n",
            " 15  drenagem_linfatica      547 non-null    float64\n",
            " 16  striort                 547 non-null    float64\n",
            " 17  qtde_clientes           547 non-null    float64\n",
            " 18  dia                     547 non-null    int32  \n",
            " 19  mes                     547 non-null    int32  \n",
            " 20  ano                     547 non-null    int32  \n",
            " 21  faturamento             547 non-null    float64\n",
            "dtypes: float64(17), int32(3), object(2)\n",
            "memory usage: 87.7+ KB\n"
          ],
          "name": "stdout"
        }
      ]
    },
    {
      "cell_type": "code",
      "metadata": {
        "colab": {
          "base_uri": "https://localhost:8080/",
          "height": 1000
        },
        "id": "Vgz_519D1Tgj",
        "outputId": "d876e390-47c8-4856-ed00-2e765f1e3b45"
      },
      "source": [
        "dados.hist(bins=50, figsize=(20,12))"
      ],
      "execution_count": 22,
      "outputs": [
        {
          "output_type": "execute_result",
          "data": {
            "text/plain": [
              "array([[<matplotlib.axes._subplots.AxesSubplot object at 0x7f5e234adb50>,\n",
              "        <matplotlib.axes._subplots.AxesSubplot object at 0x7f5e23389190>,\n",
              "        <matplotlib.axes._subplots.AxesSubplot object at 0x7f5e23347950>,\n",
              "        <matplotlib.axes._subplots.AxesSubplot object at 0x7f5e23371ed0>],\n",
              "       [<matplotlib.axes._subplots.AxesSubplot object at 0x7f5e23325490>,\n",
              "        <matplotlib.axes._subplots.AxesSubplot object at 0x7f5e232cea10>,\n",
              "        <matplotlib.axes._subplots.AxesSubplot object at 0x7f5e23282f50>,\n",
              "        <matplotlib.axes._subplots.AxesSubplot object at 0x7f5e23244510>],\n",
              "       [<matplotlib.axes._subplots.AxesSubplot object at 0x7f5e23244550>,\n",
              "        <matplotlib.axes._subplots.AxesSubplot object at 0x7f5e2327abd0>,\n",
              "        <matplotlib.axes._subplots.AxesSubplot object at 0x7f5e231f2610>,\n",
              "        <matplotlib.axes._subplots.AxesSubplot object at 0x7f5e231a7b90>],\n",
              "       [<matplotlib.axes._subplots.AxesSubplot object at 0x7f5e23169150>,\n",
              "        <matplotlib.axes._subplots.AxesSubplot object at 0x7f5e2311e6d0>,\n",
              "        <matplotlib.axes._subplots.AxesSubplot object at 0x7f5e230d3c50>,\n",
              "        <matplotlib.axes._subplots.AxesSubplot object at 0x7f5e23096210>],\n",
              "       [<matplotlib.axes._subplots.AxesSubplot object at 0x7f5e2304a790>,\n",
              "        <matplotlib.axes._subplots.AxesSubplot object at 0x7f5e23000d10>,\n",
              "        <matplotlib.axes._subplots.AxesSubplot object at 0x7f5e22fc32d0>,\n",
              "        <matplotlib.axes._subplots.AxesSubplot object at 0x7f5e22ffa850>]],\n",
              "      dtype=object)"
            ]
          },
          "metadata": {
            "tags": []
          },
          "execution_count": 22
        },
        {
          "output_type": "display_data",
          "data": {
            "image/png": "[encoded data removed]",
            "text/plain": [
              "<Figure size 1440x864 with 20 Axes>"
            ]
          },
          "metadata": {
            "tags": [],
            "needs_background": "light"
          }
        }
      ]
    },
    {
      "cell_type": "code",
      "metadata": {
        "colab": {
          "base_uri": "https://localhost:8080/"
        },
        "id": "dAAPFmY01yFk",
        "outputId": "95575dac-4123-4bdb-be28-cd9402e93668"
      },
      "source": [
        "dados.columns"
      ],
      "execution_count": 21,
      "outputs": [
        {
          "output_type": "execute_result",
          "data": {
            "text/plain": [
              "Index(['dia_da_semana', 'data_atendimento', 'design_de_sobrancelhas',\n",
              "       'design_coloracao', 'design_coloracao_buco', 'buco', 'brown_lamination',\n",
              "       'micropigmentacao', 'extensao_de_cilios', 'lash_lifting',\n",
              "       'limpeza_de_pele', 'microagulhamento', 'peeling_quimico',\n",
              "       'massagem_relaxante', 'pacote_massagem_5', 'drenagem_linfatica',\n",
              "       'striort', 'qtde_clientes', 'dia', 'mes', 'ano', 'faturamento'],\n",
              "      dtype='object')"
            ]
          },
          "metadata": {
            "tags": []
          },
          "execution_count": 21
        }
      ]
    },
    {
      "cell_type": "code",
      "metadata": {
        "id": "ysn1bcVU156p"
      },
      "source": [
        "cols = ['design_de_sobrancelhas',\r\n",
        "       'design_coloracao', 'design_coloracao_buco', 'buco', 'brown_lamination',\r\n",
        "       'micropigmentacao', 'extensao_de_cilios', 'lash_lifting',\r\n",
        "       'limpeza_de_pele', 'microagulhamento', 'peeling_quimico',\r\n",
        "       'massagem_relaxante', 'pacote_massagem_5', 'drenagem_linfatica',\r\n",
        "       'striort', 'qtde_clientes','faturamento']"
      ],
      "execution_count": 23,
      "outputs": []
    },
    {
      "cell_type": "code",
      "metadata": {
        "id": "Zb8RiBFt1Tlz"
      },
      "source": [
        "dados[cols] = dados[cols].apply(np.log1p)"
      ],
      "execution_count": 24,
      "outputs": []
    },
    {
      "cell_type": "code",
      "metadata": {
        "colab": {
          "base_uri": "https://localhost:8080/",
          "height": 1000
        },
        "id": "m3FwnTUO1Trq",
        "outputId": "7433975c-1b66-469f-8a36-aed6ea0ad697"
      },
      "source": [
        "dados.hist(bins=50, figsize=(25,15))"
      ],
      "execution_count": 28,
      "outputs": [
        {
          "output_type": "execute_result",
          "data": {
            "text/plain": [
              "array([[<matplotlib.axes._subplots.AxesSubplot object at 0x7f5e220e9f10>,\n",
              "        <matplotlib.axes._subplots.AxesSubplot object at 0x7f5e221f0d90>,\n",
              "        <matplotlib.axes._subplots.AxesSubplot object at 0x7f5e220801d0>,\n",
              "        <matplotlib.axes._subplots.AxesSubplot object at 0x7f5e22094750>],\n",
              "       [<matplotlib.axes._subplots.AxesSubplot object at 0x7f5e220a8cd0>,\n",
              "        <matplotlib.axes._subplots.AxesSubplot object at 0x7f5e2203f290>,\n",
              "        <matplotlib.axes._subplots.AxesSubplot object at 0x7f5e22061890>,\n",
              "        <matplotlib.axes._subplots.AxesSubplot object at 0x7f5e22017d50>],\n",
              "       [<matplotlib.axes._subplots.AxesSubplot object at 0x7f5e22017d90>,\n",
              "        <matplotlib.axes._subplots.AxesSubplot object at 0x7f5e21fd8450>,\n",
              "        <matplotlib.axes._subplots.AxesSubplot object at 0x7f5e21f46e50>,\n",
              "        <matplotlib.axes._subplots.AxesSubplot object at 0x7f5e21f07410>],\n",
              "       [<matplotlib.axes._subplots.AxesSubplot object at 0x7f5e21ebb990>,\n",
              "        <matplotlib.axes._subplots.AxesSubplot object at 0x7f5e21ef2f10>,\n",
              "        <matplotlib.axes._subplots.AxesSubplot object at 0x7f5e21eb44d0>,\n",
              "        <matplotlib.axes._subplots.AxesSubplot object at 0x7f5e21e69a50>],\n",
              "       [<matplotlib.axes._subplots.AxesSubplot object at 0x7f5e21e14b10>,\n",
              "        <matplotlib.axes._subplots.AxesSubplot object at 0x7f5e21de0590>,\n",
              "        <matplotlib.axes._subplots.AxesSubplot object at 0x7f5e21d97b10>,\n",
              "        <matplotlib.axes._subplots.AxesSubplot object at 0x7f5e21d590d0>]],\n",
              "      dtype=object)"
            ]
          },
          "metadata": {
            "tags": []
          },
          "execution_count": 28
        },
        {
          "output_type": "display_data",
          "data": {
            "image/png": "[encoded data removed]",
            "text/plain": [
              "<Figure size 1800x1080 with 20 Axes>"
            ]
          },
          "metadata": {
            "tags": [],
            "needs_background": "light"
          }
        }
      ]
    },
    {
      "cell_type": "code",
      "metadata": {
        "colab": {
          "base_uri": "https://localhost:8080/",
          "height": 224
        },
        "id": "TH-4ir8E2v2g",
        "outputId": "1c0a1679-6e2c-43d6-fd3e-537ae42afb0d"
      },
      "source": [
        "dados.head()"
      ],
      "execution_count": 29,
      "outputs": [
        {
          "output_type": "execute_result",
          "data": {
            "text/html": [
              "<div>\n",
              "<style scoped>\n",
              "    .dataframe tbody tr th:only-of-type {\n",
              "        vertical-align: middle;\n",
              "    }\n",
              "\n",
              "    .dataframe tbody tr th {\n",
              "        vertical-align: top;\n",
              "    }\n",
              "\n",
              "    .dataframe thead th {\n",
              "        text-align: right;\n",
              "    }\n",
              "</style>\n",
              "<table border=\"1\" class=\"dataframe\">\n",
              "  <thead>\n",
              "    <tr style=\"text-align: right;\">\n",
              "      <th></th>\n",
              "      <th>dia_da_semana</th>\n",
              "      <th>data_atendimento</th>\n",
              "      <th>design_de_sobrancelhas</th>\n",
              "      <th>design_coloracao</th>\n",
              "      <th>design_coloracao_buco</th>\n",
              "      <th>buco</th>\n",
              "      <th>brown_lamination</th>\n",
              "      <th>micropigmentacao</th>\n",
              "      <th>extensao_de_cilios</th>\n",
              "      <th>lash_lifting</th>\n",
              "      <th>limpeza_de_pele</th>\n",
              "      <th>microagulhamento</th>\n",
              "      <th>peeling_quimico</th>\n",
              "      <th>massagem_relaxante</th>\n",
              "      <th>pacote_massagem_5</th>\n",
              "      <th>drenagem_linfatica</th>\n",
              "      <th>striort</th>\n",
              "      <th>qtde_clientes</th>\n",
              "      <th>dia</th>\n",
              "      <th>mes</th>\n",
              "      <th>ano</th>\n",
              "      <th>faturamento</th>\n",
              "    </tr>\n",
              "  </thead>\n",
              "  <tbody>\n",
              "    <tr>\n",
              "      <th>0</th>\n",
              "      <td>sabado</td>\n",
              "      <td>2018-12-22</td>\n",
              "      <td>0.000000</td>\n",
              "      <td>0.0</td>\n",
              "      <td>2.079442</td>\n",
              "      <td>0.000000</td>\n",
              "      <td>0.0</td>\n",
              "      <td>0.000000</td>\n",
              "      <td>0.000000</td>\n",
              "      <td>0.0</td>\n",
              "      <td>0.693147</td>\n",
              "      <td>0.0</td>\n",
              "      <td>0.0</td>\n",
              "      <td>0.0</td>\n",
              "      <td>0.0</td>\n",
              "      <td>0.0</td>\n",
              "      <td>0.0</td>\n",
              "      <td>2.079442</td>\n",
              "      <td>23</td>\n",
              "      <td>12</td>\n",
              "      <td>2018</td>\n",
              "      <td>5.602119</td>\n",
              "    </tr>\n",
              "    <tr>\n",
              "      <th>1</th>\n",
              "      <td>segunda</td>\n",
              "      <td>2018-12-24</td>\n",
              "      <td>0.000000</td>\n",
              "      <td>0.0</td>\n",
              "      <td>0.000000</td>\n",
              "      <td>0.000000</td>\n",
              "      <td>0.0</td>\n",
              "      <td>0.000000</td>\n",
              "      <td>0.000000</td>\n",
              "      <td>0.0</td>\n",
              "      <td>0.000000</td>\n",
              "      <td>0.0</td>\n",
              "      <td>0.0</td>\n",
              "      <td>0.0</td>\n",
              "      <td>0.0</td>\n",
              "      <td>0.0</td>\n",
              "      <td>0.0</td>\n",
              "      <td>0.000000</td>\n",
              "      <td>24</td>\n",
              "      <td>12</td>\n",
              "      <td>2018</td>\n",
              "      <td>0.000000</td>\n",
              "    </tr>\n",
              "    <tr>\n",
              "      <th>2</th>\n",
              "      <td>terca</td>\n",
              "      <td>2018-12-25</td>\n",
              "      <td>0.000000</td>\n",
              "      <td>0.0</td>\n",
              "      <td>0.000000</td>\n",
              "      <td>0.000000</td>\n",
              "      <td>0.0</td>\n",
              "      <td>0.000000</td>\n",
              "      <td>0.000000</td>\n",
              "      <td>0.0</td>\n",
              "      <td>0.000000</td>\n",
              "      <td>0.0</td>\n",
              "      <td>0.0</td>\n",
              "      <td>0.0</td>\n",
              "      <td>0.0</td>\n",
              "      <td>0.0</td>\n",
              "      <td>0.0</td>\n",
              "      <td>0.000000</td>\n",
              "      <td>25</td>\n",
              "      <td>12</td>\n",
              "      <td>2018</td>\n",
              "      <td>0.000000</td>\n",
              "    </tr>\n",
              "    <tr>\n",
              "      <th>3</th>\n",
              "      <td>quarta</td>\n",
              "      <td>2018-12-26</td>\n",
              "      <td>0.693147</td>\n",
              "      <td>0.0</td>\n",
              "      <td>0.693147</td>\n",
              "      <td>0.693147</td>\n",
              "      <td>0.0</td>\n",
              "      <td>0.693147</td>\n",
              "      <td>0.693147</td>\n",
              "      <td>0.0</td>\n",
              "      <td>0.000000</td>\n",
              "      <td>0.0</td>\n",
              "      <td>0.0</td>\n",
              "      <td>0.0</td>\n",
              "      <td>0.0</td>\n",
              "      <td>0.0</td>\n",
              "      <td>0.0</td>\n",
              "      <td>1.609438</td>\n",
              "      <td>26</td>\n",
              "      <td>12</td>\n",
              "      <td>2018</td>\n",
              "      <td>6.329721</td>\n",
              "    </tr>\n",
              "    <tr>\n",
              "      <th>4</th>\n",
              "      <td>quinta</td>\n",
              "      <td>2018-12-27</td>\n",
              "      <td>0.000000</td>\n",
              "      <td>0.0</td>\n",
              "      <td>0.693147</td>\n",
              "      <td>0.000000</td>\n",
              "      <td>0.0</td>\n",
              "      <td>0.000000</td>\n",
              "      <td>0.000000</td>\n",
              "      <td>0.0</td>\n",
              "      <td>0.693147</td>\n",
              "      <td>0.0</td>\n",
              "      <td>0.0</td>\n",
              "      <td>0.0</td>\n",
              "      <td>0.0</td>\n",
              "      <td>0.0</td>\n",
              "      <td>0.0</td>\n",
              "      <td>1.098612</td>\n",
              "      <td>27</td>\n",
              "      <td>12</td>\n",
              "      <td>2018</td>\n",
              "      <td>4.510860</td>\n",
              "    </tr>\n",
              "  </tbody>\n",
              "</table>\n",
              "</div>"
            ],
            "text/plain": [
              "  dia_da_semana data_atendimento  ...   ano  faturamento\n",
              "0        sabado       2018-12-22  ...  2018     5.602119\n",
              "1       segunda       2018-12-24  ...  2018     0.000000\n",
              "2         terca       2018-12-25  ...  2018     0.000000\n",
              "3        quarta       2018-12-26  ...  2018     6.329721\n",
              "4        quinta       2018-12-27  ...  2018     4.510860\n",
              "\n",
              "[5 rows x 22 columns]"
            ]
          },
          "metadata": {
            "tags": []
          },
          "execution_count": 29
        }
      ]
    },
    {
      "cell_type": "markdown",
      "metadata": {
        "id": "qP_GSxosj72-"
      },
      "source": [
        " ## 4. Machine learning"
      ]
    },
    {
      "cell_type": "markdown",
      "metadata": {
        "id": "f9pgLW6Lj72-"
      },
      "source": [
        " - Transformando variáveis categóricas em variáveis numéricas."
      ]
    },
    {
      "cell_type": "code",
      "metadata": {
        "colab": {
          "base_uri": "https://localhost:8080/"
        },
        "id": "WSQfGMv6j72_",
        "outputId": "737ffeac-7c4d-46a6-ea64-9ec04269346c"
      },
      "source": [
        "dados.columns"
      ],
      "execution_count": 30,
      "outputs": [
        {
          "output_type": "execute_result",
          "data": {
            "text/plain": [
              "Index(['dia_da_semana', 'data_atendimento', 'design_de_sobrancelhas',\n",
              "       'design_coloracao', 'design_coloracao_buco', 'buco', 'brown_lamination',\n",
              "       'micropigmentacao', 'extensao_de_cilios', 'lash_lifting',\n",
              "       'limpeza_de_pele', 'microagulhamento', 'peeling_quimico',\n",
              "       'massagem_relaxante', 'pacote_massagem_5', 'drenagem_linfatica',\n",
              "       'striort', 'qtde_clientes', 'dia', 'mes', 'ano', 'faturamento'],\n",
              "      dtype='object')"
            ]
          },
          "metadata": {
            "tags": []
          },
          "execution_count": 30
        }
      ]
    },
    {
      "cell_type": "code",
      "metadata": {
        "id": "fgKoTjKXj73A"
      },
      "source": [
        "from sklearn.preprocessing import LabelEncoder"
      ],
      "execution_count": 31,
      "outputs": []
    },
    {
      "cell_type": "code",
      "metadata": {
        "id": "ahauc957j73A"
      },
      "source": [
        "enconder = LabelEncoder()"
      ],
      "execution_count": 32,
      "outputs": []
    },
    {
      "cell_type": "code",
      "metadata": {
        "id": "-9ykU5ERj73B"
      },
      "source": [
        "dados['dia_da_semana'] = enconder.fit_transform(dados['dia_da_semana'])\n",
        "dados['data_atendimento'] = enconder.fit_transform(dados['data_atendimento'])"
      ],
      "execution_count": 33,
      "outputs": []
    },
    {
      "cell_type": "markdown",
      "metadata": {
        "id": "kxFOFunpj73B"
      },
      "source": [
        " - Selecionando apenas as colunas utilizadas na modelagem."
      ]
    },
    {
      "cell_type": "code",
      "metadata": {
        "id": "8PT5porjj73C"
      },
      "source": [
        "dados = dados[['qtde_clientes','mes','dia_da_semana','faturamento']]"
      ],
      "execution_count": 34,
      "outputs": []
    },
    {
      "cell_type": "code",
      "metadata": {
        "colab": {
          "base_uri": "https://localhost:8080/",
          "height": 609
        },
        "id": "uVzJijYkj73C",
        "outputId": "29922c27-25d3-4cbc-b3ae-4fb42579a5d7"
      },
      "source": [
        "plt.figure(figsize=(14,10))\n",
        "\n",
        "corr = dados.corr().abs()\n",
        "mask = np.triu(np.ones_like(corr, dtype=np.bool))\n",
        "\n",
        "sns.heatmap(corr, mask=mask, annot=True, center=0, cmap=\"YlGnBu\")"
      ],
      "execution_count": 35,
      "outputs": [
        {
          "output_type": "execute_result",
          "data": {
            "text/plain": [
              "<matplotlib.axes._subplots.AxesSubplot at 0x7f5e1dea9110>"
            ]
          },
          "metadata": {
            "tags": []
          },
          "execution_count": 35
        },
        {
          "output_type": "display_data",
          "data": {
            "image/png": "[encoded data removed]",
            "text/plain": [
              "<Figure size 1008x720 with 2 Axes>"
            ]
          },
          "metadata": {
            "tags": [],
            "needs_background": "light"
          }
        }
      ]
    },
    {
      "cell_type": "markdown",
      "metadata": {
        "id": "eCnfuFp5j73D"
      },
      "source": [
        " - Separando as amostras de treino e teste."
      ]
    },
    {
      "cell_type": "code",
      "metadata": {
        "id": "qrs3qOjWj73D"
      },
      "source": [
        "X = dados[['qtde_clientes','mes','dia_da_semana']]\n",
        "Y = dados['faturamento']"
      ],
      "execution_count": 36,
      "outputs": []
    },
    {
      "cell_type": "code",
      "metadata": {
        "id": "lkXSYNbpj73E"
      },
      "source": [
        "from sklearn.model_selection import train_test_split"
      ],
      "execution_count": 37,
      "outputs": []
    },
    {
      "cell_type": "code",
      "metadata": {
        "id": "_H0dsn3jj73E"
      },
      "source": [
        "X_treino,X_teste,Y_treino,Y_teste = train_test_split(X,Y,test_size=0.25,random_state=0)"
      ],
      "execution_count": 38,
      "outputs": []
    },
    {
      "cell_type": "markdown",
      "metadata": {
        "id": "pjiBzKngj73E"
      },
      "source": [
        " - Modelo \"Baseline\" (Ponto de partida)"
      ]
    },
    {
      "cell_type": "code",
      "metadata": {
        "id": "gmMimwFIj73F"
      },
      "source": [
        "from sklearn.linear_model import LinearRegression"
      ],
      "execution_count": 39,
      "outputs": []
    },
    {
      "cell_type": "code",
      "metadata": {
        "colab": {
          "base_uri": "https://localhost:8080/"
        },
        "id": "MC0kLmWAj73G",
        "outputId": "e3acf6b1-d7fc-4161-9623-68aa2130b47c"
      },
      "source": [
        "lr = LinearRegression()\n",
        "lr.fit(X_treino, Y_treino)\n",
        "lr.score(X_teste, Y_teste)"
      ],
      "execution_count": 40,
      "outputs": [
        {
          "output_type": "execute_result",
          "data": {
            "text/plain": [
              "0.8146486423064878"
            ]
          },
          "metadata": {
            "tags": []
          },
          "execution_count": 40
        }
      ]
    },
    {
      "cell_type": "code",
      "metadata": {
        "id": "TnGfLGIR1J9M"
      },
      "source": [
        "y_pred = lr.predict(X_teste)"
      ],
      "execution_count": 41,
      "outputs": []
    },
    {
      "cell_type": "code",
      "metadata": {
        "id": "nfJkTPSS3ACH"
      },
      "source": [
        "from sklearn.metrics import mean_absolute_error,mean_squared_error, r2_score"
      ],
      "execution_count": 43,
      "outputs": []
    },
    {
      "cell_type": "code",
      "metadata": {
        "colab": {
          "base_uri": "https://localhost:8080/"
        },
        "id": "PnJrevmC1KF0",
        "outputId": "aee58071-57b8-4603-bbfe-bfe5250e1851"
      },
      "source": [
        "MAE  = mean_absolute_error(Y_teste,y_pred)\r\n",
        "MSE  = mean_squared_error(Y_teste,y_pred)\r\n",
        "RMSE = np.sqrt(mean_squared_error(Y_teste,y_pred))\r\n",
        "R2 = r2_score(Y_teste, y_pred)\r\n",
        "\r\n",
        "print('MAE = {:0.4f}'.format(MAE))\r\n",
        "print('MSE = {:0.4f}'.format(MSE))\r\n",
        "print('RMSE = {:0.4f}'.format(RMSE))\r\n",
        "print('R2 = {:0.4f}'.format(R2))"
      ],
      "execution_count": 44,
      "outputs": [
        {
          "output_type": "stream",
          "text": [
            "MAE = 0.8855\n",
            "MSE = 1.1083\n",
            "RMSE = 1.0528\n",
            "R2 = 0.8146\n"
          ],
          "name": "stdout"
        }
      ]
    },
    {
      "cell_type": "markdown",
      "metadata": {
        "id": "XFDgAGiuj73G"
      },
      "source": [
        " - Exemplo de normalização dos dados (outliers)"
      ]
    },
    {
      "cell_type": "code",
      "metadata": {
        "id": "LePX2UWhj73H"
      },
      "source": [
        "# train['design_coloracao_buco']=train['design_coloracao_buco'].apply(np.log1p)\n",
        "# train['faturamento']=train['faturamento'].apply(np.log1p)"
      ],
      "execution_count": 45,
      "outputs": []
    },
    {
      "cell_type": "code",
      "metadata": {
        "id": "61wuFgiAj73H"
      },
      "source": [
        "# test['design_coloracao_buco']=test['design_coloracao_buco'].apply(np.log1p)\n",
        "# test['faturamento']=test['faturamento'].apply(np.log1p)"
      ],
      "execution_count": 46,
      "outputs": []
    },
    {
      "cell_type": "markdown",
      "metadata": {
        "id": "Hxh6YdL4j73I"
      },
      "source": [
        " - Machine learning"
      ]
    },
    {
      "cell_type": "code",
      "metadata": {
        "colab": {
          "base_uri": "https://localhost:8080/"
        },
        "id": "dMiPo22hj73I",
        "outputId": "e2e44f56-7be0-46c7-82c4-e7842e44118a"
      },
      "source": [
        "from sklearn.neighbors import KNeighborsRegressor\n",
        "neigh = KNeighborsRegressor(n_neighbors=5)\n",
        "neigh.fit(X_treino,Y_treino)"
      ],
      "execution_count": 47,
      "outputs": [
        {
          "output_type": "execute_result",
          "data": {
            "text/plain": [
              "KNeighborsRegressor(algorithm='auto', leaf_size=30, metric='minkowski',\n",
              "                    metric_params=None, n_jobs=None, n_neighbors=5, p=2,\n",
              "                    weights='uniform')"
            ]
          },
          "metadata": {
            "tags": []
          },
          "execution_count": 47
        }
      ]
    },
    {
      "cell_type": "code",
      "metadata": {
        "id": "MagjA7CKj73J"
      },
      "source": [
        "y_pred = neigh.predict(X_teste)"
      ],
      "execution_count": 48,
      "outputs": []
    },
    {
      "cell_type": "code",
      "metadata": {
        "colab": {
          "base_uri": "https://localhost:8080/"
        },
        "id": "9OTMZuvXj73J",
        "outputId": "51fc63b0-19e9-4f6d-8675-c4400b1fa9f0"
      },
      "source": [
        "# Root Mean Squared Error\n",
        "np.sqrt(np.mean((y_pred-Y_teste.values)**2))"
      ],
      "execution_count": 49,
      "outputs": [
        {
          "output_type": "execute_result",
          "data": {
            "text/plain": [
              "1.1052736480787222"
            ]
          },
          "metadata": {
            "tags": []
          },
          "execution_count": 49
        }
      ]
    },
    {
      "cell_type": "code",
      "metadata": {
        "colab": {
          "base_uri": "https://localhost:8080/"
        },
        "id": "5ZPIpn5yj73J",
        "outputId": "df6d55f3-3cfc-46f9-f2dc-48b030578372"
      },
      "source": [
        "# Mean Squared Error\n",
        "np.mean((y_pred-Y_teste.values)**2)"
      ],
      "execution_count": 50,
      "outputs": [
        {
          "output_type": "execute_result",
          "data": {
            "text/plain": [
              "1.2216298371372472"
            ]
          },
          "metadata": {
            "tags": []
          },
          "execution_count": 50
        }
      ]
    },
    {
      "cell_type": "code",
      "metadata": {
        "colab": {
          "base_uri": "https://localhost:8080/"
        },
        "id": "-uX7OgMvj73K",
        "outputId": "4d9e25b6-351f-439c-df7c-21fc826cb035"
      },
      "source": [
        "# Mean Absolute Error\n",
        "np.mean(np.abs(y_pred-Y_teste.values))"
      ],
      "execution_count": 51,
      "outputs": [
        {
          "output_type": "execute_result",
          "data": {
            "text/plain": [
              "0.7457531316562507"
            ]
          },
          "metadata": {
            "tags": []
          },
          "execution_count": 51
        }
      ]
    },
    {
      "cell_type": "code",
      "metadata": {
        "colab": {
          "base_uri": "https://localhost:8080/"
        },
        "id": "vN4zrRBPj73K",
        "outputId": "4f648ca7-0be9-4cb5-b0fa-10c4a3a7cf5e"
      },
      "source": [
        "# R2 Score\n",
        "from sklearn.metrics import r2_score\n",
        "r2_score(Y_teste, y_pred)"
      ],
      "execution_count": 52,
      "outputs": [
        {
          "output_type": "execute_result",
          "data": {
            "text/plain": [
              "0.7956966722342548"
            ]
          },
          "metadata": {
            "tags": []
          },
          "execution_count": 52
        }
      ]
    },
    {
      "cell_type": "markdown",
      "metadata": {
        "id": "ywu22-kWj73L"
      },
      "source": [
        " - Triagem com outros modelos"
      ]
    },
    {
      "cell_type": "code",
      "metadata": {
        "colab": {
          "base_uri": "https://localhost:8080/"
        },
        "id": "CztGCpz8j73L",
        "outputId": "448bc860-014c-4a58-fcf8-a2d7a17e6f04"
      },
      "source": [
        "from sklearn.tree import DecisionTreeRegressor\n",
        "from sklearn.ensemble import RandomForestRegressor\n",
        "from sklearn.neural_network import MLPRegressor\n",
        "from xgboost import XGBRegressor\n",
        "\n",
        "\n",
        "regressor_list = [\n",
        "                  DecisionTreeRegressor(),\n",
        "                  RandomForestRegressor(),\n",
        "                  MLPRegressor(),\n",
        "                  XGBRegressor(),\n",
        "           \n",
        "                  ]\n",
        "\n",
        "for reg in regressor_list:\n",
        "  print('Treinando', reg.__class__.__name__)\n",
        "  reg.fit(X_treino, Y_treino)\n",
        "  train_score = reg.score(X_treino, Y_treino)\n",
        "  test_score = reg.score(X_teste, Y_teste)\n",
        "  print('Train score', train_score)\n",
        "  print('Test score', test_score)\n",
        "  print('='*80)"
      ],
      "execution_count": 53,
      "outputs": [
        {
          "output_type": "stream",
          "text": [
            "Treinando DecisionTreeRegressor\n",
            "Train score 0.9781566564628894\n",
            "Test score 0.8977385955184732\n",
            "================================================================================\n",
            "Treinando RandomForestRegressor\n",
            "Train score 0.9748739398101884\n",
            "Test score 0.9276205139019642\n",
            "================================================================================\n",
            "Treinando MLPRegressor\n",
            "Train score 0.8656408721133632\n",
            "Test score 0.8721782395906489\n",
            "================================================================================\n",
            "Treinando XGBRegressor\n",
            "[03:37:54] WARNING: /workspace/src/objective/regression_obj.cu:152: reg:linear is now deprecated in favor of reg:squarederror.\n",
            "Train score 0.9556490692442229\n",
            "Test score 0.9503659585552738\n",
            "================================================================================\n"
          ],
          "name": "stdout"
        },
        {
          "output_type": "stream",
          "text": [
            "/usr/local/lib/python3.7/dist-packages/sklearn/neural_network/_multilayer_perceptron.py:571: ConvergenceWarning: Stochastic Optimizer: Maximum iterations (200) reached and the optimization hasn't converged yet.\n",
            "  % self.max_iter, ConvergenceWarning)\n"
          ],
          "name": "stderr"
        }
      ]
    },
    {
      "cell_type": "markdown",
      "metadata": {
        "id": "D_hIhD3Oj73M"
      },
      "source": [
        "- Repetindo com validação cruzada."
      ]
    },
    {
      "cell_type": "code",
      "metadata": {
        "colab": {
          "base_uri": "https://localhost:8080/"
        },
        "id": "54qeW69zj73M",
        "outputId": "04b2d02d-1f41-4325-bac7-1451f8607f77"
      },
      "source": [
        "# repetindo processo com validação cruzada\n",
        "import warnings\n",
        "warnings.filterwarnings(\"ignore\")\n",
        "\n",
        "from sklearn.tree import DecisionTreeRegressor\n",
        "from sklearn.ensemble import RandomForestRegressor\n",
        "from sklearn.neural_network import MLPRegressor\n",
        "from xgboost import XGBRegressor\n",
        "from sklearn.model_selection import cross_val_score\n",
        "\n",
        "\n",
        "regressor_list = [\n",
        "                  DecisionTreeRegressor(),\n",
        "                  RandomForestRegressor(),\n",
        "                  MLPRegressor(),\n",
        "                  XGBRegressor(),\n",
        "                  ]\n",
        "\n",
        "for reg in regressor_list:\n",
        "  print('Treinando', reg.__class__.__name__)\n",
        "  reg.fit(X_treino, Y_treino)\n",
        "  train_score = reg.score(X_treino, Y_treino)\n",
        "  val_score = cross_val_score(reg, X_treino, Y_treino, cv=5)\n",
        "  test_score = reg.score(X_teste, Y_teste)\n",
        "  print('Train score', train_score)\n",
        "  print('Validation score', val_score)\n",
        "  print('Test score', test_score)\n",
        "  print('='*80)"
      ],
      "execution_count": 54,
      "outputs": [
        {
          "output_type": "stream",
          "text": [
            "Treinando DecisionTreeRegressor\n",
            "Train score 0.9781566564628894\n",
            "Validation score [0.92101824 0.9463984  0.8266171  0.94133883 0.89072199]\n",
            "Test score 0.8976903985035309\n",
            "================================================================================\n",
            "Treinando RandomForestRegressor\n",
            "Train score 0.9746927152125273\n",
            "Validation score [0.94076694 0.9518187  0.86290966 0.95054873 0.91604037]\n",
            "Test score 0.9268977620890951\n",
            "================================================================================\n",
            "Treinando MLPRegressor\n",
            "Train score 0.8568522292645268\n",
            "Validation score [0.90011121 0.83889747 0.75776808 0.82325813 0.84786176]\n",
            "Test score 0.8667267219999469\n",
            "================================================================================\n",
            "Treinando XGBRegressor\n",
            "[03:38:02] WARNING: /workspace/src/objective/regression_obj.cu:152: reg:linear is now deprecated in favor of reg:squarederror.\n",
            "[03:38:02] WARNING: /workspace/src/objective/regression_obj.cu:152: reg:linear is now deprecated in favor of reg:squarederror.\n",
            "[03:38:02] WARNING: /workspace/src/objective/regression_obj.cu:152: reg:linear is now deprecated in favor of reg:squarederror.\n",
            "[03:38:02] WARNING: /workspace/src/objective/regression_obj.cu:152: reg:linear is now deprecated in favor of reg:squarederror.\n",
            "[03:38:02] WARNING: /workspace/src/objective/regression_obj.cu:152: reg:linear is now deprecated in favor of reg:squarederror.\n",
            "[03:38:02] WARNING: /workspace/src/objective/regression_obj.cu:152: reg:linear is now deprecated in favor of reg:squarederror.\n",
            "Train score 0.9556490692442229\n",
            "Validation score [0.95411604 0.95208679 0.86832072 0.96007816 0.94759815]\n",
            "Test score 0.9503659585552738\n",
            "================================================================================\n"
          ],
          "name": "stdout"
        }
      ]
    },
    {
      "cell_type": "markdown",
      "metadata": {
        "id": "ng8ddznfj73P"
      },
      "source": [
        "## XGBRegressor "
      ]
    },
    {
      "cell_type": "markdown",
      "metadata": {
        "id": "TusvG6R5j73P"
      },
      "source": [
        " - Gridsearch"
      ]
    },
    {
      "cell_type": "code",
      "metadata": {
        "colab": {
          "base_uri": "https://localhost:8080/"
        },
        "id": "hprk_TNNj73Q",
        "outputId": "dc335b7c-52af-48cc-a51b-b6364035ddd1"
      },
      "source": [
        "#  Todo: calibração do modelo\n",
        "from sklearn.model_selection import GridSearchCV\n",
        "parameters=[{'learning_rate':[0.1,0.2,0.3,0.4,0.5],\n",
        "             'max_depth':np.arange(0,10),\n",
        "             'n_estimators':np.arange(0,100,10),\n",
        "              }]\n",
        "            \n",
        "xgb = XGBRegressor(n_estimators=100, max_depth=1)\n",
        "gs = GridSearchCV(xgb,parameters,scoring='r2',n_jobs=-1,cv=5)\n",
        "gs.fit(X_treino, Y_treino)"
      ],
      "execution_count": 52,
      "outputs": [
        {
          "output_type": "stream",
          "text": [
            "[03:11:53] WARNING: /workspace/src/objective/regression_obj.cu:152: reg:linear is now deprecated in favor of reg:squarederror.\n"
          ],
          "name": "stdout"
        },
        {
          "output_type": "execute_result",
          "data": {
            "text/plain": [
              "GridSearchCV(cv=5, error_score=nan,\n",
              "             estimator=XGBRegressor(base_score=0.5, booster='gbtree',\n",
              "                                    colsample_bylevel=1, colsample_bynode=1,\n",
              "                                    colsample_bytree=1, gamma=0,\n",
              "                                    importance_type='gain', learning_rate=0.1,\n",
              "                                    max_delta_step=0, max_depth=1,\n",
              "                                    min_child_weight=1, missing=None,\n",
              "                                    n_estimators=100, n_jobs=1, nthread=None,\n",
              "                                    objective='reg:linear', random_state=0,\n",
              "                                    reg_alpha=0, reg_lambda=1,\n",
              "                                    scale_pos_weight=1, seed=None, silent=None,\n",
              "                                    subsample=1, verbosity=1),\n",
              "             iid='deprecated', n_jobs=-1,\n",
              "             param_grid=[{'learning_rate': [0.1, 0.2, 0.3, 0.4, 0.5],\n",
              "                          'max_depth': array([0, 1, 2, 3, 4, 5, 6, 7, 8, 9]),\n",
              "                          'n_estimators': array([ 0, 10, 20, 30, 40, 50, 60, 70, 80, 90])}],\n",
              "             pre_dispatch='2*n_jobs', refit=True, return_train_score=False,\n",
              "             scoring='r2', verbose=0)"
            ]
          },
          "metadata": {
            "tags": []
          },
          "execution_count": 52
        }
      ]
    },
    {
      "cell_type": "code",
      "metadata": {
        "colab": {
          "base_uri": "https://localhost:8080/"
        },
        "id": "XsKWXuGhj73R",
        "outputId": "9c84f7d3-d760-4aa7-d722-f98ddd3a3bef"
      },
      "source": [
        "gs.best_params_"
      ],
      "execution_count": 53,
      "outputs": [
        {
          "output_type": "execute_result",
          "data": {
            "text/plain": [
              "{'learning_rate': 0.3, 'max_depth': 2, 'n_estimators': 10}"
            ]
          },
          "metadata": {
            "tags": []
          },
          "execution_count": 53
        }
      ]
    },
    {
      "cell_type": "code",
      "metadata": {
        "id": "Ow4rrC81j73S"
      },
      "source": [
        "xgb = gs.best_estimator_"
      ],
      "execution_count": 54,
      "outputs": []
    },
    {
      "cell_type": "code",
      "metadata": {
        "colab": {
          "base_uri": "https://localhost:8080/"
        },
        "id": "zqeakakIj73T",
        "outputId": "26a2d56c-8d02-4716-a944-5da966da5d66"
      },
      "source": [
        "train_score = xgb.score(X_treino, Y_treino)\n",
        "val_score = cross_val_score(xgb, X_treino, Y_treino, cv=3)\n",
        "test_score = xgb.score(X_teste, Y_teste)\n",
        "print('Train score', train_score)\n",
        "print('Validation score', val_score)\n",
        "print('Test score', test_score)"
      ],
      "execution_count": 55,
      "outputs": [
        {
          "output_type": "stream",
          "text": [
            "[03:11:53] WARNING: /workspace/src/objective/regression_obj.cu:152: reg:linear is now deprecated in favor of reg:squarederror.\n",
            "[03:11:53] WARNING: /workspace/src/objective/regression_obj.cu:152: reg:linear is now deprecated in favor of reg:squarederror.\n",
            "[03:11:53] WARNING: /workspace/src/objective/regression_obj.cu:152: reg:linear is now deprecated in favor of reg:squarederror.\n",
            "Train score 0.5506070350797525\n",
            "Validation score [0.42382775 0.48307332 0.61338092]\n",
            "Test score 0.5853632358986134\n"
          ],
          "name": "stdout"
        }
      ]
    },
    {
      "cell_type": "markdown",
      "metadata": {
        "id": "hW_rmTcrj73T"
      },
      "source": [
        " - Redefinindo y_pred e reacalculando o erro"
      ]
    },
    {
      "cell_type": "code",
      "metadata": {
        "id": "t2rei-blj73U"
      },
      "source": [
        "from sklearn.metrics import mean_absolute_error,mean_squared_error, r2_score"
      ],
      "execution_count": 56,
      "outputs": []
    },
    {
      "cell_type": "code",
      "metadata": {
        "id": "-bnig8YZj73U"
      },
      "source": [
        "y_pred = xgb.predict(X_teste)"
      ],
      "execution_count": 57,
      "outputs": []
    },
    {
      "cell_type": "code",
      "metadata": {
        "colab": {
          "base_uri": "https://localhost:8080/"
        },
        "id": "T3S0ZnRxj73b",
        "outputId": "6a74bd1b-192e-470f-f909-8cc0f517717e"
      },
      "source": [
        "MAE  = mean_absolute_error(Y_teste,y_pred)\n",
        "MSE  = mean_squared_error(Y_teste,y_pred)\n",
        "RMSE = np.sqrt(mean_squared_error(Y_teste,y_pred))\n",
        "R2 = r2_score(Y_teste, y_pred)\n",
        "\n",
        "print('MAE = {:0.4f}'.format(MAE))\n",
        "print('MSE = {:0.4f}'.format(MSE))\n",
        "print('RMSE = {:0.4f}'.format(RMSE))\n",
        "print('R2 = {:0.4f}'.format(R2))"
      ],
      "execution_count": 58,
      "outputs": [
        {
          "output_type": "stream",
          "text": [
            "MAE = 88.8586\n",
            "MSE = 15779.0464\n",
            "RMSE = 125.6147\n",
            "R2 = 0.5854\n"
          ],
          "name": "stdout"
        }
      ]
    },
    {
      "cell_type": "markdown",
      "metadata": {
        "id": "0TaABiAIj73b"
      },
      "source": [
        "## RandonForestRegressor"
      ]
    },
    {
      "cell_type": "markdown",
      "metadata": {
        "id": "-3kombWWj73c"
      },
      "source": [
        " - GridSearch"
      ]
    },
    {
      "cell_type": "code",
      "metadata": {
        "colab": {
          "base_uri": "https://localhost:8080/"
        },
        "id": "_0yhntImj73c",
        "outputId": "79901674-0e6b-482e-b08c-1ece549d3f4a"
      },
      "source": [
        "from sklearn.model_selection import GridSearchCV\n",
        "parameters=[{'criterion' : ['mae','mse'],\n",
        "             'max_depth':[1,2,3,4,5,6,7,8,9,10],\n",
        "             'n_estimators':np.arange(10,120,10),\n",
        "            }]\n",
        "            \n",
        "reg = RandomForestRegressor(n_estimators=100, max_depth=2)\n",
        "gs = GridSearchCV(reg,parameters,scoring='r2',n_jobs=-1,cv=5 , refit=True)\n",
        "gs.fit(X_treino, Y_treino)"
      ],
      "execution_count": 59,
      "outputs": [
        {
          "output_type": "execute_result",
          "data": {
            "text/plain": [
              "GridSearchCV(cv=5, error_score=nan,\n",
              "             estimator=RandomForestRegressor(bootstrap=True, ccp_alpha=0.0,\n",
              "                                             criterion='mse', max_depth=2,\n",
              "                                             max_features='auto',\n",
              "                                             max_leaf_nodes=None,\n",
              "                                             max_samples=None,\n",
              "                                             min_impurity_decrease=0.0,\n",
              "                                             min_impurity_split=None,\n",
              "                                             min_samples_leaf=1,\n",
              "                                             min_samples_split=2,\n",
              "                                             min_weight_fraction_leaf=0.0,\n",
              "                                             n_estimators=100, n_jobs=None,\n",
              "                                             oob_score=False, random_state=None,\n",
              "                                             verbose=0, warm_start=False),\n",
              "             iid='deprecated', n_jobs=-1,\n",
              "             param_grid=[{'criterion': ['mae', 'mse'],\n",
              "                          'max_depth': [1, 2, 3, 4, 5, 6, 7, 8, 9, 10],\n",
              "                          'n_estimators': array([ 10,  20,  30,  40,  50,  60,  70,  80,  90, 100, 110])}],\n",
              "             pre_dispatch='2*n_jobs', refit=True, return_train_score=False,\n",
              "             scoring='r2', verbose=0)"
            ]
          },
          "metadata": {
            "tags": []
          },
          "execution_count": 59
        }
      ]
    },
    {
      "cell_type": "code",
      "metadata": {
        "colab": {
          "base_uri": "https://localhost:8080/"
        },
        "id": "nQq4AJDbj73e",
        "outputId": "471fdf0a-14c2-483e-ebbb-f82223b47f06"
      },
      "source": [
        "gs.best_params_"
      ],
      "execution_count": 60,
      "outputs": [
        {
          "output_type": "execute_result",
          "data": {
            "text/plain": [
              "{'criterion': 'mse', 'max_depth': 3, 'n_estimators': 20}"
            ]
          },
          "metadata": {
            "tags": []
          },
          "execution_count": 60
        }
      ]
    },
    {
      "cell_type": "code",
      "metadata": {
        "id": "h6S-YgpKj73f"
      },
      "source": [
        "reg = gs.best_estimator_"
      ],
      "execution_count": 61,
      "outputs": []
    },
    {
      "cell_type": "code",
      "metadata": {
        "colab": {
          "base_uri": "https://localhost:8080/"
        },
        "id": "ITS4Grecj73f",
        "outputId": "cafc48b6-b2de-4d48-8367-2a279ff0e8e4"
      },
      "source": [
        "train_score = reg.score(X_treino, Y_treino)\n",
        "val_score = cross_val_score(reg, X_treino, Y_treino, cv=5)\n",
        "test_score = reg.score(X_teste, Y_teste)\n",
        "print('Train score', train_score)\n",
        "print('Validation score', val_score)\n",
        "print('Test score', test_score)"
      ],
      "execution_count": 62,
      "outputs": [
        {
          "output_type": "stream",
          "text": [
            "Train score 0.5473479458997407\n",
            "Validation score [0.48414696 0.40154464 0.43231519 0.58011334 0.58683484]\n",
            "Test score 0.5759357700534478\n"
          ],
          "name": "stdout"
        }
      ]
    },
    {
      "cell_type": "code",
      "metadata": {
        "id": "2dSd1HtQj73f"
      },
      "source": [
        "y_pred = reg.predict(X_teste)"
      ],
      "execution_count": 63,
      "outputs": []
    },
    {
      "cell_type": "code",
      "metadata": {
        "id": "G-e7A1iAj73g"
      },
      "source": [
        "MAE  = mean_absolute_error(Y_teste,y_pred)\n",
        "MSE  = mean_squared_error(Y_teste,y_pred)\n",
        "RMSE = np.sqrt(mean_squared_error(Y_teste,y_pred))\n",
        "R2 = r2_score(Y_teste, y_pred)"
      ],
      "execution_count": 64,
      "outputs": []
    },
    {
      "cell_type": "code",
      "metadata": {
        "colab": {
          "base_uri": "https://localhost:8080/"
        },
        "id": "zub9Xf6xj73g",
        "outputId": "dc9dd1d3-ad27-431f-811c-09e7bf334a5c"
      },
      "source": [
        "print('MAE = {:0.4f}'.format(MAE))\n",
        "print('MSE = {:0.4f}'.format(MSE))\n",
        "print('RMSE = {:0.4f}'.format(RMSE))\n",
        "print('R2 = {:0.4f}'.format(R2))"
      ],
      "execution_count": 65,
      "outputs": [
        {
          "output_type": "stream",
          "text": [
            "MAE = 87.9048\n",
            "MSE = 16137.8096\n",
            "RMSE = 127.0347\n",
            "R2 = 0.5759\n"
          ],
          "name": "stdout"
        }
      ]
    },
    {
      "cell_type": "code",
      "metadata": {
        "id": "hDLD1Fttj73h"
      },
      "source": [
        "# import pickle\n",
        "# # now you can save it to a file\n",
        "# with open('xgboost_regression.pkl', 'wb') as f:\n",
        "#     pickle.dump(reg, f)\n"
      ],
      "execution_count": 65,
      "outputs": []
    },
    {
      "cell_type": "code",
      "metadata": {
        "colab": {
          "base_uri": "https://localhost:8080/",
          "height": 419
        },
        "id": "mJkgh2kXtqVO",
        "outputId": "27131be9-e028-4c48-b685-266ef49e5a58"
      },
      "source": [
        "X_teste"
      ],
      "execution_count": 71,
      "outputs": [
        {
          "output_type": "execute_result",
          "data": {
            "text/html": [
              "<div>\n",
              "<style scoped>\n",
              "    .dataframe tbody tr th:only-of-type {\n",
              "        vertical-align: middle;\n",
              "    }\n",
              "\n",
              "    .dataframe tbody tr th {\n",
              "        vertical-align: top;\n",
              "    }\n",
              "\n",
              "    .dataframe thead th {\n",
              "        text-align: right;\n",
              "    }\n",
              "</style>\n",
              "<table border=\"1\" class=\"dataframe\">\n",
              "  <thead>\n",
              "    <tr style=\"text-align: right;\">\n",
              "      <th></th>\n",
              "      <th>qtde_clientes</th>\n",
              "      <th>mes</th>\n",
              "      <th>dia_da_semana</th>\n",
              "    </tr>\n",
              "  </thead>\n",
              "  <tbody>\n",
              "    <tr>\n",
              "      <th>453</th>\n",
              "      <td>0.0</td>\n",
              "      <td>7</td>\n",
              "      <td>1</td>\n",
              "    </tr>\n",
              "    <tr>\n",
              "      <th>482</th>\n",
              "      <td>0.0</td>\n",
              "      <td>7</td>\n",
              "      <td>2</td>\n",
              "    </tr>\n",
              "    <tr>\n",
              "      <th>516</th>\n",
              "      <td>3.0</td>\n",
              "      <td>9</td>\n",
              "      <td>1</td>\n",
              "    </tr>\n",
              "    <tr>\n",
              "      <th>542</th>\n",
              "      <td>4.0</td>\n",
              "      <td>9</td>\n",
              "      <td>4</td>\n",
              "    </tr>\n",
              "    <tr>\n",
              "      <th>85</th>\n",
              "      <td>0.0</td>\n",
              "      <td>3</td>\n",
              "      <td>4</td>\n",
              "    </tr>\n",
              "    <tr>\n",
              "      <th>...</th>\n",
              "      <td>...</td>\n",
              "      <td>...</td>\n",
              "      <td>...</td>\n",
              "    </tr>\n",
              "    <tr>\n",
              "      <th>616</th>\n",
              "      <td>3.0</td>\n",
              "      <td>12</td>\n",
              "      <td>5</td>\n",
              "    </tr>\n",
              "    <tr>\n",
              "      <th>175</th>\n",
              "      <td>0.0</td>\n",
              "      <td>6</td>\n",
              "      <td>0</td>\n",
              "    </tr>\n",
              "    <tr>\n",
              "      <th>211</th>\n",
              "      <td>0.0</td>\n",
              "      <td>7</td>\n",
              "      <td>4</td>\n",
              "    </tr>\n",
              "    <tr>\n",
              "      <th>467</th>\n",
              "      <td>2.0</td>\n",
              "      <td>7</td>\n",
              "      <td>1</td>\n",
              "    </tr>\n",
              "    <tr>\n",
              "      <th>534</th>\n",
              "      <td>0.0</td>\n",
              "      <td>9</td>\n",
              "      <td>0</td>\n",
              "    </tr>\n",
              "  </tbody>\n",
              "</table>\n",
              "<p>160 rows × 3 columns</p>\n",
              "</div>"
            ],
            "text/plain": [
              "     qtde_clientes  mes  dia_da_semana\n",
              "453            0.0    7              1\n",
              "482            0.0    7              2\n",
              "516            3.0    9              1\n",
              "542            4.0    9              4\n",
              "85             0.0    3              4\n",
              "..             ...  ...            ...\n",
              "616            3.0   12              5\n",
              "175            0.0    6              0\n",
              "211            0.0    7              4\n",
              "467            2.0    7              1\n",
              "534            0.0    9              0\n",
              "\n",
              "[160 rows x 3 columns]"
            ]
          },
          "metadata": {
            "tags": []
          },
          "execution_count": 71
        }
      ]
    },
    {
      "cell_type": "code",
      "metadata": {
        "colab": {
          "base_uri": "https://localhost:8080/"
        },
        "id": "S7Er7xnyuR2q",
        "outputId": "235b9c6d-e712-4a2b-addf-17cb8bb5ca0d"
      },
      "source": [
        "Y_teste"
      ],
      "execution_count": 74,
      "outputs": [
        {
          "output_type": "execute_result",
          "data": {
            "text/plain": [
              "453      0.0\n",
              "482      0.0\n",
              "516    140.0\n",
              "542    300.0\n",
              "85       0.0\n",
              "       ...  \n",
              "616    320.0\n",
              "175      0.0\n",
              "211      0.0\n",
              "467     60.0\n",
              "534      0.0\n",
              "Name: faturamento, Length: 160, dtype: float64"
            ]
          },
          "metadata": {
            "tags": []
          },
          "execution_count": 74
        }
      ]
    },
    {
      "cell_type": "code",
      "metadata": {
        "id": "QtqnSCbUj73i",
        "colab": {
          "base_uri": "https://localhost:8080/"
        },
        "outputId": "716b6154-a244-4ab0-835a-220a28589fdc"
      },
      "source": [
        "\r\n",
        "reg.predict([[3,12,5]])"
      ],
      "execution_count": 69,
      "outputs": [
        {
          "output_type": "execute_result",
          "data": {
            "text/plain": [
              "array([238.07810625])"
            ]
          },
          "metadata": {
            "tags": []
          },
          "execution_count": 69
        }
      ]
    },
    {
      "cell_type": "code",
      "metadata": {
        "id": "ZWF4ImpXrapj"
      },
      "source": [
        ""
      ],
      "execution_count": null,
      "outputs": []
    }
  ]
}