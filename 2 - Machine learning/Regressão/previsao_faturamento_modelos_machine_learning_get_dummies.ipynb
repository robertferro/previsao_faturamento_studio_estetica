{
  "nbformat": 4,
  "nbformat_minor": 0,
  "metadata": {
    "colab": {
      "name": "previsao_faturamento_modelos_machine_learning_get_dummies.ipynb",
      "provenance": []
    },
    "kernelspec": {
      "display_name": "Python 3",
      "language": "python",
      "name": "python3"
    },
    "language_info": {
      "codemirror_mode": {
        "name": "ipython",
        "version": 3
      },
      "file_extension": ".py",
      "mimetype": "text/x-python",
      "name": "python",
      "nbconvert_exporter": "python",
      "pygments_lexer": "ipython3",
      "version": "3.8.3"
    }
  },
  "cells": [
    {
      "cell_type": "markdown",
      "metadata": {
        "id": "ksEadj9Vj72Y"
      },
      "source": [
        "## 1- Objetivo\n",
        " \n",
        " - Encontrar o melhor modelo para a previsão de faturamento.\n",
        " \n",
        "  - Neste notebok , ao invés de utilizar label encoder para converter a variável categórica, será utilizado getdummies."
      ]
    },
    {
      "cell_type": "markdown",
      "metadata": {
        "id": "a8rX1maGj72w"
      },
      "source": [
        " - Importando os dados pre-processados"
      ]
    },
    {
      "cell_type": "code",
      "metadata": {
        "id": "_FB7LcA1j72y"
      },
      "source": [
        "import pandas as pd\n",
        "import numpy as np\n",
        "import seaborn as sns\n",
        "import matplotlib.pyplot as plt"
      ],
      "execution_count": 1,
      "outputs": []
    },
    {
      "cell_type": "code",
      "metadata": {
        "id": "gzeRdhOjj720"
      },
      "source": [
        "url = 'https://raw.githubusercontent.com/robertferro/studio-estetica/main/1%20-%20EDA/dados_modelagem.csv'"
      ],
      "execution_count": 2,
      "outputs": []
    },
    {
      "cell_type": "code",
      "metadata": {
        "id": "JFOJzTzgj720"
      },
      "source": [
        "dados = pd.read_csv(url)"
      ],
      "execution_count": 3,
      "outputs": []
    },
    {
      "cell_type": "code",
      "metadata": {
        "colab": {
          "base_uri": "https://localhost:8080/",
          "height": 224
        },
        "id": "Dnrh_3dij721",
        "outputId": "0154adcf-94d9-462d-8208-ec85f605ba2f"
      },
      "source": [
        "dados.head()"
      ],
      "execution_count": 4,
      "outputs": [
        {
          "output_type": "execute_result",
          "data": {
            "text/html": [
              "<div>\n",
              "<style scoped>\n",
              "    .dataframe tbody tr th:only-of-type {\n",
              "        vertical-align: middle;\n",
              "    }\n",
              "\n",
              "    .dataframe tbody tr th {\n",
              "        vertical-align: top;\n",
              "    }\n",
              "\n",
              "    .dataframe thead th {\n",
              "        text-align: right;\n",
              "    }\n",
              "</style>\n",
              "<table border=\"1\" class=\"dataframe\">\n",
              "  <thead>\n",
              "    <tr style=\"text-align: right;\">\n",
              "      <th></th>\n",
              "      <th>data_atendimento</th>\n",
              "      <th>design_de_sobrancelhas</th>\n",
              "      <th>design_coloracao</th>\n",
              "      <th>design_coloracao_buco</th>\n",
              "      <th>buco</th>\n",
              "      <th>brown_lamination</th>\n",
              "      <th>micropigmentacao</th>\n",
              "      <th>extensao_de_cilios</th>\n",
              "      <th>lash_lifting</th>\n",
              "      <th>limpeza_de_pele</th>\n",
              "      <th>microagulhamento</th>\n",
              "      <th>peeling_quimico</th>\n",
              "      <th>massagem_relaxante</th>\n",
              "      <th>pacote_massagem_5</th>\n",
              "      <th>drenagem_linfatica</th>\n",
              "      <th>striort</th>\n",
              "      <th>qtde_clientes</th>\n",
              "      <th>faturamento</th>\n",
              "      <th>dia</th>\n",
              "      <th>ano</th>\n",
              "      <th>mes</th>\n",
              "      <th>dia_da_semana</th>\n",
              "    </tr>\n",
              "  </thead>\n",
              "  <tbody>\n",
              "    <tr>\n",
              "      <th>0</th>\n",
              "      <td>2018-12-22</td>\n",
              "      <td>0.0</td>\n",
              "      <td>0.0</td>\n",
              "      <td>7.0</td>\n",
              "      <td>0.0</td>\n",
              "      <td>0.0</td>\n",
              "      <td>0.0</td>\n",
              "      <td>0.0</td>\n",
              "      <td>0.0</td>\n",
              "      <td>1.0</td>\n",
              "      <td>0.0</td>\n",
              "      <td>0.0</td>\n",
              "      <td>0.0</td>\n",
              "      <td>0.0</td>\n",
              "      <td>0.0</td>\n",
              "      <td>0.0</td>\n",
              "      <td>7.0</td>\n",
              "      <td>270.0</td>\n",
              "      <td>23</td>\n",
              "      <td>2018</td>\n",
              "      <td>12</td>\n",
              "      <td>sabado</td>\n",
              "    </tr>\n",
              "    <tr>\n",
              "      <th>1</th>\n",
              "      <td>2018-12-24</td>\n",
              "      <td>0.0</td>\n",
              "      <td>0.0</td>\n",
              "      <td>0.0</td>\n",
              "      <td>0.0</td>\n",
              "      <td>0.0</td>\n",
              "      <td>0.0</td>\n",
              "      <td>0.0</td>\n",
              "      <td>0.0</td>\n",
              "      <td>0.0</td>\n",
              "      <td>0.0</td>\n",
              "      <td>0.0</td>\n",
              "      <td>0.0</td>\n",
              "      <td>0.0</td>\n",
              "      <td>0.0</td>\n",
              "      <td>0.0</td>\n",
              "      <td>0.0</td>\n",
              "      <td>0.0</td>\n",
              "      <td>24</td>\n",
              "      <td>2018</td>\n",
              "      <td>12</td>\n",
              "      <td>segunda</td>\n",
              "    </tr>\n",
              "    <tr>\n",
              "      <th>2</th>\n",
              "      <td>2018-12-25</td>\n",
              "      <td>0.0</td>\n",
              "      <td>0.0</td>\n",
              "      <td>0.0</td>\n",
              "      <td>0.0</td>\n",
              "      <td>0.0</td>\n",
              "      <td>0.0</td>\n",
              "      <td>0.0</td>\n",
              "      <td>0.0</td>\n",
              "      <td>0.0</td>\n",
              "      <td>0.0</td>\n",
              "      <td>0.0</td>\n",
              "      <td>0.0</td>\n",
              "      <td>0.0</td>\n",
              "      <td>0.0</td>\n",
              "      <td>0.0</td>\n",
              "      <td>0.0</td>\n",
              "      <td>0.0</td>\n",
              "      <td>25</td>\n",
              "      <td>2018</td>\n",
              "      <td>12</td>\n",
              "      <td>terca</td>\n",
              "    </tr>\n",
              "    <tr>\n",
              "      <th>3</th>\n",
              "      <td>2018-12-26</td>\n",
              "      <td>1.0</td>\n",
              "      <td>0.0</td>\n",
              "      <td>1.0</td>\n",
              "      <td>1.0</td>\n",
              "      <td>0.0</td>\n",
              "      <td>1.0</td>\n",
              "      <td>1.0</td>\n",
              "      <td>0.0</td>\n",
              "      <td>0.0</td>\n",
              "      <td>0.0</td>\n",
              "      <td>0.0</td>\n",
              "      <td>0.0</td>\n",
              "      <td>0.0</td>\n",
              "      <td>0.0</td>\n",
              "      <td>0.0</td>\n",
              "      <td>4.0</td>\n",
              "      <td>560.0</td>\n",
              "      <td>26</td>\n",
              "      <td>2018</td>\n",
              "      <td>12</td>\n",
              "      <td>quarta</td>\n",
              "    </tr>\n",
              "    <tr>\n",
              "      <th>4</th>\n",
              "      <td>2018-12-27</td>\n",
              "      <td>0.0</td>\n",
              "      <td>0.0</td>\n",
              "      <td>1.0</td>\n",
              "      <td>0.0</td>\n",
              "      <td>0.0</td>\n",
              "      <td>0.0</td>\n",
              "      <td>0.0</td>\n",
              "      <td>0.0</td>\n",
              "      <td>1.0</td>\n",
              "      <td>0.0</td>\n",
              "      <td>0.0</td>\n",
              "      <td>0.0</td>\n",
              "      <td>0.0</td>\n",
              "      <td>0.0</td>\n",
              "      <td>0.0</td>\n",
              "      <td>2.0</td>\n",
              "      <td>90.0</td>\n",
              "      <td>27</td>\n",
              "      <td>2018</td>\n",
              "      <td>12</td>\n",
              "      <td>quinta</td>\n",
              "    </tr>\n",
              "  </tbody>\n",
              "</table>\n",
              "</div>"
            ],
            "text/plain": [
              "  data_atendimento  design_de_sobrancelhas  ...  mes  dia_da_semana\n",
              "0       2018-12-22                     0.0  ...   12         sabado\n",
              "1       2018-12-24                     0.0  ...   12        segunda\n",
              "2       2018-12-25                     0.0  ...   12          terca\n",
              "3       2018-12-26                     1.0  ...   12         quarta\n",
              "4       2018-12-27                     0.0  ...   12         quinta\n",
              "\n",
              "[5 rows x 22 columns]"
            ]
          },
          "metadata": {
            "tags": []
          },
          "execution_count": 4
        }
      ]
    },
    {
      "cell_type": "code",
      "metadata": {
        "id": "CmI8UWun3tgQ",
        "colab": {
          "base_uri": "https://localhost:8080/"
        },
        "outputId": "bf480aef-8f00-4bbb-e00d-a9b6e8f86a48"
      },
      "source": [
        "dados.info()"
      ],
      "execution_count": 5,
      "outputs": [
        {
          "output_type": "stream",
          "text": [
            "<class 'pandas.core.frame.DataFrame'>\n",
            "RangeIndex: 740 entries, 0 to 739\n",
            "Data columns (total 22 columns):\n",
            " #   Column                  Non-Null Count  Dtype  \n",
            "---  ------                  --------------  -----  \n",
            " 0   data_atendimento        740 non-null    object \n",
            " 1   design_de_sobrancelhas  740 non-null    float64\n",
            " 2   design_coloracao        740 non-null    float64\n",
            " 3   design_coloracao_buco   740 non-null    float64\n",
            " 4   buco                    740 non-null    float64\n",
            " 5   brown_lamination        740 non-null    float64\n",
            " 6   micropigmentacao        740 non-null    float64\n",
            " 7   extensao_de_cilios      740 non-null    float64\n",
            " 8   lash_lifting            740 non-null    float64\n",
            " 9   limpeza_de_pele         740 non-null    float64\n",
            " 10  microagulhamento        740 non-null    float64\n",
            " 11  peeling_quimico         740 non-null    float64\n",
            " 12  massagem_relaxante      740 non-null    float64\n",
            " 13  pacote_massagem_5       740 non-null    float64\n",
            " 14  drenagem_linfatica      740 non-null    float64\n",
            " 15  striort                 740 non-null    float64\n",
            " 16  qtde_clientes           740 non-null    float64\n",
            " 17  faturamento             740 non-null    float64\n",
            " 18  dia                     740 non-null    int64  \n",
            " 19  ano                     740 non-null    int64  \n",
            " 20  mes                     740 non-null    int64  \n",
            " 21  dia_da_semana           740 non-null    object \n",
            "dtypes: float64(17), int64(3), object(2)\n",
            "memory usage: 127.3+ KB\n"
          ],
          "name": "stdout"
        }
      ]
    },
    {
      "cell_type": "markdown",
      "metadata": {
        "id": "z9XKaiHNj722"
      },
      "source": [
        "## 2. Manipulação de dados."
      ]
    },
    {
      "cell_type": "markdown",
      "metadata": {
        "id": "lqX5Rc8K3tgW"
      },
      "source": [
        "- Convertendo a coluna data_atendimento para formato datetime."
      ]
    },
    {
      "cell_type": "code",
      "metadata": {
        "id": "_mqXWx0o3tgo"
      },
      "source": [
        "dados['data_atendimento'] = pd.to_datetime(dados['data_atendimento'],format=r\"%Y/%m/%d\")"
      ],
      "execution_count": 7,
      "outputs": []
    },
    {
      "cell_type": "code",
      "metadata": {
        "colab": {
          "base_uri": "https://localhost:8080/"
        },
        "id": "APM3TRSkj725",
        "outputId": "73b0380c-693f-46e3-d29d-b62db3b23c10"
      },
      "source": [
        "dados.info()"
      ],
      "execution_count": 8,
      "outputs": [
        {
          "output_type": "stream",
          "text": [
            "<class 'pandas.core.frame.DataFrame'>\n",
            "RangeIndex: 740 entries, 0 to 739\n",
            "Data columns (total 22 columns):\n",
            " #   Column                  Non-Null Count  Dtype         \n",
            "---  ------                  --------------  -----         \n",
            " 0   data_atendimento        740 non-null    datetime64[ns]\n",
            " 1   design_de_sobrancelhas  740 non-null    float64       \n",
            " 2   design_coloracao        740 non-null    float64       \n",
            " 3   design_coloracao_buco   740 non-null    float64       \n",
            " 4   buco                    740 non-null    float64       \n",
            " 5   brown_lamination        740 non-null    float64       \n",
            " 6   micropigmentacao        740 non-null    float64       \n",
            " 7   extensao_de_cilios      740 non-null    float64       \n",
            " 8   lash_lifting            740 non-null    float64       \n",
            " 9   limpeza_de_pele         740 non-null    float64       \n",
            " 10  microagulhamento        740 non-null    float64       \n",
            " 11  peeling_quimico         740 non-null    float64       \n",
            " 12  massagem_relaxante      740 non-null    float64       \n",
            " 13  pacote_massagem_5       740 non-null    float64       \n",
            " 14  drenagem_linfatica      740 non-null    float64       \n",
            " 15  striort                 740 non-null    float64       \n",
            " 16  qtde_clientes           740 non-null    float64       \n",
            " 17  faturamento             740 non-null    float64       \n",
            " 18  dia                     740 non-null    int64         \n",
            " 19  ano                     740 non-null    int64         \n",
            " 20  mes                     740 non-null    int64         \n",
            " 21  dia_da_semana           740 non-null    object        \n",
            "dtypes: datetime64[ns](1), float64(17), int64(3), object(1)\n",
            "memory usage: 127.3+ KB\n"
          ],
          "name": "stdout"
        }
      ]
    },
    {
      "cell_type": "markdown",
      "metadata": {
        "id": "MCHyK1GLpV7g"
      },
      "source": [
        "###  Excluindo os dados referentes ao periodo da pandemia e aos dias de domingo.\n",
        " \n",
        "     Pandemia: Período de 20 de marco a 1 de julho."
      ]
    },
    {
      "cell_type": "code",
      "metadata": {
        "colab": {
          "base_uri": "https://localhost:8080/",
          "height": 439
        },
        "id": "SQzOlKhjpV7j",
        "outputId": "d11f3aac-fe82-48a8-9b07-c92ced63a6c8"
      },
      "source": [
        "dados.loc[453:556]"
      ],
      "execution_count": 9,
      "outputs": [
        {
          "output_type": "execute_result",
          "data": {
            "text/html": [
              "<div>\n",
              "<style scoped>\n",
              "    .dataframe tbody tr th:only-of-type {\n",
              "        vertical-align: middle;\n",
              "    }\n",
              "\n",
              "    .dataframe tbody tr th {\n",
              "        vertical-align: top;\n",
              "    }\n",
              "\n",
              "    .dataframe thead th {\n",
              "        text-align: right;\n",
              "    }\n",
              "</style>\n",
              "<table border=\"1\" class=\"dataframe\">\n",
              "  <thead>\n",
              "    <tr style=\"text-align: right;\">\n",
              "      <th></th>\n",
              "      <th>data_atendimento</th>\n",
              "      <th>design_de_sobrancelhas</th>\n",
              "      <th>design_coloracao</th>\n",
              "      <th>design_coloracao_buco</th>\n",
              "      <th>buco</th>\n",
              "      <th>brown_lamination</th>\n",
              "      <th>micropigmentacao</th>\n",
              "      <th>extensao_de_cilios</th>\n",
              "      <th>lash_lifting</th>\n",
              "      <th>limpeza_de_pele</th>\n",
              "      <th>microagulhamento</th>\n",
              "      <th>peeling_quimico</th>\n",
              "      <th>massagem_relaxante</th>\n",
              "      <th>pacote_massagem_5</th>\n",
              "      <th>drenagem_linfatica</th>\n",
              "      <th>striort</th>\n",
              "      <th>qtde_clientes</th>\n",
              "      <th>faturamento</th>\n",
              "      <th>dia</th>\n",
              "      <th>ano</th>\n",
              "      <th>mes</th>\n",
              "      <th>dia_da_semana</th>\n",
              "    </tr>\n",
              "  </thead>\n",
              "  <tbody>\n",
              "    <tr>\n",
              "      <th>453</th>\n",
              "      <td>2020-03-20</td>\n",
              "      <td>0.0</td>\n",
              "      <td>0.0</td>\n",
              "      <td>0.0</td>\n",
              "      <td>0.0</td>\n",
              "      <td>0.0</td>\n",
              "      <td>0.0</td>\n",
              "      <td>0.0</td>\n",
              "      <td>0.0</td>\n",
              "      <td>0.0</td>\n",
              "      <td>0.0</td>\n",
              "      <td>0.0</td>\n",
              "      <td>0.0</td>\n",
              "      <td>0.0</td>\n",
              "      <td>0.0</td>\n",
              "      <td>0.0</td>\n",
              "      <td>0.0</td>\n",
              "      <td>0.0</td>\n",
              "      <td>20</td>\n",
              "      <td>2020</td>\n",
              "      <td>3</td>\n",
              "      <td>sexta</td>\n",
              "    </tr>\n",
              "    <tr>\n",
              "      <th>454</th>\n",
              "      <td>2020-03-21</td>\n",
              "      <td>0.0</td>\n",
              "      <td>0.0</td>\n",
              "      <td>0.0</td>\n",
              "      <td>0.0</td>\n",
              "      <td>0.0</td>\n",
              "      <td>0.0</td>\n",
              "      <td>0.0</td>\n",
              "      <td>0.0</td>\n",
              "      <td>0.0</td>\n",
              "      <td>0.0</td>\n",
              "      <td>0.0</td>\n",
              "      <td>0.0</td>\n",
              "      <td>0.0</td>\n",
              "      <td>0.0</td>\n",
              "      <td>0.0</td>\n",
              "      <td>0.0</td>\n",
              "      <td>0.0</td>\n",
              "      <td>21</td>\n",
              "      <td>2020</td>\n",
              "      <td>3</td>\n",
              "      <td>sabado</td>\n",
              "    </tr>\n",
              "    <tr>\n",
              "      <th>455</th>\n",
              "      <td>2020-03-22</td>\n",
              "      <td>0.0</td>\n",
              "      <td>0.0</td>\n",
              "      <td>0.0</td>\n",
              "      <td>0.0</td>\n",
              "      <td>0.0</td>\n",
              "      <td>0.0</td>\n",
              "      <td>0.0</td>\n",
              "      <td>0.0</td>\n",
              "      <td>0.0</td>\n",
              "      <td>0.0</td>\n",
              "      <td>0.0</td>\n",
              "      <td>0.0</td>\n",
              "      <td>0.0</td>\n",
              "      <td>0.0</td>\n",
              "      <td>0.0</td>\n",
              "      <td>0.0</td>\n",
              "      <td>0.0</td>\n",
              "      <td>22</td>\n",
              "      <td>2020</td>\n",
              "      <td>3</td>\n",
              "      <td>domingo</td>\n",
              "    </tr>\n",
              "    <tr>\n",
              "      <th>456</th>\n",
              "      <td>2020-03-23</td>\n",
              "      <td>0.0</td>\n",
              "      <td>0.0</td>\n",
              "      <td>0.0</td>\n",
              "      <td>0.0</td>\n",
              "      <td>0.0</td>\n",
              "      <td>0.0</td>\n",
              "      <td>0.0</td>\n",
              "      <td>0.0</td>\n",
              "      <td>0.0</td>\n",
              "      <td>0.0</td>\n",
              "      <td>0.0</td>\n",
              "      <td>0.0</td>\n",
              "      <td>0.0</td>\n",
              "      <td>0.0</td>\n",
              "      <td>0.0</td>\n",
              "      <td>0.0</td>\n",
              "      <td>0.0</td>\n",
              "      <td>23</td>\n",
              "      <td>2020</td>\n",
              "      <td>3</td>\n",
              "      <td>segunda</td>\n",
              "    </tr>\n",
              "    <tr>\n",
              "      <th>457</th>\n",
              "      <td>2020-03-24</td>\n",
              "      <td>0.0</td>\n",
              "      <td>0.0</td>\n",
              "      <td>0.0</td>\n",
              "      <td>0.0</td>\n",
              "      <td>0.0</td>\n",
              "      <td>0.0</td>\n",
              "      <td>0.0</td>\n",
              "      <td>0.0</td>\n",
              "      <td>0.0</td>\n",
              "      <td>0.0</td>\n",
              "      <td>0.0</td>\n",
              "      <td>0.0</td>\n",
              "      <td>0.0</td>\n",
              "      <td>0.0</td>\n",
              "      <td>0.0</td>\n",
              "      <td>0.0</td>\n",
              "      <td>0.0</td>\n",
              "      <td>24</td>\n",
              "      <td>2020</td>\n",
              "      <td>3</td>\n",
              "      <td>terca</td>\n",
              "    </tr>\n",
              "    <tr>\n",
              "      <th>...</th>\n",
              "      <td>...</td>\n",
              "      <td>...</td>\n",
              "      <td>...</td>\n",
              "      <td>...</td>\n",
              "      <td>...</td>\n",
              "      <td>...</td>\n",
              "      <td>...</td>\n",
              "      <td>...</td>\n",
              "      <td>...</td>\n",
              "      <td>...</td>\n",
              "      <td>...</td>\n",
              "      <td>...</td>\n",
              "      <td>...</td>\n",
              "      <td>...</td>\n",
              "      <td>...</td>\n",
              "      <td>...</td>\n",
              "      <td>...</td>\n",
              "      <td>...</td>\n",
              "      <td>...</td>\n",
              "      <td>...</td>\n",
              "      <td>...</td>\n",
              "      <td>...</td>\n",
              "    </tr>\n",
              "    <tr>\n",
              "      <th>552</th>\n",
              "      <td>2020-06-27</td>\n",
              "      <td>0.0</td>\n",
              "      <td>0.0</td>\n",
              "      <td>0.0</td>\n",
              "      <td>0.0</td>\n",
              "      <td>0.0</td>\n",
              "      <td>0.0</td>\n",
              "      <td>0.0</td>\n",
              "      <td>0.0</td>\n",
              "      <td>0.0</td>\n",
              "      <td>0.0</td>\n",
              "      <td>0.0</td>\n",
              "      <td>0.0</td>\n",
              "      <td>0.0</td>\n",
              "      <td>0.0</td>\n",
              "      <td>0.0</td>\n",
              "      <td>0.0</td>\n",
              "      <td>0.0</td>\n",
              "      <td>27</td>\n",
              "      <td>2020</td>\n",
              "      <td>6</td>\n",
              "      <td>sabado</td>\n",
              "    </tr>\n",
              "    <tr>\n",
              "      <th>553</th>\n",
              "      <td>2020-06-28</td>\n",
              "      <td>0.0</td>\n",
              "      <td>0.0</td>\n",
              "      <td>0.0</td>\n",
              "      <td>0.0</td>\n",
              "      <td>0.0</td>\n",
              "      <td>0.0</td>\n",
              "      <td>0.0</td>\n",
              "      <td>0.0</td>\n",
              "      <td>0.0</td>\n",
              "      <td>0.0</td>\n",
              "      <td>0.0</td>\n",
              "      <td>0.0</td>\n",
              "      <td>0.0</td>\n",
              "      <td>0.0</td>\n",
              "      <td>0.0</td>\n",
              "      <td>0.0</td>\n",
              "      <td>0.0</td>\n",
              "      <td>28</td>\n",
              "      <td>2020</td>\n",
              "      <td>6</td>\n",
              "      <td>domingo</td>\n",
              "    </tr>\n",
              "    <tr>\n",
              "      <th>554</th>\n",
              "      <td>2020-06-29</td>\n",
              "      <td>0.0</td>\n",
              "      <td>0.0</td>\n",
              "      <td>0.0</td>\n",
              "      <td>0.0</td>\n",
              "      <td>0.0</td>\n",
              "      <td>0.0</td>\n",
              "      <td>0.0</td>\n",
              "      <td>0.0</td>\n",
              "      <td>0.0</td>\n",
              "      <td>0.0</td>\n",
              "      <td>0.0</td>\n",
              "      <td>0.0</td>\n",
              "      <td>0.0</td>\n",
              "      <td>0.0</td>\n",
              "      <td>0.0</td>\n",
              "      <td>0.0</td>\n",
              "      <td>0.0</td>\n",
              "      <td>29</td>\n",
              "      <td>2020</td>\n",
              "      <td>6</td>\n",
              "      <td>segunda</td>\n",
              "    </tr>\n",
              "    <tr>\n",
              "      <th>555</th>\n",
              "      <td>2020-06-30</td>\n",
              "      <td>0.0</td>\n",
              "      <td>0.0</td>\n",
              "      <td>0.0</td>\n",
              "      <td>0.0</td>\n",
              "      <td>0.0</td>\n",
              "      <td>0.0</td>\n",
              "      <td>0.0</td>\n",
              "      <td>0.0</td>\n",
              "      <td>0.0</td>\n",
              "      <td>0.0</td>\n",
              "      <td>0.0</td>\n",
              "      <td>0.0</td>\n",
              "      <td>0.0</td>\n",
              "      <td>0.0</td>\n",
              "      <td>0.0</td>\n",
              "      <td>0.0</td>\n",
              "      <td>0.0</td>\n",
              "      <td>30</td>\n",
              "      <td>2020</td>\n",
              "      <td>6</td>\n",
              "      <td>terca</td>\n",
              "    </tr>\n",
              "    <tr>\n",
              "      <th>556</th>\n",
              "      <td>2020-07-01</td>\n",
              "      <td>0.0</td>\n",
              "      <td>0.0</td>\n",
              "      <td>0.0</td>\n",
              "      <td>0.0</td>\n",
              "      <td>0.0</td>\n",
              "      <td>0.0</td>\n",
              "      <td>0.0</td>\n",
              "      <td>0.0</td>\n",
              "      <td>0.0</td>\n",
              "      <td>0.0</td>\n",
              "      <td>0.0</td>\n",
              "      <td>0.0</td>\n",
              "      <td>0.0</td>\n",
              "      <td>0.0</td>\n",
              "      <td>0.0</td>\n",
              "      <td>0.0</td>\n",
              "      <td>0.0</td>\n",
              "      <td>1</td>\n",
              "      <td>2020</td>\n",
              "      <td>7</td>\n",
              "      <td>quarta</td>\n",
              "    </tr>\n",
              "  </tbody>\n",
              "</table>\n",
              "<p>104 rows × 22 columns</p>\n",
              "</div>"
            ],
            "text/plain": [
              "    data_atendimento  design_de_sobrancelhas  ...  mes  dia_da_semana\n",
              "453       2020-03-20                     0.0  ...    3          sexta\n",
              "454       2020-03-21                     0.0  ...    3         sabado\n",
              "455       2020-03-22                     0.0  ...    3        domingo\n",
              "456       2020-03-23                     0.0  ...    3        segunda\n",
              "457       2020-03-24                     0.0  ...    3          terca\n",
              "..               ...                     ...  ...  ...            ...\n",
              "552       2020-06-27                     0.0  ...    6         sabado\n",
              "553       2020-06-28                     0.0  ...    6        domingo\n",
              "554       2020-06-29                     0.0  ...    6        segunda\n",
              "555       2020-06-30                     0.0  ...    6          terca\n",
              "556       2020-07-01                     0.0  ...    7         quarta\n",
              "\n",
              "[104 rows x 22 columns]"
            ]
          },
          "metadata": {
            "tags": []
          },
          "execution_count": 9
        }
      ]
    },
    {
      "cell_type": "code",
      "metadata": {
        "colab": {
          "base_uri": "https://localhost:8080/",
          "height": 224
        },
        "id": "0lY6xNa0pV7k",
        "outputId": "5ef4cf87-1369-42d8-e728-1635b9d8d01c"
      },
      "source": [
        "dados_pandemia =[]\n",
        "for i in range(453,556):\n",
        "    dados_pandemia.append(i)\n",
        "\n",
        "dados = dados.drop(dados_pandemia)\n",
        "dados = dados.reset_index()\n",
        "dados = dados.drop('index', axis = 1)\n",
        "dados.head()"
      ],
      "execution_count": 10,
      "outputs": [
        {
          "output_type": "execute_result",
          "data": {
            "text/html": [
              "<div>\n",
              "<style scoped>\n",
              "    .dataframe tbody tr th:only-of-type {\n",
              "        vertical-align: middle;\n",
              "    }\n",
              "\n",
              "    .dataframe tbody tr th {\n",
              "        vertical-align: top;\n",
              "    }\n",
              "\n",
              "    .dataframe thead th {\n",
              "        text-align: right;\n",
              "    }\n",
              "</style>\n",
              "<table border=\"1\" class=\"dataframe\">\n",
              "  <thead>\n",
              "    <tr style=\"text-align: right;\">\n",
              "      <th></th>\n",
              "      <th>data_atendimento</th>\n",
              "      <th>design_de_sobrancelhas</th>\n",
              "      <th>design_coloracao</th>\n",
              "      <th>design_coloracao_buco</th>\n",
              "      <th>buco</th>\n",
              "      <th>brown_lamination</th>\n",
              "      <th>micropigmentacao</th>\n",
              "      <th>extensao_de_cilios</th>\n",
              "      <th>lash_lifting</th>\n",
              "      <th>limpeza_de_pele</th>\n",
              "      <th>microagulhamento</th>\n",
              "      <th>peeling_quimico</th>\n",
              "      <th>massagem_relaxante</th>\n",
              "      <th>pacote_massagem_5</th>\n",
              "      <th>drenagem_linfatica</th>\n",
              "      <th>striort</th>\n",
              "      <th>qtde_clientes</th>\n",
              "      <th>faturamento</th>\n",
              "      <th>dia</th>\n",
              "      <th>ano</th>\n",
              "      <th>mes</th>\n",
              "      <th>dia_da_semana</th>\n",
              "    </tr>\n",
              "  </thead>\n",
              "  <tbody>\n",
              "    <tr>\n",
              "      <th>0</th>\n",
              "      <td>2018-12-22</td>\n",
              "      <td>0.0</td>\n",
              "      <td>0.0</td>\n",
              "      <td>7.0</td>\n",
              "      <td>0.0</td>\n",
              "      <td>0.0</td>\n",
              "      <td>0.0</td>\n",
              "      <td>0.0</td>\n",
              "      <td>0.0</td>\n",
              "      <td>1.0</td>\n",
              "      <td>0.0</td>\n",
              "      <td>0.0</td>\n",
              "      <td>0.0</td>\n",
              "      <td>0.0</td>\n",
              "      <td>0.0</td>\n",
              "      <td>0.0</td>\n",
              "      <td>7.0</td>\n",
              "      <td>270.0</td>\n",
              "      <td>23</td>\n",
              "      <td>2018</td>\n",
              "      <td>12</td>\n",
              "      <td>sabado</td>\n",
              "    </tr>\n",
              "    <tr>\n",
              "      <th>1</th>\n",
              "      <td>2018-12-24</td>\n",
              "      <td>0.0</td>\n",
              "      <td>0.0</td>\n",
              "      <td>0.0</td>\n",
              "      <td>0.0</td>\n",
              "      <td>0.0</td>\n",
              "      <td>0.0</td>\n",
              "      <td>0.0</td>\n",
              "      <td>0.0</td>\n",
              "      <td>0.0</td>\n",
              "      <td>0.0</td>\n",
              "      <td>0.0</td>\n",
              "      <td>0.0</td>\n",
              "      <td>0.0</td>\n",
              "      <td>0.0</td>\n",
              "      <td>0.0</td>\n",
              "      <td>0.0</td>\n",
              "      <td>0.0</td>\n",
              "      <td>24</td>\n",
              "      <td>2018</td>\n",
              "      <td>12</td>\n",
              "      <td>segunda</td>\n",
              "    </tr>\n",
              "    <tr>\n",
              "      <th>2</th>\n",
              "      <td>2018-12-25</td>\n",
              "      <td>0.0</td>\n",
              "      <td>0.0</td>\n",
              "      <td>0.0</td>\n",
              "      <td>0.0</td>\n",
              "      <td>0.0</td>\n",
              "      <td>0.0</td>\n",
              "      <td>0.0</td>\n",
              "      <td>0.0</td>\n",
              "      <td>0.0</td>\n",
              "      <td>0.0</td>\n",
              "      <td>0.0</td>\n",
              "      <td>0.0</td>\n",
              "      <td>0.0</td>\n",
              "      <td>0.0</td>\n",
              "      <td>0.0</td>\n",
              "      <td>0.0</td>\n",
              "      <td>0.0</td>\n",
              "      <td>25</td>\n",
              "      <td>2018</td>\n",
              "      <td>12</td>\n",
              "      <td>terca</td>\n",
              "    </tr>\n",
              "    <tr>\n",
              "      <th>3</th>\n",
              "      <td>2018-12-26</td>\n",
              "      <td>1.0</td>\n",
              "      <td>0.0</td>\n",
              "      <td>1.0</td>\n",
              "      <td>1.0</td>\n",
              "      <td>0.0</td>\n",
              "      <td>1.0</td>\n",
              "      <td>1.0</td>\n",
              "      <td>0.0</td>\n",
              "      <td>0.0</td>\n",
              "      <td>0.0</td>\n",
              "      <td>0.0</td>\n",
              "      <td>0.0</td>\n",
              "      <td>0.0</td>\n",
              "      <td>0.0</td>\n",
              "      <td>0.0</td>\n",
              "      <td>4.0</td>\n",
              "      <td>560.0</td>\n",
              "      <td>26</td>\n",
              "      <td>2018</td>\n",
              "      <td>12</td>\n",
              "      <td>quarta</td>\n",
              "    </tr>\n",
              "    <tr>\n",
              "      <th>4</th>\n",
              "      <td>2018-12-27</td>\n",
              "      <td>0.0</td>\n",
              "      <td>0.0</td>\n",
              "      <td>1.0</td>\n",
              "      <td>0.0</td>\n",
              "      <td>0.0</td>\n",
              "      <td>0.0</td>\n",
              "      <td>0.0</td>\n",
              "      <td>0.0</td>\n",
              "      <td>1.0</td>\n",
              "      <td>0.0</td>\n",
              "      <td>0.0</td>\n",
              "      <td>0.0</td>\n",
              "      <td>0.0</td>\n",
              "      <td>0.0</td>\n",
              "      <td>0.0</td>\n",
              "      <td>2.0</td>\n",
              "      <td>90.0</td>\n",
              "      <td>27</td>\n",
              "      <td>2018</td>\n",
              "      <td>12</td>\n",
              "      <td>quinta</td>\n",
              "    </tr>\n",
              "  </tbody>\n",
              "</table>\n",
              "</div>"
            ],
            "text/plain": [
              "  data_atendimento  design_de_sobrancelhas  ...  mes  dia_da_semana\n",
              "0       2018-12-22                     0.0  ...   12         sabado\n",
              "1       2018-12-24                     0.0  ...   12        segunda\n",
              "2       2018-12-25                     0.0  ...   12          terca\n",
              "3       2018-12-26                     1.0  ...   12         quarta\n",
              "4       2018-12-27                     0.0  ...   12         quinta\n",
              "\n",
              "[5 rows x 22 columns]"
            ]
          },
          "metadata": {
            "tags": []
          },
          "execution_count": 10
        }
      ]
    },
    {
      "cell_type": "markdown",
      "metadata": {
        "id": "oiu3hrlWvXPz"
      },
      "source": [
        " - Removendo os domingos."
      ]
    },
    {
      "cell_type": "code",
      "metadata": {
        "id": "_6VtZPSL3tgw"
      },
      "source": [
        "dados = dados.set_index('dia_da_semana')\n",
        "dados = dados.drop('domingo')\n",
        "dados = dados.reset_index()"
      ],
      "execution_count": 11,
      "outputs": []
    },
    {
      "cell_type": "code",
      "metadata": {
        "colab": {
          "base_uri": "https://localhost:8080/"
        },
        "id": "sQXRCY04vb67",
        "outputId": "3a7ac3c8-2cc1-4c51-831c-00b0c0c1663b"
      },
      "source": [
        "dados.dia_da_semana.value_counts()"
      ],
      "execution_count": 12,
      "outputs": [
        {
          "output_type": "execute_result",
          "data": {
            "text/plain": [
              "quarta     92\n",
              "quinta     92\n",
              "sabado     91\n",
              "terca      91\n",
              "segunda    91\n",
              "sexta      90\n",
              "Name: dia_da_semana, dtype: int64"
            ]
          },
          "metadata": {
            "tags": []
          },
          "execution_count": 12
        }
      ]
    },
    {
      "cell_type": "code",
      "metadata": {
        "colab": {
          "base_uri": "https://localhost:8080/"
        },
        "id": "5S9exvLbpV7l",
        "outputId": "6533b22b-38ac-45f7-ab6b-0693786a4127"
      },
      "source": [
        "dados.shape"
      ],
      "execution_count": 13,
      "outputs": [
        {
          "output_type": "execute_result",
          "data": {
            "text/plain": [
              "(547, 22)"
            ]
          },
          "metadata": {
            "tags": []
          },
          "execution_count": 13
        }
      ]
    },
    {
      "cell_type": "code",
      "metadata": {
        "colab": {
          "base_uri": "https://localhost:8080/"
        },
        "id": "HUcDruJopV7p",
        "outputId": "f28521af-5cc1-4185-b5d7-2d14561a3a51"
      },
      "source": [
        "dados.info()"
      ],
      "execution_count": 14,
      "outputs": [
        {
          "output_type": "stream",
          "text": [
            "<class 'pandas.core.frame.DataFrame'>\n",
            "RangeIndex: 547 entries, 0 to 546\n",
            "Data columns (total 22 columns):\n",
            " #   Column                  Non-Null Count  Dtype         \n",
            "---  ------                  --------------  -----         \n",
            " 0   dia_da_semana           547 non-null    object        \n",
            " 1   data_atendimento        547 non-null    datetime64[ns]\n",
            " 2   design_de_sobrancelhas  547 non-null    float64       \n",
            " 3   design_coloracao        547 non-null    float64       \n",
            " 4   design_coloracao_buco   547 non-null    float64       \n",
            " 5   buco                    547 non-null    float64       \n",
            " 6   brown_lamination        547 non-null    float64       \n",
            " 7   micropigmentacao        547 non-null    float64       \n",
            " 8   extensao_de_cilios      547 non-null    float64       \n",
            " 9   lash_lifting            547 non-null    float64       \n",
            " 10  limpeza_de_pele         547 non-null    float64       \n",
            " 11  microagulhamento        547 non-null    float64       \n",
            " 12  peeling_quimico         547 non-null    float64       \n",
            " 13  massagem_relaxante      547 non-null    float64       \n",
            " 14  pacote_massagem_5       547 non-null    float64       \n",
            " 15  drenagem_linfatica      547 non-null    float64       \n",
            " 16  striort                 547 non-null    float64       \n",
            " 17  qtde_clientes           547 non-null    float64       \n",
            " 18  faturamento             547 non-null    float64       \n",
            " 19  dia                     547 non-null    int64         \n",
            " 20  ano                     547 non-null    int64         \n",
            " 21  mes                     547 non-null    int64         \n",
            "dtypes: datetime64[ns](1), float64(17), int64(3), object(1)\n",
            "memory usage: 94.1+ KB\n"
          ],
          "name": "stdout"
        }
      ]
    },
    {
      "cell_type": "code",
      "metadata": {
        "colab": {
          "base_uri": "https://localhost:8080/",
          "height": 1000
        },
        "id": "Vgz_519D1Tgj",
        "outputId": "79d9c1c3-860d-42fd-c445-e5f1c481d181"
      },
      "source": [
        "dados.hist(bins=50, figsize=(20,12))"
      ],
      "execution_count": 15,
      "outputs": [
        {
          "output_type": "execute_result",
          "data": {
            "text/plain": [
              "array([[<matplotlib.axes._subplots.AxesSubplot object at 0x7f34c5271790>,\n",
              "        <matplotlib.axes._subplots.AxesSubplot object at 0x7f34c51c4dd0>,\n",
              "        <matplotlib.axes._subplots.AxesSubplot object at 0x7f34c5188490>,\n",
              "        <matplotlib.axes._subplots.AxesSubplot object at 0x7f34c51bcb10>],\n",
              "       [<matplotlib.axes._subplots.AxesSubplot object at 0x7f34c51801d0>,\n",
              "        <matplotlib.axes._subplots.AxesSubplot object at 0x7f34c5134850>,\n",
              "        <matplotlib.axes._subplots.AxesSubplot object at 0x7f34c50eaf50>,\n",
              "        <matplotlib.axes._subplots.AxesSubplot object at 0x7f34c50ab550>],\n",
              "       [<matplotlib.axes._subplots.AxesSubplot object at 0x7f34c50ab590>,\n",
              "        <matplotlib.axes._subplots.AxesSubplot object at 0x7f34c5062d10>,\n",
              "        <matplotlib.axes._subplots.AxesSubplot object at 0x7f34c4fd9950>,\n",
              "        <matplotlib.axes._subplots.AxesSubplot object at 0x7f34c4f83b50>],\n",
              "       [<matplotlib.axes._subplots.AxesSubplot object at 0x7f34c4f51690>,\n",
              "        <matplotlib.axes._subplots.AxesSubplot object at 0x7f34c4f05d10>,\n",
              "        <matplotlib.axes._subplots.AxesSubplot object at 0x7f34c4ec73d0>,\n",
              "        <matplotlib.axes._subplots.AxesSubplot object at 0x7f34c4effa50>],\n",
              "       [<matplotlib.axes._subplots.AxesSubplot object at 0x7f34c4ec0110>,\n",
              "        <matplotlib.axes._subplots.AxesSubplot object at 0x7f34c4e75790>,\n",
              "        <matplotlib.axes._subplots.AxesSubplot object at 0x7f34c4e2ae10>,\n",
              "        <matplotlib.axes._subplots.AxesSubplot object at 0x7f34c4dec4d0>]],\n",
              "      dtype=object)"
            ]
          },
          "metadata": {
            "tags": []
          },
          "execution_count": 15
        },
        {
          "output_type": "display_data",
          "data": {
            "image/png": "[encoded data removed]",
            "text/plain": [
              "<Figure size 1440x864 with 20 Axes>"
            ]
          },
          "metadata": {
            "tags": [],
            "needs_background": "light"
          }
        }
      ]
    },
    {
      "cell_type": "markdown",
      "metadata": {
        "id": "qP_GSxosj72-"
      },
      "source": [
        " ## 3. Machine learning"
      ]
    },
    {
      "cell_type": "markdown",
      "metadata": {
        "id": "O1NWaO5ewwWk"
      },
      "source": [
        " - Selecionando apenas as colunas que  importam para a modelagem."
      ]
    },
    {
      "cell_type": "code",
      "metadata": {
        "id": "vK7eldpvwv0q"
      },
      "source": [
        "dados_ml = dados[['qtde_clientes','dia','mes','dia_da_semana','faturamento']]"
      ],
      "execution_count": 16,
      "outputs": []
    },
    {
      "cell_type": "code",
      "metadata": {
        "id": "JqRZmMMW7fw4"
      },
      "source": [
        "dados_ml = dados_ml[['dia','mes','dia_da_semana','qtde_clientes','faturamento']]"
      ],
      "execution_count": 17,
      "outputs": []
    },
    {
      "cell_type": "markdown",
      "metadata": {
        "id": "f9pgLW6Lj72-"
      },
      "source": [
        " - Transformando variáveis categóricas em variáveis numéricas."
      ]
    },
    {
      "cell_type": "code",
      "metadata": {
        "colab": {
          "base_uri": "https://localhost:8080/"
        },
        "id": "bAW56Xbq7wHs",
        "outputId": "adfa7743-3383-496e-a3da-babefe73936c"
      },
      "source": [
        "dados_ml.info()"
      ],
      "execution_count": 18,
      "outputs": [
        {
          "output_type": "stream",
          "text": [
            "<class 'pandas.core.frame.DataFrame'>\n",
            "RangeIndex: 547 entries, 0 to 546\n",
            "Data columns (total 5 columns):\n",
            " #   Column         Non-Null Count  Dtype  \n",
            "---  ------         --------------  -----  \n",
            " 0   dia            547 non-null    int64  \n",
            " 1   mes            547 non-null    int64  \n",
            " 2   dia_da_semana  547 non-null    object \n",
            " 3   qtde_clientes  547 non-null    float64\n",
            " 4   faturamento    547 non-null    float64\n",
            "dtypes: float64(2), int64(2), object(1)\n",
            "memory usage: 21.5+ KB\n"
          ],
          "name": "stdout"
        }
      ]
    },
    {
      "cell_type": "code",
      "metadata": {
        "id": "vRF0S0Qe3tg6"
      },
      "source": [
        "dados_ml = pd.get_dummies(dados_ml)"
      ],
      "execution_count": 19,
      "outputs": []
    },
    {
      "cell_type": "code",
      "metadata": {
        "colab": {
          "base_uri": "https://localhost:8080/",
          "height": 724
        },
        "id": "uVzJijYkj73C",
        "outputId": "d7d10ac5-2302-4aee-bf27-4c451480995d"
      },
      "source": [
        "plt.figure(figsize=(14,10))\n",
        "\n",
        "corr = dados_ml.corr().abs()\n",
        "mask = np.triu(np.ones_like(corr, dtype=np.bool))\n",
        "\n",
        "sns.heatmap(corr, mask=mask, annot=True, center=0, cmap=\"YlGnBu\")"
      ],
      "execution_count": 20,
      "outputs": [
        {
          "output_type": "execute_result",
          "data": {
            "text/plain": [
              "<matplotlib.axes._subplots.AxesSubplot at 0x7f34c4087310>"
            ]
          },
          "metadata": {
            "tags": []
          },
          "execution_count": 20
        },
        {
          "output_type": "display_data",
          "data": {
            "image/png": "[encoded data removed]",
            "text/plain": [
              "<Figure size 1008x720 with 2 Axes>"
            ]
          },
          "metadata": {
            "tags": [],
            "needs_background": "light"
          }
        }
      ]
    },
    {
      "cell_type": "code",
      "metadata": {
        "colab": {
          "base_uri": "https://localhost:8080/",
          "height": 607
        },
        "id": "bUbm8ijRzNGm",
        "outputId": "bb85cae1-9f27-402b-d212-fcd92c9cdafc"
      },
      "source": [
        "dados_ml.hist(bins=50, figsize=(15,10))\n",
        "plt.show()"
      ],
      "execution_count": 21,
      "outputs": [
        {
          "output_type": "display_data",
          "data": {
            "image/png": "[encoded data removed]",
            "text/plain": [
              "<Figure size 1080x720 with 12 Axes>"
            ]
          },
          "metadata": {
            "tags": [],
            "needs_background": "light"
          }
        }
      ]
    },
    {
      "cell_type": "markdown",
      "metadata": {
        "id": "UDuj63uNzhOD"
      },
      "source": [
        " - Normalizando os dados."
      ]
    },
    {
      "cell_type": "code",
      "metadata": {
        "id": "-8qWKTxkzgb4"
      },
      "source": [
        "dados_ml['faturamento']=dados_ml['faturamento'].apply(np.log1p)\n",
        "# dados['qtde_clientes']=dados['qtde_clientes'].apply(np.log1p)"
      ],
      "execution_count": 22,
      "outputs": []
    },
    {
      "cell_type": "code",
      "metadata": {
        "colab": {
          "base_uri": "https://localhost:8080/",
          "height": 724
        },
        "id": "qmQKy5RAzYHL",
        "outputId": "8e99aa36-63e0-4a0a-ead0-4427cd19ede7"
      },
      "source": [
        "plt.figure(figsize=(14,10))\n",
        "\n",
        "corr = dados_ml.corr().abs()\n",
        "mask = np.triu(np.ones_like(corr, dtype=np.bool))\n",
        "\n",
        "sns.heatmap(corr, mask=mask, annot=True, center=0, cmap=\"YlGnBu\")"
      ],
      "execution_count": 23,
      "outputs": [
        {
          "output_type": "execute_result",
          "data": {
            "text/plain": [
              "<matplotlib.axes._subplots.AxesSubplot at 0x7f34babcd810>"
            ]
          },
          "metadata": {
            "tags": []
          },
          "execution_count": 23
        },
        {
          "output_type": "display_data",
          "data": {
            "image/png": "[encoded data removed]",
            "text/plain": [
              "<Figure size 1008x720 with 2 Axes>"
            ]
          },
          "metadata": {
            "tags": [],
            "needs_background": "light"
          }
        }
      ]
    },
    {
      "cell_type": "markdown",
      "metadata": {
        "id": "eCnfuFp5j73D"
      },
      "source": [
        " - Separando as amostras de treino e teste."
      ]
    },
    {
      "cell_type": "code",
      "metadata": {
        "id": "qrs3qOjWj73D"
      },
      "source": [
        "X = dados_ml.drop('faturamento', axis=1)\n",
        "Y = dados_ml['faturamento']"
      ],
      "execution_count": 24,
      "outputs": []
    },
    {
      "cell_type": "code",
      "metadata": {
        "id": "lkXSYNbpj73E"
      },
      "source": [
        "from sklearn.model_selection import train_test_split"
      ],
      "execution_count": 25,
      "outputs": []
    },
    {
      "cell_type": "code",
      "metadata": {
        "id": "_H0dsn3jj73E"
      },
      "source": [
        "X_treino,X_teste,Y_treino,Y_teste = train_test_split(X,Y,test_size=0.25,random_state=0, shuffle=False)"
      ],
      "execution_count": 26,
      "outputs": []
    },
    {
      "cell_type": "markdown",
      "metadata": {
        "id": "Mncva1xe3thV"
      },
      "source": [
        " - Visualizando X_teste e X_treino."
      ]
    },
    {
      "cell_type": "code",
      "metadata": {
        "id": "tdULaVq43thW",
        "colab": {
          "base_uri": "https://localhost:8080/",
          "height": 204
        },
        "outputId": "9df222c2-4a60-4e82-b69e-fa3a93ed1555"
      },
      "source": [
        "X_treino.tail()"
      ],
      "execution_count": 27,
      "outputs": [
        {
          "output_type": "execute_result",
          "data": {
            "text/html": [
              "<div>\n",
              "<style scoped>\n",
              "    .dataframe tbody tr th:only-of-type {\n",
              "        vertical-align: middle;\n",
              "    }\n",
              "\n",
              "    .dataframe tbody tr th {\n",
              "        vertical-align: top;\n",
              "    }\n",
              "\n",
              "    .dataframe thead th {\n",
              "        text-align: right;\n",
              "    }\n",
              "</style>\n",
              "<table border=\"1\" class=\"dataframe\">\n",
              "  <thead>\n",
              "    <tr style=\"text-align: right;\">\n",
              "      <th></th>\n",
              "      <th>dia</th>\n",
              "      <th>mes</th>\n",
              "      <th>qtde_clientes</th>\n",
              "      <th>dia_da_semana_quarta</th>\n",
              "      <th>dia_da_semana_quinta</th>\n",
              "      <th>dia_da_semana_sabado</th>\n",
              "      <th>dia_da_semana_segunda</th>\n",
              "      <th>dia_da_semana_sexta</th>\n",
              "      <th>dia_da_semana_terca</th>\n",
              "    </tr>\n",
              "  </thead>\n",
              "  <tbody>\n",
              "    <tr>\n",
              "      <th>405</th>\n",
              "      <td>20</td>\n",
              "      <td>7</td>\n",
              "      <td>0.0</td>\n",
              "      <td>0</td>\n",
              "      <td>0</td>\n",
              "      <td>0</td>\n",
              "      <td>1</td>\n",
              "      <td>0</td>\n",
              "      <td>0</td>\n",
              "    </tr>\n",
              "    <tr>\n",
              "      <th>406</th>\n",
              "      <td>21</td>\n",
              "      <td>7</td>\n",
              "      <td>0.0</td>\n",
              "      <td>0</td>\n",
              "      <td>0</td>\n",
              "      <td>0</td>\n",
              "      <td>0</td>\n",
              "      <td>0</td>\n",
              "      <td>1</td>\n",
              "    </tr>\n",
              "    <tr>\n",
              "      <th>407</th>\n",
              "      <td>22</td>\n",
              "      <td>7</td>\n",
              "      <td>0.0</td>\n",
              "      <td>1</td>\n",
              "      <td>0</td>\n",
              "      <td>0</td>\n",
              "      <td>0</td>\n",
              "      <td>0</td>\n",
              "      <td>0</td>\n",
              "    </tr>\n",
              "    <tr>\n",
              "      <th>408</th>\n",
              "      <td>23</td>\n",
              "      <td>7</td>\n",
              "      <td>1.0</td>\n",
              "      <td>0</td>\n",
              "      <td>1</td>\n",
              "      <td>0</td>\n",
              "      <td>0</td>\n",
              "      <td>0</td>\n",
              "      <td>0</td>\n",
              "    </tr>\n",
              "    <tr>\n",
              "      <th>409</th>\n",
              "      <td>24</td>\n",
              "      <td>7</td>\n",
              "      <td>0.0</td>\n",
              "      <td>0</td>\n",
              "      <td>0</td>\n",
              "      <td>0</td>\n",
              "      <td>0</td>\n",
              "      <td>1</td>\n",
              "      <td>0</td>\n",
              "    </tr>\n",
              "  </tbody>\n",
              "</table>\n",
              "</div>"
            ],
            "text/plain": [
              "     dia  mes  ...  dia_da_semana_sexta  dia_da_semana_terca\n",
              "405   20    7  ...                    0                    0\n",
              "406   21    7  ...                    0                    1\n",
              "407   22    7  ...                    0                    0\n",
              "408   23    7  ...                    0                    0\n",
              "409   24    7  ...                    1                    0\n",
              "\n",
              "[5 rows x 9 columns]"
            ]
          },
          "metadata": {
            "tags": []
          },
          "execution_count": 27
        }
      ]
    },
    {
      "cell_type": "code",
      "metadata": {
        "id": "q7ZfCUGk3thW",
        "colab": {
          "base_uri": "https://localhost:8080/",
          "height": 204
        },
        "outputId": "b50be2c7-0f89-4936-a87c-f40221e21e6f"
      },
      "source": [
        "X_teste.head()"
      ],
      "execution_count": 28,
      "outputs": [
        {
          "output_type": "execute_result",
          "data": {
            "text/html": [
              "<div>\n",
              "<style scoped>\n",
              "    .dataframe tbody tr th:only-of-type {\n",
              "        vertical-align: middle;\n",
              "    }\n",
              "\n",
              "    .dataframe tbody tr th {\n",
              "        vertical-align: top;\n",
              "    }\n",
              "\n",
              "    .dataframe thead th {\n",
              "        text-align: right;\n",
              "    }\n",
              "</style>\n",
              "<table border=\"1\" class=\"dataframe\">\n",
              "  <thead>\n",
              "    <tr style=\"text-align: right;\">\n",
              "      <th></th>\n",
              "      <th>dia</th>\n",
              "      <th>mes</th>\n",
              "      <th>qtde_clientes</th>\n",
              "      <th>dia_da_semana_quarta</th>\n",
              "      <th>dia_da_semana_quinta</th>\n",
              "      <th>dia_da_semana_sabado</th>\n",
              "      <th>dia_da_semana_segunda</th>\n",
              "      <th>dia_da_semana_sexta</th>\n",
              "      <th>dia_da_semana_terca</th>\n",
              "    </tr>\n",
              "  </thead>\n",
              "  <tbody>\n",
              "    <tr>\n",
              "      <th>410</th>\n",
              "      <td>25</td>\n",
              "      <td>7</td>\n",
              "      <td>0.0</td>\n",
              "      <td>0</td>\n",
              "      <td>0</td>\n",
              "      <td>1</td>\n",
              "      <td>0</td>\n",
              "      <td>0</td>\n",
              "      <td>0</td>\n",
              "    </tr>\n",
              "    <tr>\n",
              "      <th>411</th>\n",
              "      <td>27</td>\n",
              "      <td>7</td>\n",
              "      <td>0.0</td>\n",
              "      <td>0</td>\n",
              "      <td>0</td>\n",
              "      <td>0</td>\n",
              "      <td>1</td>\n",
              "      <td>0</td>\n",
              "      <td>0</td>\n",
              "    </tr>\n",
              "    <tr>\n",
              "      <th>412</th>\n",
              "      <td>28</td>\n",
              "      <td>7</td>\n",
              "      <td>2.0</td>\n",
              "      <td>0</td>\n",
              "      <td>0</td>\n",
              "      <td>0</td>\n",
              "      <td>0</td>\n",
              "      <td>0</td>\n",
              "      <td>1</td>\n",
              "    </tr>\n",
              "    <tr>\n",
              "      <th>413</th>\n",
              "      <td>29</td>\n",
              "      <td>7</td>\n",
              "      <td>3.0</td>\n",
              "      <td>1</td>\n",
              "      <td>0</td>\n",
              "      <td>0</td>\n",
              "      <td>0</td>\n",
              "      <td>0</td>\n",
              "      <td>0</td>\n",
              "    </tr>\n",
              "    <tr>\n",
              "      <th>414</th>\n",
              "      <td>30</td>\n",
              "      <td>7</td>\n",
              "      <td>0.0</td>\n",
              "      <td>0</td>\n",
              "      <td>1</td>\n",
              "      <td>0</td>\n",
              "      <td>0</td>\n",
              "      <td>0</td>\n",
              "      <td>0</td>\n",
              "    </tr>\n",
              "  </tbody>\n",
              "</table>\n",
              "</div>"
            ],
            "text/plain": [
              "     dia  mes  ...  dia_da_semana_sexta  dia_da_semana_terca\n",
              "410   25    7  ...                    0                    0\n",
              "411   27    7  ...                    0                    0\n",
              "412   28    7  ...                    0                    1\n",
              "413   29    7  ...                    0                    0\n",
              "414   30    7  ...                    0                    0\n",
              "\n",
              "[5 rows x 9 columns]"
            ]
          },
          "metadata": {
            "tags": []
          },
          "execution_count": 28
        }
      ]
    },
    {
      "cell_type": "markdown",
      "metadata": {
        "id": "WwnkdKdj3thX"
      },
      "source": [
        " - Com essa divisão, sem aleatoriedade, garantimos que não haja vazamento de dados do conjunto de teste.\n",
        "    \n",
        " - Esse vazamento iria interferir no resultado do modelo."
      ]
    },
    {
      "cell_type": "markdown",
      "metadata": {
        "id": "pjiBzKngj73E"
      },
      "source": [
        " - Modelo \"Baseline\" (Ponto de partida)"
      ]
    },
    {
      "cell_type": "code",
      "metadata": {
        "id": "gmMimwFIj73F"
      },
      "source": [
        "from sklearn.linear_model import LinearRegression"
      ],
      "execution_count": 29,
      "outputs": []
    },
    {
      "cell_type": "code",
      "metadata": {
        "colab": {
          "base_uri": "https://localhost:8080/"
        },
        "id": "MC0kLmWAj73G",
        "outputId": "993598b5-1e5d-440e-bf05-c11526990a26"
      },
      "source": [
        "lr = LinearRegression()\n",
        "lr.fit(X_treino, Y_treino)\n",
        "lr.score(X_teste, Y_teste)"
      ],
      "execution_count": 30,
      "outputs": [
        {
          "output_type": "execute_result",
          "data": {
            "text/plain": [
              "0.3984098057837479"
            ]
          },
          "metadata": {
            "tags": []
          },
          "execution_count": 30
        }
      ]
    },
    {
      "cell_type": "code",
      "metadata": {
        "id": "TnGfLGIR1J9M"
      },
      "source": [
        "y_pred = lr.predict(X_teste)"
      ],
      "execution_count": 31,
      "outputs": []
    },
    {
      "cell_type": "code",
      "metadata": {
        "id": "nfJkTPSS3ACH"
      },
      "source": [
        "from sklearn.metrics import mean_absolute_error,mean_squared_error, r2_score"
      ],
      "execution_count": 32,
      "outputs": []
    },
    {
      "cell_type": "code",
      "metadata": {
        "colab": {
          "base_uri": "https://localhost:8080/"
        },
        "id": "PnJrevmC1KF0",
        "outputId": "9f11ac62-0525-48d0-99e1-b04e418fc89d"
      },
      "source": [
        "MAE  = mean_absolute_error(Y_teste,y_pred)\n",
        "MSE  = mean_squared_error(Y_teste,y_pred)\n",
        "RMSE = np.sqrt(mean_squared_error(Y_teste,y_pred))\n",
        "R2 = r2_score(Y_teste, y_pred)\n",
        "\n",
        "print('MAE = {:0.4f}'.format(MAE))\n",
        "print('MSE = {:0.4f}'.format(MSE))\n",
        "print('RMSE = {:0.4f}'.format(RMSE))\n",
        "print('R2 = {:0.4f}'.format(R2))"
      ],
      "execution_count": 33,
      "outputs": [
        {
          "output_type": "stream",
          "text": [
            "MAE = 1.7604\n",
            "MSE = 3.8782\n",
            "RMSE = 1.9693\n",
            "R2 = 0.3984\n"
          ],
          "name": "stdout"
        }
      ]
    },
    {
      "cell_type": "markdown",
      "metadata": {
        "id": "Hxh6YdL4j73I"
      },
      "source": [
        " - Machine learning"
      ]
    },
    {
      "cell_type": "code",
      "metadata": {
        "colab": {
          "base_uri": "https://localhost:8080/"
        },
        "id": "dMiPo22hj73I",
        "outputId": "88bb6937-ad5c-4c43-dbb3-76f86b097b74"
      },
      "source": [
        "from sklearn.neighbors import KNeighborsRegressor\n",
        "neigh = KNeighborsRegressor(n_neighbors=5)\n",
        "neigh.fit(X_treino,Y_treino)"
      ],
      "execution_count": 34,
      "outputs": [
        {
          "output_type": "execute_result",
          "data": {
            "text/plain": [
              "KNeighborsRegressor(algorithm='auto', leaf_size=30, metric='minkowski',\n",
              "                    metric_params=None, n_jobs=None, n_neighbors=5, p=2,\n",
              "                    weights='uniform')"
            ]
          },
          "metadata": {
            "tags": []
          },
          "execution_count": 34
        }
      ]
    },
    {
      "cell_type": "code",
      "metadata": {
        "id": "MagjA7CKj73J"
      },
      "source": [
        "y_pred = neigh.predict(X_teste)"
      ],
      "execution_count": 35,
      "outputs": []
    },
    {
      "cell_type": "code",
      "metadata": {
        "colab": {
          "base_uri": "https://localhost:8080/"
        },
        "id": "9OTMZuvXj73J",
        "outputId": "ab3bf86c-b8a8-4ba8-9f19-886bc904ea6e"
      },
      "source": [
        "# Root Mean Squared Error\n",
        "np.sqrt(np.mean((y_pred-Y_teste.values)**2))"
      ],
      "execution_count": 36,
      "outputs": [
        {
          "output_type": "execute_result",
          "data": {
            "text/plain": [
              "1.343341387970408"
            ]
          },
          "metadata": {
            "tags": []
          },
          "execution_count": 36
        }
      ]
    },
    {
      "cell_type": "code",
      "metadata": {
        "colab": {
          "base_uri": "https://localhost:8080/"
        },
        "id": "5ZPIpn5yj73J",
        "outputId": "3e35e739-4fc3-44e0-dc42-b810d7d27084"
      },
      "source": [
        "# Mean Squared Error\n",
        "np.mean((y_pred-Y_teste.values)**2)"
      ],
      "execution_count": 37,
      "outputs": [
        {
          "output_type": "execute_result",
          "data": {
            "text/plain": [
              "1.804566084634262"
            ]
          },
          "metadata": {
            "tags": []
          },
          "execution_count": 37
        }
      ]
    },
    {
      "cell_type": "code",
      "metadata": {
        "colab": {
          "base_uri": "https://localhost:8080/"
        },
        "id": "-uX7OgMvj73K",
        "outputId": "745abbac-fbf5-4a65-c712-699db099df62"
      },
      "source": [
        "# Mean Absolute Error\n",
        "np.mean(np.abs(y_pred-Y_teste.values))"
      ],
      "execution_count": 38,
      "outputs": [
        {
          "output_type": "execute_result",
          "data": {
            "text/plain": [
              "0.9615861659541157"
            ]
          },
          "metadata": {
            "tags": []
          },
          "execution_count": 38
        }
      ]
    },
    {
      "cell_type": "code",
      "metadata": {
        "colab": {
          "base_uri": "https://localhost:8080/"
        },
        "id": "vN4zrRBPj73K",
        "outputId": "5a547ffa-e737-4999-8f90-677dafe74258"
      },
      "source": [
        "# R2 Score\n",
        "from sklearn.metrics import r2_score\n",
        "r2_score(Y_teste, y_pred)"
      ],
      "execution_count": 39,
      "outputs": [
        {
          "output_type": "execute_result",
          "data": {
            "text/plain": [
              "0.7200758833796201"
            ]
          },
          "metadata": {
            "tags": []
          },
          "execution_count": 39
        }
      ]
    },
    {
      "cell_type": "markdown",
      "metadata": {
        "id": "ywu22-kWj73L"
      },
      "source": [
        " - Triagem com outros modelos"
      ]
    },
    {
      "cell_type": "code",
      "metadata": {
        "colab": {
          "base_uri": "https://localhost:8080/"
        },
        "id": "CztGCpz8j73L",
        "outputId": "0f5d6b7b-d6d8-4a9f-e4ec-eee60ca31bce"
      },
      "source": [
        "from sklearn.tree import DecisionTreeRegressor\n",
        "from sklearn.ensemble import RandomForestRegressor\n",
        "from sklearn.neural_network import MLPRegressor\n",
        "from xgboost import XGBRegressor\n",
        "\n",
        "\n",
        "regressor_list = [\n",
        "                  DecisionTreeRegressor(),\n",
        "                  RandomForestRegressor(),\n",
        "                  MLPRegressor(),\n",
        "                  XGBRegressor(),\n",
        "           \n",
        "                  ]\n",
        "\n",
        "for reg in regressor_list:\n",
        "  print('Treinando', reg.__class__.__name__)\n",
        "  reg.fit(X_treino, Y_treino)\n",
        "  train_score = reg.score(X_treino, Y_treino)\n",
        "  test_score = reg.score(X_teste, Y_teste)\n",
        "  print('Train score', train_score)\n",
        "  print('Test score', test_score)\n",
        "  print('='*80)"
      ],
      "execution_count": 40,
      "outputs": [
        {
          "output_type": "stream",
          "text": [
            "Treinando DecisionTreeRegressor\n",
            "Train score 1.0\n",
            "Test score 0.9046721084088317\n",
            "================================================================================\n",
            "Treinando RandomForestRegressor\n",
            "Train score 0.9899525185132356\n",
            "Test score 0.9517548923475212\n",
            "================================================================================\n",
            "Treinando MLPRegressor\n",
            "Train score 0.9103006640277795\n",
            "Test score 0.9213913946715773\n",
            "================================================================================\n",
            "Treinando XGBRegressor\n",
            "[15:42:28] WARNING: /workspace/src/objective/regression_obj.cu:152: reg:linear is now deprecated in favor of reg:squarederror.\n",
            "Train score 0.9646897390046746\n",
            "Test score 0.9552335830903237\n",
            "================================================================================\n"
          ],
          "name": "stdout"
        },
        {
          "output_type": "stream",
          "text": [
            "/usr/local/lib/python3.7/dist-packages/sklearn/neural_network/_multilayer_perceptron.py:571: ConvergenceWarning: Stochastic Optimizer: Maximum iterations (200) reached and the optimization hasn't converged yet.\n",
            "  % self.max_iter, ConvergenceWarning)\n"
          ],
          "name": "stderr"
        }
      ]
    },
    {
      "cell_type": "markdown",
      "metadata": {
        "id": "D_hIhD3Oj73M"
      },
      "source": [
        "- Repetindo com validação cruzada."
      ]
    },
    {
      "cell_type": "code",
      "metadata": {
        "colab": {
          "base_uri": "https://localhost:8080/"
        },
        "id": "54qeW69zj73M",
        "outputId": "8c825286-6d67-4c59-f3e9-d0efb2a39efc"
      },
      "source": [
        "# repetindo processo com validação cruzada\n",
        "import warnings\n",
        "warnings.filterwarnings(\"ignore\")\n",
        "\n",
        "from sklearn.tree import DecisionTreeRegressor\n",
        "from sklearn.ensemble import RandomForestRegressor\n",
        "from sklearn.neural_network import MLPRegressor\n",
        "from xgboost import XGBRegressor\n",
        "from sklearn.model_selection import cross_val_score\n",
        "\n",
        "\n",
        "regressor_list = [\n",
        "                  DecisionTreeRegressor(),\n",
        "                  RandomForestRegressor(),\n",
        "                  MLPRegressor(),\n",
        "                  XGBRegressor(),\n",
        "                  ]\n",
        "\n",
        "for reg in regressor_list:\n",
        "  print('Treinando', reg.__class__.__name__)\n",
        "  reg.fit(X_treino, Y_treino)\n",
        "  train_score = reg.score(X_treino, Y_treino)\n",
        "  val_score = cross_val_score(reg, X_treino, Y_treino, cv=5)\n",
        "  test_score = reg.score(X_teste, Y_teste)\n",
        "  print('Train score', train_score)\n",
        "  print('Validation score', val_score.mean())\n",
        "  print('Test score', test_score)\n",
        "  print('='*80)"
      ],
      "execution_count": 41,
      "outputs": [
        {
          "output_type": "stream",
          "text": [
            "Treinando DecisionTreeRegressor\n",
            "Train score 1.0\n",
            "Validation score 0.8404840176610111\n",
            "Test score 0.9169599923231078\n",
            "================================================================================\n",
            "Treinando RandomForestRegressor\n",
            "Train score 0.9894022967611694\n",
            "Validation score 0.9122717710873062\n",
            "Test score 0.9522836079414281\n",
            "================================================================================\n",
            "Treinando MLPRegressor\n",
            "Train score 0.9018433681091839\n",
            "Validation score 0.7998384791775682\n",
            "Test score 0.9218715988109158\n",
            "================================================================================\n",
            "Treinando XGBRegressor\n",
            "[15:42:43] WARNING: /workspace/src/objective/regression_obj.cu:152: reg:linear is now deprecated in favor of reg:squarederror.\n",
            "[15:42:43] WARNING: /workspace/src/objective/regression_obj.cu:152: reg:linear is now deprecated in favor of reg:squarederror.\n",
            "[15:42:43] WARNING: /workspace/src/objective/regression_obj.cu:152: reg:linear is now deprecated in favor of reg:squarederror.\n",
            "[15:42:43] WARNING: /workspace/src/objective/regression_obj.cu:152: reg:linear is now deprecated in favor of reg:squarederror.\n",
            "[15:42:43] WARNING: /workspace/src/objective/regression_obj.cu:152: reg:linear is now deprecated in favor of reg:squarederror.\n",
            "[15:42:43] WARNING: /workspace/src/objective/regression_obj.cu:152: reg:linear is now deprecated in favor of reg:squarederror.\n",
            "Train score 0.9646897390046746\n",
            "Validation score 0.9280527432671214\n",
            "Test score 0.9552335830903237\n",
            "================================================================================\n"
          ],
          "name": "stdout"
        }
      ]
    },
    {
      "cell_type": "markdown",
      "metadata": {
        "id": "M6ytccOk8se8"
      },
      "source": [
        " - De acordo com os scores acima, o modelo que obteve o melhor resultado foi RandomForest.\n",
        " \n",
        " - Agora vamos calcular o erro."
      ]
    },
    {
      "cell_type": "code",
      "metadata": {
        "id": "xeQIUHo98zaV"
      },
      "source": [
        "reg = RandomForestRegressor()"
      ],
      "execution_count": 42,
      "outputs": []
    },
    {
      "cell_type": "code",
      "metadata": {
        "colab": {
          "base_uri": "https://localhost:8080/"
        },
        "id": "E_6i8Z_s8883",
        "outputId": "cfba2469-0e9c-4359-a3a0-9b98cdd85477"
      },
      "source": [
        "reg.fit(X_treino, Y_treino)"
      ],
      "execution_count": 43,
      "outputs": [
        {
          "output_type": "execute_result",
          "data": {
            "text/plain": [
              "RandomForestRegressor(bootstrap=True, ccp_alpha=0.0, criterion='mse',\n",
              "                      max_depth=None, max_features='auto', max_leaf_nodes=None,\n",
              "                      max_samples=None, min_impurity_decrease=0.0,\n",
              "                      min_impurity_split=None, min_samples_leaf=1,\n",
              "                      min_samples_split=2, min_weight_fraction_leaf=0.0,\n",
              "                      n_estimators=100, n_jobs=None, oob_score=False,\n",
              "                      random_state=None, verbose=0, warm_start=False)"
            ]
          },
          "metadata": {
            "tags": []
          },
          "execution_count": 43
        }
      ]
    },
    {
      "cell_type": "code",
      "metadata": {
        "id": "l4uyvBFw8zgv"
      },
      "source": [
        "y_pred = reg.predict(X_teste)"
      ],
      "execution_count": 44,
      "outputs": []
    },
    {
      "cell_type": "code",
      "metadata": {
        "colab": {
          "base_uri": "https://localhost:8080/"
        },
        "id": "Y0Qa1Sk68rJ0",
        "outputId": "a5ed6772-faa6-463d-924a-4ea718101d2c"
      },
      "source": [
        "MAE  = mean_absolute_error(Y_teste,y_pred)\n",
        "MSE  = mean_squared_error(Y_teste,y_pred)\n",
        "RMSE = np.sqrt(mean_squared_error(Y_teste,y_pred))\n",
        "R2 = r2_score(Y_teste, y_pred)\n",
        "\n",
        "print('MAE = {:0.8f}'.format(MAE))\n",
        "print('MSE = {:0.8f}'.format(MSE))\n",
        "print('RMSE = {:0.8f}'.format(RMSE))\n",
        "print('R2 = {:0.8}'.format(R2))"
      ],
      "execution_count": 45,
      "outputs": [
        {
          "output_type": "stream",
          "text": [
            "MAE = 0.37873818\n",
            "MSE = 0.29785222\n",
            "RMSE = 0.54575839\n",
            "R2 = 0.95379719\n"
          ],
          "name": "stdout"
        }
      ]
    },
    {
      "cell_type": "markdown",
      "metadata": {
        "id": "Pe9_m7793thy"
      },
      "source": [
        " - Visualizando o comportamento do y_pred e Y_teste."
      ]
    },
    {
      "cell_type": "code",
      "metadata": {
        "id": "HDo-6U0y3th7",
        "colab": {
          "base_uri": "https://localhost:8080/",
          "height": 283
        },
        "outputId": "cb1bc692-c212-4017-f5bf-d49e6649e82e"
      },
      "source": [
        "plt.plot(Y_teste.values)\n",
        "plt.plot(y_pred)"
      ],
      "execution_count": 46,
      "outputs": [
        {
          "output_type": "execute_result",
          "data": {
            "text/plain": [
              "[<matplotlib.lines.Line2D at 0x7f34bafded90>]"
            ]
          },
          "metadata": {
            "tags": []
          },
          "execution_count": 46
        },
        {
          "output_type": "display_data",
          "data": {
            "image/png": "[encoded data removed]",
            "text/plain": [
              "<Figure size 432x288 with 1 Axes>"
            ]
          },
          "metadata": {
            "tags": [],
            "needs_background": "light"
          }
        }
      ]
    },
    {
      "cell_type": "code",
      "metadata": {
        "id": "gPu5-XCD3th_",
        "colab": {
          "base_uri": "https://localhost:8080/",
          "height": 282
        },
        "outputId": "e00c145f-ff91-41ff-ae5d-0f987069d174"
      },
      "source": [
        "plt.plot(np.expm1(Y_teste.values))\n",
        "plt.plot(np.expm1(y_pred))"
      ],
      "execution_count": 47,
      "outputs": [
        {
          "output_type": "execute_result",
          "data": {
            "text/plain": [
              "[<matplotlib.lines.Line2D at 0x7f34baec5690>]"
            ]
          },
          "metadata": {
            "tags": []
          },
          "execution_count": 47
        },
        {
          "output_type": "display_data",
          "data": {
            "image/png": "[encoded data removed]",
            "text/plain": [
              "<Figure size 432x288 with 1 Axes>"
            ]
          },
          "metadata": {
            "tags": [],
            "needs_background": "light"
          }
        }
      ]
    }
  ]
}