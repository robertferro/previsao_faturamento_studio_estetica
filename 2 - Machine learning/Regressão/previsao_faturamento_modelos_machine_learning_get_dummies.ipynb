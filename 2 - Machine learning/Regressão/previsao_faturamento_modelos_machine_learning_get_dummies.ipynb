{
 "cells": [
  {
   "cell_type": "markdown",
   "metadata": {
    "id": "ksEadj9Vj72Y"
   },
   "source": [
    "## 1- Objetivo\n",
    " \n",
    " - Encontrar o melhor modelo para a previsão de faturamento.\n",
    " \n",
    "  - Neste notebok , ao invés de utilizar label encoder para converter a variável categórica, será utilizado getdummies."
   ]
  },
  {
   "cell_type": "markdown",
   "metadata": {
    "id": "a8rX1maGj72w"
   },
   "source": [
    " - Importando os dados pre-processados"
   ]
  },
  {
   "cell_type": "code",
   "execution_count": 1,
   "metadata": {
    "id": "_FB7LcA1j72y"
   },
   "outputs": [],
   "source": [
    "import pandas as pd\n",
    "import numpy as np\n",
    "import seaborn as sns\n",
    "import matplotlib.pyplot as plt\n",
    "import datetime\n",
    "from datetime import date"
   ]
  },
  {
   "cell_type": "code",
   "execution_count": 2,
   "metadata": {
    "id": "gzeRdhOjj720"
   },
   "outputs": [],
   "source": [
    "url = 'https://raw.githubusercontent.com/robertferro/studio-estetica/main/dados_modelagem.csv'"
   ]
  },
  {
   "cell_type": "code",
   "execution_count": 3,
   "metadata": {
    "id": "JFOJzTzgj720"
   },
   "outputs": [],
   "source": [
    "dados = pd.read_csv(url, sep = ',')"
   ]
  },
  {
   "cell_type": "code",
   "execution_count": 4,
   "metadata": {
    "colab": {
     "base_uri": "https://localhost:8080/",
     "height": 241
    },
    "id": "Dnrh_3dij721",
    "outputId": "2bdc4f42-2725-44b9-908b-75a1f3ff023b"
   },
   "outputs": [
    {
     "data": {
      "text/html": [
       "<div>\n",
       "<style scoped>\n",
       "    .dataframe tbody tr th:only-of-type {\n",
       "        vertical-align: middle;\n",
       "    }\n",
       "\n",
       "    .dataframe tbody tr th {\n",
       "        vertical-align: top;\n",
       "    }\n",
       "\n",
       "    .dataframe thead th {\n",
       "        text-align: right;\n",
       "    }\n",
       "</style>\n",
       "<table border=\"1\" class=\"dataframe\">\n",
       "  <thead>\n",
       "    <tr style=\"text-align: right;\">\n",
       "      <th></th>\n",
       "      <th>Unnamed: 0</th>\n",
       "      <th>data_atendimento</th>\n",
       "      <th>design_de_sobrancelhas</th>\n",
       "      <th>design_coloracao</th>\n",
       "      <th>design_coloracao_buco</th>\n",
       "      <th>buco</th>\n",
       "      <th>brown_lamination</th>\n",
       "      <th>micropigmentacao</th>\n",
       "      <th>extensao_de_cilios</th>\n",
       "      <th>lash_lifting</th>\n",
       "      <th>...</th>\n",
       "      <th>massagem_relaxante</th>\n",
       "      <th>pacote_massagem_5</th>\n",
       "      <th>drenagem_linfatica</th>\n",
       "      <th>striort</th>\n",
       "      <th>qtde_clientes</th>\n",
       "      <th>faturamento</th>\n",
       "      <th>ano</th>\n",
       "      <th>dia</th>\n",
       "      <th>mes</th>\n",
       "      <th>dia_da_semana</th>\n",
       "    </tr>\n",
       "  </thead>\n",
       "  <tbody>\n",
       "    <tr>\n",
       "      <th>0</th>\n",
       "      <td>1</td>\n",
       "      <td>2018-12-22</td>\n",
       "      <td>0.0</td>\n",
       "      <td>0.0</td>\n",
       "      <td>7.0</td>\n",
       "      <td>0.0</td>\n",
       "      <td>0.0</td>\n",
       "      <td>0.0</td>\n",
       "      <td>0.0</td>\n",
       "      <td>0.0</td>\n",
       "      <td>...</td>\n",
       "      <td>0.0</td>\n",
       "      <td>0.0</td>\n",
       "      <td>0.0</td>\n",
       "      <td>0.0</td>\n",
       "      <td>7.0</td>\n",
       "      <td>270.0</td>\n",
       "      <td>23</td>\n",
       "      <td>2018</td>\n",
       "      <td>12</td>\n",
       "      <td>sabado</td>\n",
       "    </tr>\n",
       "    <tr>\n",
       "      <th>1</th>\n",
       "      <td>2</td>\n",
       "      <td>2018-12-24</td>\n",
       "      <td>0.0</td>\n",
       "      <td>0.0</td>\n",
       "      <td>0.0</td>\n",
       "      <td>0.0</td>\n",
       "      <td>0.0</td>\n",
       "      <td>0.0</td>\n",
       "      <td>0.0</td>\n",
       "      <td>0.0</td>\n",
       "      <td>...</td>\n",
       "      <td>0.0</td>\n",
       "      <td>0.0</td>\n",
       "      <td>0.0</td>\n",
       "      <td>0.0</td>\n",
       "      <td>0.0</td>\n",
       "      <td>0.0</td>\n",
       "      <td>24</td>\n",
       "      <td>2018</td>\n",
       "      <td>12</td>\n",
       "      <td>segunda</td>\n",
       "    </tr>\n",
       "    <tr>\n",
       "      <th>2</th>\n",
       "      <td>3</td>\n",
       "      <td>2018-12-25</td>\n",
       "      <td>0.0</td>\n",
       "      <td>0.0</td>\n",
       "      <td>0.0</td>\n",
       "      <td>0.0</td>\n",
       "      <td>0.0</td>\n",
       "      <td>0.0</td>\n",
       "      <td>0.0</td>\n",
       "      <td>0.0</td>\n",
       "      <td>...</td>\n",
       "      <td>0.0</td>\n",
       "      <td>0.0</td>\n",
       "      <td>0.0</td>\n",
       "      <td>0.0</td>\n",
       "      <td>0.0</td>\n",
       "      <td>0.0</td>\n",
       "      <td>25</td>\n",
       "      <td>2018</td>\n",
       "      <td>12</td>\n",
       "      <td>terca</td>\n",
       "    </tr>\n",
       "    <tr>\n",
       "      <th>3</th>\n",
       "      <td>4</td>\n",
       "      <td>2018-12-26</td>\n",
       "      <td>1.0</td>\n",
       "      <td>0.0</td>\n",
       "      <td>1.0</td>\n",
       "      <td>1.0</td>\n",
       "      <td>0.0</td>\n",
       "      <td>1.0</td>\n",
       "      <td>1.0</td>\n",
       "      <td>0.0</td>\n",
       "      <td>...</td>\n",
       "      <td>0.0</td>\n",
       "      <td>0.0</td>\n",
       "      <td>0.0</td>\n",
       "      <td>0.0</td>\n",
       "      <td>4.0</td>\n",
       "      <td>560.0</td>\n",
       "      <td>26</td>\n",
       "      <td>2018</td>\n",
       "      <td>12</td>\n",
       "      <td>quarta</td>\n",
       "    </tr>\n",
       "    <tr>\n",
       "      <th>4</th>\n",
       "      <td>5</td>\n",
       "      <td>2018-12-27</td>\n",
       "      <td>0.0</td>\n",
       "      <td>0.0</td>\n",
       "      <td>1.0</td>\n",
       "      <td>0.0</td>\n",
       "      <td>0.0</td>\n",
       "      <td>0.0</td>\n",
       "      <td>0.0</td>\n",
       "      <td>0.0</td>\n",
       "      <td>...</td>\n",
       "      <td>0.0</td>\n",
       "      <td>0.0</td>\n",
       "      <td>0.0</td>\n",
       "      <td>0.0</td>\n",
       "      <td>2.0</td>\n",
       "      <td>90.0</td>\n",
       "      <td>27</td>\n",
       "      <td>2018</td>\n",
       "      <td>12</td>\n",
       "      <td>quinta</td>\n",
       "    </tr>\n",
       "  </tbody>\n",
       "</table>\n",
       "<p>5 rows × 23 columns</p>\n",
       "</div>"
      ],
      "text/plain": [
       "   Unnamed: 0 data_atendimento  design_de_sobrancelhas  design_coloracao  \\\n",
       "0           1       2018-12-22                     0.0               0.0   \n",
       "1           2       2018-12-24                     0.0               0.0   \n",
       "2           3       2018-12-25                     0.0               0.0   \n",
       "3           4       2018-12-26                     1.0               0.0   \n",
       "4           5       2018-12-27                     0.0               0.0   \n",
       "\n",
       "   design_coloracao_buco  buco  brown_lamination  micropigmentacao  \\\n",
       "0                    7.0   0.0               0.0               0.0   \n",
       "1                    0.0   0.0               0.0               0.0   \n",
       "2                    0.0   0.0               0.0               0.0   \n",
       "3                    1.0   1.0               0.0               1.0   \n",
       "4                    1.0   0.0               0.0               0.0   \n",
       "\n",
       "   extensao_de_cilios  lash_lifting  ...  massagem_relaxante  \\\n",
       "0                 0.0           0.0  ...                 0.0   \n",
       "1                 0.0           0.0  ...                 0.0   \n",
       "2                 0.0           0.0  ...                 0.0   \n",
       "3                 1.0           0.0  ...                 0.0   \n",
       "4                 0.0           0.0  ...                 0.0   \n",
       "\n",
       "   pacote_massagem_5  drenagem_linfatica  striort  qtde_clientes  faturamento  \\\n",
       "0                0.0                 0.0      0.0            7.0        270.0   \n",
       "1                0.0                 0.0      0.0            0.0          0.0   \n",
       "2                0.0                 0.0      0.0            0.0          0.0   \n",
       "3                0.0                 0.0      0.0            4.0        560.0   \n",
       "4                0.0                 0.0      0.0            2.0         90.0   \n",
       "\n",
       "   ano   dia  mes  dia_da_semana  \n",
       "0   23  2018   12         sabado  \n",
       "1   24  2018   12        segunda  \n",
       "2   25  2018   12          terca  \n",
       "3   26  2018   12         quarta  \n",
       "4   27  2018   12         quinta  \n",
       "\n",
       "[5 rows x 23 columns]"
      ]
     },
     "execution_count": 4,
     "metadata": {},
     "output_type": "execute_result"
    }
   ],
   "source": [
    "dados.head()"
   ]
  },
  {
   "cell_type": "code",
   "execution_count": 5,
   "metadata": {},
   "outputs": [
    {
     "name": "stdout",
     "output_type": "stream",
     "text": [
      "<class 'pandas.core.frame.DataFrame'>\n",
      "RangeIndex: 740 entries, 0 to 739\n",
      "Data columns (total 23 columns):\n",
      " #   Column                  Non-Null Count  Dtype  \n",
      "---  ------                  --------------  -----  \n",
      " 0   Unnamed: 0              740 non-null    int64  \n",
      " 1   data_atendimento        740 non-null    object \n",
      " 2   design_de_sobrancelhas  740 non-null    float64\n",
      " 3   design_coloracao        740 non-null    float64\n",
      " 4   design_coloracao_buco   740 non-null    float64\n",
      " 5   buco                    740 non-null    float64\n",
      " 6   brown_lamination        740 non-null    float64\n",
      " 7   micropigmentacao        740 non-null    float64\n",
      " 8   extensao_de_cilios      740 non-null    float64\n",
      " 9   lash_lifting            740 non-null    float64\n",
      " 10  limpeza_de_pele         740 non-null    float64\n",
      " 11  microagulhamento        740 non-null    float64\n",
      " 12  peeling_quimico         740 non-null    float64\n",
      " 13  massagem_relaxante      740 non-null    float64\n",
      " 14  pacote_massagem_5       740 non-null    float64\n",
      " 15  drenagem_linfatica      740 non-null    float64\n",
      " 16  striort                 740 non-null    float64\n",
      " 17  qtde_clientes           740 non-null    float64\n",
      " 18  faturamento             740 non-null    float64\n",
      " 19  ano                     740 non-null    int64  \n",
      " 20  dia                     740 non-null    int64  \n",
      " 21  mes                     740 non-null    int64  \n",
      " 22  dia_da_semana           740 non-null    object \n",
      "dtypes: float64(17), int64(4), object(2)\n",
      "memory usage: 133.1+ KB\n"
     ]
    }
   ],
   "source": [
    "dados.info()"
   ]
  },
  {
   "cell_type": "markdown",
   "metadata": {
    "id": "z9XKaiHNj722"
   },
   "source": [
    "## 2. Manipulação de dados.\n",
    "\n",
    "\n",
    " - Criando novas colunas referentes a data que vão auxiliar o algoritmo."
   ]
  },
  {
   "cell_type": "markdown",
   "metadata": {},
   "source": [
    " - Excluindo a coluna Unnamed."
   ]
  },
  {
   "cell_type": "code",
   "execution_count": 6,
   "metadata": {
    "id": "h2X_bNAJj723"
   },
   "outputs": [],
   "source": [
    "dados = dados.drop('Unnamed: 0' , axis = 1)"
   ]
  },
  {
   "cell_type": "markdown",
   "metadata": {},
   "source": [
    "- Convertendo a coluna data_atendimento para formato datetime."
   ]
  },
  {
   "cell_type": "code",
   "execution_count": 7,
   "metadata": {},
   "outputs": [],
   "source": [
    "dados['data_atendimento'] = pd.to_datetime(dados['data_atendimento'],format=r\"%Y/%m/%d\")"
   ]
  },
  {
   "cell_type": "code",
   "execution_count": 8,
   "metadata": {
    "colab": {
     "base_uri": "https://localhost:8080/"
    },
    "id": "APM3TRSkj725",
    "outputId": "08ac68c6-0f4e-4061-b0ae-62b8fe5059c8"
   },
   "outputs": [
    {
     "name": "stdout",
     "output_type": "stream",
     "text": [
      "<class 'pandas.core.frame.DataFrame'>\n",
      "RangeIndex: 740 entries, 0 to 739\n",
      "Data columns (total 22 columns):\n",
      " #   Column                  Non-Null Count  Dtype         \n",
      "---  ------                  --------------  -----         \n",
      " 0   data_atendimento        740 non-null    datetime64[ns]\n",
      " 1   design_de_sobrancelhas  740 non-null    float64       \n",
      " 2   design_coloracao        740 non-null    float64       \n",
      " 3   design_coloracao_buco   740 non-null    float64       \n",
      " 4   buco                    740 non-null    float64       \n",
      " 5   brown_lamination        740 non-null    float64       \n",
      " 6   micropigmentacao        740 non-null    float64       \n",
      " 7   extensao_de_cilios      740 non-null    float64       \n",
      " 8   lash_lifting            740 non-null    float64       \n",
      " 9   limpeza_de_pele         740 non-null    float64       \n",
      " 10  microagulhamento        740 non-null    float64       \n",
      " 11  peeling_quimico         740 non-null    float64       \n",
      " 12  massagem_relaxante      740 non-null    float64       \n",
      " 13  pacote_massagem_5       740 non-null    float64       \n",
      " 14  drenagem_linfatica      740 non-null    float64       \n",
      " 15  striort                 740 non-null    float64       \n",
      " 16  qtde_clientes           740 non-null    float64       \n",
      " 17  faturamento             740 non-null    float64       \n",
      " 18  ano                     740 non-null    int64         \n",
      " 19  dia                     740 non-null    int64         \n",
      " 20  mes                     740 non-null    int64         \n",
      " 21  dia_da_semana           740 non-null    object        \n",
      "dtypes: datetime64[ns](1), float64(17), int64(3), object(1)\n",
      "memory usage: 127.3+ KB\n"
     ]
    }
   ],
   "source": [
    "dados.info()"
   ]
  },
  {
   "cell_type": "markdown",
   "metadata": {
    "id": "MCHyK1GLpV7g"
   },
   "source": [
    "###  Excluindo os dados referentes ao periodo da pandemia e aos dias de domingo.\n",
    " \n",
    "     Pandemia: Período de 20 de marco a 1 de julho."
   ]
  },
  {
   "cell_type": "code",
   "execution_count": 9,
   "metadata": {
    "colab": {
     "base_uri": "https://localhost:8080/",
     "height": 439
    },
    "id": "SQzOlKhjpV7j",
    "outputId": "09cf1560-cad9-4fb1-b918-ee3b96caa8d0"
   },
   "outputs": [
    {
     "data": {
      "text/html": [
       "<div>\n",
       "<style scoped>\n",
       "    .dataframe tbody tr th:only-of-type {\n",
       "        vertical-align: middle;\n",
       "    }\n",
       "\n",
       "    .dataframe tbody tr th {\n",
       "        vertical-align: top;\n",
       "    }\n",
       "\n",
       "    .dataframe thead th {\n",
       "        text-align: right;\n",
       "    }\n",
       "</style>\n",
       "<table border=\"1\" class=\"dataframe\">\n",
       "  <thead>\n",
       "    <tr style=\"text-align: right;\">\n",
       "      <th></th>\n",
       "      <th>data_atendimento</th>\n",
       "      <th>design_de_sobrancelhas</th>\n",
       "      <th>design_coloracao</th>\n",
       "      <th>design_coloracao_buco</th>\n",
       "      <th>buco</th>\n",
       "      <th>brown_lamination</th>\n",
       "      <th>micropigmentacao</th>\n",
       "      <th>extensao_de_cilios</th>\n",
       "      <th>lash_lifting</th>\n",
       "      <th>limpeza_de_pele</th>\n",
       "      <th>...</th>\n",
       "      <th>massagem_relaxante</th>\n",
       "      <th>pacote_massagem_5</th>\n",
       "      <th>drenagem_linfatica</th>\n",
       "      <th>striort</th>\n",
       "      <th>qtde_clientes</th>\n",
       "      <th>faturamento</th>\n",
       "      <th>ano</th>\n",
       "      <th>dia</th>\n",
       "      <th>mes</th>\n",
       "      <th>dia_da_semana</th>\n",
       "    </tr>\n",
       "  </thead>\n",
       "  <tbody>\n",
       "    <tr>\n",
       "      <th>453</th>\n",
       "      <td>2020-03-20</td>\n",
       "      <td>0.0</td>\n",
       "      <td>0.0</td>\n",
       "      <td>0.0</td>\n",
       "      <td>0.0</td>\n",
       "      <td>0.0</td>\n",
       "      <td>0.0</td>\n",
       "      <td>0.0</td>\n",
       "      <td>0.0</td>\n",
       "      <td>0.0</td>\n",
       "      <td>...</td>\n",
       "      <td>0.0</td>\n",
       "      <td>0.0</td>\n",
       "      <td>0.0</td>\n",
       "      <td>0.0</td>\n",
       "      <td>0.0</td>\n",
       "      <td>0.0</td>\n",
       "      <td>20</td>\n",
       "      <td>2020</td>\n",
       "      <td>3</td>\n",
       "      <td>sexta</td>\n",
       "    </tr>\n",
       "    <tr>\n",
       "      <th>454</th>\n",
       "      <td>2020-03-21</td>\n",
       "      <td>0.0</td>\n",
       "      <td>0.0</td>\n",
       "      <td>0.0</td>\n",
       "      <td>0.0</td>\n",
       "      <td>0.0</td>\n",
       "      <td>0.0</td>\n",
       "      <td>0.0</td>\n",
       "      <td>0.0</td>\n",
       "      <td>0.0</td>\n",
       "      <td>...</td>\n",
       "      <td>0.0</td>\n",
       "      <td>0.0</td>\n",
       "      <td>0.0</td>\n",
       "      <td>0.0</td>\n",
       "      <td>0.0</td>\n",
       "      <td>0.0</td>\n",
       "      <td>21</td>\n",
       "      <td>2020</td>\n",
       "      <td>3</td>\n",
       "      <td>sabado</td>\n",
       "    </tr>\n",
       "    <tr>\n",
       "      <th>455</th>\n",
       "      <td>2020-03-22</td>\n",
       "      <td>0.0</td>\n",
       "      <td>0.0</td>\n",
       "      <td>0.0</td>\n",
       "      <td>0.0</td>\n",
       "      <td>0.0</td>\n",
       "      <td>0.0</td>\n",
       "      <td>0.0</td>\n",
       "      <td>0.0</td>\n",
       "      <td>0.0</td>\n",
       "      <td>...</td>\n",
       "      <td>0.0</td>\n",
       "      <td>0.0</td>\n",
       "      <td>0.0</td>\n",
       "      <td>0.0</td>\n",
       "      <td>0.0</td>\n",
       "      <td>0.0</td>\n",
       "      <td>22</td>\n",
       "      <td>2020</td>\n",
       "      <td>3</td>\n",
       "      <td>domingo</td>\n",
       "    </tr>\n",
       "    <tr>\n",
       "      <th>456</th>\n",
       "      <td>2020-03-23</td>\n",
       "      <td>0.0</td>\n",
       "      <td>0.0</td>\n",
       "      <td>0.0</td>\n",
       "      <td>0.0</td>\n",
       "      <td>0.0</td>\n",
       "      <td>0.0</td>\n",
       "      <td>0.0</td>\n",
       "      <td>0.0</td>\n",
       "      <td>0.0</td>\n",
       "      <td>...</td>\n",
       "      <td>0.0</td>\n",
       "      <td>0.0</td>\n",
       "      <td>0.0</td>\n",
       "      <td>0.0</td>\n",
       "      <td>0.0</td>\n",
       "      <td>0.0</td>\n",
       "      <td>23</td>\n",
       "      <td>2020</td>\n",
       "      <td>3</td>\n",
       "      <td>segunda</td>\n",
       "    </tr>\n",
       "    <tr>\n",
       "      <th>457</th>\n",
       "      <td>2020-03-24</td>\n",
       "      <td>0.0</td>\n",
       "      <td>0.0</td>\n",
       "      <td>0.0</td>\n",
       "      <td>0.0</td>\n",
       "      <td>0.0</td>\n",
       "      <td>0.0</td>\n",
       "      <td>0.0</td>\n",
       "      <td>0.0</td>\n",
       "      <td>0.0</td>\n",
       "      <td>...</td>\n",
       "      <td>0.0</td>\n",
       "      <td>0.0</td>\n",
       "      <td>0.0</td>\n",
       "      <td>0.0</td>\n",
       "      <td>0.0</td>\n",
       "      <td>0.0</td>\n",
       "      <td>24</td>\n",
       "      <td>2020</td>\n",
       "      <td>3</td>\n",
       "      <td>terca</td>\n",
       "    </tr>\n",
       "    <tr>\n",
       "      <th>...</th>\n",
       "      <td>...</td>\n",
       "      <td>...</td>\n",
       "      <td>...</td>\n",
       "      <td>...</td>\n",
       "      <td>...</td>\n",
       "      <td>...</td>\n",
       "      <td>...</td>\n",
       "      <td>...</td>\n",
       "      <td>...</td>\n",
       "      <td>...</td>\n",
       "      <td>...</td>\n",
       "      <td>...</td>\n",
       "      <td>...</td>\n",
       "      <td>...</td>\n",
       "      <td>...</td>\n",
       "      <td>...</td>\n",
       "      <td>...</td>\n",
       "      <td>...</td>\n",
       "      <td>...</td>\n",
       "      <td>...</td>\n",
       "      <td>...</td>\n",
       "    </tr>\n",
       "    <tr>\n",
       "      <th>552</th>\n",
       "      <td>2020-06-27</td>\n",
       "      <td>0.0</td>\n",
       "      <td>0.0</td>\n",
       "      <td>0.0</td>\n",
       "      <td>0.0</td>\n",
       "      <td>0.0</td>\n",
       "      <td>0.0</td>\n",
       "      <td>0.0</td>\n",
       "      <td>0.0</td>\n",
       "      <td>0.0</td>\n",
       "      <td>...</td>\n",
       "      <td>0.0</td>\n",
       "      <td>0.0</td>\n",
       "      <td>0.0</td>\n",
       "      <td>0.0</td>\n",
       "      <td>0.0</td>\n",
       "      <td>0.0</td>\n",
       "      <td>27</td>\n",
       "      <td>2020</td>\n",
       "      <td>6</td>\n",
       "      <td>sabado</td>\n",
       "    </tr>\n",
       "    <tr>\n",
       "      <th>553</th>\n",
       "      <td>2020-06-28</td>\n",
       "      <td>0.0</td>\n",
       "      <td>0.0</td>\n",
       "      <td>0.0</td>\n",
       "      <td>0.0</td>\n",
       "      <td>0.0</td>\n",
       "      <td>0.0</td>\n",
       "      <td>0.0</td>\n",
       "      <td>0.0</td>\n",
       "      <td>0.0</td>\n",
       "      <td>...</td>\n",
       "      <td>0.0</td>\n",
       "      <td>0.0</td>\n",
       "      <td>0.0</td>\n",
       "      <td>0.0</td>\n",
       "      <td>0.0</td>\n",
       "      <td>0.0</td>\n",
       "      <td>28</td>\n",
       "      <td>2020</td>\n",
       "      <td>6</td>\n",
       "      <td>domingo</td>\n",
       "    </tr>\n",
       "    <tr>\n",
       "      <th>554</th>\n",
       "      <td>2020-06-29</td>\n",
       "      <td>0.0</td>\n",
       "      <td>0.0</td>\n",
       "      <td>0.0</td>\n",
       "      <td>0.0</td>\n",
       "      <td>0.0</td>\n",
       "      <td>0.0</td>\n",
       "      <td>0.0</td>\n",
       "      <td>0.0</td>\n",
       "      <td>0.0</td>\n",
       "      <td>...</td>\n",
       "      <td>0.0</td>\n",
       "      <td>0.0</td>\n",
       "      <td>0.0</td>\n",
       "      <td>0.0</td>\n",
       "      <td>0.0</td>\n",
       "      <td>0.0</td>\n",
       "      <td>29</td>\n",
       "      <td>2020</td>\n",
       "      <td>6</td>\n",
       "      <td>segunda</td>\n",
       "    </tr>\n",
       "    <tr>\n",
       "      <th>555</th>\n",
       "      <td>2020-06-30</td>\n",
       "      <td>0.0</td>\n",
       "      <td>0.0</td>\n",
       "      <td>0.0</td>\n",
       "      <td>0.0</td>\n",
       "      <td>0.0</td>\n",
       "      <td>0.0</td>\n",
       "      <td>0.0</td>\n",
       "      <td>0.0</td>\n",
       "      <td>0.0</td>\n",
       "      <td>...</td>\n",
       "      <td>0.0</td>\n",
       "      <td>0.0</td>\n",
       "      <td>0.0</td>\n",
       "      <td>0.0</td>\n",
       "      <td>0.0</td>\n",
       "      <td>0.0</td>\n",
       "      <td>30</td>\n",
       "      <td>2020</td>\n",
       "      <td>6</td>\n",
       "      <td>terca</td>\n",
       "    </tr>\n",
       "    <tr>\n",
       "      <th>556</th>\n",
       "      <td>2020-07-01</td>\n",
       "      <td>0.0</td>\n",
       "      <td>0.0</td>\n",
       "      <td>0.0</td>\n",
       "      <td>0.0</td>\n",
       "      <td>0.0</td>\n",
       "      <td>0.0</td>\n",
       "      <td>0.0</td>\n",
       "      <td>0.0</td>\n",
       "      <td>0.0</td>\n",
       "      <td>...</td>\n",
       "      <td>0.0</td>\n",
       "      <td>0.0</td>\n",
       "      <td>0.0</td>\n",
       "      <td>0.0</td>\n",
       "      <td>0.0</td>\n",
       "      <td>0.0</td>\n",
       "      <td>1</td>\n",
       "      <td>2020</td>\n",
       "      <td>7</td>\n",
       "      <td>quarta</td>\n",
       "    </tr>\n",
       "  </tbody>\n",
       "</table>\n",
       "<p>104 rows × 22 columns</p>\n",
       "</div>"
      ],
      "text/plain": [
       "    data_atendimento  design_de_sobrancelhas  design_coloracao  \\\n",
       "453       2020-03-20                     0.0               0.0   \n",
       "454       2020-03-21                     0.0               0.0   \n",
       "455       2020-03-22                     0.0               0.0   \n",
       "456       2020-03-23                     0.0               0.0   \n",
       "457       2020-03-24                     0.0               0.0   \n",
       "..               ...                     ...               ...   \n",
       "552       2020-06-27                     0.0               0.0   \n",
       "553       2020-06-28                     0.0               0.0   \n",
       "554       2020-06-29                     0.0               0.0   \n",
       "555       2020-06-30                     0.0               0.0   \n",
       "556       2020-07-01                     0.0               0.0   \n",
       "\n",
       "     design_coloracao_buco  buco  brown_lamination  micropigmentacao  \\\n",
       "453                    0.0   0.0               0.0               0.0   \n",
       "454                    0.0   0.0               0.0               0.0   \n",
       "455                    0.0   0.0               0.0               0.0   \n",
       "456                    0.0   0.0               0.0               0.0   \n",
       "457                    0.0   0.0               0.0               0.0   \n",
       "..                     ...   ...               ...               ...   \n",
       "552                    0.0   0.0               0.0               0.0   \n",
       "553                    0.0   0.0               0.0               0.0   \n",
       "554                    0.0   0.0               0.0               0.0   \n",
       "555                    0.0   0.0               0.0               0.0   \n",
       "556                    0.0   0.0               0.0               0.0   \n",
       "\n",
       "     extensao_de_cilios  lash_lifting  limpeza_de_pele  ...  \\\n",
       "453                 0.0           0.0              0.0  ...   \n",
       "454                 0.0           0.0              0.0  ...   \n",
       "455                 0.0           0.0              0.0  ...   \n",
       "456                 0.0           0.0              0.0  ...   \n",
       "457                 0.0           0.0              0.0  ...   \n",
       "..                  ...           ...              ...  ...   \n",
       "552                 0.0           0.0              0.0  ...   \n",
       "553                 0.0           0.0              0.0  ...   \n",
       "554                 0.0           0.0              0.0  ...   \n",
       "555                 0.0           0.0              0.0  ...   \n",
       "556                 0.0           0.0              0.0  ...   \n",
       "\n",
       "     massagem_relaxante  pacote_massagem_5  drenagem_linfatica  striort  \\\n",
       "453                 0.0                0.0                 0.0      0.0   \n",
       "454                 0.0                0.0                 0.0      0.0   \n",
       "455                 0.0                0.0                 0.0      0.0   \n",
       "456                 0.0                0.0                 0.0      0.0   \n",
       "457                 0.0                0.0                 0.0      0.0   \n",
       "..                  ...                ...                 ...      ...   \n",
       "552                 0.0                0.0                 0.0      0.0   \n",
       "553                 0.0                0.0                 0.0      0.0   \n",
       "554                 0.0                0.0                 0.0      0.0   \n",
       "555                 0.0                0.0                 0.0      0.0   \n",
       "556                 0.0                0.0                 0.0      0.0   \n",
       "\n",
       "     qtde_clientes  faturamento  ano   dia  mes  dia_da_semana  \n",
       "453            0.0          0.0   20  2020    3          sexta  \n",
       "454            0.0          0.0   21  2020    3         sabado  \n",
       "455            0.0          0.0   22  2020    3        domingo  \n",
       "456            0.0          0.0   23  2020    3        segunda  \n",
       "457            0.0          0.0   24  2020    3          terca  \n",
       "..             ...          ...  ...   ...  ...            ...  \n",
       "552            0.0          0.0   27  2020    6         sabado  \n",
       "553            0.0          0.0   28  2020    6        domingo  \n",
       "554            0.0          0.0   29  2020    6        segunda  \n",
       "555            0.0          0.0   30  2020    6          terca  \n",
       "556            0.0          0.0    1  2020    7         quarta  \n",
       "\n",
       "[104 rows x 22 columns]"
      ]
     },
     "execution_count": 9,
     "metadata": {},
     "output_type": "execute_result"
    }
   ],
   "source": [
    "dados.loc[453:556]"
   ]
  },
  {
   "cell_type": "code",
   "execution_count": 10,
   "metadata": {
    "colab": {
     "base_uri": "https://localhost:8080/",
     "height": 224
    },
    "id": "0lY6xNa0pV7k",
    "outputId": "24e43267-95e9-45ec-9bc6-fe52837bd95f"
   },
   "outputs": [
    {
     "data": {
      "text/html": [
       "<div>\n",
       "<style scoped>\n",
       "    .dataframe tbody tr th:only-of-type {\n",
       "        vertical-align: middle;\n",
       "    }\n",
       "\n",
       "    .dataframe tbody tr th {\n",
       "        vertical-align: top;\n",
       "    }\n",
       "\n",
       "    .dataframe thead th {\n",
       "        text-align: right;\n",
       "    }\n",
       "</style>\n",
       "<table border=\"1\" class=\"dataframe\">\n",
       "  <thead>\n",
       "    <tr style=\"text-align: right;\">\n",
       "      <th></th>\n",
       "      <th>data_atendimento</th>\n",
       "      <th>design_de_sobrancelhas</th>\n",
       "      <th>design_coloracao</th>\n",
       "      <th>design_coloracao_buco</th>\n",
       "      <th>buco</th>\n",
       "      <th>brown_lamination</th>\n",
       "      <th>micropigmentacao</th>\n",
       "      <th>extensao_de_cilios</th>\n",
       "      <th>lash_lifting</th>\n",
       "      <th>limpeza_de_pele</th>\n",
       "      <th>...</th>\n",
       "      <th>massagem_relaxante</th>\n",
       "      <th>pacote_massagem_5</th>\n",
       "      <th>drenagem_linfatica</th>\n",
       "      <th>striort</th>\n",
       "      <th>qtde_clientes</th>\n",
       "      <th>faturamento</th>\n",
       "      <th>ano</th>\n",
       "      <th>dia</th>\n",
       "      <th>mes</th>\n",
       "      <th>dia_da_semana</th>\n",
       "    </tr>\n",
       "  </thead>\n",
       "  <tbody>\n",
       "    <tr>\n",
       "      <th>0</th>\n",
       "      <td>2018-12-22</td>\n",
       "      <td>0.0</td>\n",
       "      <td>0.0</td>\n",
       "      <td>7.0</td>\n",
       "      <td>0.0</td>\n",
       "      <td>0.0</td>\n",
       "      <td>0.0</td>\n",
       "      <td>0.0</td>\n",
       "      <td>0.0</td>\n",
       "      <td>1.0</td>\n",
       "      <td>...</td>\n",
       "      <td>0.0</td>\n",
       "      <td>0.0</td>\n",
       "      <td>0.0</td>\n",
       "      <td>0.0</td>\n",
       "      <td>7.0</td>\n",
       "      <td>270.0</td>\n",
       "      <td>23</td>\n",
       "      <td>2018</td>\n",
       "      <td>12</td>\n",
       "      <td>sabado</td>\n",
       "    </tr>\n",
       "    <tr>\n",
       "      <th>1</th>\n",
       "      <td>2018-12-24</td>\n",
       "      <td>0.0</td>\n",
       "      <td>0.0</td>\n",
       "      <td>0.0</td>\n",
       "      <td>0.0</td>\n",
       "      <td>0.0</td>\n",
       "      <td>0.0</td>\n",
       "      <td>0.0</td>\n",
       "      <td>0.0</td>\n",
       "      <td>0.0</td>\n",
       "      <td>...</td>\n",
       "      <td>0.0</td>\n",
       "      <td>0.0</td>\n",
       "      <td>0.0</td>\n",
       "      <td>0.0</td>\n",
       "      <td>0.0</td>\n",
       "      <td>0.0</td>\n",
       "      <td>24</td>\n",
       "      <td>2018</td>\n",
       "      <td>12</td>\n",
       "      <td>segunda</td>\n",
       "    </tr>\n",
       "    <tr>\n",
       "      <th>2</th>\n",
       "      <td>2018-12-25</td>\n",
       "      <td>0.0</td>\n",
       "      <td>0.0</td>\n",
       "      <td>0.0</td>\n",
       "      <td>0.0</td>\n",
       "      <td>0.0</td>\n",
       "      <td>0.0</td>\n",
       "      <td>0.0</td>\n",
       "      <td>0.0</td>\n",
       "      <td>0.0</td>\n",
       "      <td>...</td>\n",
       "      <td>0.0</td>\n",
       "      <td>0.0</td>\n",
       "      <td>0.0</td>\n",
       "      <td>0.0</td>\n",
       "      <td>0.0</td>\n",
       "      <td>0.0</td>\n",
       "      <td>25</td>\n",
       "      <td>2018</td>\n",
       "      <td>12</td>\n",
       "      <td>terca</td>\n",
       "    </tr>\n",
       "    <tr>\n",
       "      <th>3</th>\n",
       "      <td>2018-12-26</td>\n",
       "      <td>1.0</td>\n",
       "      <td>0.0</td>\n",
       "      <td>1.0</td>\n",
       "      <td>1.0</td>\n",
       "      <td>0.0</td>\n",
       "      <td>1.0</td>\n",
       "      <td>1.0</td>\n",
       "      <td>0.0</td>\n",
       "      <td>0.0</td>\n",
       "      <td>...</td>\n",
       "      <td>0.0</td>\n",
       "      <td>0.0</td>\n",
       "      <td>0.0</td>\n",
       "      <td>0.0</td>\n",
       "      <td>4.0</td>\n",
       "      <td>560.0</td>\n",
       "      <td>26</td>\n",
       "      <td>2018</td>\n",
       "      <td>12</td>\n",
       "      <td>quarta</td>\n",
       "    </tr>\n",
       "    <tr>\n",
       "      <th>4</th>\n",
       "      <td>2018-12-27</td>\n",
       "      <td>0.0</td>\n",
       "      <td>0.0</td>\n",
       "      <td>1.0</td>\n",
       "      <td>0.0</td>\n",
       "      <td>0.0</td>\n",
       "      <td>0.0</td>\n",
       "      <td>0.0</td>\n",
       "      <td>0.0</td>\n",
       "      <td>1.0</td>\n",
       "      <td>...</td>\n",
       "      <td>0.0</td>\n",
       "      <td>0.0</td>\n",
       "      <td>0.0</td>\n",
       "      <td>0.0</td>\n",
       "      <td>2.0</td>\n",
       "      <td>90.0</td>\n",
       "      <td>27</td>\n",
       "      <td>2018</td>\n",
       "      <td>12</td>\n",
       "      <td>quinta</td>\n",
       "    </tr>\n",
       "  </tbody>\n",
       "</table>\n",
       "<p>5 rows × 22 columns</p>\n",
       "</div>"
      ],
      "text/plain": [
       "  data_atendimento  design_de_sobrancelhas  design_coloracao  \\\n",
       "0       2018-12-22                     0.0               0.0   \n",
       "1       2018-12-24                     0.0               0.0   \n",
       "2       2018-12-25                     0.0               0.0   \n",
       "3       2018-12-26                     1.0               0.0   \n",
       "4       2018-12-27                     0.0               0.0   \n",
       "\n",
       "   design_coloracao_buco  buco  brown_lamination  micropigmentacao  \\\n",
       "0                    7.0   0.0               0.0               0.0   \n",
       "1                    0.0   0.0               0.0               0.0   \n",
       "2                    0.0   0.0               0.0               0.0   \n",
       "3                    1.0   1.0               0.0               1.0   \n",
       "4                    1.0   0.0               0.0               0.0   \n",
       "\n",
       "   extensao_de_cilios  lash_lifting  limpeza_de_pele  ...  massagem_relaxante  \\\n",
       "0                 0.0           0.0              1.0  ...                 0.0   \n",
       "1                 0.0           0.0              0.0  ...                 0.0   \n",
       "2                 0.0           0.0              0.0  ...                 0.0   \n",
       "3                 1.0           0.0              0.0  ...                 0.0   \n",
       "4                 0.0           0.0              1.0  ...                 0.0   \n",
       "\n",
       "   pacote_massagem_5  drenagem_linfatica  striort  qtde_clientes  faturamento  \\\n",
       "0                0.0                 0.0      0.0            7.0        270.0   \n",
       "1                0.0                 0.0      0.0            0.0          0.0   \n",
       "2                0.0                 0.0      0.0            0.0          0.0   \n",
       "3                0.0                 0.0      0.0            4.0        560.0   \n",
       "4                0.0                 0.0      0.0            2.0         90.0   \n",
       "\n",
       "   ano   dia  mes  dia_da_semana  \n",
       "0   23  2018   12         sabado  \n",
       "1   24  2018   12        segunda  \n",
       "2   25  2018   12          terca  \n",
       "3   26  2018   12         quarta  \n",
       "4   27  2018   12         quinta  \n",
       "\n",
       "[5 rows x 22 columns]"
      ]
     },
     "execution_count": 10,
     "metadata": {},
     "output_type": "execute_result"
    }
   ],
   "source": [
    "dados_pandemia =[]\n",
    "for i in range(453,556):\n",
    "    dados_pandemia.append(i)\n",
    "\n",
    "dados = dados.drop(dados_pandemia)\n",
    "dados = dados.reset_index()\n",
    "dados = dados.drop('index', axis = 1)\n",
    "dados.head()"
   ]
  },
  {
   "cell_type": "markdown",
   "metadata": {
    "id": "oiu3hrlWvXPz"
   },
   "source": [
    " - Removendo os domingos."
   ]
  },
  {
   "cell_type": "code",
   "execution_count": 11,
   "metadata": {},
   "outputs": [],
   "source": [
    "dados = dados.set_index('dia_da_semana')\n",
    "dados = dados.drop('domingo')\n",
    "dados = dados.reset_index()"
   ]
  },
  {
   "cell_type": "code",
   "execution_count": 12,
   "metadata": {
    "colab": {
     "base_uri": "https://localhost:8080/",
     "height": 224
    },
    "id": "sQXRCY04vb67",
    "outputId": "aff390ef-28a4-4a1f-8cc4-540d415e35a1"
   },
   "outputs": [
    {
     "data": {
      "text/plain": [
       "quinta     92\n",
       "quarta     92\n",
       "sabado     91\n",
       "segunda    91\n",
       "terca      91\n",
       "sexta      90\n",
       "Name: dia_da_semana, dtype: int64"
      ]
     },
     "execution_count": 12,
     "metadata": {},
     "output_type": "execute_result"
    }
   ],
   "source": [
    "dados.dia_da_semana.value_counts()"
   ]
  },
  {
   "cell_type": "code",
   "execution_count": 13,
   "metadata": {
    "colab": {
     "base_uri": "https://localhost:8080/"
    },
    "id": "5S9exvLbpV7l",
    "outputId": "5050436c-30ea-4a45-af49-f60e181a800e"
   },
   "outputs": [
    {
     "data": {
      "text/plain": [
       "(547, 22)"
      ]
     },
     "execution_count": 13,
     "metadata": {},
     "output_type": "execute_result"
    }
   ],
   "source": [
    "dados.shape"
   ]
  },
  {
   "cell_type": "code",
   "execution_count": 14,
   "metadata": {
    "colab": {
     "base_uri": "https://localhost:8080/"
    },
    "id": "HUcDruJopV7p",
    "outputId": "400b972e-5255-492a-e587-a6bfd759e6cd"
   },
   "outputs": [
    {
     "name": "stdout",
     "output_type": "stream",
     "text": [
      "<class 'pandas.core.frame.DataFrame'>\n",
      "RangeIndex: 547 entries, 0 to 546\n",
      "Data columns (total 22 columns):\n",
      " #   Column                  Non-Null Count  Dtype         \n",
      "---  ------                  --------------  -----         \n",
      " 0   dia_da_semana           547 non-null    object        \n",
      " 1   data_atendimento        547 non-null    datetime64[ns]\n",
      " 2   design_de_sobrancelhas  547 non-null    float64       \n",
      " 3   design_coloracao        547 non-null    float64       \n",
      " 4   design_coloracao_buco   547 non-null    float64       \n",
      " 5   buco                    547 non-null    float64       \n",
      " 6   brown_lamination        547 non-null    float64       \n",
      " 7   micropigmentacao        547 non-null    float64       \n",
      " 8   extensao_de_cilios      547 non-null    float64       \n",
      " 9   lash_lifting            547 non-null    float64       \n",
      " 10  limpeza_de_pele         547 non-null    float64       \n",
      " 11  microagulhamento        547 non-null    float64       \n",
      " 12  peeling_quimico         547 non-null    float64       \n",
      " 13  massagem_relaxante      547 non-null    float64       \n",
      " 14  pacote_massagem_5       547 non-null    float64       \n",
      " 15  drenagem_linfatica      547 non-null    float64       \n",
      " 16  striort                 547 non-null    float64       \n",
      " 17  qtde_clientes           547 non-null    float64       \n",
      " 18  faturamento             547 non-null    float64       \n",
      " 19  ano                     547 non-null    int64         \n",
      " 20  dia                     547 non-null    int64         \n",
      " 21  mes                     547 non-null    int64         \n",
      "dtypes: datetime64[ns](1), float64(17), int64(3), object(1)\n",
      "memory usage: 94.1+ KB\n"
     ]
    }
   ],
   "source": [
    "dados.info()"
   ]
  },
  {
   "cell_type": "code",
   "execution_count": 15,
   "metadata": {
    "colab": {
     "base_uri": "https://localhost:8080/",
     "height": 1000
    },
    "id": "Vgz_519D1Tgj",
    "outputId": "700f4f25-463a-4f4a-e094-b0cda10c5473"
   },
   "outputs": [
    {
     "data": {
      "text/plain": [
       "array([[<matplotlib.axes._subplots.AxesSubplot object at 0x000001787F105130>,\n",
       "        <matplotlib.axes._subplots.AxesSubplot object at 0x000001787F14A5E0>,\n",
       "        <matplotlib.axes._subplots.AxesSubplot object at 0x000001787F177A30>,\n",
       "        <matplotlib.axes._subplots.AxesSubplot object at 0x000001787F1A2EB0>],\n",
       "       [<matplotlib.axes._subplots.AxesSubplot object at 0x000001787F1DF340>,\n",
       "        <matplotlib.axes._subplots.AxesSubplot object at 0x000001787F20A6D0>,\n",
       "        <matplotlib.axes._subplots.AxesSubplot object at 0x000001787F20A7C0>,\n",
       "        <matplotlib.axes._subplots.AxesSubplot object at 0x000001787F236C70>],\n",
       "       [<matplotlib.axes._subplots.AxesSubplot object at 0x000001787F29A4C0>,\n",
       "        <matplotlib.axes._subplots.AxesSubplot object at 0x000001787F2C5910>,\n",
       "        <matplotlib.axes._subplots.AxesSubplot object at 0x000001787F2F3D90>,\n",
       "        <matplotlib.axes._subplots.AxesSubplot object at 0x000001787F32B220>],\n",
       "       [<matplotlib.axes._subplots.AxesSubplot object at 0x000001787F357670>,\n",
       "        <matplotlib.axes._subplots.AxesSubplot object at 0x000001787F385AC0>,\n",
       "        <matplotlib.axes._subplots.AxesSubplot object at 0x000001787F3B0F10>,\n",
       "        <matplotlib.axes._subplots.AxesSubplot object at 0x000001787F3E83D0>],\n",
       "       [<matplotlib.axes._subplots.AxesSubplot object at 0x000001787F415850>,\n",
       "        <matplotlib.axes._subplots.AxesSubplot object at 0x000001787F441CA0>,\n",
       "        <matplotlib.axes._subplots.AxesSubplot object at 0x000001787F47A130>,\n",
       "        <matplotlib.axes._subplots.AxesSubplot object at 0x000001787F4A6580>]],\n",
       "      dtype=object)"
      ]
     },
     "execution_count": 15,
     "metadata": {},
     "output_type": "execute_result"
    },
    {
     "data": {
      "image/png": "[encoded data removed]",
      "text/plain": [
       "<Figure size 1440x864 with 20 Axes>"
      ]
     },
     "metadata": {
      "needs_background": "light"
     },
     "output_type": "display_data"
    }
   ],
   "source": [
    "dados.hist(bins=50, figsize=(20,12))"
   ]
  },
  {
   "cell_type": "markdown",
   "metadata": {
    "id": "qP_GSxosj72-"
   },
   "source": [
    " ## 3. Machine learning"
   ]
  },
  {
   "cell_type": "markdown",
   "metadata": {
    "id": "O1NWaO5ewwWk"
   },
   "source": [
    " - Selecionando apenas as colunas que  importam para a modelagem."
   ]
  },
  {
   "cell_type": "code",
   "execution_count": 16,
   "metadata": {
    "id": "vK7eldpvwv0q"
   },
   "outputs": [],
   "source": [
    "dados_ml = dados[['qtde_clientes','dia','mes','dia_da_semana','faturamento']]"
   ]
  },
  {
   "cell_type": "code",
   "execution_count": 17,
   "metadata": {
    "id": "JqRZmMMW7fw4"
   },
   "outputs": [],
   "source": [
    "dados_ml = dados_ml[['dia','mes','dia_da_semana','qtde_clientes','faturamento']]"
   ]
  },
  {
   "cell_type": "markdown",
   "metadata": {
    "id": "f9pgLW6Lj72-"
   },
   "source": [
    " - Transformando variáveis categóricas em variáveis numéricas."
   ]
  },
  {
   "cell_type": "code",
   "execution_count": 18,
   "metadata": {
    "colab": {
     "base_uri": "https://localhost:8080/"
    },
    "id": "bAW56Xbq7wHs",
    "outputId": "49c5fc52-89a5-4d3e-ed23-5c6bcd1da6dc"
   },
   "outputs": [
    {
     "name": "stdout",
     "output_type": "stream",
     "text": [
      "<class 'pandas.core.frame.DataFrame'>\n",
      "RangeIndex: 547 entries, 0 to 546\n",
      "Data columns (total 5 columns):\n",
      " #   Column         Non-Null Count  Dtype  \n",
      "---  ------         --------------  -----  \n",
      " 0   dia            547 non-null    int64  \n",
      " 1   mes            547 non-null    int64  \n",
      " 2   dia_da_semana  547 non-null    object \n",
      " 3   qtde_clientes  547 non-null    float64\n",
      " 4   faturamento    547 non-null    float64\n",
      "dtypes: float64(2), int64(2), object(1)\n",
      "memory usage: 21.5+ KB\n"
     ]
    }
   ],
   "source": [
    "dados_ml.info()"
   ]
  },
  {
   "cell_type": "code",
   "execution_count": 19,
   "metadata": {},
   "outputs": [],
   "source": [
    "dados_ml = pd.get_dummies(dados_ml)"
   ]
  },
  {
   "cell_type": "code",
   "execution_count": 20,
   "metadata": {
    "colab": {
     "base_uri": "https://localhost:8080/",
     "height": 609
    },
    "id": "uVzJijYkj73C",
    "outputId": "4ee878bd-da66-4111-9472-504221a643fe"
   },
   "outputs": [
    {
     "data": {
      "text/plain": [
       "<matplotlib.axes._subplots.AxesSubplot at 0x17800b79bb0>"
      ]
     },
     "execution_count": 20,
     "metadata": {},
     "output_type": "execute_result"
    },
    {
     "data": {
      "image/png": "[encoded data removed]",
      "text/plain": [
       "<Figure size 1008x720 with 2 Axes>"
      ]
     },
     "metadata": {
      "needs_background": "light"
     },
     "output_type": "display_data"
    }
   ],
   "source": [
    "plt.figure(figsize=(14,10))\n",
    "\n",
    "corr = dados_ml.corr().abs()\n",
    "mask = np.triu(np.ones_like(corr, dtype=np.bool))\n",
    "\n",
    "sns.heatmap(corr, mask=mask, annot=True, center=0, cmap=\"YlGnBu\")"
   ]
  },
  {
   "cell_type": "code",
   "execution_count": 21,
   "metadata": {
    "colab": {
     "base_uri": "https://localhost:8080/",
     "height": 618
    },
    "id": "bUbm8ijRzNGm",
    "outputId": "09c77735-09b8-46cc-d351-bd0edea20f84"
   },
   "outputs": [
    {
     "data": {
      "image/png": "[encoded data removed]",
      "text/plain": [
       "<Figure size 1080x720 with 12 Axes>"
      ]
     },
     "metadata": {
      "needs_background": "light"
     },
     "output_type": "display_data"
    }
   ],
   "source": [
    "dados_ml.hist(bins=50, figsize=(15,10))\n",
    "plt.show()"
   ]
  },
  {
   "cell_type": "markdown",
   "metadata": {
    "id": "UDuj63uNzhOD"
   },
   "source": [
    " - Normalizando os dados."
   ]
  },
  {
   "cell_type": "code",
   "execution_count": 22,
   "metadata": {
    "id": "-8qWKTxkzgb4"
   },
   "outputs": [],
   "source": [
    "dados_ml['faturamento']=dados_ml['faturamento'].apply(np.log1p)\n",
    "# dados['qtde_clientes']=dados['qtde_clientes'].apply(np.log1p)"
   ]
  },
  {
   "cell_type": "code",
   "execution_count": 23,
   "metadata": {
    "colab": {
     "base_uri": "https://localhost:8080/",
     "height": 609
    },
    "id": "qmQKy5RAzYHL",
    "outputId": "f0ad9b98-25d7-422b-9afd-bc5a8a5fb2d9"
   },
   "outputs": [
    {
     "data": {
      "text/plain": [
       "<matplotlib.axes._subplots.AxesSubplot at 0x1787f2770a0>"
      ]
     },
     "execution_count": 23,
     "metadata": {},
     "output_type": "execute_result"
    },
    {
     "data": {
      "image/png": "[encoded data removed]",
      "text/plain": [
       "<Figure size 1008x720 with 2 Axes>"
      ]
     },
     "metadata": {
      "needs_background": "light"
     },
     "output_type": "display_data"
    }
   ],
   "source": [
    "plt.figure(figsize=(14,10))\n",
    "\n",
    "corr = dados_ml.corr().abs()\n",
    "mask = np.triu(np.ones_like(corr, dtype=np.bool))\n",
    "\n",
    "sns.heatmap(corr, mask=mask, annot=True, center=0, cmap=\"YlGnBu\")"
   ]
  },
  {
   "cell_type": "markdown",
   "metadata": {
    "id": "eCnfuFp5j73D"
   },
   "source": [
    " - Separando as amostras de treino e teste."
   ]
  },
  {
   "cell_type": "code",
   "execution_count": 24,
   "metadata": {
    "id": "qrs3qOjWj73D"
   },
   "outputs": [],
   "source": [
    "X = dados_ml.drop('faturamento', axis=1)\n",
    "Y = dados_ml['faturamento']"
   ]
  },
  {
   "cell_type": "code",
   "execution_count": 25,
   "metadata": {
    "id": "lkXSYNbpj73E"
   },
   "outputs": [],
   "source": [
    "from sklearn.model_selection import train_test_split"
   ]
  },
  {
   "cell_type": "code",
   "execution_count": 26,
   "metadata": {
    "id": "_H0dsn3jj73E"
   },
   "outputs": [],
   "source": [
    "X_treino,X_teste,Y_treino,Y_teste = train_test_split(X,Y,test_size=0.25,random_state=0, shuffle=False)"
   ]
  },
  {
   "cell_type": "markdown",
   "metadata": {},
   "source": [
    " - Visualizando X_teste e X_treino."
   ]
  },
  {
   "cell_type": "code",
   "execution_count": 27,
   "metadata": {},
   "outputs": [
    {
     "data": {
      "text/html": [
       "<div>\n",
       "<style scoped>\n",
       "    .dataframe tbody tr th:only-of-type {\n",
       "        vertical-align: middle;\n",
       "    }\n",
       "\n",
       "    .dataframe tbody tr th {\n",
       "        vertical-align: top;\n",
       "    }\n",
       "\n",
       "    .dataframe thead th {\n",
       "        text-align: right;\n",
       "    }\n",
       "</style>\n",
       "<table border=\"1\" class=\"dataframe\">\n",
       "  <thead>\n",
       "    <tr style=\"text-align: right;\">\n",
       "      <th></th>\n",
       "      <th>dia</th>\n",
       "      <th>mes</th>\n",
       "      <th>qtde_clientes</th>\n",
       "      <th>dia_da_semana_quarta</th>\n",
       "      <th>dia_da_semana_quinta</th>\n",
       "      <th>dia_da_semana_sabado</th>\n",
       "      <th>dia_da_semana_segunda</th>\n",
       "      <th>dia_da_semana_sexta</th>\n",
       "      <th>dia_da_semana_terca</th>\n",
       "    </tr>\n",
       "  </thead>\n",
       "  <tbody>\n",
       "    <tr>\n",
       "      <th>405</th>\n",
       "      <td>2020</td>\n",
       "      <td>7</td>\n",
       "      <td>0.0</td>\n",
       "      <td>0</td>\n",
       "      <td>0</td>\n",
       "      <td>0</td>\n",
       "      <td>1</td>\n",
       "      <td>0</td>\n",
       "      <td>0</td>\n",
       "    </tr>\n",
       "    <tr>\n",
       "      <th>406</th>\n",
       "      <td>2020</td>\n",
       "      <td>7</td>\n",
       "      <td>0.0</td>\n",
       "      <td>0</td>\n",
       "      <td>0</td>\n",
       "      <td>0</td>\n",
       "      <td>0</td>\n",
       "      <td>0</td>\n",
       "      <td>1</td>\n",
       "    </tr>\n",
       "    <tr>\n",
       "      <th>407</th>\n",
       "      <td>2020</td>\n",
       "      <td>7</td>\n",
       "      <td>0.0</td>\n",
       "      <td>1</td>\n",
       "      <td>0</td>\n",
       "      <td>0</td>\n",
       "      <td>0</td>\n",
       "      <td>0</td>\n",
       "      <td>0</td>\n",
       "    </tr>\n",
       "    <tr>\n",
       "      <th>408</th>\n",
       "      <td>2020</td>\n",
       "      <td>7</td>\n",
       "      <td>1.0</td>\n",
       "      <td>0</td>\n",
       "      <td>1</td>\n",
       "      <td>0</td>\n",
       "      <td>0</td>\n",
       "      <td>0</td>\n",
       "      <td>0</td>\n",
       "    </tr>\n",
       "    <tr>\n",
       "      <th>409</th>\n",
       "      <td>2020</td>\n",
       "      <td>7</td>\n",
       "      <td>0.0</td>\n",
       "      <td>0</td>\n",
       "      <td>0</td>\n",
       "      <td>0</td>\n",
       "      <td>0</td>\n",
       "      <td>1</td>\n",
       "      <td>0</td>\n",
       "    </tr>\n",
       "  </tbody>\n",
       "</table>\n",
       "</div>"
      ],
      "text/plain": [
       "      dia  mes  qtde_clientes  dia_da_semana_quarta  dia_da_semana_quinta  \\\n",
       "405  2020    7            0.0                     0                     0   \n",
       "406  2020    7            0.0                     0                     0   \n",
       "407  2020    7            0.0                     1                     0   \n",
       "408  2020    7            1.0                     0                     1   \n",
       "409  2020    7            0.0                     0                     0   \n",
       "\n",
       "     dia_da_semana_sabado  dia_da_semana_segunda  dia_da_semana_sexta  \\\n",
       "405                     0                      1                    0   \n",
       "406                     0                      0                    0   \n",
       "407                     0                      0                    0   \n",
       "408                     0                      0                    0   \n",
       "409                     0                      0                    1   \n",
       "\n",
       "     dia_da_semana_terca  \n",
       "405                    0  \n",
       "406                    1  \n",
       "407                    0  \n",
       "408                    0  \n",
       "409                    0  "
      ]
     },
     "execution_count": 27,
     "metadata": {},
     "output_type": "execute_result"
    }
   ],
   "source": [
    "X_treino.tail()"
   ]
  },
  {
   "cell_type": "code",
   "execution_count": 28,
   "metadata": {},
   "outputs": [
    {
     "data": {
      "text/html": [
       "<div>\n",
       "<style scoped>\n",
       "    .dataframe tbody tr th:only-of-type {\n",
       "        vertical-align: middle;\n",
       "    }\n",
       "\n",
       "    .dataframe tbody tr th {\n",
       "        vertical-align: top;\n",
       "    }\n",
       "\n",
       "    .dataframe thead th {\n",
       "        text-align: right;\n",
       "    }\n",
       "</style>\n",
       "<table border=\"1\" class=\"dataframe\">\n",
       "  <thead>\n",
       "    <tr style=\"text-align: right;\">\n",
       "      <th></th>\n",
       "      <th>dia</th>\n",
       "      <th>mes</th>\n",
       "      <th>qtde_clientes</th>\n",
       "      <th>dia_da_semana_quarta</th>\n",
       "      <th>dia_da_semana_quinta</th>\n",
       "      <th>dia_da_semana_sabado</th>\n",
       "      <th>dia_da_semana_segunda</th>\n",
       "      <th>dia_da_semana_sexta</th>\n",
       "      <th>dia_da_semana_terca</th>\n",
       "    </tr>\n",
       "  </thead>\n",
       "  <tbody>\n",
       "    <tr>\n",
       "      <th>410</th>\n",
       "      <td>2020</td>\n",
       "      <td>7</td>\n",
       "      <td>0.0</td>\n",
       "      <td>0</td>\n",
       "      <td>0</td>\n",
       "      <td>1</td>\n",
       "      <td>0</td>\n",
       "      <td>0</td>\n",
       "      <td>0</td>\n",
       "    </tr>\n",
       "    <tr>\n",
       "      <th>411</th>\n",
       "      <td>2020</td>\n",
       "      <td>7</td>\n",
       "      <td>0.0</td>\n",
       "      <td>0</td>\n",
       "      <td>0</td>\n",
       "      <td>0</td>\n",
       "      <td>1</td>\n",
       "      <td>0</td>\n",
       "      <td>0</td>\n",
       "    </tr>\n",
       "    <tr>\n",
       "      <th>412</th>\n",
       "      <td>2020</td>\n",
       "      <td>7</td>\n",
       "      <td>2.0</td>\n",
       "      <td>0</td>\n",
       "      <td>0</td>\n",
       "      <td>0</td>\n",
       "      <td>0</td>\n",
       "      <td>0</td>\n",
       "      <td>1</td>\n",
       "    </tr>\n",
       "    <tr>\n",
       "      <th>413</th>\n",
       "      <td>2020</td>\n",
       "      <td>7</td>\n",
       "      <td>3.0</td>\n",
       "      <td>1</td>\n",
       "      <td>0</td>\n",
       "      <td>0</td>\n",
       "      <td>0</td>\n",
       "      <td>0</td>\n",
       "      <td>0</td>\n",
       "    </tr>\n",
       "    <tr>\n",
       "      <th>414</th>\n",
       "      <td>2020</td>\n",
       "      <td>7</td>\n",
       "      <td>0.0</td>\n",
       "      <td>0</td>\n",
       "      <td>1</td>\n",
       "      <td>0</td>\n",
       "      <td>0</td>\n",
       "      <td>0</td>\n",
       "      <td>0</td>\n",
       "    </tr>\n",
       "  </tbody>\n",
       "</table>\n",
       "</div>"
      ],
      "text/plain": [
       "      dia  mes  qtde_clientes  dia_da_semana_quarta  dia_da_semana_quinta  \\\n",
       "410  2020    7            0.0                     0                     0   \n",
       "411  2020    7            0.0                     0                     0   \n",
       "412  2020    7            2.0                     0                     0   \n",
       "413  2020    7            3.0                     1                     0   \n",
       "414  2020    7            0.0                     0                     1   \n",
       "\n",
       "     dia_da_semana_sabado  dia_da_semana_segunda  dia_da_semana_sexta  \\\n",
       "410                     1                      0                    0   \n",
       "411                     0                      1                    0   \n",
       "412                     0                      0                    0   \n",
       "413                     0                      0                    0   \n",
       "414                     0                      0                    0   \n",
       "\n",
       "     dia_da_semana_terca  \n",
       "410                    0  \n",
       "411                    0  \n",
       "412                    1  \n",
       "413                    0  \n",
       "414                    0  "
      ]
     },
     "execution_count": 28,
     "metadata": {},
     "output_type": "execute_result"
    }
   ],
   "source": [
    "X_teste.head()"
   ]
  },
  {
   "cell_type": "markdown",
   "metadata": {},
   "source": [
    " - Com essa divisão, sem aleatoriedade, garantimos que não haja vazamento de dados do conjunto de teste.\n",
    "    \n",
    " - Esse vazamento iria interferir no resultado do modelo."
   ]
  },
  {
   "cell_type": "markdown",
   "metadata": {
    "id": "pjiBzKngj73E"
   },
   "source": [
    " - Modelo \"Baseline\" (Ponto de partida)"
   ]
  },
  {
   "cell_type": "code",
   "execution_count": 29,
   "metadata": {
    "id": "gmMimwFIj73F"
   },
   "outputs": [],
   "source": [
    "from sklearn.linear_model import LinearRegression"
   ]
  },
  {
   "cell_type": "code",
   "execution_count": 30,
   "metadata": {
    "colab": {
     "base_uri": "https://localhost:8080/"
    },
    "id": "MC0kLmWAj73G",
    "outputId": "3bf72a5b-c955-4c0c-f77e-bd0c15be9a7c"
   },
   "outputs": [
    {
     "data": {
      "text/plain": [
       "0.2235433573426765"
      ]
     },
     "execution_count": 30,
     "metadata": {},
     "output_type": "execute_result"
    }
   ],
   "source": [
    "lr = LinearRegression()\n",
    "lr.fit(X_treino, Y_treino)\n",
    "lr.score(X_teste, Y_teste)"
   ]
  },
  {
   "cell_type": "code",
   "execution_count": 31,
   "metadata": {
    "id": "TnGfLGIR1J9M"
   },
   "outputs": [],
   "source": [
    "y_pred = lr.predict(X_teste)"
   ]
  },
  {
   "cell_type": "code",
   "execution_count": 32,
   "metadata": {
    "id": "nfJkTPSS3ACH"
   },
   "outputs": [],
   "source": [
    "from sklearn.metrics import mean_absolute_error,mean_squared_error, r2_score"
   ]
  },
  {
   "cell_type": "code",
   "execution_count": 33,
   "metadata": {
    "colab": {
     "base_uri": "https://localhost:8080/"
    },
    "id": "PnJrevmC1KF0",
    "outputId": "aec26a7a-82cb-4d15-e4cc-5deb87eb9ae4"
   },
   "outputs": [
    {
     "name": "stdout",
     "output_type": "stream",
     "text": [
      "MAE = 2.0042\n",
      "MSE = 5.0055\n",
      "RMSE = 2.2373\n",
      "R2 = 0.2235\n"
     ]
    }
   ],
   "source": [
    "MAE  = mean_absolute_error(Y_teste,y_pred)\n",
    "MSE  = mean_squared_error(Y_teste,y_pred)\n",
    "RMSE = np.sqrt(mean_squared_error(Y_teste,y_pred))\n",
    "R2 = r2_score(Y_teste, y_pred)\n",
    "\n",
    "print('MAE = {:0.4f}'.format(MAE))\n",
    "print('MSE = {:0.4f}'.format(MSE))\n",
    "print('RMSE = {:0.4f}'.format(RMSE))\n",
    "print('R2 = {:0.4f}'.format(R2))"
   ]
  },
  {
   "cell_type": "markdown",
   "metadata": {
    "id": "Hxh6YdL4j73I"
   },
   "source": [
    " - Machine learning"
   ]
  },
  {
   "cell_type": "code",
   "execution_count": 34,
   "metadata": {
    "colab": {
     "base_uri": "https://localhost:8080/"
    },
    "id": "dMiPo22hj73I",
    "outputId": "30f036f3-f0fe-405c-bf51-5aa592e9a1ac"
   },
   "outputs": [
    {
     "data": {
      "text/plain": [
       "KNeighborsRegressor()"
      ]
     },
     "execution_count": 34,
     "metadata": {},
     "output_type": "execute_result"
    }
   ],
   "source": [
    "from sklearn.neighbors import KNeighborsRegressor\n",
    "neigh = KNeighborsRegressor(n_neighbors=5)\n",
    "neigh.fit(X_treino,Y_treino)"
   ]
  },
  {
   "cell_type": "code",
   "execution_count": 35,
   "metadata": {
    "id": "MagjA7CKj73J"
   },
   "outputs": [],
   "source": [
    "y_pred = neigh.predict(X_teste)"
   ]
  },
  {
   "cell_type": "code",
   "execution_count": 36,
   "metadata": {
    "colab": {
     "base_uri": "https://localhost:8080/"
    },
    "id": "9OTMZuvXj73J",
    "outputId": "0cda0fe7-5bff-4517-a0b9-cb7f90ae2b13"
   },
   "outputs": [
    {
     "data": {
      "text/plain": [
       "1.1418466517793575"
      ]
     },
     "execution_count": 36,
     "metadata": {},
     "output_type": "execute_result"
    }
   ],
   "source": [
    "# Root Mean Squared Error\n",
    "np.sqrt(np.mean((y_pred-Y_teste.values)**2))"
   ]
  },
  {
   "cell_type": "code",
   "execution_count": 37,
   "metadata": {
    "colab": {
     "base_uri": "https://localhost:8080/"
    },
    "id": "5ZPIpn5yj73J",
    "outputId": "661b6eb1-019a-4802-9c35-a58112fdd29c"
   },
   "outputs": [
    {
     "data": {
      "text/plain": [
       "1.3038137761797293"
      ]
     },
     "execution_count": 37,
     "metadata": {},
     "output_type": "execute_result"
    }
   ],
   "source": [
    "# Mean Squared Error\n",
    "np.mean((y_pred-Y_teste.values)**2)"
   ]
  },
  {
   "cell_type": "code",
   "execution_count": 38,
   "metadata": {
    "colab": {
     "base_uri": "https://localhost:8080/"
    },
    "id": "-uX7OgMvj73K",
    "outputId": "4c8e56dc-0403-4fc2-830b-a517acc59f51"
   },
   "outputs": [
    {
     "data": {
      "text/plain": [
       "0.7237784614572828"
      ]
     },
     "execution_count": 38,
     "metadata": {},
     "output_type": "execute_result"
    }
   ],
   "source": [
    "# Mean Absolute Error\n",
    "np.mean(np.abs(y_pred-Y_teste.values))"
   ]
  },
  {
   "cell_type": "code",
   "execution_count": 39,
   "metadata": {
    "colab": {
     "base_uri": "https://localhost:8080/"
    },
    "id": "vN4zrRBPj73K",
    "outputId": "1f6b2927-f269-4591-e016-344101ff82b8"
   },
   "outputs": [
    {
     "data": {
      "text/plain": [
       "0.7977525330647217"
      ]
     },
     "execution_count": 39,
     "metadata": {},
     "output_type": "execute_result"
    }
   ],
   "source": [
    "# R2 Score\n",
    "from sklearn.metrics import r2_score\n",
    "r2_score(Y_teste, y_pred)"
   ]
  },
  {
   "cell_type": "markdown",
   "metadata": {
    "id": "ywu22-kWj73L"
   },
   "source": [
    " - Triagem com outros modelos"
   ]
  },
  {
   "cell_type": "code",
   "execution_count": 40,
   "metadata": {
    "colab": {
     "base_uri": "https://localhost:8080/"
    },
    "id": "CztGCpz8j73L",
    "outputId": "4fa789b0-e346-4c1a-b65f-b8fdb2f11a99"
   },
   "outputs": [
    {
     "name": "stdout",
     "output_type": "stream",
     "text": [
      "Treinando DecisionTreeRegressor\n",
      "Train score 0.9829679689739389\n",
      "Test score 0.9110385705858237\n",
      "================================================================================\n",
      "Treinando RandomForestRegressor\n",
      "Train score 0.9777486626807239\n",
      "Test score 0.9392679028288028\n",
      "================================================================================\n",
      "Treinando MLPRegressor\n",
      "Train score 0.29706281372874377\n",
      "Test score 0.42962336021849423\n",
      "================================================================================\n",
      "Treinando XGBRegressor\n",
      "Train score 0.9827214378216134\n",
      "Test score 0.9099412314301144\n",
      "================================================================================\n"
     ]
    }
   ],
   "source": [
    "from sklearn.tree import DecisionTreeRegressor\n",
    "from sklearn.ensemble import RandomForestRegressor\n",
    "from sklearn.neural_network import MLPRegressor\n",
    "from xgboost import XGBRegressor\n",
    "\n",
    "\n",
    "regressor_list = [\n",
    "                  DecisionTreeRegressor(),\n",
    "                  RandomForestRegressor(),\n",
    "                  MLPRegressor(),\n",
    "                  XGBRegressor(),\n",
    "           \n",
    "                  ]\n",
    "\n",
    "for reg in regressor_list:\n",
    "  print('Treinando', reg.__class__.__name__)\n",
    "  reg.fit(X_treino, Y_treino)\n",
    "  train_score = reg.score(X_treino, Y_treino)\n",
    "  test_score = reg.score(X_teste, Y_teste)\n",
    "  print('Train score', train_score)\n",
    "  print('Test score', test_score)\n",
    "  print('='*80)"
   ]
  },
  {
   "cell_type": "markdown",
   "metadata": {
    "id": "D_hIhD3Oj73M"
   },
   "source": [
    "- Repetindo com validação cruzada."
   ]
  },
  {
   "cell_type": "code",
   "execution_count": 41,
   "metadata": {
    "colab": {
     "base_uri": "https://localhost:8080/"
    },
    "id": "54qeW69zj73M",
    "outputId": "ab513fdf-6a6d-4aa5-a6aa-b810dbfa9439"
   },
   "outputs": [
    {
     "name": "stdout",
     "output_type": "stream",
     "text": [
      "Treinando DecisionTreeRegressor\n",
      "Train score 0.9829679689739389\n",
      "Validation score 0.8959765059652677\n",
      "Test score 0.9068991176608117\n",
      "================================================================================\n",
      "Treinando RandomForestRegressor\n",
      "Train score 0.9777343235292086\n",
      "Validation score 0.9266008931880882\n",
      "Test score 0.9370806115842808\n",
      "================================================================================\n",
      "Treinando MLPRegressor\n",
      "Train score 0.32297801357256806\n",
      "Validation score -21.34240897590533\n",
      "Test score 0.40441715981302406\n",
      "================================================================================\n",
      "Treinando XGBRegressor\n",
      "Train score 0.9827214378216134\n",
      "Validation score 0.9142653504265944\n",
      "Test score 0.9099412314301144\n",
      "================================================================================\n"
     ]
    }
   ],
   "source": [
    "# repetindo processo com validação cruzada\n",
    "import warnings\n",
    "warnings.filterwarnings(\"ignore\")\n",
    "\n",
    "from sklearn.tree import DecisionTreeRegressor\n",
    "from sklearn.ensemble import RandomForestRegressor\n",
    "from sklearn.neural_network import MLPRegressor\n",
    "from xgboost import XGBRegressor\n",
    "from sklearn.model_selection import cross_val_score\n",
    "\n",
    "\n",
    "regressor_list = [\n",
    "                  DecisionTreeRegressor(),\n",
    "                  RandomForestRegressor(),\n",
    "                  MLPRegressor(),\n",
    "                  XGBRegressor(),\n",
    "                  ]\n",
    "\n",
    "for reg in regressor_list:\n",
    "  print('Treinando', reg.__class__.__name__)\n",
    "  reg.fit(X_treino, Y_treino)\n",
    "  train_score = reg.score(X_treino, Y_treino)\n",
    "  val_score = cross_val_score(reg, X_treino, Y_treino, cv=5)\n",
    "  test_score = reg.score(X_teste, Y_teste)\n",
    "  print('Train score', train_score)\n",
    "  print('Validation score', val_score.mean())\n",
    "  print('Test score', test_score)\n",
    "  print('='*80)"
   ]
  },
  {
   "cell_type": "markdown",
   "metadata": {
    "id": "M6ytccOk8se8"
   },
   "source": [
    " - De acordo com os scores acima, o modelo que obteve o melhor resultado foi RandomForest.\n",
    " \n",
    " - Agora vamos calcular o erro."
   ]
  },
  {
   "cell_type": "code",
   "execution_count": 42,
   "metadata": {
    "id": "xeQIUHo98zaV"
   },
   "outputs": [],
   "source": [
    "reg = RandomForestRegressor()"
   ]
  },
  {
   "cell_type": "code",
   "execution_count": 43,
   "metadata": {
    "colab": {
     "base_uri": "https://localhost:8080/"
    },
    "id": "E_6i8Z_s8883",
    "outputId": "4ac46479-bf80-4195-f5c0-879ef52ee701"
   },
   "outputs": [
    {
     "data": {
      "text/plain": [
       "RandomForestRegressor()"
      ]
     },
     "execution_count": 43,
     "metadata": {},
     "output_type": "execute_result"
    }
   ],
   "source": [
    "reg.fit(X_treino, Y_treino)"
   ]
  },
  {
   "cell_type": "code",
   "execution_count": 44,
   "metadata": {
    "id": "l4uyvBFw8zgv"
   },
   "outputs": [],
   "source": [
    "y_pred = reg.predict(X_teste)"
   ]
  },
  {
   "cell_type": "code",
   "execution_count": 45,
   "metadata": {
    "colab": {
     "base_uri": "https://localhost:8080/"
    },
    "id": "Y0Qa1Sk68rJ0",
    "outputId": "cca36e93-173f-4c86-edee-9097859af812"
   },
   "outputs": [
    {
     "name": "stdout",
     "output_type": "stream",
     "text": [
      "MAE = 0.40745991\n",
      "MSE = 0.39078115\n",
      "RMSE = 0.62512491\n",
      "R2 = 0.93938207\n"
     ]
    }
   ],
   "source": [
    "MAE  = mean_absolute_error(Y_teste,y_pred)\n",
    "MSE  = mean_squared_error(Y_teste,y_pred)\n",
    "RMSE = np.sqrt(mean_squared_error(Y_teste,y_pred))\n",
    "R2 = r2_score(Y_teste, y_pred)\n",
    "\n",
    "print('MAE = {:0.8f}'.format(MAE))\n",
    "print('MSE = {:0.8f}'.format(MSE))\n",
    "print('RMSE = {:0.8f}'.format(RMSE))\n",
    "print('R2 = {:0.8}'.format(R2))"
   ]
  },
  {
   "cell_type": "markdown",
   "metadata": {},
   "source": [
    " - Visualizando o comportamento do y_pred e Y_teste."
   ]
  },
  {
   "cell_type": "code",
   "execution_count": 46,
   "metadata": {},
   "outputs": [
    {
     "data": {
      "text/plain": [
       "[<matplotlib.lines.Line2D at 0x1780097ceb0>]"
      ]
     },
     "execution_count": 46,
     "metadata": {},
     "output_type": "execute_result"
    },
    {
     "data": {
      "image/png": "[encoded data removed]",
      "text/plain": [
       "<Figure size 432x288 with 1 Axes>"
      ]
     },
     "metadata": {
      "needs_background": "light"
     },
     "output_type": "display_data"
    }
   ],
   "source": [
    "plt.plot(Y_teste.values)\n",
    "plt.plot(y_pred)"
   ]
  },
  {
   "cell_type": "code",
   "execution_count": 47,
   "metadata": {},
   "outputs": [
    {
     "data": {
      "text/plain": [
       "[<matplotlib.lines.Line2D at 0x178008c83a0>]"
      ]
     },
     "execution_count": 47,
     "metadata": {},
     "output_type": "execute_result"
    },
    {
     "data": {
      "image/png": "[encoded data removed]",
      "text/plain": [
       "<Figure size 432x288 with 1 Axes>"
      ]
     },
     "metadata": {
      "needs_background": "light"
     },
     "output_type": "display_data"
    }
   ],
   "source": [
    "plt.plot(np.expm1(Y_teste.values))\n",
    "plt.plot(np.expm1(y_pred))"
   ]
  },
  {
   "cell_type": "code",
   "execution_count": null,
   "metadata": {
    "id": "ZWF4ImpXrapj"
   },
   "outputs": [],
   "source": []
  }
 ],
 "metadata": {
  "colab": {
   "name": "previsao_faturamento_modelos_machine_learning.ipynb",
   "provenance": []
  },
  "kernelspec": {
   "display_name": "Python 3",
   "language": "python",
   "name": "python3"
  },
  "language_info": {
   "codemirror_mode": {
    "name": "ipython",
    "version": 3
   },
   "file_extension": ".py",
   "mimetype": "text/x-python",
   "name": "python",
   "nbconvert_exporter": "python",
   "pygments_lexer": "ipython3",
   "version": "3.8.3"
  }
 },
 "nbformat": 4,
 "nbformat_minor": 1
}
